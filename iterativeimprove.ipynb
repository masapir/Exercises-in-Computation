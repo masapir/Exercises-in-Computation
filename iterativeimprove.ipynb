{
 "cells": [
  {
   "cell_type": "markdown",
   "metadata": {},
   "source": [
    "###Iterative Improve###\n",
    "\n",
    "25 June 2015\n",
    "\n",
    "`iterativeimprove` takes 2 procedures:\n",
    "\n",
    ">a method determining whether a guess is good enough and\n",
    "\n",
    ">a method for improving a guess.\n",
    "\n",
    "`iterativeimprove` should return a procedure that takes a guess and then keeps improving the guess until it passes the `isgoodenough` test.\n",
    "\n",
    "Then we use `iterativeimprove` to re-write the square root and fixed point procedures from prior notebooks."
   ]
  },
  {
   "cell_type": "code",
   "execution_count": 1,
   "metadata": {
    "collapsed": false
   },
   "outputs": [
    {
     "data": {
      "text/plain": [
       "iterativeimprove (generic function with 1 method)"
      ]
     },
     "execution_count": 1,
     "metadata": {},
     "output_type": "execute_result"
    }
   ],
   "source": [
    "function iterativeimprove(goodenough, improve) # goodenough and improve receive functions\n",
    "    function run(guess)\n",
    "        if goodenough(guess)\n",
    "            guess\n",
    "        else\n",
    "            run(improve(guess))\n",
    "        end\n",
    "    end\n",
    "    x -> run(x)  # this line is the function returned by iterativeimprove \n",
    "end"
   ]
  },
  {
   "cell_type": "code",
   "execution_count": 5,
   "metadata": {
    "collapsed": false
   },
   "outputs": [
    {
     "data": {
      "text/plain": [
       "sqrtii (generic function with 1 method)"
      ]
     },
     "execution_count": 5,
     "metadata": {},
     "output_type": "execute_result"
    }
   ],
   "source": [
    "function sqrtii(x)\n",
    "    function goodenough(guess)\n",
    "        abs(x-guess*guess) < 0.00001\n",
    "    end\n",
    "    function average(a, b)\n",
    "        (a+b)/2\n",
    "    end\n",
    "    function improve(guess)\n",
    "        average(guess, x/guess)\n",
    "    end\n",
    "    iterativeimprove(goodenough, improve)(1) # nb. iterativeimprove returns a function\n",
    "end                                          #     we provide first guess = 1 "
   ]
  },
  {
   "cell_type": "code",
   "execution_count": 6,
   "metadata": {
    "collapsed": false
   },
   "outputs": [
    {
     "data": {
      "text/plain": [
       "5.000000000053722"
      ]
     },
     "execution_count": 6,
     "metadata": {},
     "output_type": "execute_result"
    }
   ],
   "source": [
    "sqrtii(25)"
   ]
  },
  {
   "cell_type": "code",
   "execution_count": 7,
   "metadata": {
    "collapsed": false
   },
   "outputs": [
    {
     "data": {
      "text/plain": [
       "12.000000012408687"
      ]
     },
     "execution_count": 7,
     "metadata": {},
     "output_type": "execute_result"
    }
   ],
   "source": [
    "sqrtii(144)"
   ]
  },
  {
   "cell_type": "code",
   "execution_count": 8,
   "metadata": {
    "collapsed": false
   },
   "outputs": [
    {
     "data": {
      "text/plain": [
       "fixedpointii (generic function with 1 method)"
      ]
     },
     "execution_count": 8,
     "metadata": {},
     "output_type": "execute_result"
    }
   ],
   "source": [
    "function fixedpointii(f, guess)\n",
    "    tolerance = 0.00001\n",
    "    function isclose(guess)\n",
    "        abs(guess-f(guess)) < tolerance\n",
    "    end\n",
    "    function makebetter(guess)\n",
    "        f(guess)\n",
    "    end\n",
    "    iterativeimprove(isclose, makebetter)(guess)\n",
    "end"
   ]
  },
  {
   "cell_type": "code",
   "execution_count": 9,
   "metadata": {
    "collapsed": false
   },
   "outputs": [
    {
     "data": {
      "text/plain": [
       "0.7390893414033927"
      ]
     },
     "execution_count": 9,
     "metadata": {},
     "output_type": "execute_result"
    }
   ],
   "source": [
    "fixedpointii(cos, 1)"
   ]
  },
  {
   "cell_type": "markdown",
   "metadata": {},
   "source": [
    "You can check this with your calculator by pressing on the cosine function repeatedly and watching how the computation converges."
   ]
  }
 ],
 "metadata": {
  "kernelspec": {
   "display_name": "Julia 0.3.9",
   "language": "julia",
   "name": "julia-0.3"
  },
  "language_info": {
   "name": "julia",
   "version": "0.3.9"
  }
 },
 "nbformat": 4,
 "nbformat_minor": 0
}
