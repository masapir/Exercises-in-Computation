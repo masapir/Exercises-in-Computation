{
 "cells": [
  {
   "cell_type": "markdown",
   "metadata": {},
   "source": [
    "####Integration####\n",
    "\n",
    "7 June 2015\n",
    "\n",
    ">&int;f over [a,b] = dx &times; [f(a + dx/2)  +  f(a + dx + dx/2)  +  f(a + 2dx + dx/2)  +  ]\n",
    "\n",
    "The second factor in the product is a sum of values of f at regular intervals, dx (for small dx)."
   ]
  },
  {
   "cell_type": "code",
   "execution_count": 2,
   "metadata": {
    "collapsed": false
   },
   "outputs": [
    {
     "data": {
      "text/plain": [
       "Sum (generic function with 1 method)"
      ]
     },
     "execution_count": 2,
     "metadata": {},
     "output_type": "execute_result"
    }
   ],
   "source": [
    "function integral(f, a, b, dx)\n",
    "    function addDx(x)\n",
    "        x+dx\n",
    "    end\n",
    "    dx*Sum(f, a+(dx/2), addDx, b)\n",
    "end\n",
    "    \n",
    "# general sum function, term and next are functions\n",
    "# to compute terms and the next term given a term respectively\n",
    "# a and b are the ends of the interval over which sum \n",
    "# accumulates the sum\n",
    "\n",
    "function Sum(term, a, next, b) \n",
    "    if a > b\n",
    "        0\n",
    "    else\n",
    "        term(a) + Sum(term, next(a), next, b)\n",
    "    end\n",
    "end"
   ]
  },
  {
   "cell_type": "code",
   "execution_count": 3,
   "metadata": {
    "collapsed": false
   },
   "outputs": [
    {
     "data": {
      "text/plain": [
       "cube (generic function with 1 method)"
      ]
     },
     "execution_count": 3,
     "metadata": {},
     "output_type": "execute_result"
    }
   ],
   "source": [
    "function cube(x)\n",
    "    x*x*x\n",
    "end"
   ]
  },
  {
   "cell_type": "code",
   "execution_count": 4,
   "metadata": {
    "collapsed": false
   },
   "outputs": [
    {
     "data": {
      "text/plain": [
       "20.249998874996223"
      ]
     },
     "execution_count": 4,
     "metadata": {},
     "output_type": "execute_result"
    }
   ],
   "source": [
    "integral(cube, 0, 3, 0.001)"
   ]
  }
 ],
 "metadata": {
  "kernelspec": {
   "display_name": "Julia 0.3.9",
   "language": "julia",
   "name": "julia-0.3"
  },
  "language_info": {
   "name": "julia",
   "version": "0.3.9"
  }
 },
 "nbformat": 4,
 "nbformat_minor": 0
}
