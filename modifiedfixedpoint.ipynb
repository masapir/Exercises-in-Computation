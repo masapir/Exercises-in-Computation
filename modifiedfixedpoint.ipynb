{
 "cells": [
  {
   "cell_type": "markdown",
   "metadata": {},
   "source": [
    "###Modified Fixed Point###\n",
    "\n",
    "14 June 2015\n",
    "\n",
    "Modified fixed point to display guesses:"
   ]
  },
  {
   "cell_type": "code",
   "execution_count": 1,
   "metadata": {
    "collapsed": false
   },
   "outputs": [
    {
     "data": {
      "text/plain": [
       "fixedpointmod (generic function with 1 method)"
      ]
     },
     "execution_count": 1,
     "metadata": {},
     "output_type": "execute_result"
    }
   ],
   "source": [
    "function fixedpointmod(f, firstguess)\n",
    "    function iscloseenough(y1, y2)\n",
    "        abs(y2-y1) < 0.0001\n",
    "    end\n",
    "    function run(guess)\n",
    "        let nextguess = f(guess)\n",
    "            println(\"next guess: \", nextguess)\n",
    "            if iscloseenough(guess, nextguess)\n",
    "                nextguess\n",
    "            else\n",
    "                run(nextguess)\n",
    "            end\n",
    "        end\n",
    "    end\n",
    "    run(firstguess)\n",
    "end"
   ]
  },
  {
   "cell_type": "markdown",
   "metadata": {},
   "source": [
    "Solve x<sup>x</sup> = 1000. (eq. 1)\n",
    "\n",
    ">x<sup>x</sup> = e<sup>ln(x<sup>x</sup>)</sup>\n",
    "\n",
    ">= e<sup>(xlnx)</sup>\n",
    "\n",
    "Now\n",
    "\n",
    ">e<sup>xlnx</sup> = 1000 = e<sup>ln(1000)</sup>\n",
    "\n",
    "So xlnx = ln(1000)\n",
    "\n",
    "Now we obtain an equation equalivalent to eq. 1 but expressing the identity function. We can use the fixed point method.\n",
    "\n",
    "f(x) = x\n",
    "\n",
    ">ln(1000)/ln(x) = x"
   ]
  },
  {
   "cell_type": "code",
   "execution_count": 2,
   "metadata": {
    "collapsed": false
   },
   "outputs": [
    {
     "data": {
      "text/plain": [
       "solveeq1 (generic function with 1 method)"
      ]
     },
     "execution_count": 2,
     "metadata": {},
     "output_type": "execute_result"
    }
   ],
   "source": [
    "function solveeq1()\n",
    "    fixedpointmod(x -> log(1000)/log(x), 4)\n",
    "end"
   ]
  },
  {
   "cell_type": "code",
   "execution_count": 4,
   "metadata": {
    "collapsed": false
   },
   "outputs": [
    {
     "name": "stdout",
     "output_type": "stream",
     "text": [
      "next guess: 4.9828921423310435\n",
      "next guess: 4.301189432497896\n",
      "next guess: 4.734933901055578\n",
      "next guess: 4.442378437719526\n",
      "next guess: 4.632377941509958\n",
      "next guess: 4.505830646780212\n",
      "next guess: 4.588735606875766\n",
      "next guess: 4.533824356566501\n",
      "next guess: 4.56993352418142\n",
      "next guess: 4.546075272637246\n",
      "next guess: 4.561789745175654\n",
      "next guess: 4.55141783665413\n",
      "next guess: 4.5582542120702625\n",
      "next guess: 4.553744140202578\n",
      "next guess: 4.556717747893265\n",
      "next guess: 4.554756404545319\n",
      "next guess: 4.5560497413912975\n",
      "next guess: 4.5551967522618035\n",
      "next guess: 4.555759257615811\n",
      "next guess: 4.555388284933277\n",
      "next guess: 4.555632929754932\n",
      "next guess: 4.555471588998784\n",
      "next guess: 4.555577989320218\n",
      "next guess: 4.555507819903776\n"
     ]
    },
    {
     "data": {
      "text/plain": [
       "4.555507819903776"
      ]
     },
     "execution_count": 4,
     "metadata": {},
     "output_type": "execute_result"
    }
   ],
   "source": [
    "solveeq1()"
   ]
  },
  {
   "cell_type": "markdown",
   "metadata": {},
   "source": [
    "Let's try this for x<sup>x</sup> = 10000. We have eq. 2:\n",
    "\n",
    ">x = ln((10000)/ln(x)"
   ]
  },
  {
   "cell_type": "code",
   "execution_count": 7,
   "metadata": {
    "collapsed": false
   },
   "outputs": [
    {
     "data": {
      "text/plain": [
       "solveeq2 (generic function with 1 method)"
      ]
     },
     "execution_count": 7,
     "metadata": {},
     "output_type": "execute_result"
    }
   ],
   "source": [
    "function solveeq2()\n",
    "    fixedpointmod(x -> log(10000)/log(x), 5)\n",
    "end"
   ]
  },
  {
   "cell_type": "code",
   "execution_count": 8,
   "metadata": {
    "collapsed": false
   },
   "outputs": [
    {
     "name": "stdout",
     "output_type": "stream",
     "text": [
      "next guess: 5.722706232293573\n",
      "next guess: 5.279820922476792\n",
      "next guess: 5.535418987751272\n",
      "next guess: 5.382489824906029\n",
      "next guess: 5.472081853893787\n",
      "next guess: 5.418933809283183\n",
      "next guess: 5.450231005136644\n",
      "next guess: 5.431720549985083\n",
      "next guess: 5.442640284865214\n",
      "next guess: 5.436188691734517\n",
      "next guess: 5.439997002419199\n",
      "next guess: 5.437747803776506\n",
      "next guess: 5.439075771254439\n",
      "next guess: 5.438291570474163\n",
      "next guess: 5.438754611790335\n",
      "next guess: 5.438481185555391\n",
      "next guess: 5.438642637807838\n",
      "next guess: 5.438547301619394\n"
     ]
    },
    {
     "data": {
      "text/plain": [
       "5.438547301619394"
      ]
     },
     "execution_count": 8,
     "metadata": {},
     "output_type": "execute_result"
    }
   ],
   "source": [
    "solveeq2()"
   ]
  }
 ],
 "metadata": {
  "kernelspec": {
   "display_name": "Julia 0.3.9",
   "language": "julia",
   "name": "julia-0.3"
  },
  "language_info": {
   "name": "julia",
   "version": "0.3.9"
  }
 },
 "nbformat": 4,
 "nbformat_minor": 0
}
