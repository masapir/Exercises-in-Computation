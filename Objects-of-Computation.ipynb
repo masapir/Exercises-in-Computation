{
 "cells": [
  {
   "cell_type": "markdown",
   "metadata": {},
   "source": [
    "##Objects of Computation"
   ]
  },
  {
   "cell_type": "markdown",
   "metadata": {},
   "source": [
    "###Discussion Notes 2\n",
    "\n",
    "**31 May 2015**"
   ]
  },
  {
   "cell_type": "markdown",
   "metadata": {},
   "source": [
    "In our first notebook discussion (dated 25 May 2015) we looked at different types of mathematical computations as a way to explore how to write computations in Julia and the basic programming resources in Julia. We saw that even with only a few syntactic forms (Julia offers many more than we used), you can do a lot of interesting computations. \n",
    "\n",
    "The first key idea that we developed was to write functions that can take functions themselves as arguments and also return functions as values. This lets us work directly with the abstract ideas underlying concrete computations. Sometimes this capability provides us with useful flexibility in adapting computations or insight into the computation itself.\n",
    "\n",
    "The second key idea was to structure computations in terms of their component concepts or steps. This approach to writing computations helps us to understand the computation better and also it helps others understand what the code does. Generally code is easier to read when its structure reflects clearly the concepts and actions that the computation works through. It is probably also easier to modify code that clearly features the conceptual steps of the computational process.\n",
    "\n",
    "In the discussion notes here our attention turns from the structure of computation processes to the structure of the objects of computations. In our prior notes we worked with numbers and mostly integers at that. It is however often useful to build more involved structures and we will consider how to do this now.\n",
    "\n",
    "There are two key operations that a language must have to be able to build up and use structured objects or data for computation:\n",
    "\n",
    "1. A *constructor* that can bind objects together\n",
    "2. *Selectors* that can pick out the parts of a structure built up by a constructor"
   ]
  },
  {
   "cell_type": "markdown",
   "metadata": {
    "collapsed": true
   },
   "source": [
    "###Constructing Objects For Computation"
   ]
  },
  {
   "cell_type": "markdown",
   "metadata": {},
   "source": [
    "Construct objects using `type` . . . `end`.\n",
    "\n",
    "The `type` command binds data that you want to specify and you can further specify data type. \n",
    "\n",
    "For example, here we create an object called `Orc` characterized by `height`, `weight`, and `weapon`."
   ]
  },
  {
   "cell_type": "code",
   "execution_count": 1,
   "metadata": {
    "collapsed": false
   },
   "outputs": [],
   "source": [
    "type Orc\n",
    "    height::Float64\n",
    "    weight::Float64\n",
    "    weapon::String\n",
    "end"
   ]
  },
  {
   "cell_type": "code",
   "execution_count": 2,
   "metadata": {
    "collapsed": false
   },
   "outputs": [
    {
     "data": {
      "text/plain": [
       "Orc(7.2,482.0,\"halbard\")"
      ]
     },
     "execution_count": 2,
     "metadata": {},
     "output_type": "execute_result"
    }
   ],
   "source": [
    "Asog = Orc(7.2, 482.0, \"halbard\")"
   ]
  },
  {
   "cell_type": "markdown",
   "metadata": {},
   "source": [
    "When a type (e.g., `Orc`) is applied like a function, it is called a *constructor*. Here we constructed an `Orc` named `Asog` with the specified values for the `Orc type` fields `height`, `weight`, and `weapon`."
   ]
  },
  {
   "cell_type": "markdown",
   "metadata": {},
   "source": [
    "###Selecting Parts Of Objects"
   ]
  },
  {
   "cell_type": "code",
   "execution_count": 3,
   "metadata": {
    "collapsed": false
   },
   "outputs": [
    {
     "data": {
      "text/plain": [
       "7.2"
      ]
     },
     "execution_count": 3,
     "metadata": {},
     "output_type": "execute_result"
    }
   ],
   "source": [
    "Asog.height"
   ]
  },
  {
   "cell_type": "code",
   "execution_count": 4,
   "metadata": {
    "collapsed": false
   },
   "outputs": [
    {
     "data": {
      "text/plain": [
       "482.0"
      ]
     },
     "execution_count": 4,
     "metadata": {},
     "output_type": "execute_result"
    }
   ],
   "source": [
    "Asog.weight"
   ]
  },
  {
   "cell_type": "code",
   "execution_count": 5,
   "metadata": {
    "collapsed": false
   },
   "outputs": [
    {
     "data": {
      "text/plain": [
       "\"halbard\""
      ]
     },
     "execution_count": 5,
     "metadata": {},
     "output_type": "execute_result"
    }
   ],
   "source": [
    "Asog.weapon"
   ]
  },
  {
   "cell_type": "markdown",
   "metadata": {},
   "source": [
    "####Example Composite Data Structure: Rational Numbers"
   ]
  },
  {
   "cell_type": "markdown",
   "metadata": {},
   "source": [
    "Julia actually has its own built-in type for rational numbers and we will look at that in a bit. But to illustrate making a composite data type we will write code a rational number system.\n",
    "\n",
    "This will use GCD."
   ]
  },
  {
   "cell_type": "markdown",
   "metadata": {},
   "source": [
    "Recall Euclid's method to compute the GCD using the fact that\n",
    "\n",
    ">GCD(a, b) = GCD(b, r)\n",
    "\n",
    ">where r = a%b"
   ]
  },
  {
   "cell_type": "code",
   "execution_count": 6,
   "metadata": {
    "collapsed": false
   },
   "outputs": [
    {
     "data": {
      "text/plain": [
       "EuclidGCD (generic function with 1 method)"
      ]
     },
     "execution_count": 6,
     "metadata": {},
     "output_type": "execute_result"
    }
   ],
   "source": [
    "function EuclidGCD(a, b)\n",
    "    if b == 0\n",
    "        a\n",
    "        else EuclidGCD(b, a%b)\n",
    "    end\n",
    "end"
   ]
  },
  {
   "cell_type": "code",
   "execution_count": 7,
   "metadata": {
    "collapsed": false
   },
   "outputs": [
    {
     "data": {
      "text/plain": [
       "36"
      ]
     },
     "execution_count": 7,
     "metadata": {},
     "output_type": "execute_result"
    }
   ],
   "source": [
    "EuclidGCD(144, 36)"
   ]
  },
  {
   "cell_type": "code",
   "execution_count": 8,
   "metadata": {
    "collapsed": false
   },
   "outputs": [
    {
     "data": {
      "text/plain": [
       "2"
      ]
     },
     "execution_count": 8,
     "metadata": {},
     "output_type": "execute_result"
    }
   ],
   "source": [
    "EuclidGCD(52, 18)"
   ]
  },
  {
   "cell_type": "markdown",
   "metadata": {},
   "source": [
    "The `type` syntax lets you create an object and identify data fields for that object. "
   ]
  },
  {
   "cell_type": "code",
   "execution_count": 9,
   "metadata": {
    "collapsed": false
   },
   "outputs": [],
   "source": [
    "type rat\n",
    "    num::Int64\n",
    "    den::Int64\n",
    "end"
   ]
  },
  {
   "cell_type": "markdown",
   "metadata": {},
   "source": [
    "Now we have a type called `rat` with two data fields, `num` and `den` both of which must have type `Int64`."
   ]
  },
  {
   "cell_type": "code",
   "execution_count": 10,
   "metadata": {
    "collapsed": false
   },
   "outputs": [
    {
     "data": {
      "text/plain": [
       "rat(23,54)"
      ]
     },
     "execution_count": 10,
     "metadata": {},
     "output_type": "execute_result"
    }
   ],
   "source": [
    "rat(23, 54)"
   ]
  },
  {
   "cell_type": "markdown",
   "metadata": {},
   "source": [
    "####Constructors\n",
    "\n",
    "There are different ways to identify a constructor for `rat`. The `rat` type itself could be viewed as a constructor. We could also write a function `Makerat` that takes 2 integers and returns their `rat`. Further we can simplify the rational number by factoring out the greated common divisor of the numerator and the denominator."
   ]
  },
  {
   "cell_type": "code",
   "execution_count": 11,
   "metadata": {
    "collapsed": false
   },
   "outputs": [
    {
     "data": {
      "text/plain": [
       "makerat (generic function with 1 method)"
      ]
     },
     "execution_count": 11,
     "metadata": {},
     "output_type": "execute_result"
    }
   ],
   "source": [
    "function makerat(n, d) # a constructor for the rat type given a numerator and a denom\n",
    "    if n == 0 && d == 0\n",
    "        error(\"invalid rational: 0//0\")\n",
    "    else\n",
    "        g = gcd(n, d)\n",
    "        num = div (n, g)\n",
    "        den = div(d, g)\n",
    "        rat(num, den)\n",
    "    end\n",
    "end"
   ]
  },
  {
   "cell_type": "code",
   "execution_count": 12,
   "metadata": {
    "collapsed": false
   },
   "outputs": [
    {
     "data": {
      "text/plain": [
       "rat(5,3)"
      ]
     },
     "execution_count": 12,
     "metadata": {},
     "output_type": "execute_result"
    }
   ],
   "source": [
    "r = makerat(25, 15)"
   ]
  },
  {
   "cell_type": "markdown",
   "metadata": {},
   "source": [
    "####Selectors\n",
    "\n",
    "The selectors are simple: just a `.fieldname` appended to the name of the object. For example, for our `rat` r, `r.num` gives the numerator and `r.den` gives the denominator."
   ]
  },
  {
   "cell_type": "code",
   "execution_count": 13,
   "metadata": {
    "collapsed": false
   },
   "outputs": [
    {
     "data": {
      "text/plain": [
       "5"
      ]
     },
     "execution_count": 13,
     "metadata": {},
     "output_type": "execute_result"
    }
   ],
   "source": [
    "r.num"
   ]
  },
  {
   "cell_type": "code",
   "execution_count": 14,
   "metadata": {
    "collapsed": false
   },
   "outputs": [
    {
     "data": {
      "text/plain": [
       "3"
      ]
     },
     "execution_count": 14,
     "metadata": {},
     "output_type": "execute_result"
    }
   ],
   "source": [
    "r.den"
   ]
  },
  {
   "cell_type": "markdown",
   "metadata": {},
   "source": [
    "So now we have a way to build rationals, or other composite types, and also to retrieve the parts of these composites. This is what we need to build layers of abstraction and to go back and forth between those layers."
   ]
  },
  {
   "cell_type": "markdown",
   "metadata": {
    "collapsed": true
   },
   "source": [
    "Here is a function to print our new `rat` type numbers:"
   ]
  },
  {
   "cell_type": "code",
   "execution_count": 15,
   "metadata": {
    "collapsed": false
   },
   "outputs": [
    {
     "data": {
      "text/plain": [
       "printrat (generic function with 1 method)"
      ]
     },
     "execution_count": 15,
     "metadata": {},
     "output_type": "execute_result"
    }
   ],
   "source": [
    "function printrat(r)\n",
    "    println(string(r.num), \"//\", string(r.den))\n",
    "end"
   ]
  },
  {
   "cell_type": "code",
   "execution_count": 16,
   "metadata": {
    "collapsed": false
   },
   "outputs": [
    {
     "name": "stdout",
     "output_type": "stream",
     "text": [
      "5//3\n"
     ]
    }
   ],
   "source": [
    "printrat(r)"
   ]
  },
  {
   "cell_type": "markdown",
   "metadata": {},
   "source": [
    "NB: The `string()` function converts its argument to the `string` type."
   ]
  },
  {
   "cell_type": "markdown",
   "metadata": {
    "collapsed": true
   },
   "source": [
    "With the `makerat` constructor and the `name.num` and `name.den` selectors we can build a system for working on rational numbers.\n",
    "\n",
    "Note that Julia has a built-in rational numbers package also using these concepts but in a form that is more intrinsic to the Julia language. We will study the specifics of the Julia idiom subsequently. You can see Julia's Rationals implementation at https://github.com/JuliaLang/julia/blob/master/base/rational.jl."
   ]
  },
  {
   "cell_type": "markdown",
   "metadata": {},
   "source": [
    "####Defining Operations On Rational Numbers\n",
    "\n",
    "Addition and Subtraction\n",
    "\n",
    ">n1/d1 + n2/d2  =  (n1d2 + n2d1) / d1d2\n",
    "\n",
    "Multiplication\n",
    "\n",
    ">n1/d1 &times; n2/d2 = n1n2 / d1d2\n",
    "\n",
    "Division\n",
    "\n",
    ">n1/d1 / n2/d2 = n1/d1 &times; d2/n2\n",
    "\n",
    "Negative\n",
    "\n",
    ">-(n1/d1) = -n1/d1\n",
    "\n",
    "Equality test\n",
    "\n",
    ">n1/d1 = n2/d2 &iff;\n",
    "\n",
    ">n1d2  = d1n2"
   ]
  },
  {
   "cell_type": "code",
   "execution_count": 17,
   "metadata": {
    "collapsed": false
   },
   "outputs": [
    {
     "data": {
      "text/plain": [
       "equalrat (generic function with 1 method)"
      ]
     },
     "execution_count": 17,
     "metadata": {},
     "output_type": "execute_result"
    }
   ],
   "source": [
    "function addrat(x, y)\n",
    "    makerat(x.num*y.den+x.den*y.num, x.den*y.den)\n",
    "end\n",
    "\n",
    "function mulrat(x, y)\n",
    "    makerat(x.num*y.num, x.den*y.den)\n",
    "end\n",
    "\n",
    "function divrat(x, y)\n",
    "    makerat(x.num*y.den, x.den*y.num)\n",
    "end\n",
    "\n",
    "function negrat(r)\n",
    "    makerat(-r.num, r.den)\n",
    "end\n",
    "\n",
    "function equalrat(x, y)\n",
    "    x.num*y.den == y.num*x.den\n",
    "end"
   ]
  },
  {
   "cell_type": "code",
   "execution_count": 18,
   "metadata": {
    "collapsed": false
   },
   "outputs": [
    {
     "data": {
      "text/plain": [
       "rat(5,8)"
      ]
     },
     "execution_count": 18,
     "metadata": {},
     "output_type": "execute_result"
    }
   ],
   "source": [
    "fiveeighths = makerat(5, 8)"
   ]
  },
  {
   "cell_type": "code",
   "execution_count": 19,
   "metadata": {
    "collapsed": false
   },
   "outputs": [
    {
     "data": {
      "text/plain": [
       "rat(3,16)"
      ]
     },
     "execution_count": 19,
     "metadata": {},
     "output_type": "execute_result"
    }
   ],
   "source": [
    "threesixteenths = makerat(3, 16)"
   ]
  },
  {
   "cell_type": "code",
   "execution_count": 20,
   "metadata": {
    "collapsed": false
   },
   "outputs": [
    {
     "data": {
      "text/plain": [
       "rat(1,2)"
      ]
     },
     "execution_count": 20,
     "metadata": {},
     "output_type": "execute_result"
    }
   ],
   "source": [
    "eightsixteenths = makerat(8, 16)"
   ]
  },
  {
   "cell_type": "code",
   "execution_count": 21,
   "metadata": {
    "collapsed": false
   },
   "outputs": [
    {
     "data": {
      "text/plain": [
       "rat(13,16)"
      ]
     },
     "execution_count": 21,
     "metadata": {},
     "output_type": "execute_result"
    }
   ],
   "source": [
    "addrat(fiveeighths, threesixteenths)"
   ]
  },
  {
   "cell_type": "code",
   "execution_count": 22,
   "metadata": {
    "collapsed": false
   },
   "outputs": [
    {
     "data": {
      "text/plain": [
       "rat(13,16)"
      ]
     },
     "execution_count": 22,
     "metadata": {},
     "output_type": "execute_result"
    }
   ],
   "source": [
    "ans"
   ]
  },
  {
   "cell_type": "code",
   "execution_count": 23,
   "metadata": {
    "collapsed": false
   },
   "outputs": [
    {
     "data": {
      "text/plain": [
       "rat(13,8)"
      ]
     },
     "execution_count": 23,
     "metadata": {},
     "output_type": "execute_result"
    }
   ],
   "source": [
    "divrat(ans, eightsixteenths)"
   ]
  },
  {
   "cell_type": "code",
   "execution_count": 24,
   "metadata": {
    "collapsed": false
   },
   "outputs": [
    {
     "data": {
      "text/plain": [
       "rat(-13,8)"
      ]
     },
     "execution_count": 24,
     "metadata": {},
     "output_type": "execute_result"
    }
   ],
   "source": [
    "negrat(ans)"
   ]
  },
  {
   "cell_type": "code",
   "execution_count": 25,
   "metadata": {
    "collapsed": false
   },
   "outputs": [
    {
     "data": {
      "text/plain": [
       "false"
      ]
     },
     "execution_count": 25,
     "metadata": {},
     "output_type": "execute_result"
    }
   ],
   "source": [
    "equalrat(eightsixteenths, fiveeighths)"
   ]
  },
  {
   "cell_type": "code",
   "execution_count": 26,
   "metadata": {
    "collapsed": false
   },
   "outputs": [
    {
     "data": {
      "text/plain": [
       "true"
      ]
     },
     "execution_count": 26,
     "metadata": {},
     "output_type": "execute_result"
    }
   ],
   "source": [
    "equalrat(makerat(1,2), eightsixteenths)"
   ]
  },
  {
   "cell_type": "markdown",
   "metadata": {},
   "source": [
    "Thus using a means to construct composite data and to decompose that composite data lets us build up abstract data structures such as rational numbers.\n",
    "\n",
    "A key issue in building data structures is to think carefully about the abstraction layers and the operators translating actions between the abstraction layers. In a well designed system, it will be easy to extend operations at the level where we are working on our data without having to change the implementation of the abstraction--the structure, constructors, and selectors."
   ]
  },
  {
   "cell_type": "markdown",
   "metadata": {},
   "source": [
    "####Blurring the Distinction Between Structure and Process\n",
    "\n",
    "To build our constructor for rational numbers we used a feature of Julia, `type`, that let us create a structure called `rat` and that we had defined with 2 fields: `num` and `den`. So in thinking about data it looks here as though we are dealing with something--structure--fundamentally different from what we were working with in our first discussion on computing *processes*.\n",
    "\n",
    "But this distinction between data and process is more of a convenience than a necessity because we can create the apparent structure of data from processes. Structure emerges from process:"
   ]
  },
  {
   "cell_type": "code",
   "execution_count": 27,
   "metadata": {
    "collapsed": false
   },
   "outputs": [
    {
     "data": {
      "text/plain": [
       "part2 (generic function with 1 method)"
      ]
     },
     "execution_count": 27,
     "metadata": {},
     "output_type": "execute_result"
    }
   ],
   "source": [
    "function glue(x, y)\n",
    "    function dispatch(m)\n",
    "        if m == 0\n",
    "            x\n",
    "        elseif m == 1\n",
    "            y\n",
    "            else error(\"argument not 0 or 1 in GLUE\")\n",
    "        end\n",
    "    end\n",
    "    dispatch\n",
    "end\n",
    "\n",
    "function part1(composite)\n",
    "    composite(0)\n",
    "end\n",
    "\n",
    "function part2(composite)\n",
    "    composite(1)\n",
    "end"
   ]
  },
  {
   "cell_type": "code",
   "execution_count": 28,
   "metadata": {
    "collapsed": false
   },
   "outputs": [
    {
     "data": {
      "text/plain": [
       "dispatch (generic function with 1 method)"
      ]
     },
     "execution_count": 28,
     "metadata": {},
     "output_type": "execute_result"
    }
   ],
   "source": [
    "c1 = glue(4,8)"
   ]
  },
  {
   "cell_type": "code",
   "execution_count": 29,
   "metadata": {
    "collapsed": false
   },
   "outputs": [
    {
     "data": {
      "text/plain": [
       "4"
      ]
     },
     "execution_count": 29,
     "metadata": {},
     "output_type": "execute_result"
    }
   ],
   "source": [
    "part1(c1)"
   ]
  },
  {
   "cell_type": "code",
   "execution_count": 30,
   "metadata": {
    "collapsed": false
   },
   "outputs": [
    {
     "data": {
      "text/plain": [
       "8"
      ]
     },
     "execution_count": 30,
     "metadata": {},
     "output_type": "execute_result"
    }
   ],
   "source": [
    "part2(c1)"
   ]
  },
  {
   "cell_type": "markdown",
   "metadata": {},
   "source": [
    "With these three functions `glue`, `part1`, and `part2` we can build the rational numbers as above:"
   ]
  },
  {
   "cell_type": "code",
   "execution_count": 31,
   "metadata": {
    "collapsed": false
   },
   "outputs": [
    {
     "data": {
      "text/plain": [
       "makeratp (generic function with 1 method)"
      ]
     },
     "execution_count": 31,
     "metadata": {},
     "output_type": "execute_result"
    }
   ],
   "source": [
    "function makeratp(n, d) # a constructor for the rat type given a numerator and a denom\n",
    "    if n == 0 && d == 0\n",
    "        error(\"invalid rational: 0//0\")\n",
    "    else\n",
    "        g = gcd(n, d)\n",
    "        num = div (n, g)\n",
    "        den = div(d, g)\n",
    "        glue(num, den)\n",
    "    end\n",
    "end"
   ]
  },
  {
   "cell_type": "code",
   "execution_count": 32,
   "metadata": {
    "collapsed": false
   },
   "outputs": [
    {
     "data": {
      "text/plain": [
       "dispatch (generic function with 1 method)"
      ]
     },
     "execution_count": 32,
     "metadata": {},
     "output_type": "execute_result"
    }
   ],
   "source": [
    "fiveeighthsp = makeratp(5, 8)"
   ]
  },
  {
   "cell_type": "code",
   "execution_count": 33,
   "metadata": {
    "collapsed": false
   },
   "outputs": [
    {
     "data": {
      "text/plain": [
       "denomselect (generic function with 1 method)"
      ]
     },
     "execution_count": 33,
     "metadata": {},
     "output_type": "execute_result"
    }
   ],
   "source": [
    "function numselect(r)\n",
    "    part1(r)\n",
    "end\n",
    "\n",
    "function denomselect(r)\n",
    "    part2(r)\n",
    "end"
   ]
  },
  {
   "cell_type": "code",
   "execution_count": 34,
   "metadata": {
    "collapsed": false
   },
   "outputs": [
    {
     "data": {
      "text/plain": [
       "5"
      ]
     },
     "execution_count": 34,
     "metadata": {},
     "output_type": "execute_result"
    }
   ],
   "source": [
    "numselect(fiveeighthsp)"
   ]
  },
  {
   "cell_type": "code",
   "execution_count": 35,
   "metadata": {
    "collapsed": false
   },
   "outputs": [
    {
     "data": {
      "text/plain": [
       "8"
      ]
     },
     "execution_count": 35,
     "metadata": {},
     "output_type": "execute_result"
    }
   ],
   "source": [
    "denomselect(fiveeighthsp)"
   ]
  },
  {
   "cell_type": "markdown",
   "metadata": {},
   "source": [
    "So for example a revised `addrat`:"
   ]
  },
  {
   "cell_type": "code",
   "execution_count": 36,
   "metadata": {
    "collapsed": false
   },
   "outputs": [
    {
     "data": {
      "text/plain": [
       "addratp (generic function with 1 method)"
      ]
     },
     "execution_count": 36,
     "metadata": {},
     "output_type": "execute_result"
    }
   ],
   "source": [
    "function addratp(x, y)\n",
    "    snum = numselect(x)*denomselect(y)+denomselect(x)*numselect(y)\n",
    "    sdenom = denomselect(x)*denomselect(y)\n",
    "    makeratp(snum, sdenom)\n",
    "end"
   ]
  },
  {
   "cell_type": "code",
   "execution_count": 37,
   "metadata": {
    "collapsed": false
   },
   "outputs": [
    {
     "data": {
      "text/plain": [
       "dispatch (generic function with 1 method)"
      ]
     },
     "execution_count": 37,
     "metadata": {},
     "output_type": "execute_result"
    }
   ],
   "source": [
    "r2 = addratp(fiveeighthsp, fiveeighthsp)"
   ]
  },
  {
   "cell_type": "code",
   "execution_count": 38,
   "metadata": {
    "collapsed": false
   },
   "outputs": [
    {
     "data": {
      "text/plain": [
       "printratp (generic function with 1 method)"
      ]
     },
     "execution_count": 38,
     "metadata": {},
     "output_type": "execute_result"
    }
   ],
   "source": [
    "function printratp(r)\n",
    "    println(string(numselect(r)), \"//\", string(denomselect(r)))\n",
    "end"
   ]
  },
  {
   "cell_type": "code",
   "execution_count": 39,
   "metadata": {
    "collapsed": false
   },
   "outputs": [
    {
     "name": "stdout",
     "output_type": "stream",
     "text": [
      "5//4\n"
     ]
    }
   ],
   "source": [
    "printratp(r2)"
   ]
  },
  {
   "cell_type": "markdown",
   "metadata": {},
   "source": [
    "####Arrays"
   ]
  },
  {
   "cell_type": "code",
   "execution_count": 40,
   "metadata": {
    "collapsed": false
   },
   "outputs": [
    {
     "data": {
      "text/plain": [
       "1x6 Array{Int64,2}:\n",
       " 11  12  13  14  15  22"
      ]
     },
     "execution_count": 40,
     "metadata": {},
     "output_type": "execute_result"
    }
   ],
   "source": [
    "l = hcat(11, 12, 13, 14, 15, 22)"
   ]
  },
  {
   "cell_type": "code",
   "execution_count": 41,
   "metadata": {
    "collapsed": false
   },
   "outputs": [
    {
     "data": {
      "text/plain": [
       "22"
      ]
     },
     "execution_count": 41,
     "metadata": {},
     "output_type": "execute_result"
    }
   ],
   "source": [
    "l[6]"
   ]
  },
  {
   "cell_type": "code",
   "execution_count": 42,
   "metadata": {
    "collapsed": false
   },
   "outputs": [
    {
     "data": {
      "text/plain": [
       "3-element Array{Int64,1}:\n",
       " 13\n",
       " 14\n",
       " 15"
      ]
     },
     "execution_count": 42,
     "metadata": {},
     "output_type": "execute_result"
    }
   ],
   "source": [
    "l[3:5]"
   ]
  },
  {
   "cell_type": "code",
   "execution_count": 43,
   "metadata": {
    "collapsed": false
   },
   "outputs": [
    {
     "data": {
      "text/plain": [
       "1x6 Array{Int64,2}:\n",
       " 11  12  13  14  15  22"
      ]
     },
     "execution_count": 43,
     "metadata": {},
     "output_type": "execute_result"
    }
   ],
   "source": [
    "l"
   ]
  },
  {
   "cell_type": "code",
   "execution_count": 44,
   "metadata": {
    "collapsed": false
   },
   "outputs": [
    {
     "data": {
      "text/plain": [
       "1x6 Array{Float64,2}:\n",
       " 2.85312  3.13843  3.45227  3.7975  4.17725  8.14027"
      ]
     },
     "execution_count": 44,
     "metadata": {},
     "output_type": "execute_result"
    }
   ],
   "source": [
    "\n",
    "map(x -> 1.1^x, l)"
   ]
  },
  {
   "cell_type": "code",
   "execution_count": 45,
   "metadata": {
    "collapsed": false
   },
   "outputs": [
    {
     "data": {
      "text/plain": [
       "2.8531167061100025"
      ]
     },
     "execution_count": 45,
     "metadata": {},
     "output_type": "execute_result"
    }
   ],
   "source": [
    "1.1^11"
   ]
  },
  {
   "cell_type": "code",
   "execution_count": 46,
   "metadata": {
    "collapsed": false
   },
   "outputs": [
    {
     "data": {
      "text/plain": [
       "3x3 Array{Float64,2}:\n",
       " 0.711888  0.98771    0.278739\n",
       " 0.623484  0.0214589  0.406077\n",
       " 0.2199    0.629656   0.415357"
      ]
     },
     "execution_count": 46,
     "metadata": {},
     "output_type": "execute_result"
    }
   ],
   "source": [
    "ra = rand(3, 3)"
   ]
  },
  {
   "cell_type": "code",
   "execution_count": 47,
   "metadata": {
    "collapsed": false
   },
   "outputs": [
    {
     "data": {
      "text/plain": [
       "5x5 Array{Float64,2}:\n",
       " 1.0  0.0  0.0  0.0  0.0\n",
       " 0.0  1.0  0.0  0.0  0.0\n",
       " 0.0  0.0  1.0  0.0  0.0\n",
       " 0.0  0.0  0.0  1.0  0.0\n",
       " 0.0  0.0  0.0  0.0  1.0"
      ]
     },
     "execution_count": 47,
     "metadata": {},
     "output_type": "execute_result"
    }
   ],
   "source": [
    "\n",
    "\n",
    "ri = eye(5)"
   ]
  },
  {
   "cell_type": "code",
   "execution_count": 48,
   "metadata": {
    "collapsed": false
   },
   "outputs": [
    {
     "data": {
      "text/plain": [
       "7-element Array{Float64,1}:\n",
       "  0.0\n",
       "  2.0\n",
       "  4.0\n",
       "  6.0\n",
       "  8.0\n",
       " 10.0\n",
       " 12.0"
      ]
     },
     "execution_count": 48,
     "metadata": {},
     "output_type": "execute_result"
    }
   ],
   "source": [
    "ll = linspace(0, 12, 7)"
   ]
  },
  {
   "cell_type": "code",
   "execution_count": 49,
   "metadata": {
    "collapsed": false
   },
   "outputs": [
    {
     "data": {
      "text/plain": [
       "6"
      ]
     },
     "execution_count": 49,
     "metadata": {},
     "output_type": "execute_result"
    }
   ],
   "source": [
    "length(l)"
   ]
  },
  {
   "cell_type": "code",
   "execution_count": 50,
   "metadata": {
    "collapsed": false
   },
   "outputs": [
    {
     "data": {
      "text/plain": [
       "2"
      ]
     },
     "execution_count": 50,
     "metadata": {},
     "output_type": "execute_result"
    }
   ],
   "source": [
    "ndims(l)"
   ]
  },
  {
   "cell_type": "code",
   "execution_count": 51,
   "metadata": {
    "collapsed": false
   },
   "outputs": [
    {
     "data": {
      "text/plain": [
       "6x1 Array{Int64,2}:\n",
       " 11\n",
       " 12\n",
       " 13\n",
       " 14\n",
       " 15\n",
       " 22"
      ]
     },
     "execution_count": 51,
     "metadata": {},
     "output_type": "execute_result"
    }
   ],
   "source": [
    "m = l'"
   ]
  },
  {
   "cell_type": "code",
   "execution_count": 52,
   "metadata": {
    "collapsed": false
   },
   "outputs": [
    {
     "data": {
      "text/plain": [
       "1x6 Array{Int64,2}:\n",
       " 11  12  13  14  15  22"
      ]
     },
     "execution_count": 52,
     "metadata": {},
     "output_type": "execute_result"
    }
   ],
   "source": [
    "n = m'"
   ]
  },
  {
   "cell_type": "code",
   "execution_count": 53,
   "metadata": {
    "collapsed": false
   },
   "outputs": [
    {
     "data": {
      "text/plain": [
       "true"
      ]
     },
     "execution_count": 53,
     "metadata": {},
     "output_type": "execute_result"
    }
   ],
   "source": [
    "n == l"
   ]
  },
  {
   "cell_type": "code",
   "execution_count": 54,
   "metadata": {
    "collapsed": false
   },
   "outputs": [
    {
     "data": {
      "text/plain": [
       "3x3 Array{Int64,2}:\n",
       " 21  22  23\n",
       " 31  32  33\n",
       " 41  42  43"
      ]
     },
     "execution_count": 54,
     "metadata": {},
     "output_type": "execute_result"
    }
   ],
   "source": [
    "mn = [21 22 23; 31 32 33; 41 42 43]"
   ]
  },
  {
   "cell_type": "code",
   "execution_count": 55,
   "metadata": {
    "collapsed": false
   },
   "outputs": [
    {
     "data": {
      "text/plain": [
       "3x3 Array{Int64,2}:\n",
       " 21  31  41\n",
       " 22  32  42\n",
       " 23  33  43"
      ]
     },
     "execution_count": 55,
     "metadata": {},
     "output_type": "execute_result"
    }
   ],
   "source": [
    "ab = mn'"
   ]
  },
  {
   "cell_type": "code",
   "execution_count": 56,
   "metadata": {
    "collapsed": false
   },
   "outputs": [
    {
     "data": {
      "text/plain": [
       "32"
      ]
     },
     "execution_count": 56,
     "metadata": {},
     "output_type": "execute_result"
    }
   ],
   "source": [
    "ab[2,2]"
   ]
  },
  {
   "cell_type": "code",
   "execution_count": 57,
   "metadata": {
    "collapsed": false
   },
   "outputs": [
    {
     "data": {
      "text/plain": [
       "1x3 Array{Int64,2}:\n",
       " 23  33  43"
      ]
     },
     "execution_count": 57,
     "metadata": {},
     "output_type": "execute_result"
    }
   ],
   "source": [
    "ab[3,:]"
   ]
  },
  {
   "cell_type": "code",
   "execution_count": 58,
   "metadata": {
    "collapsed": false
   },
   "outputs": [
    {
     "data": {
      "text/plain": [
       "1x4 Array{Int64,2}:\n",
       " 45  46  47  48"
      ]
     },
     "execution_count": 58,
     "metadata": {},
     "output_type": "execute_result"
    }
   ],
   "source": [
    "tl = [45 46 47 48]"
   ]
  },
  {
   "cell_type": "code",
   "execution_count": 59,
   "metadata": {
    "collapsed": false
   },
   "outputs": [
    {
     "data": {
      "text/plain": [
       "1x4 Array{Int64,2}:\n",
       " 45  46  47  48"
      ]
     },
     "execution_count": 59,
     "metadata": {},
     "output_type": "execute_result"
    }
   ],
   "source": [
    "tl"
   ]
  },
  {
   "cell_type": "code",
   "execution_count": 60,
   "metadata": {
    "collapsed": false
   },
   "outputs": [
    {
     "data": {
      "text/plain": [
       "1x5 Array{Float64,2}:\n",
       " 0.856927  0.202486  0.905799  0.882678  0.691103"
      ]
     },
     "execution_count": 60,
     "metadata": {},
     "output_type": "execute_result"
    }
   ],
   "source": [
    "rll = rand(1, 5)"
   ]
  },
  {
   "cell_type": "markdown",
   "metadata": {},
   "source": [
    "Mapping A Function Over An Array."
   ]
  },
  {
   "cell_type": "code",
   "execution_count": 61,
   "metadata": {
    "collapsed": false
   },
   "outputs": [
    {
     "data": {
      "text/plain": [
       "20-element Array{Float64,1}:\n",
       "  1.0\n",
       "  2.0\n",
       "  3.0\n",
       "  4.0\n",
       "  5.0\n",
       "  6.0\n",
       "  7.0\n",
       "  8.0\n",
       "  9.0\n",
       " 10.0\n",
       " 11.0\n",
       " 12.0\n",
       " 13.0\n",
       " 14.0\n",
       " 15.0\n",
       " 16.0\n",
       " 17.0\n",
       " 18.0\n",
       " 19.0\n",
       " 20.0"
      ]
     },
     "execution_count": 61,
     "metadata": {},
     "output_type": "execute_result"
    }
   ],
   "source": [
    "lints = linspace(1, 20, 20)"
   ]
  },
  {
   "cell_type": "code",
   "execution_count": 62,
   "metadata": {
    "collapsed": false
   },
   "outputs": [
    {
     "data": {
      "text/plain": [
       "20-element Array{Float64,1}:\n",
       "   1.0\n",
       "   4.0\n",
       "   9.0\n",
       "  16.0\n",
       "  25.0\n",
       "  36.0\n",
       "  49.0\n",
       "  64.0\n",
       "  81.0\n",
       " 100.0\n",
       " 121.0\n",
       " 144.0\n",
       " 169.0\n",
       " 196.0\n",
       " 225.0\n",
       " 256.0\n",
       " 289.0\n",
       " 324.0\n",
       " 361.0\n",
       " 400.0"
      ]
     },
     "execution_count": 62,
     "metadata": {},
     "output_type": "execute_result"
    }
   ],
   "source": [
    "lsqs = map(x->x^2, lints)"
   ]
  },
  {
   "cell_type": "markdown",
   "metadata": {},
   "source": [
    "####Example: Structures Modeled On Signal Processing"
   ]
  },
  {
   "cell_type": "code",
   "execution_count": 63,
   "metadata": {
    "collapsed": false
   },
   "outputs": [
    {
     "data": {
      "text/plain": [
       "0-element Array{None,1}"
      ]
     },
     "execution_count": 63,
     "metadata": {},
     "output_type": "execute_result"
    }
   ],
   "source": [
    "ltest = []"
   ]
  },
  {
   "cell_type": "code",
   "execution_count": 64,
   "metadata": {
    "collapsed": false
   },
   "outputs": [
    {
     "data": {
      "text/plain": [
       "true"
      ]
     },
     "execution_count": 64,
     "metadata": {},
     "output_type": "execute_result"
    }
   ],
   "source": [
    "isempty(ltest)"
   ]
  },
  {
   "cell_type": "code",
   "execution_count": 65,
   "metadata": {
    "collapsed": false
   },
   "outputs": [
    {
     "data": {
      "text/plain": [
       "false"
      ]
     },
     "execution_count": 65,
     "metadata": {},
     "output_type": "execute_result"
    }
   ],
   "source": [
    "isempty(lsqs)"
   ]
  },
  {
   "cell_type": "code",
   "execution_count": 66,
   "metadata": {
    "collapsed": false
   },
   "outputs": [
    {
     "data": {
      "text/plain": [
       "10-element Array{Int64,1}:\n",
       "  1\n",
       "  3\n",
       "  5\n",
       "  7\n",
       "  9\n",
       " 11\n",
       " 13\n",
       " 15\n",
       " 17\n",
       " 19"
      ]
     },
     "execution_count": 66,
     "metadata": {},
     "output_type": "execute_result"
    }
   ],
   "source": [
    "filter(isodd, [1:20])"
   ]
  },
  {
   "cell_type": "markdown",
   "metadata": {},
   "source": [
    "`filter` is a fundamental signal processing operation. Let's pretend that Julia did not have a built-in `filter` function and write one. Let's call it `screen`.\n",
    "\n",
    "`screen` takes 2 arguments: `predicate` is a test to apply to each element of the list-array in the second argument, `sequence`. \n",
    "\n",
    "`screen` returns a list-array with elements that pass the specified `predicate` test."
   ]
  },
  {
   "cell_type": "code",
   "execution_count": 67,
   "metadata": {
    "collapsed": false
   },
   "outputs": [
    {
     "data": {
      "text/plain": [
       "screen (generic function with 1 method)"
      ]
     },
     "execution_count": 67,
     "metadata": {},
     "output_type": "execute_result"
    }
   ],
   "source": [
    "function screen(predicate, sequence) # sequence is a 1xn array\n",
    "    if isempty(sequence)\n",
    "        []'  # include the transpose operator for effect of empty list in concatenation below\n",
    "        elseif predicate(sequence[1])\n",
    "        hcat([sequence[1]], screen(predicate, sequence[2:end]))\n",
    "    else\n",
    "        screen(predicate, sequence[2:end])\n",
    "    end\n",
    "end"
   ]
  },
  {
   "cell_type": "code",
   "execution_count": 68,
   "metadata": {
    "collapsed": false
   },
   "outputs": [
    {
     "data": {
      "text/plain": [
       "1x20 Array{Int64,2}:\n",
       " 1  2  3  4  5  6  7  8  9  10  11  12  13  14  15  16  17  18  19  20"
      ]
     },
     "execution_count": 68,
     "metadata": {},
     "output_type": "execute_result"
    }
   ],
   "source": [
    "[1:20]'"
   ]
  },
  {
   "cell_type": "code",
   "execution_count": 69,
   "metadata": {
    "collapsed": false
   },
   "outputs": [
    {
     "data": {
      "text/plain": [
       "1x20 Array{Int64,2}:\n",
       " 1  2  3  4  5  6  7  8  9  10  11  12  13  14  15  16  17  18  19  20"
      ]
     },
     "execution_count": 69,
     "metadata": {},
     "output_type": "execute_result"
    }
   ],
   "source": [
    "hcat([1:20]', []')"
   ]
  },
  {
   "cell_type": "code",
   "execution_count": 70,
   "metadata": {
    "collapsed": false
   },
   "outputs": [
    {
     "data": {
      "text/plain": [
       "1x5 Array{Int64,2}:\n",
       " 1  3  5  7  9"
      ]
     },
     "execution_count": 70,
     "metadata": {},
     "output_type": "execute_result"
    }
   ],
   "source": [
    "screen(isodd, [1:10]')"
   ]
  },
  {
   "cell_type": "code",
   "execution_count": 71,
   "metadata": {
    "collapsed": false
   },
   "outputs": [
    {
     "data": {
      "text/plain": [
       "1x1 Array{Int64,2}:\n",
       " 6"
      ]
     },
     "execution_count": 71,
     "metadata": {},
     "output_type": "execute_result"
    }
   ],
   "source": [
    "[6]'"
   ]
  },
  {
   "cell_type": "code",
   "execution_count": 72,
   "metadata": {
    "collapsed": false
   },
   "outputs": [
    {
     "data": {
      "text/plain": [
       "1x11 Array{Int64,2}:\n",
       " 2  4  6  8  10  12  14  16  18  20  22"
      ]
     },
     "execution_count": 72,
     "metadata": {},
     "output_type": "execute_result"
    }
   ],
   "source": [
    "screen(iseven, [1:22]')"
   ]
  },
  {
   "cell_type": "markdown",
   "metadata": {},
   "source": [
    "Now we will define an **accumulator**. \n",
    "\n",
    "`accumulate` takes an operator, an initial value, and a 1xn array (list). \n",
    "\n",
    "It returns a single value which is the accumulation of the elements of the array under the specified operator with the initial value."
   ]
  },
  {
   "cell_type": "code",
   "execution_count": 73,
   "metadata": {
    "collapsed": false
   },
   "outputs": [
    {
     "data": {
      "text/plain": [
       "accumulate (generic function with 1 method)"
      ]
     },
     "execution_count": 73,
     "metadata": {},
     "output_type": "execute_result"
    }
   ],
   "source": [
    "function accumulate(op, initial, sequence)\n",
    "    if isempty(sequence)\n",
    "        initial\n",
    "    else\n",
    "        op(sequence[1], accumulate(op, initial, sequence[2:end]))\n",
    "    end\n",
    "end"
   ]
  },
  {
   "cell_type": "code",
   "execution_count": 74,
   "metadata": {
    "collapsed": false
   },
   "outputs": [
    {
     "data": {
      "text/plain": [
       "55"
      ]
     },
     "execution_count": 74,
     "metadata": {},
     "output_type": "execute_result"
    }
   ],
   "source": [
    "accumulate(+, 0, [1:10]')"
   ]
  },
  {
   "cell_type": "markdown",
   "metadata": {},
   "source": [
    "NB: We can write `accumulate` this way because Julia operators are also functions. For example, 2+5 is also +(2, 3). "
   ]
  },
  {
   "cell_type": "code",
   "execution_count": 75,
   "metadata": {
    "collapsed": false
   },
   "outputs": [
    {
     "data": {
      "text/plain": [
       "1x10 Array{Int64,2}:\n",
       " 1  2  3  4  5  6  7  8  9  10"
      ]
     },
     "execution_count": 75,
     "metadata": {},
     "output_type": "execute_result"
    }
   ],
   "source": [
    "accumulate(hcat, []', [1:10]')"
   ]
  },
  {
   "cell_type": "code",
   "execution_count": 76,
   "metadata": {
    "collapsed": false
   },
   "outputs": [
    {
     "data": {
      "text/plain": [
       "1x10 Array{Int64,2}:\n",
       " 1  2  3  4  5  6  7  8  9  10"
      ]
     },
     "execution_count": 76,
     "metadata": {},
     "output_type": "execute_result"
    }
   ],
   "source": [
    "[1:10]'"
   ]
  },
  {
   "cell_type": "markdown",
   "metadata": {},
   "source": [
    "**Interval Enumerator**\n",
    "\n",
    "Given 2 integers low and high, `enumerateinterval` will return a list of of integers counted from low to high. \n",
    "\n",
    "`enumerateinterval` is equivalent to the Julia expression `[low:high]'`."
   ]
  },
  {
   "cell_type": "code",
   "execution_count": 77,
   "metadata": {
    "collapsed": false
   },
   "outputs": [
    {
     "data": {
      "text/plain": [
       "1x6 Array{Int64,2}:\n",
       " 5  6  7  8  9  10"
      ]
     },
     "execution_count": 77,
     "metadata": {},
     "output_type": "execute_result"
    }
   ],
   "source": [
    "[5:10]'"
   ]
  },
  {
   "cell_type": "code",
   "execution_count": 78,
   "metadata": {
    "collapsed": false
   },
   "outputs": [
    {
     "data": {
      "text/plain": [
       "enumerateinterval (generic function with 1 method)"
      ]
     },
     "execution_count": 78,
     "metadata": {},
     "output_type": "execute_result"
    }
   ],
   "source": [
    "function enumerateinterval(low, high)\n",
    "    if low > high\n",
    "        []'\n",
    "    else\n",
    "        hcat([low]', enumerateinterval(low+1, high))\n",
    "    end\n",
    "end"
   ]
  },
  {
   "cell_type": "code",
   "execution_count": 79,
   "metadata": {
    "collapsed": false
   },
   "outputs": [
    {
     "data": {
      "text/plain": [
       "1x15 Array{Int64,2}:\n",
       " 1  2  3  4  5  6  7  8  9  10  11  12  13  14  15"
      ]
     },
     "execution_count": 79,
     "metadata": {},
     "output_type": "execute_result"
    }
   ],
   "source": [
    "enumerateinterval(1, 15)"
   ]
  },
  {
   "cell_type": "code",
   "execution_count": 80,
   "metadata": {
    "collapsed": false
   },
   "outputs": [
    {
     "data": {
      "text/plain": [
       "1x11 Array{Int64,2}:\n",
       " 100  101  102  103  104  105  106  107  108  109  110"
      ]
     },
     "execution_count": 80,
     "metadata": {},
     "output_type": "execute_result"
    }
   ],
   "source": [
    "enumerateinterval(100, 110)"
   ]
  },
  {
   "cell_type": "code",
   "execution_count": 81,
   "metadata": {
    "collapsed": false
   },
   "outputs": [
    {
     "data": {
      "text/plain": [
       "true"
      ]
     },
     "execution_count": 81,
     "metadata": {},
     "output_type": "execute_result"
    }
   ],
   "source": [
    "typeof([1:3]') <: Array"
   ]
  },
  {
   "cell_type": "code",
   "execution_count": 82,
   "metadata": {
    "collapsed": false
   },
   "outputs": [
    {
     "data": {
      "text/plain": [
       "false"
      ]
     },
     "execution_count": 82,
     "metadata": {},
     "output_type": "execute_result"
    }
   ],
   "source": [
    "typeof(4) <: Array"
   ]
  },
  {
   "cell_type": "markdown",
   "metadata": {},
   "source": [
    "This lets us discriminate between numbers and arrays.\n",
    "\n",
    "Let's use this feature in a function that takes a tree structure (i.e., a list of lists) and returns a single list with all the elements in the tree."
   ]
  },
  {
   "cell_type": "code",
   "execution_count": 83,
   "metadata": {
    "collapsed": false
   },
   "outputs": [
    {
     "data": {
      "text/plain": [
       "enumeratetree (generic function with 1 method)"
      ]
     },
     "execution_count": 83,
     "metadata": {},
     "output_type": "execute_result"
    }
   ],
   "source": [
    "function enumeratetree(tree)\n",
    "    if isempty(tree)\n",
    "        []'\n",
    "        elseif !(typeof(tree) <: Array) # if tree not an array (it's a number), \n",
    "        [tree]'                         # then return that number as a list\n",
    "    else\n",
    "        hcat(enumeratetree(tree[1]), enumeratetree(tree[2:end]))\n",
    "    end\n",
    "end"
   ]
  },
  {
   "cell_type": "code",
   "execution_count": 84,
   "metadata": {
    "collapsed": false
   },
   "outputs": [
    {
     "data": {
      "text/plain": [
       "5-element Array{Any,1}:\n",
       " 10                                                                     \n",
       "   {[0.806286,0.800352,0.199525],[0.0494742,0.588435,0.107913,0.768476]}\n",
       " 20                                                                     \n",
       " 30                                                                     \n",
       " 40                                                                     "
      ]
     },
     "execution_count": 84,
     "metadata": {},
     "output_type": "execute_result"
    }
   ],
   "source": [
    "testtree = {10, {rand(3), rand(4)}, 20, 30, 40}"
   ]
  },
  {
   "cell_type": "markdown",
   "metadata": {},
   "source": [
    "Brackets, `{ ... }` allow you to define an array of elements of type `Any` so you can use brackets to create a tree structure for functions like `enumeratetree` designed for lists of lists (a tree being here a list of lists where a list is a 1xn array)."
   ]
  },
  {
   "cell_type": "code",
   "execution_count": 85,
   "metadata": {
    "collapsed": false
   },
   "outputs": [
    {
     "data": {
      "text/plain": [
       "1x11 Array{Float64,2}:\n",
       " 10.0  0.806286  0.800352  0.199525  0.0494742  …  0.768476  20.0  30.0  40.0"
      ]
     },
     "execution_count": 85,
     "metadata": {},
     "output_type": "execute_result"
    }
   ],
   "source": [
    "enumeratetree(testtree)"
   ]
  },
  {
   "cell_type": "markdown",
   "metadata": {},
   "source": [
    "####A Graphics Interlude"
   ]
  },
  {
   "cell_type": "code",
   "execution_count": 86,
   "metadata": {
    "collapsed": false
   },
   "outputs": [
    {
     "name": "stderr",
     "output_type": "stream",
     "text": [
      "INFO: Nothing to be done\n",
      "INFO: METADATA is out-of-date — you may not have the latest version of Gadfly\n",
      "INFO: Use `Pkg.update()` to get the latest versions of your packages\n"
     ]
    }
   ],
   "source": [
    "Pkg.add(\"Gadfly\")"
   ]
  },
  {
   "cell_type": "code",
   "execution_count": 87,
   "metadata": {
    "collapsed": false
   },
   "outputs": [
    {
     "data": {
      "image/png": "[encoded data removed]",
      "image/svg+xml": [
       "<?xml version=\"1.0\" encoding=\"UTF-8\"?>\n",
       "<svg xmlns=\"http://www.w3.org/2000/svg\"\n",
       "     xmlns:xlink=\"http://www.w3.org/1999/xlink\"\n",
       "     xmlns:gadfly=\"http://www.gadflyjl.org/ns\"\n",
       "     version=\"1.2\"\n",
       "     width=\"141.42mm\" height=\"100mm\" viewBox=\"0 0 141.42 100\"\n",
       "     stroke=\"none\"\n",
       "     fill=\"#000000\"\n",
       "     stroke-width=\"0.3\"\n",
       "     font-size=\"3.88\"\n",
       ">\n",
       "<g class=\"plotroot xscalable yscalable\" id=\"fig-8431568595514321abd8a18f3365e24b-element-1\">\n",
       "  <g font-size=\"3.88\" font-family=\"'PT Sans','Helvetica Neue','Helvetica',sans-serif\" fill=\"#564A55\" stroke=\"#000000\" stroke-opacity=\"0.000\" id=\"fig-8431568595514321abd8a18f3365e24b-element-2\">\n",
       "    <text x=\"73.66\" y=\"92\" text-anchor=\"middle\">x</text>\n",
       "  </g>\n",
       "  <g class=\"guide xlabels\" font-size=\"2.82\" font-family=\"'PT Sans Caption','Helvetica Neue','Helvetica',sans-serif\" fill=\"#6C606B\" id=\"fig-8431568595514321abd8a18f3365e24b-element-3\">\n",
       "    <text x=\"21.75\" y=\"84.39\" text-anchor=\"middle\">0</text>\n",
       "    <text x=\"42.51\" y=\"84.39\" text-anchor=\"middle\">5</text>\n",
       "    <text x=\"63.28\" y=\"84.39\" text-anchor=\"middle\">10</text>\n",
       "    <text x=\"84.05\" y=\"84.39\" text-anchor=\"middle\">15</text>\n",
       "    <text x=\"104.82\" y=\"84.39\" text-anchor=\"middle\">20</text>\n",
       "    <text x=\"125.58\" y=\"84.39\" text-anchor=\"middle\">25</text>\n",
       "  </g>\n",
       "  <g class=\"guide colorkey\" id=\"fig-8431568595514321abd8a18f3365e24b-element-4\">\n",
       "    <g fill=\"#4C404B\" font-size=\"2.82\" font-family=\"'PT Sans','Helvetica Neue','Helvetica',sans-serif\" id=\"fig-8431568595514321abd8a18f3365e24b-element-5\">\n",
       "      <text x=\"132.05\" y=\"42.86\" dy=\"0.35em\" id=\"fig-8431568595514321abd8a18f3365e24b-element-6\" class=\"color_f1\">f<tspan style=\"dominant-baseline:inherit\" dy=\"0.6em\" font-size=\"83%\">1</tspan><tspan dy=\"-0.498000em\"></tspan></text>\n",
       "      <text x=\"132.05\" y=\"47.8\" dy=\"0.35em\" id=\"fig-8431568595514321abd8a18f3365e24b-element-7\" class=\"color_f2\">f<tspan style=\"dominant-baseline:inherit\" dy=\"0.6em\" font-size=\"83%\">2</tspan><tspan dy=\"-0.498000em\"></tspan></text>\n",
       "    </g>\n",
       "    <g stroke=\"#000000\" stroke-opacity=\"0.000\" id=\"fig-8431568595514321abd8a18f3365e24b-element-8\">\n",
       "      <rect x=\"128.58\" y=\"41.62\" width=\"2.47\" height=\"2.47\" id=\"fig-8431568595514321abd8a18f3365e24b-element-9\" class=\"color_f1\" fill=\"#00BFFF\"/>\n",
       "      <rect x=\"128.58\" y=\"46.56\" width=\"2.47\" height=\"2.47\" id=\"fig-8431568595514321abd8a18f3365e24b-element-10\" class=\"color_f2\" fill=\"#D4CA3A\"/>\n",
       "    </g>\n",
       "    <g fill=\"#362A35\" font-size=\"3.88\" font-family=\"'PT Sans','Helvetica Neue','Helvetica',sans-serif\" stroke=\"#000000\" stroke-opacity=\"0.000\" id=\"fig-8431568595514321abd8a18f3365e24b-element-11\">\n",
       "      <text x=\"128.58\" y=\"37.72\" id=\"fig-8431568595514321abd8a18f3365e24b-element-12\">Color</text>\n",
       "    </g>\n",
       "  </g>\n",
       "  <g clip-path=\"url(#fig-8431568595514321abd8a18f3365e24b-element-14)\" id=\"fig-8431568595514321abd8a18f3365e24b-element-13\">\n",
       "    <g pointer-events=\"visible\" opacity=\"1\" fill=\"#000000\" fill-opacity=\"0.000\" stroke=\"#000000\" stroke-opacity=\"0.000\" class=\"guide background\" id=\"fig-8431568595514321abd8a18f3365e24b-element-15\">\n",
       "      <rect x=\"19.75\" y=\"5\" width=\"107.84\" height=\"75.72\" id=\"fig-8431568595514321abd8a18f3365e24b-element-16\"/>\n",
       "    </g>\n",
       "    <g class=\"guide ygridlines xfixed\" stroke-dasharray=\"0.5,0.5\" stroke-width=\"0.2\" stroke=\"#D0D0E0\" id=\"fig-8431568595514321abd8a18f3365e24b-element-17\">\n",
       "      <path fill=\"none\" d=\"M19.75,78.71 L 127.58 78.71\" id=\"fig-8431568595514321abd8a18f3365e24b-element-18\"/>\n",
       "      <path fill=\"none\" d=\"M19.75,60.79 L 127.58 60.79\" id=\"fig-8431568595514321abd8a18f3365e24b-element-19\"/>\n",
       "      <path fill=\"none\" d=\"M19.75,42.86 L 127.58 42.86\" id=\"fig-8431568595514321abd8a18f3365e24b-element-20\"/>\n",
       "      <path fill=\"none\" d=\"M19.75,24.93 L 127.58 24.93\" id=\"fig-8431568595514321abd8a18f3365e24b-element-21\"/>\n",
       "      <path fill=\"none\" d=\"M19.75,7 L 127.58 7\" id=\"fig-8431568595514321abd8a18f3365e24b-element-22\"/>\n",
       "    </g>\n",
       "    <g class=\"guide xgridlines yfixed\" stroke-dasharray=\"0.5,0.5\" stroke-width=\"0.2\" stroke=\"#D0D0E0\" id=\"fig-8431568595514321abd8a18f3365e24b-element-23\">\n",
       "      <path fill=\"none\" d=\"M21.75,5 L 21.75 80.72\" id=\"fig-8431568595514321abd8a18f3365e24b-element-24\"/>\n",
       "      <path fill=\"none\" d=\"M42.51,5 L 42.51 80.72\" id=\"fig-8431568595514321abd8a18f3365e24b-element-25\"/>\n",
       "      <path fill=\"none\" d=\"M63.28,5 L 63.28 80.72\" id=\"fig-8431568595514321abd8a18f3365e24b-element-26\"/>\n",
       "      <path fill=\"none\" d=\"M84.05,5 L 84.05 80.72\" id=\"fig-8431568595514321abd8a18f3365e24b-element-27\"/>\n",
       "      <path fill=\"none\" d=\"M104.82,5 L 104.82 80.72\" id=\"fig-8431568595514321abd8a18f3365e24b-element-28\"/>\n",
       "      <path fill=\"none\" d=\"M125.58,5 L 125.58 80.72\" id=\"fig-8431568595514321abd8a18f3365e24b-element-29\"/>\n",
       "    </g>\n",
       "    <g class=\"plotpanel\" id=\"fig-8431568595514321abd8a18f3365e24b-element-30\">\n",
       "      <g stroke-width=\"0.3\" fill=\"#000000\" fill-opacity=\"0.000\" id=\"fig-8431568595514321abd8a18f3365e24b-element-31\">\n",
       "        <path fill=\"none\" d=\"M21.75,42.86 L 22.16 39.26 22.58 35.71 23 32.22 23.41 28.84 23.83 25.6 24.25 22.54 24.66 19.68 25.08 17.05 25.5 14.69 25.92 12.61 26.33 10.83 26.75 9.37 27.17 8.26 27.58 7.49 28 7.08 28.42 7.02 28.83 7.33 29.25 8 29.67 9.01 30.09 10.37 30.5 12.06 30.92 14.05 31.34 16.34 31.75 18.89 32.17 21.69 32.59 24.69 33 27.89 33.42 31.23 33.84 34.68 34.26 38.23 34.67 41.81 35.09 45.41 35.51 48.98 35.92 52.49 36.34 55.91 36.76 59.19 37.17 62.31 37.59 65.23 38.01 67.92 38.43 70.37 38.84 72.53 39.26 74.4 39.68 75.95 40.09 77.17 40.51 78.04 40.93 78.56 41.35 78.71 41.76 78.51 42.18 77.95 42.6 77.03 43.01 75.77 43.43 74.18 43.85 72.27 44.26 70.07 44.68 67.59 45.1 64.86 45.52 61.91 45.93 58.77 46.35 55.47 46.77 52.04 47.18 48.52 47.6 44.95 48.02 41.35 48.43 37.76 48.85 34.23 49.27 30.79 49.69 27.46 50.1 24.3 50.52 21.31 50.94 18.55 51.35 16.03 51.77 13.78 52.19 11.82 52.6 10.18 53.02 8.86 53.44 7.89 53.86 7.27 54.27 7.01 54.69 7.11 55.11 7.57 55.52 8.38 55.94 9.54 56.36 11.04 56.78 12.86 57.19 14.98 57.61 17.38 58.03 20.04 58.44 22.92 58.86 26.01 59.28 29.27 59.69 32.66 60.11 36.16 60.53 39.73 60.95 43.32 61.36 46.91 61.78 50.46 62.2 53.94 62.61 57.3 63.03 60.52 63.45 63.56 63.86 66.39 64.28 68.98 64.7 71.31 65.12 73.36 65.53 75.09 65.95 76.5 66.37 77.58 66.78 78.3 67.2 78.67 67.62 78.67 68.03 78.32 68.45 77.61 68.87 76.54 69.29 75.14 69.7 73.42 70.12 71.38 70.54 69.06 70.95 66.47 71.37 63.65 71.79 60.62 72.21 57.41 72.62 54.05 73.04 50.58 73.46 47.03 73.87 43.44 74.29 39.84 74.71 36.27 75.12 32.77 75.54 29.38 75.96 26.11 76.38 23.02 76.79 20.13 77.21 17.46 77.63 15.05 78.04 12.92 78.46 11.09 78.88 9.59 79.29 8.41 79.71 7.59 80.13 7.12 80.55 7.01 80.96 7.26 81.38 7.87 81.8 8.83 82.21 10.13 82.63 11.77 83.05 13.71 83.46 15.95 83.88 18.46 84.3 21.22 84.72 24.2 85.13 27.36 85.55 30.68 85.97 34.12 86.38 37.65 86.8 41.23 87.22 44.83 87.64 48.41 88.05 51.93 88.47 55.36 88.89 58.67 89.3 61.82 89.72 64.77 90.14 67.51 90.55 69.99 90.97 72.2 91.39 74.12 91.81 75.72 92.22 77 92.64 77.92 93.06 78.5 93.47 78.71 93.89 78.57 94.31 78.06 94.72 77.2 95.14 76 95.56 74.46 95.98 72.6 96.39 70.44 96.81 68.01 97.23 65.32 97.64 62.4 98.06 59.29 98.48 56.01 98.89 52.6 99.31 49.1 99.73 45.52 100.15 41.93 100.56 38.34 100.98 34.8 101.4 31.33 101.81 27.99 102.23 24.79 102.65 21.78 103.07 18.98 103.48 16.42 103.9 14.12 104.32 12.12 104.73 10.42 105.15 9.05 105.57 8.02 105.98 7.35 106.4 7.03 106.82 7.07 107.24 7.47 107.65 8.23 108.07 9.33 108.49 10.78 108.9 12.55 109.32 14.62 109.74 16.98 110.15 19.59 110.57 22.45 110.99 25.5 111.41 28.74 111.82 32.11 112.24 35.59 112.66 39.15 113.07 42.74 113.49 46.34 113.91 49.9 114.32 53.39 114.74 56.77 115.16 60.01 115.58 63.08 115.99 65.95 116.41 68.58 116.83 70.95 117.24 73.05 117.66 74.83 118.08 76.3 118.5 77.43 118.91 78.21 119.33 78.63 119.75 78.7 120.16 78.4 120.58 77.74 121 76.74 121.41 75.39 121.83 73.71 122.25 71.73 122.67 69.45 123.08 66.91 123.5 64.12 123.92 61.12 124.33 57.93 124.75 54.6 125.17 51.14 125.58 47.6\" id=\"fig-8431568595514321abd8a18f3365e24b-element-32\" stroke=\"#00BFFF\" class=\"geometry color_f1\"/>\n",
       "        <path fill=\"none\" d=\"M21.75,7 L 22.16 7.18 22.58 7.72 23 8.61 23.41 9.85 23.83 11.42 24.25 13.31 24.66 15.5 25.08 17.96 25.5 20.67 25.92 23.6 26.33 26.73 26.75 30.03 27.17 33.45 27.58 36.96 28 40.54 28.42 44.13 28.83 47.72 29.25 51.26 29.67 54.71 30.09 58.04 30.5 61.22 30.92 64.21 31.34 66.99 31.75 69.53 32.17 71.8 32.59 73.77 33 75.44 33.42 76.78 33.84 77.77 34.26 78.41 34.67 78.7 35.09 78.62 35.51 78.19 35.92 77.4 36.34 76.26 36.76 74.78 37.17 72.98 37.59 70.88 38.01 68.5 38.43 65.86 38.84 62.98 39.26 59.91 39.68 56.66 40.09 53.27 40.51 49.78 40.93 46.22 41.35 42.62 41.76 39.03 42.18 35.48 42.6 32 43.01 28.63 43.43 25.4 43.85 22.35 44.26 19.5 44.68 16.89 45.1 14.55 45.52 12.48 45.93 10.73 46.35 9.29 46.77 8.2 47.18 7.45 47.6 7.06 48.02 7.03 48.43 7.36 48.85 8.05 49.27 9.09 49.69 10.47 50.1 12.18 50.52 14.19 50.94 16.5 51.35 19.07 51.77 21.88 52.19 24.9 52.6 28.1 53.02 31.45 53.44 34.91 53.86 38.46 54.27 42.05 54.69 45.64 55.11 49.21 55.52 52.72 55.94 56.12 56.36 59.4 56.78 62.5 57.19 65.41 57.61 68.09 58.03 70.52 58.44 72.66 58.86 74.51 59.28 76.04 59.69 77.24 60.11 78.08 60.53 78.58 60.95 78.71 61.36 78.48 61.78 77.9 62.2 76.96 62.61 75.68 63.03 74.06 63.45 72.14 63.86 69.91 64.28 67.42 64.7 64.68 65.12 61.72 65.53 58.56 65.95 55.25 66.37 51.82 66.78 48.29 67.2 44.71 67.62 41.12 68.03 37.53 68.45 34.01 68.87 30.57 69.29 27.25 69.7 24.1 70.12 21.13 70.54 18.38 70.95 15.88 71.37 13.64 71.79 11.71 72.21 10.08 72.62 8.79 73.04 7.84 73.46 7.24 73.87 7 74.29 7.13 74.71 7.61 75.12 8.45 75.54 9.63 75.96 11.15 76.38 12.99 76.79 15.13 77.21 17.54 77.63 20.22 78.04 23.12 78.46 26.22 78.88 29.49 79.29 32.89 79.71 36.39 80.13 39.96 80.55 43.56 80.96 47.15 81.38 50.69 81.8 54.16 82.21 57.51 82.63 60.72 83.05 63.75 83.46 66.56 83.88 69.14 84.3 71.45 84.72 73.48 85.13 75.19 85.55 76.58 85.97 77.63 86.38 78.33 86.8 78.68 87.22 78.66 87.64 78.28 88.05 77.55 88.47 76.46 88.89 75.04 89.3 73.29 89.72 71.24 90.14 68.9 90.55 66.3 90.97 63.46 91.39 60.42 91.81 57.19 92.22 53.83 92.64 50.35 93.06 46.8 93.47 43.2 93.89 39.61 94.31 36.05 94.72 32.55 95.14 29.16 95.56 25.91 95.98 22.83 96.39 19.95 96.81 17.3 97.23 14.91 97.64 12.79 98.06 10.99 98.48 9.5 98.89 8.35 99.31 7.55 99.73 7.1 100.15 7.01 100.56 7.29 100.98 7.92 101.4 8.9 101.81 10.23 102.23 11.88 102.65 13.85 103.07 16.11 103.48 18.64 103.9 21.41 104.32 24.4 104.73 27.57 105.15 30.9 105.57 34.35 105.98 37.88 106.4 41.47 106.82 45.06 107.24 48.64 107.65 52.16 108.07 55.58 108.49 58.88 108.9 62.01 109.32 64.96 109.74 67.67 110.15 70.14 110.57 72.34 110.99 74.24 111.41 75.82 111.82 77.07 112.24 77.97 112.66 78.52 113.07 78.71 113.49 78.55 113.91 78.02 114.32 77.13 114.74 75.91 115.16 74.35 115.58 72.47 115.99 70.29 116.41 67.84 116.83 65.14 117.24 62.21 117.66 59.08 118.08 55.8 118.5 52.38 118.91 48.87 119.33 45.29 119.75 41.69 120.16 38.11 120.58 34.57 121 31.11 121.41 27.78 121.83 24.59 122.25 21.59 122.67 18.81 123.08 16.26 123.5 13.98 123.92 12 124.33 10.32 124.75 8.98 125.17 7.97 125.58 7.32\" id=\"fig-8431568595514321abd8a18f3365e24b-element-33\" stroke=\"#D4CA3A\" class=\"geometry color_f2\"/>\n",
       "      </g>\n",
       "    </g>\n",
       "  </g>\n",
       "  <g class=\"guide ylabels\" font-size=\"2.82\" font-family=\"'PT Sans Caption','Helvetica Neue','Helvetica',sans-serif\" fill=\"#6C606B\" id=\"fig-8431568595514321abd8a18f3365e24b-element-34\">\n",
       "    <text x=\"18.75\" y=\"78.71\" text-anchor=\"end\" dy=\"0.35em\" id=\"fig-8431568595514321abd8a18f3365e24b-element-35\">-1.0</text>\n",
       "    <text x=\"18.75\" y=\"60.79\" text-anchor=\"end\" dy=\"0.35em\" id=\"fig-8431568595514321abd8a18f3365e24b-element-36\">-0.5</text>\n",
       "    <text x=\"18.75\" y=\"42.86\" text-anchor=\"end\" dy=\"0.35em\" id=\"fig-8431568595514321abd8a18f3365e24b-element-37\">0.0</text>\n",
       "    <text x=\"18.75\" y=\"24.93\" text-anchor=\"end\" dy=\"0.35em\" id=\"fig-8431568595514321abd8a18f3365e24b-element-38\">0.5</text>\n",
       "    <text x=\"18.75\" y=\"7\" text-anchor=\"end\" dy=\"0.35em\" id=\"fig-8431568595514321abd8a18f3365e24b-element-39\">1.0</text>\n",
       "  </g>\n",
       "  <g font-size=\"3.88\" font-family=\"'PT Sans','Helvetica Neue','Helvetica',sans-serif\" fill=\"#564A55\" stroke=\"#000000\" stroke-opacity=\"0.000\" id=\"fig-8431568595514321abd8a18f3365e24b-element-40\">\n",
       "    <text x=\"8.81\" y=\"40.86\" text-anchor=\"middle\" dy=\"0.35em\" transform=\"rotate(-90, 8.81, 42.86)\" id=\"fig-8431568595514321abd8a18f3365e24b-element-41\">f(x)</text>\n",
       "  </g>\n",
       "</g>\n",
       "<defs>\n",
       "<clipPath id=\"fig-8431568595514321abd8a18f3365e24b-element-14\">\n",
       "  <path d=\"M19.75,5 L 127.58 5 127.58 80.72 19.75 80.72\" />\n",
       "</clipPath\n",
       "></defs>\n",
       "</svg>\n"
      ],
      "text/html": [
       "<?xml version=\"1.0\" encoding=\"UTF-8\"?>\n",
       "<svg xmlns=\"http://www.w3.org/2000/svg\"\n",
       "     xmlns:xlink=\"http://www.w3.org/1999/xlink\"\n",
       "     xmlns:gadfly=\"http://www.gadflyjl.org/ns\"\n",
       "     version=\"1.2\"\n",
       "     width=\"141.42mm\" height=\"100mm\" viewBox=\"0 0 141.42 100\"\n",
       "     stroke=\"none\"\n",
       "     fill=\"#000000\"\n",
       "     stroke-width=\"0.3\"\n",
       "     font-size=\"3.88\"\n",
       "\n",
       "     id=\"fig-dfc43a730cdf40b7b9f453f347ddd4be\">\n",
       "<g class=\"plotroot xscalable yscalable\" id=\"fig-dfc43a730cdf40b7b9f453f347ddd4be-element-1\">\n",
       "  <g font-size=\"3.88\" font-family=\"'PT Sans','Helvetica Neue','Helvetica',sans-serif\" fill=\"#564A55\" stroke=\"#000000\" stroke-opacity=\"0.000\" id=\"fig-dfc43a730cdf40b7b9f453f347ddd4be-element-2\">\n",
       "    <text x=\"73.66\" y=\"92\" text-anchor=\"middle\">x</text>\n",
       "  </g>\n",
       "  <g class=\"guide xlabels\" font-size=\"2.82\" font-family=\"'PT Sans Caption','Helvetica Neue','Helvetica',sans-serif\" fill=\"#6C606B\" id=\"fig-dfc43a730cdf40b7b9f453f347ddd4be-element-3\">\n",
       "    <text x=\"-102.86\" y=\"84.39\" text-anchor=\"middle\" visibility=\"hidden\" gadfly:scale=\"1.0\">-30</text>\n",
       "    <text x=\"-82.09\" y=\"84.39\" text-anchor=\"middle\" visibility=\"hidden\" gadfly:scale=\"1.0\">-25</text>\n",
       "    <text x=\"-61.33\" y=\"84.39\" text-anchor=\"middle\" visibility=\"hidden\" gadfly:scale=\"1.0\">-20</text>\n",
       "    <text x=\"-40.56\" y=\"84.39\" text-anchor=\"middle\" visibility=\"hidden\" gadfly:scale=\"1.0\">-15</text>\n",
       "    <text x=\"-19.79\" y=\"84.39\" text-anchor=\"middle\" visibility=\"hidden\" gadfly:scale=\"1.0\">-10</text>\n",
       "    <text x=\"0.98\" y=\"84.39\" text-anchor=\"middle\" visibility=\"hidden\" gadfly:scale=\"1.0\">-5</text>\n",
       "    <text x=\"21.75\" y=\"84.39\" text-anchor=\"middle\" visibility=\"visible\" gadfly:scale=\"1.0\">0</text>\n",
       "    <text x=\"42.51\" y=\"84.39\" text-anchor=\"middle\" visibility=\"visible\" gadfly:scale=\"1.0\">5</text>\n",
       "    <text x=\"63.28\" y=\"84.39\" text-anchor=\"middle\" visibility=\"visible\" gadfly:scale=\"1.0\">10</text>\n",
       "    <text x=\"84.05\" y=\"84.39\" text-anchor=\"middle\" visibility=\"visible\" gadfly:scale=\"1.0\">15</text>\n",
       "    <text x=\"104.82\" y=\"84.39\" text-anchor=\"middle\" visibility=\"visible\" gadfly:scale=\"1.0\">20</text>\n",
       "    <text x=\"125.58\" y=\"84.39\" text-anchor=\"middle\" visibility=\"visible\" gadfly:scale=\"1.0\">25</text>\n",
       "    <text x=\"146.35\" y=\"84.39\" text-anchor=\"middle\" visibility=\"hidden\" gadfly:scale=\"1.0\">30</text>\n",
       "    <text x=\"167.12\" y=\"84.39\" text-anchor=\"middle\" visibility=\"hidden\" gadfly:scale=\"1.0\">35</text>\n",
       "    <text x=\"187.89\" y=\"84.39\" text-anchor=\"middle\" visibility=\"hidden\" gadfly:scale=\"1.0\">40</text>\n",
       "    <text x=\"208.66\" y=\"84.39\" text-anchor=\"middle\" visibility=\"hidden\" gadfly:scale=\"1.0\">45</text>\n",
       "    <text x=\"229.42\" y=\"84.39\" text-anchor=\"middle\" visibility=\"hidden\" gadfly:scale=\"1.0\">50</text>\n",
       "    <text x=\"250.19\" y=\"84.39\" text-anchor=\"middle\" visibility=\"hidden\" gadfly:scale=\"1.0\">55</text>\n",
       "    <text x=\"-82.09\" y=\"84.39\" text-anchor=\"middle\" visibility=\"hidden\" gadfly:scale=\"10.0\">-25</text>\n",
       "    <text x=\"-77.94\" y=\"84.39\" text-anchor=\"middle\" visibility=\"hidden\" gadfly:scale=\"10.0\">-24</text>\n",
       "    <text x=\"-73.79\" y=\"84.39\" text-anchor=\"middle\" visibility=\"hidden\" gadfly:scale=\"10.0\">-23</text>\n",
       "    <text x=\"-69.63\" y=\"84.39\" text-anchor=\"middle\" visibility=\"hidden\" gadfly:scale=\"10.0\">-22</text>\n",
       "    <text x=\"-65.48\" y=\"84.39\" text-anchor=\"middle\" visibility=\"hidden\" gadfly:scale=\"10.0\">-21</text>\n",
       "    <text x=\"-61.33\" y=\"84.39\" text-anchor=\"middle\" visibility=\"hidden\" gadfly:scale=\"10.0\">-20</text>\n",
       "    <text x=\"-57.17\" y=\"84.39\" text-anchor=\"middle\" visibility=\"hidden\" gadfly:scale=\"10.0\">-19</text>\n",
       "    <text x=\"-53.02\" y=\"84.39\" text-anchor=\"middle\" visibility=\"hidden\" gadfly:scale=\"10.0\">-18</text>\n",
       "    <text x=\"-48.87\" y=\"84.39\" text-anchor=\"middle\" visibility=\"hidden\" gadfly:scale=\"10.0\">-17</text>\n",
       "    <text x=\"-44.71\" y=\"84.39\" text-anchor=\"middle\" visibility=\"hidden\" gadfly:scale=\"10.0\">-16</text>\n",
       "    <text x=\"-40.56\" y=\"84.39\" text-anchor=\"middle\" visibility=\"hidden\" gadfly:scale=\"10.0\">-15</text>\n",
       "    <text x=\"-36.41\" y=\"84.39\" text-anchor=\"middle\" visibility=\"hidden\" gadfly:scale=\"10.0\">-14</text>\n",
       "    <text x=\"-32.25\" y=\"84.39\" text-anchor=\"middle\" visibility=\"hidden\" gadfly:scale=\"10.0\">-13</text>\n",
       "    <text x=\"-28.1\" y=\"84.39\" text-anchor=\"middle\" visibility=\"hidden\" gadfly:scale=\"10.0\">-12</text>\n",
       "    <text x=\"-23.94\" y=\"84.39\" text-anchor=\"middle\" visibility=\"hidden\" gadfly:scale=\"10.0\">-11</text>\n",
       "    <text x=\"-19.79\" y=\"84.39\" text-anchor=\"middle\" visibility=\"hidden\" gadfly:scale=\"10.0\">-10</text>\n",
       "    <text x=\"-15.64\" y=\"84.39\" text-anchor=\"middle\" visibility=\"hidden\" gadfly:scale=\"10.0\">-9</text>\n",
       "    <text x=\"-11.48\" y=\"84.39\" text-anchor=\"middle\" visibility=\"hidden\" gadfly:scale=\"10.0\">-8</text>\n",
       "    <text x=\"-7.33\" y=\"84.39\" text-anchor=\"middle\" visibility=\"hidden\" gadfly:scale=\"10.0\">-7</text>\n",
       "    <text x=\"-3.18\" y=\"84.39\" text-anchor=\"middle\" visibility=\"hidden\" gadfly:scale=\"10.0\">-6</text>\n",
       "    <text x=\"0.98\" y=\"84.39\" text-anchor=\"middle\" visibility=\"hidden\" gadfly:scale=\"10.0\">-5</text>\n",
       "    <text x=\"5.13\" y=\"84.39\" text-anchor=\"middle\" visibility=\"hidden\" gadfly:scale=\"10.0\">-4</text>\n",
       "    <text x=\"9.28\" y=\"84.39\" text-anchor=\"middle\" visibility=\"hidden\" gadfly:scale=\"10.0\">-3</text>\n",
       "    <text x=\"13.44\" y=\"84.39\" text-anchor=\"middle\" visibility=\"hidden\" gadfly:scale=\"10.0\">-2</text>\n",
       "    <text x=\"17.59\" y=\"84.39\" text-anchor=\"middle\" visibility=\"hidden\" gadfly:scale=\"10.0\">-1</text>\n",
       "    <text x=\"21.75\" y=\"84.39\" text-anchor=\"middle\" visibility=\"hidden\" gadfly:scale=\"10.0\">0</text>\n",
       "    <text x=\"25.9\" y=\"84.39\" text-anchor=\"middle\" visibility=\"hidden\" gadfly:scale=\"10.0\">1</text>\n",
       "    <text x=\"30.05\" y=\"84.39\" text-anchor=\"middle\" visibility=\"hidden\" gadfly:scale=\"10.0\">2</text>\n",
       "    <text x=\"34.21\" y=\"84.39\" text-anchor=\"middle\" visibility=\"hidden\" gadfly:scale=\"10.0\">3</text>\n",
       "    <text x=\"38.36\" y=\"84.39\" text-anchor=\"middle\" visibility=\"hidden\" gadfly:scale=\"10.0\">4</text>\n",
       "    <text x=\"42.51\" y=\"84.39\" text-anchor=\"middle\" visibility=\"hidden\" gadfly:scale=\"10.0\">5</text>\n",
       "    <text x=\"46.67\" y=\"84.39\" text-anchor=\"middle\" visibility=\"hidden\" gadfly:scale=\"10.0\">6</text>\n",
       "    <text x=\"50.82\" y=\"84.39\" text-anchor=\"middle\" visibility=\"hidden\" gadfly:scale=\"10.0\">7</text>\n",
       "    <text x=\"54.97\" y=\"84.39\" text-anchor=\"middle\" visibility=\"hidden\" gadfly:scale=\"10.0\">8</text>\n",
       "    <text x=\"59.13\" y=\"84.39\" text-anchor=\"middle\" visibility=\"hidden\" gadfly:scale=\"10.0\">9</text>\n",
       "    <text x=\"63.28\" y=\"84.39\" text-anchor=\"middle\" visibility=\"hidden\" gadfly:scale=\"10.0\">10</text>\n",
       "    <text x=\"67.43\" y=\"84.39\" text-anchor=\"middle\" visibility=\"hidden\" gadfly:scale=\"10.0\">11</text>\n",
       "    <text x=\"71.59\" y=\"84.39\" text-anchor=\"middle\" visibility=\"hidden\" gadfly:scale=\"10.0\">12</text>\n",
       "    <text x=\"75.74\" y=\"84.39\" text-anchor=\"middle\" visibility=\"hidden\" gadfly:scale=\"10.0\">13</text>\n",
       "    <text x=\"79.9\" y=\"84.39\" text-anchor=\"middle\" visibility=\"hidden\" gadfly:scale=\"10.0\">14</text>\n",
       "    <text x=\"84.05\" y=\"84.39\" text-anchor=\"middle\" visibility=\"hidden\" gadfly:scale=\"10.0\">15</text>\n",
       "    <text x=\"88.2\" y=\"84.39\" text-anchor=\"middle\" visibility=\"hidden\" gadfly:scale=\"10.0\">16</text>\n",
       "    <text x=\"92.36\" y=\"84.39\" text-anchor=\"middle\" visibility=\"hidden\" gadfly:scale=\"10.0\">17</text>\n",
       "    <text x=\"96.51\" y=\"84.39\" text-anchor=\"middle\" visibility=\"hidden\" gadfly:scale=\"10.0\">18</text>\n",
       "    <text x=\"100.66\" y=\"84.39\" text-anchor=\"middle\" visibility=\"hidden\" gadfly:scale=\"10.0\">19</text>\n",
       "    <text x=\"104.82\" y=\"84.39\" text-anchor=\"middle\" visibility=\"hidden\" gadfly:scale=\"10.0\">20</text>\n",
       "    <text x=\"108.97\" y=\"84.39\" text-anchor=\"middle\" visibility=\"hidden\" gadfly:scale=\"10.0\">21</text>\n",
       "    <text x=\"113.12\" y=\"84.39\" text-anchor=\"middle\" visibility=\"hidden\" gadfly:scale=\"10.0\">22</text>\n",
       "    <text x=\"117.28\" y=\"84.39\" text-anchor=\"middle\" visibility=\"hidden\" gadfly:scale=\"10.0\">23</text>\n",
       "    <text x=\"121.43\" y=\"84.39\" text-anchor=\"middle\" visibility=\"hidden\" gadfly:scale=\"10.0\">24</text>\n",
       "    <text x=\"125.58\" y=\"84.39\" text-anchor=\"middle\" visibility=\"hidden\" gadfly:scale=\"10.0\">25</text>\n",
       "    <text x=\"129.74\" y=\"84.39\" text-anchor=\"middle\" visibility=\"hidden\" gadfly:scale=\"10.0\">26</text>\n",
       "    <text x=\"133.89\" y=\"84.39\" text-anchor=\"middle\" visibility=\"hidden\" gadfly:scale=\"10.0\">27</text>\n",
       "    <text x=\"138.05\" y=\"84.39\" text-anchor=\"middle\" visibility=\"hidden\" gadfly:scale=\"10.0\">28</text>\n",
       "    <text x=\"142.2\" y=\"84.39\" text-anchor=\"middle\" visibility=\"hidden\" gadfly:scale=\"10.0\">29</text>\n",
       "    <text x=\"146.35\" y=\"84.39\" text-anchor=\"middle\" visibility=\"hidden\" gadfly:scale=\"10.0\">30</text>\n",
       "    <text x=\"150.51\" y=\"84.39\" text-anchor=\"middle\" visibility=\"hidden\" gadfly:scale=\"10.0\">31</text>\n",
       "    <text x=\"154.66\" y=\"84.39\" text-anchor=\"middle\" visibility=\"hidden\" gadfly:scale=\"10.0\">32</text>\n",
       "    <text x=\"158.81\" y=\"84.39\" text-anchor=\"middle\" visibility=\"hidden\" gadfly:scale=\"10.0\">33</text>\n",
       "    <text x=\"162.97\" y=\"84.39\" text-anchor=\"middle\" visibility=\"hidden\" gadfly:scale=\"10.0\">34</text>\n",
       "    <text x=\"167.12\" y=\"84.39\" text-anchor=\"middle\" visibility=\"hidden\" gadfly:scale=\"10.0\">35</text>\n",
       "    <text x=\"171.27\" y=\"84.39\" text-anchor=\"middle\" visibility=\"hidden\" gadfly:scale=\"10.0\">36</text>\n",
       "    <text x=\"175.43\" y=\"84.39\" text-anchor=\"middle\" visibility=\"hidden\" gadfly:scale=\"10.0\">37</text>\n",
       "    <text x=\"179.58\" y=\"84.39\" text-anchor=\"middle\" visibility=\"hidden\" gadfly:scale=\"10.0\">38</text>\n",
       "    <text x=\"183.73\" y=\"84.39\" text-anchor=\"middle\" visibility=\"hidden\" gadfly:scale=\"10.0\">39</text>\n",
       "    <text x=\"187.89\" y=\"84.39\" text-anchor=\"middle\" visibility=\"hidden\" gadfly:scale=\"10.0\">40</text>\n",
       "    <text x=\"192.04\" y=\"84.39\" text-anchor=\"middle\" visibility=\"hidden\" gadfly:scale=\"10.0\">41</text>\n",
       "    <text x=\"196.2\" y=\"84.39\" text-anchor=\"middle\" visibility=\"hidden\" gadfly:scale=\"10.0\">42</text>\n",
       "    <text x=\"200.35\" y=\"84.39\" text-anchor=\"middle\" visibility=\"hidden\" gadfly:scale=\"10.0\">43</text>\n",
       "    <text x=\"204.5\" y=\"84.39\" text-anchor=\"middle\" visibility=\"hidden\" gadfly:scale=\"10.0\">44</text>\n",
       "    <text x=\"208.66\" y=\"84.39\" text-anchor=\"middle\" visibility=\"hidden\" gadfly:scale=\"10.0\">45</text>\n",
       "    <text x=\"212.81\" y=\"84.39\" text-anchor=\"middle\" visibility=\"hidden\" gadfly:scale=\"10.0\">46</text>\n",
       "    <text x=\"216.96\" y=\"84.39\" text-anchor=\"middle\" visibility=\"hidden\" gadfly:scale=\"10.0\">47</text>\n",
       "    <text x=\"221.12\" y=\"84.39\" text-anchor=\"middle\" visibility=\"hidden\" gadfly:scale=\"10.0\">48</text>\n",
       "    <text x=\"225.27\" y=\"84.39\" text-anchor=\"middle\" visibility=\"hidden\" gadfly:scale=\"10.0\">49</text>\n",
       "    <text x=\"229.42\" y=\"84.39\" text-anchor=\"middle\" visibility=\"hidden\" gadfly:scale=\"10.0\">50</text>\n",
       "    <text x=\"-82.09\" y=\"84.39\" text-anchor=\"middle\" visibility=\"hidden\" gadfly:scale=\"0.5\">-25</text>\n",
       "    <text x=\"21.75\" y=\"84.39\" text-anchor=\"middle\" visibility=\"hidden\" gadfly:scale=\"0.5\">0</text>\n",
       "    <text x=\"125.58\" y=\"84.39\" text-anchor=\"middle\" visibility=\"hidden\" gadfly:scale=\"0.5\">25</text>\n",
       "    <text x=\"229.42\" y=\"84.39\" text-anchor=\"middle\" visibility=\"hidden\" gadfly:scale=\"0.5\">50</text>\n",
       "    <text x=\"-86.25\" y=\"84.39\" text-anchor=\"middle\" visibility=\"hidden\" gadfly:scale=\"5.0\">-26</text>\n",
       "    <text x=\"-77.94\" y=\"84.39\" text-anchor=\"middle\" visibility=\"hidden\" gadfly:scale=\"5.0\">-24</text>\n",
       "    <text x=\"-69.63\" y=\"84.39\" text-anchor=\"middle\" visibility=\"hidden\" gadfly:scale=\"5.0\">-22</text>\n",
       "    <text x=\"-61.33\" y=\"84.39\" text-anchor=\"middle\" visibility=\"hidden\" gadfly:scale=\"5.0\">-20</text>\n",
       "    <text x=\"-53.02\" y=\"84.39\" text-anchor=\"middle\" visibility=\"hidden\" gadfly:scale=\"5.0\">-18</text>\n",
       "    <text x=\"-44.71\" y=\"84.39\" text-anchor=\"middle\" visibility=\"hidden\" gadfly:scale=\"5.0\">-16</text>\n",
       "    <text x=\"-36.41\" y=\"84.39\" text-anchor=\"middle\" visibility=\"hidden\" gadfly:scale=\"5.0\">-14</text>\n",
       "    <text x=\"-28.1\" y=\"84.39\" text-anchor=\"middle\" visibility=\"hidden\" gadfly:scale=\"5.0\">-12</text>\n",
       "    <text x=\"-19.79\" y=\"84.39\" text-anchor=\"middle\" visibility=\"hidden\" gadfly:scale=\"5.0\">-10</text>\n",
       "    <text x=\"-11.48\" y=\"84.39\" text-anchor=\"middle\" visibility=\"hidden\" gadfly:scale=\"5.0\">-8</text>\n",
       "    <text x=\"-3.18\" y=\"84.39\" text-anchor=\"middle\" visibility=\"hidden\" gadfly:scale=\"5.0\">-6</text>\n",
       "    <text x=\"5.13\" y=\"84.39\" text-anchor=\"middle\" visibility=\"hidden\" gadfly:scale=\"5.0\">-4</text>\n",
       "    <text x=\"13.44\" y=\"84.39\" text-anchor=\"middle\" visibility=\"hidden\" gadfly:scale=\"5.0\">-2</text>\n",
       "    <text x=\"21.75\" y=\"84.39\" text-anchor=\"middle\" visibility=\"hidden\" gadfly:scale=\"5.0\">0</text>\n",
       "    <text x=\"30.05\" y=\"84.39\" text-anchor=\"middle\" visibility=\"hidden\" gadfly:scale=\"5.0\">2</text>\n",
       "    <text x=\"38.36\" y=\"84.39\" text-anchor=\"middle\" visibility=\"hidden\" gadfly:scale=\"5.0\">4</text>\n",
       "    <text x=\"46.67\" y=\"84.39\" text-anchor=\"middle\" visibility=\"hidden\" gadfly:scale=\"5.0\">6</text>\n",
       "    <text x=\"54.97\" y=\"84.39\" text-anchor=\"middle\" visibility=\"hidden\" gadfly:scale=\"5.0\">8</text>\n",
       "    <text x=\"63.28\" y=\"84.39\" text-anchor=\"middle\" visibility=\"hidden\" gadfly:scale=\"5.0\">10</text>\n",
       "    <text x=\"71.59\" y=\"84.39\" text-anchor=\"middle\" visibility=\"hidden\" gadfly:scale=\"5.0\">12</text>\n",
       "    <text x=\"79.9\" y=\"84.39\" text-anchor=\"middle\" visibility=\"hidden\" gadfly:scale=\"5.0\">14</text>\n",
       "    <text x=\"88.2\" y=\"84.39\" text-anchor=\"middle\" visibility=\"hidden\" gadfly:scale=\"5.0\">16</text>\n",
       "    <text x=\"96.51\" y=\"84.39\" text-anchor=\"middle\" visibility=\"hidden\" gadfly:scale=\"5.0\">18</text>\n",
       "    <text x=\"104.82\" y=\"84.39\" text-anchor=\"middle\" visibility=\"hidden\" gadfly:scale=\"5.0\">20</text>\n",
       "    <text x=\"113.12\" y=\"84.39\" text-anchor=\"middle\" visibility=\"hidden\" gadfly:scale=\"5.0\">22</text>\n",
       "    <text x=\"121.43\" y=\"84.39\" text-anchor=\"middle\" visibility=\"hidden\" gadfly:scale=\"5.0\">24</text>\n",
       "    <text x=\"129.74\" y=\"84.39\" text-anchor=\"middle\" visibility=\"hidden\" gadfly:scale=\"5.0\">26</text>\n",
       "    <text x=\"138.05\" y=\"84.39\" text-anchor=\"middle\" visibility=\"hidden\" gadfly:scale=\"5.0\">28</text>\n",
       "    <text x=\"146.35\" y=\"84.39\" text-anchor=\"middle\" visibility=\"hidden\" gadfly:scale=\"5.0\">30</text>\n",
       "    <text x=\"154.66\" y=\"84.39\" text-anchor=\"middle\" visibility=\"hidden\" gadfly:scale=\"5.0\">32</text>\n",
       "    <text x=\"162.97\" y=\"84.39\" text-anchor=\"middle\" visibility=\"hidden\" gadfly:scale=\"5.0\">34</text>\n",
       "    <text x=\"171.27\" y=\"84.39\" text-anchor=\"middle\" visibility=\"hidden\" gadfly:scale=\"5.0\">36</text>\n",
       "    <text x=\"179.58\" y=\"84.39\" text-anchor=\"middle\" visibility=\"hidden\" gadfly:scale=\"5.0\">38</text>\n",
       "    <text x=\"187.89\" y=\"84.39\" text-anchor=\"middle\" visibility=\"hidden\" gadfly:scale=\"5.0\">40</text>\n",
       "    <text x=\"196.2\" y=\"84.39\" text-anchor=\"middle\" visibility=\"hidden\" gadfly:scale=\"5.0\">42</text>\n",
       "    <text x=\"204.5\" y=\"84.39\" text-anchor=\"middle\" visibility=\"hidden\" gadfly:scale=\"5.0\">44</text>\n",
       "    <text x=\"212.81\" y=\"84.39\" text-anchor=\"middle\" visibility=\"hidden\" gadfly:scale=\"5.0\">46</text>\n",
       "    <text x=\"221.12\" y=\"84.39\" text-anchor=\"middle\" visibility=\"hidden\" gadfly:scale=\"5.0\">48</text>\n",
       "    <text x=\"229.42\" y=\"84.39\" text-anchor=\"middle\" visibility=\"hidden\" gadfly:scale=\"5.0\">50</text>\n",
       "  </g>\n",
       "  <g class=\"guide colorkey\" id=\"fig-dfc43a730cdf40b7b9f453f347ddd4be-element-4\">\n",
       "    <g fill=\"#4C404B\" font-size=\"2.82\" font-family=\"'PT Sans','Helvetica Neue','Helvetica',sans-serif\" id=\"fig-dfc43a730cdf40b7b9f453f347ddd4be-element-5\">\n",
       "      <text x=\"132.05\" y=\"42.86\" dy=\"0.35em\" id=\"fig-dfc43a730cdf40b7b9f453f347ddd4be-element-6\" class=\"color_f1\">f<tspan style=\"dominant-baseline:inherit\" dy=\"0.6em\" font-size=\"83%\">1</tspan><tspan dy=\"-0.498000em\"></tspan></text>\n",
       "      <text x=\"132.05\" y=\"47.8\" dy=\"0.35em\" id=\"fig-dfc43a730cdf40b7b9f453f347ddd4be-element-7\" class=\"color_f2\">f<tspan style=\"dominant-baseline:inherit\" dy=\"0.6em\" font-size=\"83%\">2</tspan><tspan dy=\"-0.498000em\"></tspan></text>\n",
       "    </g>\n",
       "    <g stroke=\"#000000\" stroke-opacity=\"0.000\" id=\"fig-dfc43a730cdf40b7b9f453f347ddd4be-element-8\">\n",
       "      <rect x=\"128.58\" y=\"41.62\" width=\"2.47\" height=\"2.47\" id=\"fig-dfc43a730cdf40b7b9f453f347ddd4be-element-9\" class=\"color_f1\" fill=\"#00BFFF\"/>\n",
       "      <rect x=\"128.58\" y=\"46.56\" width=\"2.47\" height=\"2.47\" id=\"fig-dfc43a730cdf40b7b9f453f347ddd4be-element-10\" class=\"color_f2\" fill=\"#D4CA3A\"/>\n",
       "    </g>\n",
       "    <g fill=\"#362A35\" font-size=\"3.88\" font-family=\"'PT Sans','Helvetica Neue','Helvetica',sans-serif\" stroke=\"#000000\" stroke-opacity=\"0.000\" id=\"fig-dfc43a730cdf40b7b9f453f347ddd4be-element-11\">\n",
       "      <text x=\"128.58\" y=\"37.72\" id=\"fig-dfc43a730cdf40b7b9f453f347ddd4be-element-12\">Color</text>\n",
       "    </g>\n",
       "  </g>\n",
       "  <g clip-path=\"url(#fig-dfc43a730cdf40b7b9f453f347ddd4be-element-14)\" id=\"fig-dfc43a730cdf40b7b9f453f347ddd4be-element-13\">\n",
       "    <g pointer-events=\"visible\" opacity=\"1\" fill=\"#000000\" fill-opacity=\"0.000\" stroke=\"#000000\" stroke-opacity=\"0.000\" class=\"guide background\" id=\"fig-dfc43a730cdf40b7b9f453f347ddd4be-element-15\">\n",
       "      <rect x=\"19.75\" y=\"5\" width=\"107.84\" height=\"75.72\" id=\"fig-dfc43a730cdf40b7b9f453f347ddd4be-element-16\"/>\n",
       "    </g>\n",
       "    <g class=\"guide ygridlines xfixed\" stroke-dasharray=\"0.5,0.5\" stroke-width=\"0.2\" stroke=\"#D0D0E0\" id=\"fig-dfc43a730cdf40b7b9f453f347ddd4be-element-17\">\n",
       "      <path fill=\"none\" d=\"M19.75,168.36 L 127.58 168.36\" id=\"fig-dfc43a730cdf40b7b9f453f347ddd4be-element-18\" visibility=\"hidden\" gadfly:scale=\"1.0\"/>\n",
       "      <path fill=\"none\" d=\"M19.75,150.43 L 127.58 150.43\" id=\"fig-dfc43a730cdf40b7b9f453f347ddd4be-element-19\" visibility=\"hidden\" gadfly:scale=\"1.0\"/>\n",
       "      <path fill=\"none\" d=\"M19.75,132.5 L 127.58 132.5\" id=\"fig-dfc43a730cdf40b7b9f453f347ddd4be-element-20\" visibility=\"hidden\" gadfly:scale=\"1.0\"/>\n",
       "      <path fill=\"none\" d=\"M19.75,114.57 L 127.58 114.57\" id=\"fig-dfc43a730cdf40b7b9f453f347ddd4be-element-21\" visibility=\"hidden\" gadfly:scale=\"1.0\"/>\n",
       "      <path fill=\"none\" d=\"M19.75,96.64 L 127.58 96.64\" id=\"fig-dfc43a730cdf40b7b9f453f347ddd4be-element-22\" visibility=\"hidden\" gadfly:scale=\"1.0\"/>\n",
       "      <path fill=\"none\" d=\"M19.75,78.71 L 127.58 78.71\" id=\"fig-dfc43a730cdf40b7b9f453f347ddd4be-element-23\" visibility=\"visible\" gadfly:scale=\"1.0\"/>\n",
       "      <path fill=\"none\" d=\"M19.75,60.79 L 127.58 60.79\" id=\"fig-dfc43a730cdf40b7b9f453f347ddd4be-element-24\" visibility=\"visible\" gadfly:scale=\"1.0\"/>\n",
       "      <path fill=\"none\" d=\"M19.75,42.86 L 127.58 42.86\" id=\"fig-dfc43a730cdf40b7b9f453f347ddd4be-element-25\" visibility=\"visible\" gadfly:scale=\"1.0\"/>\n",
       "      <path fill=\"none\" d=\"M19.75,24.93 L 127.58 24.93\" id=\"fig-dfc43a730cdf40b7b9f453f347ddd4be-element-26\" visibility=\"visible\" gadfly:scale=\"1.0\"/>\n",
       "      <path fill=\"none\" d=\"M19.75,7 L 127.58 7\" id=\"fig-dfc43a730cdf40b7b9f453f347ddd4be-element-27\" visibility=\"visible\" gadfly:scale=\"1.0\"/>\n",
       "      <path fill=\"none\" d=\"M19.75,-10.93 L 127.58 -10.93\" id=\"fig-dfc43a730cdf40b7b9f453f347ddd4be-element-28\" visibility=\"hidden\" gadfly:scale=\"1.0\"/>\n",
       "      <path fill=\"none\" d=\"M19.75,-28.86 L 127.58 -28.86\" id=\"fig-dfc43a730cdf40b7b9f453f347ddd4be-element-29\" visibility=\"hidden\" gadfly:scale=\"1.0\"/>\n",
       "      <path fill=\"none\" d=\"M19.75,-46.79 L 127.58 -46.79\" id=\"fig-dfc43a730cdf40b7b9f453f347ddd4be-element-30\" visibility=\"hidden\" gadfly:scale=\"1.0\"/>\n",
       "      <path fill=\"none\" d=\"M19.75,-64.71 L 127.58 -64.71\" id=\"fig-dfc43a730cdf40b7b9f453f347ddd4be-element-31\" visibility=\"hidden\" gadfly:scale=\"1.0\"/>\n",
       "      <path fill=\"none\" d=\"M19.75,-82.64 L 127.58 -82.64\" id=\"fig-dfc43a730cdf40b7b9f453f347ddd4be-element-32\" visibility=\"hidden\" gadfly:scale=\"1.0\"/>\n",
       "      <path fill=\"none\" d=\"M19.75,150.43 L 127.58 150.43\" id=\"fig-dfc43a730cdf40b7b9f453f347ddd4be-element-33\" visibility=\"hidden\" gadfly:scale=\"10.0\"/>\n",
       "      <path fill=\"none\" d=\"M19.75,146.84 L 127.58 146.84\" id=\"fig-dfc43a730cdf40b7b9f453f347ddd4be-element-34\" visibility=\"hidden\" gadfly:scale=\"10.0\"/>\n",
       "      <path fill=\"none\" d=\"M19.75,143.26 L 127.58 143.26\" id=\"fig-dfc43a730cdf40b7b9f453f347ddd4be-element-35\" visibility=\"hidden\" gadfly:scale=\"10.0\"/>\n",
       "      <path fill=\"none\" d=\"M19.75,139.67 L 127.58 139.67\" id=\"fig-dfc43a730cdf40b7b9f453f347ddd4be-element-36\" visibility=\"hidden\" gadfly:scale=\"10.0\"/>\n",
       "      <path fill=\"none\" d=\"M19.75,136.09 L 127.58 136.09\" id=\"fig-dfc43a730cdf40b7b9f453f347ddd4be-element-37\" visibility=\"hidden\" gadfly:scale=\"10.0\"/>\n",
       "      <path fill=\"none\" d=\"M19.75,132.5 L 127.58 132.5\" id=\"fig-dfc43a730cdf40b7b9f453f347ddd4be-element-38\" visibility=\"hidden\" gadfly:scale=\"10.0\"/>\n",
       "      <path fill=\"none\" d=\"M19.75,128.92 L 127.58 128.92\" id=\"fig-dfc43a730cdf40b7b9f453f347ddd4be-element-39\" visibility=\"hidden\" gadfly:scale=\"10.0\"/>\n",
       "      <path fill=\"none\" d=\"M19.75,125.33 L 127.58 125.33\" id=\"fig-dfc43a730cdf40b7b9f453f347ddd4be-element-40\" visibility=\"hidden\" gadfly:scale=\"10.0\"/>\n",
       "      <path fill=\"none\" d=\"M19.75,121.74 L 127.58 121.74\" id=\"fig-dfc43a730cdf40b7b9f453f347ddd4be-element-41\" visibility=\"hidden\" gadfly:scale=\"10.0\"/>\n",
       "      <path fill=\"none\" d=\"M19.75,118.16 L 127.58 118.16\" id=\"fig-dfc43a730cdf40b7b9f453f347ddd4be-element-42\" visibility=\"hidden\" gadfly:scale=\"10.0\"/>\n",
       "      <path fill=\"none\" d=\"M19.75,114.57 L 127.58 114.57\" id=\"fig-dfc43a730cdf40b7b9f453f347ddd4be-element-43\" visibility=\"hidden\" gadfly:scale=\"10.0\"/>\n",
       "      <path fill=\"none\" d=\"M19.75,110.99 L 127.58 110.99\" id=\"fig-dfc43a730cdf40b7b9f453f347ddd4be-element-44\" visibility=\"hidden\" gadfly:scale=\"10.0\"/>\n",
       "      <path fill=\"none\" d=\"M19.75,107.4 L 127.58 107.4\" id=\"fig-dfc43a730cdf40b7b9f453f347ddd4be-element-45\" visibility=\"hidden\" gadfly:scale=\"10.0\"/>\n",
       "      <path fill=\"none\" d=\"M19.75,103.82 L 127.58 103.82\" id=\"fig-dfc43a730cdf40b7b9f453f347ddd4be-element-46\" visibility=\"hidden\" gadfly:scale=\"10.0\"/>\n",
       "      <path fill=\"none\" d=\"M19.75,100.23 L 127.58 100.23\" id=\"fig-dfc43a730cdf40b7b9f453f347ddd4be-element-47\" visibility=\"hidden\" gadfly:scale=\"10.0\"/>\n",
       "      <path fill=\"none\" d=\"M19.75,96.64 L 127.58 96.64\" id=\"fig-dfc43a730cdf40b7b9f453f347ddd4be-element-48\" visibility=\"hidden\" gadfly:scale=\"10.0\"/>\n",
       "      <path fill=\"none\" d=\"M19.75,93.06 L 127.58 93.06\" id=\"fig-dfc43a730cdf40b7b9f453f347ddd4be-element-49\" visibility=\"hidden\" gadfly:scale=\"10.0\"/>\n",
       "      <path fill=\"none\" d=\"M19.75,89.47 L 127.58 89.47\" id=\"fig-dfc43a730cdf40b7b9f453f347ddd4be-element-50\" visibility=\"hidden\" gadfly:scale=\"10.0\"/>\n",
       "      <path fill=\"none\" d=\"M19.75,85.89 L 127.58 85.89\" id=\"fig-dfc43a730cdf40b7b9f453f347ddd4be-element-51\" visibility=\"hidden\" gadfly:scale=\"10.0\"/>\n",
       "      <path fill=\"none\" d=\"M19.75,82.3 L 127.58 82.3\" id=\"fig-dfc43a730cdf40b7b9f453f347ddd4be-element-52\" visibility=\"hidden\" gadfly:scale=\"10.0\"/>\n",
       "      <path fill=\"none\" d=\"M19.75,78.71 L 127.58 78.71\" id=\"fig-dfc43a730cdf40b7b9f453f347ddd4be-element-53\" visibility=\"hidden\" gadfly:scale=\"10.0\"/>\n",
       "      <path fill=\"none\" d=\"M19.75,75.13 L 127.58 75.13\" id=\"fig-dfc43a730cdf40b7b9f453f347ddd4be-element-54\" visibility=\"hidden\" gadfly:scale=\"10.0\"/>\n",
       "      <path fill=\"none\" d=\"M19.75,71.54 L 127.58 71.54\" id=\"fig-dfc43a730cdf40b7b9f453f347ddd4be-element-55\" visibility=\"hidden\" gadfly:scale=\"10.0\"/>\n",
       "      <path fill=\"none\" d=\"M19.75,67.96 L 127.58 67.96\" id=\"fig-dfc43a730cdf40b7b9f453f347ddd4be-element-56\" visibility=\"hidden\" gadfly:scale=\"10.0\"/>\n",
       "      <path fill=\"none\" d=\"M19.75,64.37 L 127.58 64.37\" id=\"fig-dfc43a730cdf40b7b9f453f347ddd4be-element-57\" visibility=\"hidden\" gadfly:scale=\"10.0\"/>\n",
       "      <path fill=\"none\" d=\"M19.75,60.79 L 127.58 60.79\" id=\"fig-dfc43a730cdf40b7b9f453f347ddd4be-element-58\" visibility=\"hidden\" gadfly:scale=\"10.0\"/>\n",
       "      <path fill=\"none\" d=\"M19.75,57.2 L 127.58 57.2\" id=\"fig-dfc43a730cdf40b7b9f453f347ddd4be-element-59\" visibility=\"hidden\" gadfly:scale=\"10.0\"/>\n",
       "      <path fill=\"none\" d=\"M19.75,53.61 L 127.58 53.61\" id=\"fig-dfc43a730cdf40b7b9f453f347ddd4be-element-60\" visibility=\"hidden\" gadfly:scale=\"10.0\"/>\n",
       "      <path fill=\"none\" d=\"M19.75,50.03 L 127.58 50.03\" id=\"fig-dfc43a730cdf40b7b9f453f347ddd4be-element-61\" visibility=\"hidden\" gadfly:scale=\"10.0\"/>\n",
       "      <path fill=\"none\" d=\"M19.75,46.44 L 127.58 46.44\" id=\"fig-dfc43a730cdf40b7b9f453f347ddd4be-element-62\" visibility=\"hidden\" gadfly:scale=\"10.0\"/>\n",
       "      <path fill=\"none\" d=\"M19.75,42.86 L 127.58 42.86\" id=\"fig-dfc43a730cdf40b7b9f453f347ddd4be-element-63\" visibility=\"hidden\" gadfly:scale=\"10.0\"/>\n",
       "      <path fill=\"none\" d=\"M19.75,39.27 L 127.58 39.27\" id=\"fig-dfc43a730cdf40b7b9f453f347ddd4be-element-64\" visibility=\"hidden\" gadfly:scale=\"10.0\"/>\n",
       "      <path fill=\"none\" d=\"M19.75,35.69 L 127.58 35.69\" id=\"fig-dfc43a730cdf40b7b9f453f347ddd4be-element-65\" visibility=\"hidden\" gadfly:scale=\"10.0\"/>\n",
       "      <path fill=\"none\" d=\"M19.75,32.1 L 127.58 32.1\" id=\"fig-dfc43a730cdf40b7b9f453f347ddd4be-element-66\" visibility=\"hidden\" gadfly:scale=\"10.0\"/>\n",
       "      <path fill=\"none\" d=\"M19.75,28.51 L 127.58 28.51\" id=\"fig-dfc43a730cdf40b7b9f453f347ddd4be-element-67\" visibility=\"hidden\" gadfly:scale=\"10.0\"/>\n",
       "      <path fill=\"none\" d=\"M19.75,24.93 L 127.58 24.93\" id=\"fig-dfc43a730cdf40b7b9f453f347ddd4be-element-68\" visibility=\"hidden\" gadfly:scale=\"10.0\"/>\n",
       "      <path fill=\"none\" d=\"M19.75,21.34 L 127.58 21.34\" id=\"fig-dfc43a730cdf40b7b9f453f347ddd4be-element-69\" visibility=\"hidden\" gadfly:scale=\"10.0\"/>\n",
       "      <path fill=\"none\" d=\"M19.75,17.76 L 127.58 17.76\" id=\"fig-dfc43a730cdf40b7b9f453f347ddd4be-element-70\" visibility=\"hidden\" gadfly:scale=\"10.0\"/>\n",
       "      <path fill=\"none\" d=\"M19.75,14.17 L 127.58 14.17\" id=\"fig-dfc43a730cdf40b7b9f453f347ddd4be-element-71\" visibility=\"hidden\" gadfly:scale=\"10.0\"/>\n",
       "      <path fill=\"none\" d=\"M19.75,10.59 L 127.58 10.59\" id=\"fig-dfc43a730cdf40b7b9f453f347ddd4be-element-72\" visibility=\"hidden\" gadfly:scale=\"10.0\"/>\n",
       "      <path fill=\"none\" d=\"M19.75,7 L 127.58 7\" id=\"fig-dfc43a730cdf40b7b9f453f347ddd4be-element-73\" visibility=\"hidden\" gadfly:scale=\"10.0\"/>\n",
       "      <path fill=\"none\" d=\"M19.75,3.41 L 127.58 3.41\" id=\"fig-dfc43a730cdf40b7b9f453f347ddd4be-element-74\" visibility=\"hidden\" gadfly:scale=\"10.0\"/>\n",
       "      <path fill=\"none\" d=\"M19.75,-0.17 L 127.58 -0.17\" id=\"fig-dfc43a730cdf40b7b9f453f347ddd4be-element-75\" visibility=\"hidden\" gadfly:scale=\"10.0\"/>\n",
       "      <path fill=\"none\" d=\"M19.75,-3.76 L 127.58 -3.76\" id=\"fig-dfc43a730cdf40b7b9f453f347ddd4be-element-76\" visibility=\"hidden\" gadfly:scale=\"10.0\"/>\n",
       "      <path fill=\"none\" d=\"M19.75,-7.34 L 127.58 -7.34\" id=\"fig-dfc43a730cdf40b7b9f453f347ddd4be-element-77\" visibility=\"hidden\" gadfly:scale=\"10.0\"/>\n",
       "      <path fill=\"none\" d=\"M19.75,-10.93 L 127.58 -10.93\" id=\"fig-dfc43a730cdf40b7b9f453f347ddd4be-element-78\" visibility=\"hidden\" gadfly:scale=\"10.0\"/>\n",
       "      <path fill=\"none\" d=\"M19.75,-14.51 L 127.58 -14.51\" id=\"fig-dfc43a730cdf40b7b9f453f347ddd4be-element-79\" visibility=\"hidden\" gadfly:scale=\"10.0\"/>\n",
       "      <path fill=\"none\" d=\"M19.75,-18.1 L 127.58 -18.1\" id=\"fig-dfc43a730cdf40b7b9f453f347ddd4be-element-80\" visibility=\"hidden\" gadfly:scale=\"10.0\"/>\n",
       "      <path fill=\"none\" d=\"M19.75,-21.69 L 127.58 -21.69\" id=\"fig-dfc43a730cdf40b7b9f453f347ddd4be-element-81\" visibility=\"hidden\" gadfly:scale=\"10.0\"/>\n",
       "      <path fill=\"none\" d=\"M19.75,-25.27 L 127.58 -25.27\" id=\"fig-dfc43a730cdf40b7b9f453f347ddd4be-element-82\" visibility=\"hidden\" gadfly:scale=\"10.0\"/>\n",
       "      <path fill=\"none\" d=\"M19.75,-28.86 L 127.58 -28.86\" id=\"fig-dfc43a730cdf40b7b9f453f347ddd4be-element-83\" visibility=\"hidden\" gadfly:scale=\"10.0\"/>\n",
       "      <path fill=\"none\" d=\"M19.75,-32.44 L 127.58 -32.44\" id=\"fig-dfc43a730cdf40b7b9f453f347ddd4be-element-84\" visibility=\"hidden\" gadfly:scale=\"10.0\"/>\n",
       "      <path fill=\"none\" d=\"M19.75,-36.03 L 127.58 -36.03\" id=\"fig-dfc43a730cdf40b7b9f453f347ddd4be-element-85\" visibility=\"hidden\" gadfly:scale=\"10.0\"/>\n",
       "      <path fill=\"none\" d=\"M19.75,-39.61 L 127.58 -39.61\" id=\"fig-dfc43a730cdf40b7b9f453f347ddd4be-element-86\" visibility=\"hidden\" gadfly:scale=\"10.0\"/>\n",
       "      <path fill=\"none\" d=\"M19.75,-43.2 L 127.58 -43.2\" id=\"fig-dfc43a730cdf40b7b9f453f347ddd4be-element-87\" visibility=\"hidden\" gadfly:scale=\"10.0\"/>\n",
       "      <path fill=\"none\" d=\"M19.75,-46.79 L 127.58 -46.79\" id=\"fig-dfc43a730cdf40b7b9f453f347ddd4be-element-88\" visibility=\"hidden\" gadfly:scale=\"10.0\"/>\n",
       "      <path fill=\"none\" d=\"M19.75,-50.37 L 127.58 -50.37\" id=\"fig-dfc43a730cdf40b7b9f453f347ddd4be-element-89\" visibility=\"hidden\" gadfly:scale=\"10.0\"/>\n",
       "      <path fill=\"none\" d=\"M19.75,-53.96 L 127.58 -53.96\" id=\"fig-dfc43a730cdf40b7b9f453f347ddd4be-element-90\" visibility=\"hidden\" gadfly:scale=\"10.0\"/>\n",
       "      <path fill=\"none\" d=\"M19.75,-57.54 L 127.58 -57.54\" id=\"fig-dfc43a730cdf40b7b9f453f347ddd4be-element-91\" visibility=\"hidden\" gadfly:scale=\"10.0\"/>\n",
       "      <path fill=\"none\" d=\"M19.75,-61.13 L 127.58 -61.13\" id=\"fig-dfc43a730cdf40b7b9f453f347ddd4be-element-92\" visibility=\"hidden\" gadfly:scale=\"10.0\"/>\n",
       "      <path fill=\"none\" d=\"M19.75,-64.71 L 127.58 -64.71\" id=\"fig-dfc43a730cdf40b7b9f453f347ddd4be-element-93\" visibility=\"hidden\" gadfly:scale=\"10.0\"/>\n",
       "      <path fill=\"none\" d=\"M19.75,186.29 L 127.58 186.29\" id=\"fig-dfc43a730cdf40b7b9f453f347ddd4be-element-94\" visibility=\"hidden\" gadfly:scale=\"0.5\"/>\n",
       "      <path fill=\"none\" d=\"M19.75,114.57 L 127.58 114.57\" id=\"fig-dfc43a730cdf40b7b9f453f347ddd4be-element-95\" visibility=\"hidden\" gadfly:scale=\"0.5\"/>\n",
       "      <path fill=\"none\" d=\"M19.75,42.86 L 127.58 42.86\" id=\"fig-dfc43a730cdf40b7b9f453f347ddd4be-element-96\" visibility=\"hidden\" gadfly:scale=\"0.5\"/>\n",
       "      <path fill=\"none\" d=\"M19.75,-28.86 L 127.58 -28.86\" id=\"fig-dfc43a730cdf40b7b9f453f347ddd4be-element-97\" visibility=\"hidden\" gadfly:scale=\"0.5\"/>\n",
       "      <path fill=\"none\" d=\"M19.75,-100.57 L 127.58 -100.57\" id=\"fig-dfc43a730cdf40b7b9f453f347ddd4be-element-98\" visibility=\"hidden\" gadfly:scale=\"0.5\"/>\n",
       "      <path fill=\"none\" d=\"M19.75,150.43 L 127.58 150.43\" id=\"fig-dfc43a730cdf40b7b9f453f347ddd4be-element-99\" visibility=\"hidden\" gadfly:scale=\"5.0\"/>\n",
       "      <path fill=\"none\" d=\"M19.75,143.26 L 127.58 143.26\" id=\"fig-dfc43a730cdf40b7b9f453f347ddd4be-element-100\" visibility=\"hidden\" gadfly:scale=\"5.0\"/>\n",
       "      <path fill=\"none\" d=\"M19.75,136.09 L 127.58 136.09\" id=\"fig-dfc43a730cdf40b7b9f453f347ddd4be-element-101\" visibility=\"hidden\" gadfly:scale=\"5.0\"/>\n",
       "      <path fill=\"none\" d=\"M19.75,128.92 L 127.58 128.92\" id=\"fig-dfc43a730cdf40b7b9f453f347ddd4be-element-102\" visibility=\"hidden\" gadfly:scale=\"5.0\"/>\n",
       "      <path fill=\"none\" d=\"M19.75,121.74 L 127.58 121.74\" id=\"fig-dfc43a730cdf40b7b9f453f347ddd4be-element-103\" visibility=\"hidden\" gadfly:scale=\"5.0\"/>\n",
       "      <path fill=\"none\" d=\"M19.75,114.57 L 127.58 114.57\" id=\"fig-dfc43a730cdf40b7b9f453f347ddd4be-element-104\" visibility=\"hidden\" gadfly:scale=\"5.0\"/>\n",
       "      <path fill=\"none\" d=\"M19.75,107.4 L 127.58 107.4\" id=\"fig-dfc43a730cdf40b7b9f453f347ddd4be-element-105\" visibility=\"hidden\" gadfly:scale=\"5.0\"/>\n",
       "      <path fill=\"none\" d=\"M19.75,100.23 L 127.58 100.23\" id=\"fig-dfc43a730cdf40b7b9f453f347ddd4be-element-106\" visibility=\"hidden\" gadfly:scale=\"5.0\"/>\n",
       "      <path fill=\"none\" d=\"M19.75,93.06 L 127.58 93.06\" id=\"fig-dfc43a730cdf40b7b9f453f347ddd4be-element-107\" visibility=\"hidden\" gadfly:scale=\"5.0\"/>\n",
       "      <path fill=\"none\" d=\"M19.75,85.89 L 127.58 85.89\" id=\"fig-dfc43a730cdf40b7b9f453f347ddd4be-element-108\" visibility=\"hidden\" gadfly:scale=\"5.0\"/>\n",
       "      <path fill=\"none\" d=\"M19.75,78.71 L 127.58 78.71\" id=\"fig-dfc43a730cdf40b7b9f453f347ddd4be-element-109\" visibility=\"hidden\" gadfly:scale=\"5.0\"/>\n",
       "      <path fill=\"none\" d=\"M19.75,71.54 L 127.58 71.54\" id=\"fig-dfc43a730cdf40b7b9f453f347ddd4be-element-110\" visibility=\"hidden\" gadfly:scale=\"5.0\"/>\n",
       "      <path fill=\"none\" d=\"M19.75,64.37 L 127.58 64.37\" id=\"fig-dfc43a730cdf40b7b9f453f347ddd4be-element-111\" visibility=\"hidden\" gadfly:scale=\"5.0\"/>\n",
       "      <path fill=\"none\" d=\"M19.75,57.2 L 127.58 57.2\" id=\"fig-dfc43a730cdf40b7b9f453f347ddd4be-element-112\" visibility=\"hidden\" gadfly:scale=\"5.0\"/>\n",
       "      <path fill=\"none\" d=\"M19.75,50.03 L 127.58 50.03\" id=\"fig-dfc43a730cdf40b7b9f453f347ddd4be-element-113\" visibility=\"hidden\" gadfly:scale=\"5.0\"/>\n",
       "      <path fill=\"none\" d=\"M19.75,42.86 L 127.58 42.86\" id=\"fig-dfc43a730cdf40b7b9f453f347ddd4be-element-114\" visibility=\"hidden\" gadfly:scale=\"5.0\"/>\n",
       "      <path fill=\"none\" d=\"M19.75,35.69 L 127.58 35.69\" id=\"fig-dfc43a730cdf40b7b9f453f347ddd4be-element-115\" visibility=\"hidden\" gadfly:scale=\"5.0\"/>\n",
       "      <path fill=\"none\" d=\"M19.75,28.51 L 127.58 28.51\" id=\"fig-dfc43a730cdf40b7b9f453f347ddd4be-element-116\" visibility=\"hidden\" gadfly:scale=\"5.0\"/>\n",
       "      <path fill=\"none\" d=\"M19.75,21.34 L 127.58 21.34\" id=\"fig-dfc43a730cdf40b7b9f453f347ddd4be-element-117\" visibility=\"hidden\" gadfly:scale=\"5.0\"/>\n",
       "      <path fill=\"none\" d=\"M19.75,14.17 L 127.58 14.17\" id=\"fig-dfc43a730cdf40b7b9f453f347ddd4be-element-118\" visibility=\"hidden\" gadfly:scale=\"5.0\"/>\n",
       "      <path fill=\"none\" d=\"M19.75,7 L 127.58 7\" id=\"fig-dfc43a730cdf40b7b9f453f347ddd4be-element-119\" visibility=\"hidden\" gadfly:scale=\"5.0\"/>\n",
       "      <path fill=\"none\" d=\"M19.75,-0.17 L 127.58 -0.17\" id=\"fig-dfc43a730cdf40b7b9f453f347ddd4be-element-120\" visibility=\"hidden\" gadfly:scale=\"5.0\"/>\n",
       "      <path fill=\"none\" d=\"M19.75,-7.34 L 127.58 -7.34\" id=\"fig-dfc43a730cdf40b7b9f453f347ddd4be-element-121\" visibility=\"hidden\" gadfly:scale=\"5.0\"/>\n",
       "      <path fill=\"none\" d=\"M19.75,-14.51 L 127.58 -14.51\" id=\"fig-dfc43a730cdf40b7b9f453f347ddd4be-element-122\" visibility=\"hidden\" gadfly:scale=\"5.0\"/>\n",
       "      <path fill=\"none\" d=\"M19.75,-21.69 L 127.58 -21.69\" id=\"fig-dfc43a730cdf40b7b9f453f347ddd4be-element-123\" visibility=\"hidden\" gadfly:scale=\"5.0\"/>\n",
       "      <path fill=\"none\" d=\"M19.75,-28.86 L 127.58 -28.86\" id=\"fig-dfc43a730cdf40b7b9f453f347ddd4be-element-124\" visibility=\"hidden\" gadfly:scale=\"5.0\"/>\n",
       "      <path fill=\"none\" d=\"M19.75,-36.03 L 127.58 -36.03\" id=\"fig-dfc43a730cdf40b7b9f453f347ddd4be-element-125\" visibility=\"hidden\" gadfly:scale=\"5.0\"/>\n",
       "      <path fill=\"none\" d=\"M19.75,-43.2 L 127.58 -43.2\" id=\"fig-dfc43a730cdf40b7b9f453f347ddd4be-element-126\" visibility=\"hidden\" gadfly:scale=\"5.0\"/>\n",
       "      <path fill=\"none\" d=\"M19.75,-50.37 L 127.58 -50.37\" id=\"fig-dfc43a730cdf40b7b9f453f347ddd4be-element-127\" visibility=\"hidden\" gadfly:scale=\"5.0\"/>\n",
       "      <path fill=\"none\" d=\"M19.75,-57.54 L 127.58 -57.54\" id=\"fig-dfc43a730cdf40b7b9f453f347ddd4be-element-128\" visibility=\"hidden\" gadfly:scale=\"5.0\"/>\n",
       "      <path fill=\"none\" d=\"M19.75,-64.71 L 127.58 -64.71\" id=\"fig-dfc43a730cdf40b7b9f453f347ddd4be-element-129\" visibility=\"hidden\" gadfly:scale=\"5.0\"/>\n",
       "    </g>\n",
       "    <g class=\"guide xgridlines yfixed\" stroke-dasharray=\"0.5,0.5\" stroke-width=\"0.2\" stroke=\"#D0D0E0\" id=\"fig-dfc43a730cdf40b7b9f453f347ddd4be-element-130\">\n",
       "      <path fill=\"none\" d=\"M-102.86,5 L -102.86 80.72\" id=\"fig-dfc43a730cdf40b7b9f453f347ddd4be-element-131\" visibility=\"hidden\" gadfly:scale=\"1.0\"/>\n",
       "      <path fill=\"none\" d=\"M-82.09,5 L -82.09 80.72\" id=\"fig-dfc43a730cdf40b7b9f453f347ddd4be-element-132\" visibility=\"hidden\" gadfly:scale=\"1.0\"/>\n",
       "      <path fill=\"none\" d=\"M-61.33,5 L -61.33 80.72\" id=\"fig-dfc43a730cdf40b7b9f453f347ddd4be-element-133\" visibility=\"hidden\" gadfly:scale=\"1.0\"/>\n",
       "      <path fill=\"none\" d=\"M-40.56,5 L -40.56 80.72\" id=\"fig-dfc43a730cdf40b7b9f453f347ddd4be-element-134\" visibility=\"hidden\" gadfly:scale=\"1.0\"/>\n",
       "      <path fill=\"none\" d=\"M-19.79,5 L -19.79 80.72\" id=\"fig-dfc43a730cdf40b7b9f453f347ddd4be-element-135\" visibility=\"hidden\" gadfly:scale=\"1.0\"/>\n",
       "      <path fill=\"none\" d=\"M0.98,5 L 0.98 80.72\" id=\"fig-dfc43a730cdf40b7b9f453f347ddd4be-element-136\" visibility=\"hidden\" gadfly:scale=\"1.0\"/>\n",
       "      <path fill=\"none\" d=\"M21.75,5 L 21.75 80.72\" id=\"fig-dfc43a730cdf40b7b9f453f347ddd4be-element-137\" visibility=\"visible\" gadfly:scale=\"1.0\"/>\n",
       "      <path fill=\"none\" d=\"M42.51,5 L 42.51 80.72\" id=\"fig-dfc43a730cdf40b7b9f453f347ddd4be-element-138\" visibility=\"visible\" gadfly:scale=\"1.0\"/>\n",
       "      <path fill=\"none\" d=\"M63.28,5 L 63.28 80.72\" id=\"fig-dfc43a730cdf40b7b9f453f347ddd4be-element-139\" visibility=\"visible\" gadfly:scale=\"1.0\"/>\n",
       "      <path fill=\"none\" d=\"M84.05,5 L 84.05 80.72\" id=\"fig-dfc43a730cdf40b7b9f453f347ddd4be-element-140\" visibility=\"visible\" gadfly:scale=\"1.0\"/>\n",
       "      <path fill=\"none\" d=\"M104.82,5 L 104.82 80.72\" id=\"fig-dfc43a730cdf40b7b9f453f347ddd4be-element-141\" visibility=\"visible\" gadfly:scale=\"1.0\"/>\n",
       "      <path fill=\"none\" d=\"M125.58,5 L 125.58 80.72\" id=\"fig-dfc43a730cdf40b7b9f453f347ddd4be-element-142\" visibility=\"visible\" gadfly:scale=\"1.0\"/>\n",
       "      <path fill=\"none\" d=\"M146.35,5 L 146.35 80.72\" id=\"fig-dfc43a730cdf40b7b9f453f347ddd4be-element-143\" visibility=\"hidden\" gadfly:scale=\"1.0\"/>\n",
       "      <path fill=\"none\" d=\"M167.12,5 L 167.12 80.72\" id=\"fig-dfc43a730cdf40b7b9f453f347ddd4be-element-144\" visibility=\"hidden\" gadfly:scale=\"1.0\"/>\n",
       "      <path fill=\"none\" d=\"M187.89,5 L 187.89 80.72\" id=\"fig-dfc43a730cdf40b7b9f453f347ddd4be-element-145\" visibility=\"hidden\" gadfly:scale=\"1.0\"/>\n",
       "      <path fill=\"none\" d=\"M208.66,5 L 208.66 80.72\" id=\"fig-dfc43a730cdf40b7b9f453f347ddd4be-element-146\" visibility=\"hidden\" gadfly:scale=\"1.0\"/>\n",
       "      <path fill=\"none\" d=\"M229.42,5 L 229.42 80.72\" id=\"fig-dfc43a730cdf40b7b9f453f347ddd4be-element-147\" visibility=\"hidden\" gadfly:scale=\"1.0\"/>\n",
       "      <path fill=\"none\" d=\"M250.19,5 L 250.19 80.72\" id=\"fig-dfc43a730cdf40b7b9f453f347ddd4be-element-148\" visibility=\"hidden\" gadfly:scale=\"1.0\"/>\n",
       "      <path fill=\"none\" d=\"M-82.09,5 L -82.09 80.72\" id=\"fig-dfc43a730cdf40b7b9f453f347ddd4be-element-149\" visibility=\"hidden\" gadfly:scale=\"10.0\"/>\n",
       "      <path fill=\"none\" d=\"M-77.94,5 L -77.94 80.72\" id=\"fig-dfc43a730cdf40b7b9f453f347ddd4be-element-150\" visibility=\"hidden\" gadfly:scale=\"10.0\"/>\n",
       "      <path fill=\"none\" d=\"M-73.79,5 L -73.79 80.72\" id=\"fig-dfc43a730cdf40b7b9f453f347ddd4be-element-151\" visibility=\"hidden\" gadfly:scale=\"10.0\"/>\n",
       "      <path fill=\"none\" d=\"M-69.63,5 L -69.63 80.72\" id=\"fig-dfc43a730cdf40b7b9f453f347ddd4be-element-152\" visibility=\"hidden\" gadfly:scale=\"10.0\"/>\n",
       "      <path fill=\"none\" d=\"M-65.48,5 L -65.48 80.72\" id=\"fig-dfc43a730cdf40b7b9f453f347ddd4be-element-153\" visibility=\"hidden\" gadfly:scale=\"10.0\"/>\n",
       "      <path fill=\"none\" d=\"M-61.33,5 L -61.33 80.72\" id=\"fig-dfc43a730cdf40b7b9f453f347ddd4be-element-154\" visibility=\"hidden\" gadfly:scale=\"10.0\"/>\n",
       "      <path fill=\"none\" d=\"M-57.17,5 L -57.17 80.72\" id=\"fig-dfc43a730cdf40b7b9f453f347ddd4be-element-155\" visibility=\"hidden\" gadfly:scale=\"10.0\"/>\n",
       "      <path fill=\"none\" d=\"M-53.02,5 L -53.02 80.72\" id=\"fig-dfc43a730cdf40b7b9f453f347ddd4be-element-156\" visibility=\"hidden\" gadfly:scale=\"10.0\"/>\n",
       "      <path fill=\"none\" d=\"M-48.87,5 L -48.87 80.72\" id=\"fig-dfc43a730cdf40b7b9f453f347ddd4be-element-157\" visibility=\"hidden\" gadfly:scale=\"10.0\"/>\n",
       "      <path fill=\"none\" d=\"M-44.71,5 L -44.71 80.72\" id=\"fig-dfc43a730cdf40b7b9f453f347ddd4be-element-158\" visibility=\"hidden\" gadfly:scale=\"10.0\"/>\n",
       "      <path fill=\"none\" d=\"M-40.56,5 L -40.56 80.72\" id=\"fig-dfc43a730cdf40b7b9f453f347ddd4be-element-159\" visibility=\"hidden\" gadfly:scale=\"10.0\"/>\n",
       "      <path fill=\"none\" d=\"M-36.41,5 L -36.41 80.72\" id=\"fig-dfc43a730cdf40b7b9f453f347ddd4be-element-160\" visibility=\"hidden\" gadfly:scale=\"10.0\"/>\n",
       "      <path fill=\"none\" d=\"M-32.25,5 L -32.25 80.72\" id=\"fig-dfc43a730cdf40b7b9f453f347ddd4be-element-161\" visibility=\"hidden\" gadfly:scale=\"10.0\"/>\n",
       "      <path fill=\"none\" d=\"M-28.1,5 L -28.1 80.72\" id=\"fig-dfc43a730cdf40b7b9f453f347ddd4be-element-162\" visibility=\"hidden\" gadfly:scale=\"10.0\"/>\n",
       "      <path fill=\"none\" d=\"M-23.94,5 L -23.94 80.72\" id=\"fig-dfc43a730cdf40b7b9f453f347ddd4be-element-163\" visibility=\"hidden\" gadfly:scale=\"10.0\"/>\n",
       "      <path fill=\"none\" d=\"M-19.79,5 L -19.79 80.72\" id=\"fig-dfc43a730cdf40b7b9f453f347ddd4be-element-164\" visibility=\"hidden\" gadfly:scale=\"10.0\"/>\n",
       "      <path fill=\"none\" d=\"M-15.64,5 L -15.64 80.72\" id=\"fig-dfc43a730cdf40b7b9f453f347ddd4be-element-165\" visibility=\"hidden\" gadfly:scale=\"10.0\"/>\n",
       "      <path fill=\"none\" d=\"M-11.48,5 L -11.48 80.72\" id=\"fig-dfc43a730cdf40b7b9f453f347ddd4be-element-166\" visibility=\"hidden\" gadfly:scale=\"10.0\"/>\n",
       "      <path fill=\"none\" d=\"M-7.33,5 L -7.33 80.72\" id=\"fig-dfc43a730cdf40b7b9f453f347ddd4be-element-167\" visibility=\"hidden\" gadfly:scale=\"10.0\"/>\n",
       "      <path fill=\"none\" d=\"M-3.18,5 L -3.18 80.72\" id=\"fig-dfc43a730cdf40b7b9f453f347ddd4be-element-168\" visibility=\"hidden\" gadfly:scale=\"10.0\"/>\n",
       "      <path fill=\"none\" d=\"M0.98,5 L 0.98 80.72\" id=\"fig-dfc43a730cdf40b7b9f453f347ddd4be-element-169\" visibility=\"hidden\" gadfly:scale=\"10.0\"/>\n",
       "      <path fill=\"none\" d=\"M5.13,5 L 5.13 80.72\" id=\"fig-dfc43a730cdf40b7b9f453f347ddd4be-element-170\" visibility=\"hidden\" gadfly:scale=\"10.0\"/>\n",
       "      <path fill=\"none\" d=\"M9.28,5 L 9.28 80.72\" id=\"fig-dfc43a730cdf40b7b9f453f347ddd4be-element-171\" visibility=\"hidden\" gadfly:scale=\"10.0\"/>\n",
       "      <path fill=\"none\" d=\"M13.44,5 L 13.44 80.72\" id=\"fig-dfc43a730cdf40b7b9f453f347ddd4be-element-172\" visibility=\"hidden\" gadfly:scale=\"10.0\"/>\n",
       "      <path fill=\"none\" d=\"M17.59,5 L 17.59 80.72\" id=\"fig-dfc43a730cdf40b7b9f453f347ddd4be-element-173\" visibility=\"hidden\" gadfly:scale=\"10.0\"/>\n",
       "      <path fill=\"none\" d=\"M21.75,5 L 21.75 80.72\" id=\"fig-dfc43a730cdf40b7b9f453f347ddd4be-element-174\" visibility=\"hidden\" gadfly:scale=\"10.0\"/>\n",
       "      <path fill=\"none\" d=\"M25.9,5 L 25.9 80.72\" id=\"fig-dfc43a730cdf40b7b9f453f347ddd4be-element-175\" visibility=\"hidden\" gadfly:scale=\"10.0\"/>\n",
       "      <path fill=\"none\" d=\"M30.05,5 L 30.05 80.72\" id=\"fig-dfc43a730cdf40b7b9f453f347ddd4be-element-176\" visibility=\"hidden\" gadfly:scale=\"10.0\"/>\n",
       "      <path fill=\"none\" d=\"M34.21,5 L 34.21 80.72\" id=\"fig-dfc43a730cdf40b7b9f453f347ddd4be-element-177\" visibility=\"hidden\" gadfly:scale=\"10.0\"/>\n",
       "      <path fill=\"none\" d=\"M38.36,5 L 38.36 80.72\" id=\"fig-dfc43a730cdf40b7b9f453f347ddd4be-element-178\" visibility=\"hidden\" gadfly:scale=\"10.0\"/>\n",
       "      <path fill=\"none\" d=\"M42.51,5 L 42.51 80.72\" id=\"fig-dfc43a730cdf40b7b9f453f347ddd4be-element-179\" visibility=\"hidden\" gadfly:scale=\"10.0\"/>\n",
       "      <path fill=\"none\" d=\"M46.67,5 L 46.67 80.72\" id=\"fig-dfc43a730cdf40b7b9f453f347ddd4be-element-180\" visibility=\"hidden\" gadfly:scale=\"10.0\"/>\n",
       "      <path fill=\"none\" d=\"M50.82,5 L 50.82 80.72\" id=\"fig-dfc43a730cdf40b7b9f453f347ddd4be-element-181\" visibility=\"hidden\" gadfly:scale=\"10.0\"/>\n",
       "      <path fill=\"none\" d=\"M54.97,5 L 54.97 80.72\" id=\"fig-dfc43a730cdf40b7b9f453f347ddd4be-element-182\" visibility=\"hidden\" gadfly:scale=\"10.0\"/>\n",
       "      <path fill=\"none\" d=\"M59.13,5 L 59.13 80.72\" id=\"fig-dfc43a730cdf40b7b9f453f347ddd4be-element-183\" visibility=\"hidden\" gadfly:scale=\"10.0\"/>\n",
       "      <path fill=\"none\" d=\"M63.28,5 L 63.28 80.72\" id=\"fig-dfc43a730cdf40b7b9f453f347ddd4be-element-184\" visibility=\"hidden\" gadfly:scale=\"10.0\"/>\n",
       "      <path fill=\"none\" d=\"M67.43,5 L 67.43 80.72\" id=\"fig-dfc43a730cdf40b7b9f453f347ddd4be-element-185\" visibility=\"hidden\" gadfly:scale=\"10.0\"/>\n",
       "      <path fill=\"none\" d=\"M71.59,5 L 71.59 80.72\" id=\"fig-dfc43a730cdf40b7b9f453f347ddd4be-element-186\" visibility=\"hidden\" gadfly:scale=\"10.0\"/>\n",
       "      <path fill=\"none\" d=\"M75.74,5 L 75.74 80.72\" id=\"fig-dfc43a730cdf40b7b9f453f347ddd4be-element-187\" visibility=\"hidden\" gadfly:scale=\"10.0\"/>\n",
       "      <path fill=\"none\" d=\"M79.9,5 L 79.9 80.72\" id=\"fig-dfc43a730cdf40b7b9f453f347ddd4be-element-188\" visibility=\"hidden\" gadfly:scale=\"10.0\"/>\n",
       "      <path fill=\"none\" d=\"M84.05,5 L 84.05 80.72\" id=\"fig-dfc43a730cdf40b7b9f453f347ddd4be-element-189\" visibility=\"hidden\" gadfly:scale=\"10.0\"/>\n",
       "      <path fill=\"none\" d=\"M88.2,5 L 88.2 80.72\" id=\"fig-dfc43a730cdf40b7b9f453f347ddd4be-element-190\" visibility=\"hidden\" gadfly:scale=\"10.0\"/>\n",
       "      <path fill=\"none\" d=\"M92.36,5 L 92.36 80.72\" id=\"fig-dfc43a730cdf40b7b9f453f347ddd4be-element-191\" visibility=\"hidden\" gadfly:scale=\"10.0\"/>\n",
       "      <path fill=\"none\" d=\"M96.51,5 L 96.51 80.72\" id=\"fig-dfc43a730cdf40b7b9f453f347ddd4be-element-192\" visibility=\"hidden\" gadfly:scale=\"10.0\"/>\n",
       "      <path fill=\"none\" d=\"M100.66,5 L 100.66 80.72\" id=\"fig-dfc43a730cdf40b7b9f453f347ddd4be-element-193\" visibility=\"hidden\" gadfly:scale=\"10.0\"/>\n",
       "      <path fill=\"none\" d=\"M104.82,5 L 104.82 80.72\" id=\"fig-dfc43a730cdf40b7b9f453f347ddd4be-element-194\" visibility=\"hidden\" gadfly:scale=\"10.0\"/>\n",
       "      <path fill=\"none\" d=\"M108.97,5 L 108.97 80.72\" id=\"fig-dfc43a730cdf40b7b9f453f347ddd4be-element-195\" visibility=\"hidden\" gadfly:scale=\"10.0\"/>\n",
       "      <path fill=\"none\" d=\"M113.12,5 L 113.12 80.72\" id=\"fig-dfc43a730cdf40b7b9f453f347ddd4be-element-196\" visibility=\"hidden\" gadfly:scale=\"10.0\"/>\n",
       "      <path fill=\"none\" d=\"M117.28,5 L 117.28 80.72\" id=\"fig-dfc43a730cdf40b7b9f453f347ddd4be-element-197\" visibility=\"hidden\" gadfly:scale=\"10.0\"/>\n",
       "      <path fill=\"none\" d=\"M121.43,5 L 121.43 80.72\" id=\"fig-dfc43a730cdf40b7b9f453f347ddd4be-element-198\" visibility=\"hidden\" gadfly:scale=\"10.0\"/>\n",
       "      <path fill=\"none\" d=\"M125.58,5 L 125.58 80.72\" id=\"fig-dfc43a730cdf40b7b9f453f347ddd4be-element-199\" visibility=\"hidden\" gadfly:scale=\"10.0\"/>\n",
       "      <path fill=\"none\" d=\"M129.74,5 L 129.74 80.72\" id=\"fig-dfc43a730cdf40b7b9f453f347ddd4be-element-200\" visibility=\"hidden\" gadfly:scale=\"10.0\"/>\n",
       "      <path fill=\"none\" d=\"M133.89,5 L 133.89 80.72\" id=\"fig-dfc43a730cdf40b7b9f453f347ddd4be-element-201\" visibility=\"hidden\" gadfly:scale=\"10.0\"/>\n",
       "      <path fill=\"none\" d=\"M138.05,5 L 138.05 80.72\" id=\"fig-dfc43a730cdf40b7b9f453f347ddd4be-element-202\" visibility=\"hidden\" gadfly:scale=\"10.0\"/>\n",
       "      <path fill=\"none\" d=\"M142.2,5 L 142.2 80.72\" id=\"fig-dfc43a730cdf40b7b9f453f347ddd4be-element-203\" visibility=\"hidden\" gadfly:scale=\"10.0\"/>\n",
       "      <path fill=\"none\" d=\"M146.35,5 L 146.35 80.72\" id=\"fig-dfc43a730cdf40b7b9f453f347ddd4be-element-204\" visibility=\"hidden\" gadfly:scale=\"10.0\"/>\n",
       "      <path fill=\"none\" d=\"M150.51,5 L 150.51 80.72\" id=\"fig-dfc43a730cdf40b7b9f453f347ddd4be-element-205\" visibility=\"hidden\" gadfly:scale=\"10.0\"/>\n",
       "      <path fill=\"none\" d=\"M154.66,5 L 154.66 80.72\" id=\"fig-dfc43a730cdf40b7b9f453f347ddd4be-element-206\" visibility=\"hidden\" gadfly:scale=\"10.0\"/>\n",
       "      <path fill=\"none\" d=\"M158.81,5 L 158.81 80.72\" id=\"fig-dfc43a730cdf40b7b9f453f347ddd4be-element-207\" visibility=\"hidden\" gadfly:scale=\"10.0\"/>\n",
       "      <path fill=\"none\" d=\"M162.97,5 L 162.97 80.72\" id=\"fig-dfc43a730cdf40b7b9f453f347ddd4be-element-208\" visibility=\"hidden\" gadfly:scale=\"10.0\"/>\n",
       "      <path fill=\"none\" d=\"M167.12,5 L 167.12 80.72\" id=\"fig-dfc43a730cdf40b7b9f453f347ddd4be-element-209\" visibility=\"hidden\" gadfly:scale=\"10.0\"/>\n",
       "      <path fill=\"none\" d=\"M171.27,5 L 171.27 80.72\" id=\"fig-dfc43a730cdf40b7b9f453f347ddd4be-element-210\" visibility=\"hidden\" gadfly:scale=\"10.0\"/>\n",
       "      <path fill=\"none\" d=\"M175.43,5 L 175.43 80.72\" id=\"fig-dfc43a730cdf40b7b9f453f347ddd4be-element-211\" visibility=\"hidden\" gadfly:scale=\"10.0\"/>\n",
       "      <path fill=\"none\" d=\"M179.58,5 L 179.58 80.72\" id=\"fig-dfc43a730cdf40b7b9f453f347ddd4be-element-212\" visibility=\"hidden\" gadfly:scale=\"10.0\"/>\n",
       "      <path fill=\"none\" d=\"M183.73,5 L 183.73 80.72\" id=\"fig-dfc43a730cdf40b7b9f453f347ddd4be-element-213\" visibility=\"hidden\" gadfly:scale=\"10.0\"/>\n",
       "      <path fill=\"none\" d=\"M187.89,5 L 187.89 80.72\" id=\"fig-dfc43a730cdf40b7b9f453f347ddd4be-element-214\" visibility=\"hidden\" gadfly:scale=\"10.0\"/>\n",
       "      <path fill=\"none\" d=\"M192.04,5 L 192.04 80.72\" id=\"fig-dfc43a730cdf40b7b9f453f347ddd4be-element-215\" visibility=\"hidden\" gadfly:scale=\"10.0\"/>\n",
       "      <path fill=\"none\" d=\"M196.2,5 L 196.2 80.72\" id=\"fig-dfc43a730cdf40b7b9f453f347ddd4be-element-216\" visibility=\"hidden\" gadfly:scale=\"10.0\"/>\n",
       "      <path fill=\"none\" d=\"M200.35,5 L 200.35 80.72\" id=\"fig-dfc43a730cdf40b7b9f453f347ddd4be-element-217\" visibility=\"hidden\" gadfly:scale=\"10.0\"/>\n",
       "      <path fill=\"none\" d=\"M204.5,5 L 204.5 80.72\" id=\"fig-dfc43a730cdf40b7b9f453f347ddd4be-element-218\" visibility=\"hidden\" gadfly:scale=\"10.0\"/>\n",
       "      <path fill=\"none\" d=\"M208.66,5 L 208.66 80.72\" id=\"fig-dfc43a730cdf40b7b9f453f347ddd4be-element-219\" visibility=\"hidden\" gadfly:scale=\"10.0\"/>\n",
       "      <path fill=\"none\" d=\"M212.81,5 L 212.81 80.72\" id=\"fig-dfc43a730cdf40b7b9f453f347ddd4be-element-220\" visibility=\"hidden\" gadfly:scale=\"10.0\"/>\n",
       "      <path fill=\"none\" d=\"M216.96,5 L 216.96 80.72\" id=\"fig-dfc43a730cdf40b7b9f453f347ddd4be-element-221\" visibility=\"hidden\" gadfly:scale=\"10.0\"/>\n",
       "      <path fill=\"none\" d=\"M221.12,5 L 221.12 80.72\" id=\"fig-dfc43a730cdf40b7b9f453f347ddd4be-element-222\" visibility=\"hidden\" gadfly:scale=\"10.0\"/>\n",
       "      <path fill=\"none\" d=\"M225.27,5 L 225.27 80.72\" id=\"fig-dfc43a730cdf40b7b9f453f347ddd4be-element-223\" visibility=\"hidden\" gadfly:scale=\"10.0\"/>\n",
       "      <path fill=\"none\" d=\"M229.42,5 L 229.42 80.72\" id=\"fig-dfc43a730cdf40b7b9f453f347ddd4be-element-224\" visibility=\"hidden\" gadfly:scale=\"10.0\"/>\n",
       "      <path fill=\"none\" d=\"M-82.09,5 L -82.09 80.72\" id=\"fig-dfc43a730cdf40b7b9f453f347ddd4be-element-225\" visibility=\"hidden\" gadfly:scale=\"0.5\"/>\n",
       "      <path fill=\"none\" d=\"M21.75,5 L 21.75 80.72\" id=\"fig-dfc43a730cdf40b7b9f453f347ddd4be-element-226\" visibility=\"hidden\" gadfly:scale=\"0.5\"/>\n",
       "      <path fill=\"none\" d=\"M125.58,5 L 125.58 80.72\" id=\"fig-dfc43a730cdf40b7b9f453f347ddd4be-element-227\" visibility=\"hidden\" gadfly:scale=\"0.5\"/>\n",
       "      <path fill=\"none\" d=\"M229.42,5 L 229.42 80.72\" id=\"fig-dfc43a730cdf40b7b9f453f347ddd4be-element-228\" visibility=\"hidden\" gadfly:scale=\"0.5\"/>\n",
       "      <path fill=\"none\" d=\"M-86.25,5 L -86.25 80.72\" id=\"fig-dfc43a730cdf40b7b9f453f347ddd4be-element-229\" visibility=\"hidden\" gadfly:scale=\"5.0\"/>\n",
       "      <path fill=\"none\" d=\"M-77.94,5 L -77.94 80.72\" id=\"fig-dfc43a730cdf40b7b9f453f347ddd4be-element-230\" visibility=\"hidden\" gadfly:scale=\"5.0\"/>\n",
       "      <path fill=\"none\" d=\"M-69.63,5 L -69.63 80.72\" id=\"fig-dfc43a730cdf40b7b9f453f347ddd4be-element-231\" visibility=\"hidden\" gadfly:scale=\"5.0\"/>\n",
       "      <path fill=\"none\" d=\"M-61.33,5 L -61.33 80.72\" id=\"fig-dfc43a730cdf40b7b9f453f347ddd4be-element-232\" visibility=\"hidden\" gadfly:scale=\"5.0\"/>\n",
       "      <path fill=\"none\" d=\"M-53.02,5 L -53.02 80.72\" id=\"fig-dfc43a730cdf40b7b9f453f347ddd4be-element-233\" visibility=\"hidden\" gadfly:scale=\"5.0\"/>\n",
       "      <path fill=\"none\" d=\"M-44.71,5 L -44.71 80.72\" id=\"fig-dfc43a730cdf40b7b9f453f347ddd4be-element-234\" visibility=\"hidden\" gadfly:scale=\"5.0\"/>\n",
       "      <path fill=\"none\" d=\"M-36.41,5 L -36.41 80.72\" id=\"fig-dfc43a730cdf40b7b9f453f347ddd4be-element-235\" visibility=\"hidden\" gadfly:scale=\"5.0\"/>\n",
       "      <path fill=\"none\" d=\"M-28.1,5 L -28.1 80.72\" id=\"fig-dfc43a730cdf40b7b9f453f347ddd4be-element-236\" visibility=\"hidden\" gadfly:scale=\"5.0\"/>\n",
       "      <path fill=\"none\" d=\"M-19.79,5 L -19.79 80.72\" id=\"fig-dfc43a730cdf40b7b9f453f347ddd4be-element-237\" visibility=\"hidden\" gadfly:scale=\"5.0\"/>\n",
       "      <path fill=\"none\" d=\"M-11.48,5 L -11.48 80.72\" id=\"fig-dfc43a730cdf40b7b9f453f347ddd4be-element-238\" visibility=\"hidden\" gadfly:scale=\"5.0\"/>\n",
       "      <path fill=\"none\" d=\"M-3.18,5 L -3.18 80.72\" id=\"fig-dfc43a730cdf40b7b9f453f347ddd4be-element-239\" visibility=\"hidden\" gadfly:scale=\"5.0\"/>\n",
       "      <path fill=\"none\" d=\"M5.13,5 L 5.13 80.72\" id=\"fig-dfc43a730cdf40b7b9f453f347ddd4be-element-240\" visibility=\"hidden\" gadfly:scale=\"5.0\"/>\n",
       "      <path fill=\"none\" d=\"M13.44,5 L 13.44 80.72\" id=\"fig-dfc43a730cdf40b7b9f453f347ddd4be-element-241\" visibility=\"hidden\" gadfly:scale=\"5.0\"/>\n",
       "      <path fill=\"none\" d=\"M21.75,5 L 21.75 80.72\" id=\"fig-dfc43a730cdf40b7b9f453f347ddd4be-element-242\" visibility=\"hidden\" gadfly:scale=\"5.0\"/>\n",
       "      <path fill=\"none\" d=\"M30.05,5 L 30.05 80.72\" id=\"fig-dfc43a730cdf40b7b9f453f347ddd4be-element-243\" visibility=\"hidden\" gadfly:scale=\"5.0\"/>\n",
       "      <path fill=\"none\" d=\"M38.36,5 L 38.36 80.72\" id=\"fig-dfc43a730cdf40b7b9f453f347ddd4be-element-244\" visibility=\"hidden\" gadfly:scale=\"5.0\"/>\n",
       "      <path fill=\"none\" d=\"M46.67,5 L 46.67 80.72\" id=\"fig-dfc43a730cdf40b7b9f453f347ddd4be-element-245\" visibility=\"hidden\" gadfly:scale=\"5.0\"/>\n",
       "      <path fill=\"none\" d=\"M54.97,5 L 54.97 80.72\" id=\"fig-dfc43a730cdf40b7b9f453f347ddd4be-element-246\" visibility=\"hidden\" gadfly:scale=\"5.0\"/>\n",
       "      <path fill=\"none\" d=\"M63.28,5 L 63.28 80.72\" id=\"fig-dfc43a730cdf40b7b9f453f347ddd4be-element-247\" visibility=\"hidden\" gadfly:scale=\"5.0\"/>\n",
       "      <path fill=\"none\" d=\"M71.59,5 L 71.59 80.72\" id=\"fig-dfc43a730cdf40b7b9f453f347ddd4be-element-248\" visibility=\"hidden\" gadfly:scale=\"5.0\"/>\n",
       "      <path fill=\"none\" d=\"M79.9,5 L 79.9 80.72\" id=\"fig-dfc43a730cdf40b7b9f453f347ddd4be-element-249\" visibility=\"hidden\" gadfly:scale=\"5.0\"/>\n",
       "      <path fill=\"none\" d=\"M88.2,5 L 88.2 80.72\" id=\"fig-dfc43a730cdf40b7b9f453f347ddd4be-element-250\" visibility=\"hidden\" gadfly:scale=\"5.0\"/>\n",
       "      <path fill=\"none\" d=\"M96.51,5 L 96.51 80.72\" id=\"fig-dfc43a730cdf40b7b9f453f347ddd4be-element-251\" visibility=\"hidden\" gadfly:scale=\"5.0\"/>\n",
       "      <path fill=\"none\" d=\"M104.82,5 L 104.82 80.72\" id=\"fig-dfc43a730cdf40b7b9f453f347ddd4be-element-252\" visibility=\"hidden\" gadfly:scale=\"5.0\"/>\n",
       "      <path fill=\"none\" d=\"M113.12,5 L 113.12 80.72\" id=\"fig-dfc43a730cdf40b7b9f453f347ddd4be-element-253\" visibility=\"hidden\" gadfly:scale=\"5.0\"/>\n",
       "      <path fill=\"none\" d=\"M121.43,5 L 121.43 80.72\" id=\"fig-dfc43a730cdf40b7b9f453f347ddd4be-element-254\" visibility=\"hidden\" gadfly:scale=\"5.0\"/>\n",
       "      <path fill=\"none\" d=\"M129.74,5 L 129.74 80.72\" id=\"fig-dfc43a730cdf40b7b9f453f347ddd4be-element-255\" visibility=\"hidden\" gadfly:scale=\"5.0\"/>\n",
       "      <path fill=\"none\" d=\"M138.05,5 L 138.05 80.72\" id=\"fig-dfc43a730cdf40b7b9f453f347ddd4be-element-256\" visibility=\"hidden\" gadfly:scale=\"5.0\"/>\n",
       "      <path fill=\"none\" d=\"M146.35,5 L 146.35 80.72\" id=\"fig-dfc43a730cdf40b7b9f453f347ddd4be-element-257\" visibility=\"hidden\" gadfly:scale=\"5.0\"/>\n",
       "      <path fill=\"none\" d=\"M154.66,5 L 154.66 80.72\" id=\"fig-dfc43a730cdf40b7b9f453f347ddd4be-element-258\" visibility=\"hidden\" gadfly:scale=\"5.0\"/>\n",
       "      <path fill=\"none\" d=\"M162.97,5 L 162.97 80.72\" id=\"fig-dfc43a730cdf40b7b9f453f347ddd4be-element-259\" visibility=\"hidden\" gadfly:scale=\"5.0\"/>\n",
       "      <path fill=\"none\" d=\"M171.27,5 L 171.27 80.72\" id=\"fig-dfc43a730cdf40b7b9f453f347ddd4be-element-260\" visibility=\"hidden\" gadfly:scale=\"5.0\"/>\n",
       "      <path fill=\"none\" d=\"M179.58,5 L 179.58 80.72\" id=\"fig-dfc43a730cdf40b7b9f453f347ddd4be-element-261\" visibility=\"hidden\" gadfly:scale=\"5.0\"/>\n",
       "      <path fill=\"none\" d=\"M187.89,5 L 187.89 80.72\" id=\"fig-dfc43a730cdf40b7b9f453f347ddd4be-element-262\" visibility=\"hidden\" gadfly:scale=\"5.0\"/>\n",
       "      <path fill=\"none\" d=\"M196.2,5 L 196.2 80.72\" id=\"fig-dfc43a730cdf40b7b9f453f347ddd4be-element-263\" visibility=\"hidden\" gadfly:scale=\"5.0\"/>\n",
       "      <path fill=\"none\" d=\"M204.5,5 L 204.5 80.72\" id=\"fig-dfc43a730cdf40b7b9f453f347ddd4be-element-264\" visibility=\"hidden\" gadfly:scale=\"5.0\"/>\n",
       "      <path fill=\"none\" d=\"M212.81,5 L 212.81 80.72\" id=\"fig-dfc43a730cdf40b7b9f453f347ddd4be-element-265\" visibility=\"hidden\" gadfly:scale=\"5.0\"/>\n",
       "      <path fill=\"none\" d=\"M221.12,5 L 221.12 80.72\" id=\"fig-dfc43a730cdf40b7b9f453f347ddd4be-element-266\" visibility=\"hidden\" gadfly:scale=\"5.0\"/>\n",
       "      <path fill=\"none\" d=\"M229.42,5 L 229.42 80.72\" id=\"fig-dfc43a730cdf40b7b9f453f347ddd4be-element-267\" visibility=\"hidden\" gadfly:scale=\"5.0\"/>\n",
       "    </g>\n",
       "    <g class=\"plotpanel\" id=\"fig-dfc43a730cdf40b7b9f453f347ddd4be-element-268\">\n",
       "      <g stroke-width=\"0.3\" fill=\"#000000\" fill-opacity=\"0.000\" id=\"fig-dfc43a730cdf40b7b9f453f347ddd4be-element-269\">\n",
       "        <path fill=\"none\" d=\"M21.75,42.86 L 22.16 39.26 22.58 35.71 23 32.22 23.41 28.84 23.83 25.6 24.25 22.54 24.66 19.68 25.08 17.05 25.5 14.69 25.92 12.61 26.33 10.83 26.75 9.37 27.17 8.26 27.58 7.49 28 7.08 28.42 7.02 28.83 7.33 29.25 8 29.67 9.01 30.09 10.37 30.5 12.06 30.92 14.05 31.34 16.34 31.75 18.89 32.17 21.69 32.59 24.69 33 27.89 33.42 31.23 33.84 34.68 34.26 38.23 34.67 41.81 35.09 45.41 35.51 48.98 35.92 52.49 36.34 55.91 36.76 59.19 37.17 62.31 37.59 65.23 38.01 67.92 38.43 70.37 38.84 72.53 39.26 74.4 39.68 75.95 40.09 77.17 40.51 78.04 40.93 78.56 41.35 78.71 41.76 78.51 42.18 77.95 42.6 77.03 43.01 75.77 43.43 74.18 43.85 72.27 44.26 70.07 44.68 67.59 45.1 64.86 45.52 61.91 45.93 58.77 46.35 55.47 46.77 52.04 47.18 48.52 47.6 44.95 48.02 41.35 48.43 37.76 48.85 34.23 49.27 30.79 49.69 27.46 50.1 24.3 50.52 21.31 50.94 18.55 51.35 16.03 51.77 13.78 52.19 11.82 52.6 10.18 53.02 8.86 53.44 7.89 53.86 7.27 54.27 7.01 54.69 7.11 55.11 7.57 55.52 8.38 55.94 9.54 56.36 11.04 56.78 12.86 57.19 14.98 57.61 17.38 58.03 20.04 58.44 22.92 58.86 26.01 59.28 29.27 59.69 32.66 60.11 36.16 60.53 39.73 60.95 43.32 61.36 46.91 61.78 50.46 62.2 53.94 62.61 57.3 63.03 60.52 63.45 63.56 63.86 66.39 64.28 68.98 64.7 71.31 65.12 73.36 65.53 75.09 65.95 76.5 66.37 77.58 66.78 78.3 67.2 78.67 67.62 78.67 68.03 78.32 68.45 77.61 68.87 76.54 69.29 75.14 69.7 73.42 70.12 71.38 70.54 69.06 70.95 66.47 71.37 63.65 71.79 60.62 72.21 57.41 72.62 54.05 73.04 50.58 73.46 47.03 73.87 43.44 74.29 39.84 74.71 36.27 75.12 32.77 75.54 29.38 75.96 26.11 76.38 23.02 76.79 20.13 77.21 17.46 77.63 15.05 78.04 12.92 78.46 11.09 78.88 9.59 79.29 8.41 79.71 7.59 80.13 7.12 80.55 7.01 80.96 7.26 81.38 7.87 81.8 8.83 82.21 10.13 82.63 11.77 83.05 13.71 83.46 15.95 83.88 18.46 84.3 21.22 84.72 24.2 85.13 27.36 85.55 30.68 85.97 34.12 86.38 37.65 86.8 41.23 87.22 44.83 87.64 48.41 88.05 51.93 88.47 55.36 88.89 58.67 89.3 61.82 89.72 64.77 90.14 67.51 90.55 69.99 90.97 72.2 91.39 74.12 91.81 75.72 92.22 77 92.64 77.92 93.06 78.5 93.47 78.71 93.89 78.57 94.31 78.06 94.72 77.2 95.14 76 95.56 74.46 95.98 72.6 96.39 70.44 96.81 68.01 97.23 65.32 97.64 62.4 98.06 59.29 98.48 56.01 98.89 52.6 99.31 49.1 99.73 45.52 100.15 41.93 100.56 38.34 100.98 34.8 101.4 31.33 101.81 27.99 102.23 24.79 102.65 21.78 103.07 18.98 103.48 16.42 103.9 14.12 104.32 12.12 104.73 10.42 105.15 9.05 105.57 8.02 105.98 7.35 106.4 7.03 106.82 7.07 107.24 7.47 107.65 8.23 108.07 9.33 108.49 10.78 108.9 12.55 109.32 14.62 109.74 16.98 110.15 19.59 110.57 22.45 110.99 25.5 111.41 28.74 111.82 32.11 112.24 35.59 112.66 39.15 113.07 42.74 113.49 46.34 113.91 49.9 114.32 53.39 114.74 56.77 115.16 60.01 115.58 63.08 115.99 65.95 116.41 68.58 116.83 70.95 117.24 73.05 117.66 74.83 118.08 76.3 118.5 77.43 118.91 78.21 119.33 78.63 119.75 78.7 120.16 78.4 120.58 77.74 121 76.74 121.41 75.39 121.83 73.71 122.25 71.73 122.67 69.45 123.08 66.91 123.5 64.12 123.92 61.12 124.33 57.93 124.75 54.6 125.17 51.14 125.58 47.6\" id=\"fig-dfc43a730cdf40b7b9f453f347ddd4be-element-270\" stroke=\"#00BFFF\" class=\"geometry color_f1\"/>\n",
       "        <path fill=\"none\" d=\"M21.75,7 L 22.16 7.18 22.58 7.72 23 8.61 23.41 9.85 23.83 11.42 24.25 13.31 24.66 15.5 25.08 17.96 25.5 20.67 25.92 23.6 26.33 26.73 26.75 30.03 27.17 33.45 27.58 36.96 28 40.54 28.42 44.13 28.83 47.72 29.25 51.26 29.67 54.71 30.09 58.04 30.5 61.22 30.92 64.21 31.34 66.99 31.75 69.53 32.17 71.8 32.59 73.77 33 75.44 33.42 76.78 33.84 77.77 34.26 78.41 34.67 78.7 35.09 78.62 35.51 78.19 35.92 77.4 36.34 76.26 36.76 74.78 37.17 72.98 37.59 70.88 38.01 68.5 38.43 65.86 38.84 62.98 39.26 59.91 39.68 56.66 40.09 53.27 40.51 49.78 40.93 46.22 41.35 42.62 41.76 39.03 42.18 35.48 42.6 32 43.01 28.63 43.43 25.4 43.85 22.35 44.26 19.5 44.68 16.89 45.1 14.55 45.52 12.48 45.93 10.73 46.35 9.29 46.77 8.2 47.18 7.45 47.6 7.06 48.02 7.03 48.43 7.36 48.85 8.05 49.27 9.09 49.69 10.47 50.1 12.18 50.52 14.19 50.94 16.5 51.35 19.07 51.77 21.88 52.19 24.9 52.6 28.1 53.02 31.45 53.44 34.91 53.86 38.46 54.27 42.05 54.69 45.64 55.11 49.21 55.52 52.72 55.94 56.12 56.36 59.4 56.78 62.5 57.19 65.41 57.61 68.09 58.03 70.52 58.44 72.66 58.86 74.51 59.28 76.04 59.69 77.24 60.11 78.08 60.53 78.58 60.95 78.71 61.36 78.48 61.78 77.9 62.2 76.96 62.61 75.68 63.03 74.06 63.45 72.14 63.86 69.91 64.28 67.42 64.7 64.68 65.12 61.72 65.53 58.56 65.95 55.25 66.37 51.82 66.78 48.29 67.2 44.71 67.62 41.12 68.03 37.53 68.45 34.01 68.87 30.57 69.29 27.25 69.7 24.1 70.12 21.13 70.54 18.38 70.95 15.88 71.37 13.64 71.79 11.71 72.21 10.08 72.62 8.79 73.04 7.84 73.46 7.24 73.87 7 74.29 7.13 74.71 7.61 75.12 8.45 75.54 9.63 75.96 11.15 76.38 12.99 76.79 15.13 77.21 17.54 77.63 20.22 78.04 23.12 78.46 26.22 78.88 29.49 79.29 32.89 79.71 36.39 80.13 39.96 80.55 43.56 80.96 47.15 81.38 50.69 81.8 54.16 82.21 57.51 82.63 60.72 83.05 63.75 83.46 66.56 83.88 69.14 84.3 71.45 84.72 73.48 85.13 75.19 85.55 76.58 85.97 77.63 86.38 78.33 86.8 78.68 87.22 78.66 87.64 78.28 88.05 77.55 88.47 76.46 88.89 75.04 89.3 73.29 89.72 71.24 90.14 68.9 90.55 66.3 90.97 63.46 91.39 60.42 91.81 57.19 92.22 53.83 92.64 50.35 93.06 46.8 93.47 43.2 93.89 39.61 94.31 36.05 94.72 32.55 95.14 29.16 95.56 25.91 95.98 22.83 96.39 19.95 96.81 17.3 97.23 14.91 97.64 12.79 98.06 10.99 98.48 9.5 98.89 8.35 99.31 7.55 99.73 7.1 100.15 7.01 100.56 7.29 100.98 7.92 101.4 8.9 101.81 10.23 102.23 11.88 102.65 13.85 103.07 16.11 103.48 18.64 103.9 21.41 104.32 24.4 104.73 27.57 105.15 30.9 105.57 34.35 105.98 37.88 106.4 41.47 106.82 45.06 107.24 48.64 107.65 52.16 108.07 55.58 108.49 58.88 108.9 62.01 109.32 64.96 109.74 67.67 110.15 70.14 110.57 72.34 110.99 74.24 111.41 75.82 111.82 77.07 112.24 77.97 112.66 78.52 113.07 78.71 113.49 78.55 113.91 78.02 114.32 77.13 114.74 75.91 115.16 74.35 115.58 72.47 115.99 70.29 116.41 67.84 116.83 65.14 117.24 62.21 117.66 59.08 118.08 55.8 118.5 52.38 118.91 48.87 119.33 45.29 119.75 41.69 120.16 38.11 120.58 34.57 121 31.11 121.41 27.78 121.83 24.59 122.25 21.59 122.67 18.81 123.08 16.26 123.5 13.98 123.92 12 124.33 10.32 124.75 8.98 125.17 7.97 125.58 7.32\" id=\"fig-dfc43a730cdf40b7b9f453f347ddd4be-element-271\" stroke=\"#D4CA3A\" class=\"geometry color_f2\"/>\n",
       "      </g>\n",
       "    </g>\n",
       "    <g opacity=\"0\" class=\"guide zoomslider\" stroke=\"#000000\" stroke-opacity=\"0.000\" id=\"fig-dfc43a730cdf40b7b9f453f347ddd4be-element-272\">\n",
       "      <g fill=\"#EAEAEA\" stroke-width=\"0.3\" stroke-opacity=\"0\" stroke=\"#6A6A6A\" id=\"fig-dfc43a730cdf40b7b9f453f347ddd4be-element-273\">\n",
       "        <rect x=\"120.58\" y=\"8\" width=\"4\" height=\"4\" id=\"fig-dfc43a730cdf40b7b9f453f347ddd4be-element-274\"/>\n",
       "        <g class=\"button_logo\" fill=\"#6A6A6A\" id=\"fig-dfc43a730cdf40b7b9f453f347ddd4be-element-275\">\n",
       "          <path d=\"M121.38,9.6 L 122.18 9.6 122.18 8.8 122.98 8.8 122.98 9.6 123.78 9.6 123.78 10.4 122.98 10.4 122.98 11.2 122.18 11.2 122.18 10.4 121.38 10.4 z\" id=\"fig-dfc43a730cdf40b7b9f453f347ddd4be-element-276\"/>\n",
       "        </g>\n",
       "      </g>\n",
       "      <g fill=\"#EAEAEA\" id=\"fig-dfc43a730cdf40b7b9f453f347ddd4be-element-277\">\n",
       "        <rect x=\"101.08\" y=\"8\" width=\"19\" height=\"4\" id=\"fig-dfc43a730cdf40b7b9f453f347ddd4be-element-278\"/>\n",
       "      </g>\n",
       "      <g class=\"zoomslider_thumb\" fill=\"#6A6A6A\" id=\"fig-dfc43a730cdf40b7b9f453f347ddd4be-element-279\">\n",
       "        <rect x=\"109.58\" y=\"8\" width=\"2\" height=\"4\" id=\"fig-dfc43a730cdf40b7b9f453f347ddd4be-element-280\"/>\n",
       "      </g>\n",
       "      <g fill=\"#EAEAEA\" stroke-width=\"0.3\" stroke-opacity=\"0\" stroke=\"#6A6A6A\" id=\"fig-dfc43a730cdf40b7b9f453f347ddd4be-element-281\">\n",
       "        <rect x=\"96.58\" y=\"8\" width=\"4\" height=\"4\" id=\"fig-dfc43a730cdf40b7b9f453f347ddd4be-element-282\"/>\n",
       "        <g class=\"button_logo\" fill=\"#6A6A6A\" id=\"fig-dfc43a730cdf40b7b9f453f347ddd4be-element-283\">\n",
       "          <path d=\"M97.38,9.6 L 99.78 9.6 99.78 10.4 97.38 10.4 z\" id=\"fig-dfc43a730cdf40b7b9f453f347ddd4be-element-284\"/>\n",
       "        </g>\n",
       "      </g>\n",
       "    </g>\n",
       "  </g>\n",
       "  <g class=\"guide ylabels\" font-size=\"2.82\" font-family=\"'PT Sans Caption','Helvetica Neue','Helvetica',sans-serif\" fill=\"#6C606B\" id=\"fig-dfc43a730cdf40b7b9f453f347ddd4be-element-285\">\n",
       "    <text x=\"18.75\" y=\"168.36\" text-anchor=\"end\" dy=\"0.35em\" id=\"fig-dfc43a730cdf40b7b9f453f347ddd4be-element-286\" visibility=\"hidden\" gadfly:scale=\"1.0\">-3.5</text>\n",
       "    <text x=\"18.75\" y=\"150.43\" text-anchor=\"end\" dy=\"0.35em\" id=\"fig-dfc43a730cdf40b7b9f453f347ddd4be-element-287\" visibility=\"hidden\" gadfly:scale=\"1.0\">-3.0</text>\n",
       "    <text x=\"18.75\" y=\"132.5\" text-anchor=\"end\" dy=\"0.35em\" id=\"fig-dfc43a730cdf40b7b9f453f347ddd4be-element-288\" visibility=\"hidden\" gadfly:scale=\"1.0\">-2.5</text>\n",
       "    <text x=\"18.75\" y=\"114.57\" text-anchor=\"end\" dy=\"0.35em\" id=\"fig-dfc43a730cdf40b7b9f453f347ddd4be-element-289\" visibility=\"hidden\" gadfly:scale=\"1.0\">-2.0</text>\n",
       "    <text x=\"18.75\" y=\"96.64\" text-anchor=\"end\" dy=\"0.35em\" id=\"fig-dfc43a730cdf40b7b9f453f347ddd4be-element-290\" visibility=\"hidden\" gadfly:scale=\"1.0\">-1.5</text>\n",
       "    <text x=\"18.75\" y=\"78.71\" text-anchor=\"end\" dy=\"0.35em\" id=\"fig-dfc43a730cdf40b7b9f453f347ddd4be-element-291\" visibility=\"visible\" gadfly:scale=\"1.0\">-1.0</text>\n",
       "    <text x=\"18.75\" y=\"60.79\" text-anchor=\"end\" dy=\"0.35em\" id=\"fig-dfc43a730cdf40b7b9f453f347ddd4be-element-292\" visibility=\"visible\" gadfly:scale=\"1.0\">-0.5</text>\n",
       "    <text x=\"18.75\" y=\"42.86\" text-anchor=\"end\" dy=\"0.35em\" id=\"fig-dfc43a730cdf40b7b9f453f347ddd4be-element-293\" visibility=\"visible\" gadfly:scale=\"1.0\">0.0</text>\n",
       "    <text x=\"18.75\" y=\"24.93\" text-anchor=\"end\" dy=\"0.35em\" id=\"fig-dfc43a730cdf40b7b9f453f347ddd4be-element-294\" visibility=\"visible\" gadfly:scale=\"1.0\">0.5</text>\n",
       "    <text x=\"18.75\" y=\"7\" text-anchor=\"end\" dy=\"0.35em\" id=\"fig-dfc43a730cdf40b7b9f453f347ddd4be-element-295\" visibility=\"visible\" gadfly:scale=\"1.0\">1.0</text>\n",
       "    <text x=\"18.75\" y=\"-10.93\" text-anchor=\"end\" dy=\"0.35em\" id=\"fig-dfc43a730cdf40b7b9f453f347ddd4be-element-296\" visibility=\"hidden\" gadfly:scale=\"1.0\">1.5</text>\n",
       "    <text x=\"18.75\" y=\"-28.86\" text-anchor=\"end\" dy=\"0.35em\" id=\"fig-dfc43a730cdf40b7b9f453f347ddd4be-element-297\" visibility=\"hidden\" gadfly:scale=\"1.0\">2.0</text>\n",
       "    <text x=\"18.75\" y=\"-46.79\" text-anchor=\"end\" dy=\"0.35em\" id=\"fig-dfc43a730cdf40b7b9f453f347ddd4be-element-298\" visibility=\"hidden\" gadfly:scale=\"1.0\">2.5</text>\n",
       "    <text x=\"18.75\" y=\"-64.71\" text-anchor=\"end\" dy=\"0.35em\" id=\"fig-dfc43a730cdf40b7b9f453f347ddd4be-element-299\" visibility=\"hidden\" gadfly:scale=\"1.0\">3.0</text>\n",
       "    <text x=\"18.75\" y=\"-82.64\" text-anchor=\"end\" dy=\"0.35em\" id=\"fig-dfc43a730cdf40b7b9f453f347ddd4be-element-300\" visibility=\"hidden\" gadfly:scale=\"1.0\">3.5</text>\n",
       "    <text x=\"18.75\" y=\"150.43\" text-anchor=\"end\" dy=\"0.35em\" id=\"fig-dfc43a730cdf40b7b9f453f347ddd4be-element-301\" visibility=\"hidden\" gadfly:scale=\"10.0\">-3.0</text>\n",
       "    <text x=\"18.75\" y=\"146.84\" text-anchor=\"end\" dy=\"0.35em\" id=\"fig-dfc43a730cdf40b7b9f453f347ddd4be-element-302\" visibility=\"hidden\" gadfly:scale=\"10.0\">-2.9</text>\n",
       "    <text x=\"18.75\" y=\"143.26\" text-anchor=\"end\" dy=\"0.35em\" id=\"fig-dfc43a730cdf40b7b9f453f347ddd4be-element-303\" visibility=\"hidden\" gadfly:scale=\"10.0\">-2.8</text>\n",
       "    <text x=\"18.75\" y=\"139.67\" text-anchor=\"end\" dy=\"0.35em\" id=\"fig-dfc43a730cdf40b7b9f453f347ddd4be-element-304\" visibility=\"hidden\" gadfly:scale=\"10.0\">-2.7</text>\n",
       "    <text x=\"18.75\" y=\"136.09\" text-anchor=\"end\" dy=\"0.35em\" id=\"fig-dfc43a730cdf40b7b9f453f347ddd4be-element-305\" visibility=\"hidden\" gadfly:scale=\"10.0\">-2.6</text>\n",
       "    <text x=\"18.75\" y=\"132.5\" text-anchor=\"end\" dy=\"0.35em\" id=\"fig-dfc43a730cdf40b7b9f453f347ddd4be-element-306\" visibility=\"hidden\" gadfly:scale=\"10.0\">-2.5</text>\n",
       "    <text x=\"18.75\" y=\"128.92\" text-anchor=\"end\" dy=\"0.35em\" id=\"fig-dfc43a730cdf40b7b9f453f347ddd4be-element-307\" visibility=\"hidden\" gadfly:scale=\"10.0\">-2.4</text>\n",
       "    <text x=\"18.75\" y=\"125.33\" text-anchor=\"end\" dy=\"0.35em\" id=\"fig-dfc43a730cdf40b7b9f453f347ddd4be-element-308\" visibility=\"hidden\" gadfly:scale=\"10.0\">-2.3</text>\n",
       "    <text x=\"18.75\" y=\"121.74\" text-anchor=\"end\" dy=\"0.35em\" id=\"fig-dfc43a730cdf40b7b9f453f347ddd4be-element-309\" visibility=\"hidden\" gadfly:scale=\"10.0\">-2.2</text>\n",
       "    <text x=\"18.75\" y=\"118.16\" text-anchor=\"end\" dy=\"0.35em\" id=\"fig-dfc43a730cdf40b7b9f453f347ddd4be-element-310\" visibility=\"hidden\" gadfly:scale=\"10.0\">-2.1</text>\n",
       "    <text x=\"18.75\" y=\"114.57\" text-anchor=\"end\" dy=\"0.35em\" id=\"fig-dfc43a730cdf40b7b9f453f347ddd4be-element-311\" visibility=\"hidden\" gadfly:scale=\"10.0\">-2.0</text>\n",
       "    <text x=\"18.75\" y=\"110.99\" text-anchor=\"end\" dy=\"0.35em\" id=\"fig-dfc43a730cdf40b7b9f453f347ddd4be-element-312\" visibility=\"hidden\" gadfly:scale=\"10.0\">-1.9</text>\n",
       "    <text x=\"18.75\" y=\"107.4\" text-anchor=\"end\" dy=\"0.35em\" id=\"fig-dfc43a730cdf40b7b9f453f347ddd4be-element-313\" visibility=\"hidden\" gadfly:scale=\"10.0\">-1.8</text>\n",
       "    <text x=\"18.75\" y=\"103.82\" text-anchor=\"end\" dy=\"0.35em\" id=\"fig-dfc43a730cdf40b7b9f453f347ddd4be-element-314\" visibility=\"hidden\" gadfly:scale=\"10.0\">-1.7</text>\n",
       "    <text x=\"18.75\" y=\"100.23\" text-anchor=\"end\" dy=\"0.35em\" id=\"fig-dfc43a730cdf40b7b9f453f347ddd4be-element-315\" visibility=\"hidden\" gadfly:scale=\"10.0\">-1.6</text>\n",
       "    <text x=\"18.75\" y=\"96.64\" text-anchor=\"end\" dy=\"0.35em\" id=\"fig-dfc43a730cdf40b7b9f453f347ddd4be-element-316\" visibility=\"hidden\" gadfly:scale=\"10.0\">-1.5</text>\n",
       "    <text x=\"18.75\" y=\"93.06\" text-anchor=\"end\" dy=\"0.35em\" id=\"fig-dfc43a730cdf40b7b9f453f347ddd4be-element-317\" visibility=\"hidden\" gadfly:scale=\"10.0\">-1.4</text>\n",
       "    <text x=\"18.75\" y=\"89.47\" text-anchor=\"end\" dy=\"0.35em\" id=\"fig-dfc43a730cdf40b7b9f453f347ddd4be-element-318\" visibility=\"hidden\" gadfly:scale=\"10.0\">-1.3</text>\n",
       "    <text x=\"18.75\" y=\"85.89\" text-anchor=\"end\" dy=\"0.35em\" id=\"fig-dfc43a730cdf40b7b9f453f347ddd4be-element-319\" visibility=\"hidden\" gadfly:scale=\"10.0\">-1.2</text>\n",
       "    <text x=\"18.75\" y=\"82.3\" text-anchor=\"end\" dy=\"0.35em\" id=\"fig-dfc43a730cdf40b7b9f453f347ddd4be-element-320\" visibility=\"hidden\" gadfly:scale=\"10.0\">-1.1</text>\n",
       "    <text x=\"18.75\" y=\"78.71\" text-anchor=\"end\" dy=\"0.35em\" id=\"fig-dfc43a730cdf40b7b9f453f347ddd4be-element-321\" visibility=\"hidden\" gadfly:scale=\"10.0\">-1.0</text>\n",
       "    <text x=\"18.75\" y=\"75.13\" text-anchor=\"end\" dy=\"0.35em\" id=\"fig-dfc43a730cdf40b7b9f453f347ddd4be-element-322\" visibility=\"hidden\" gadfly:scale=\"10.0\">-0.9</text>\n",
       "    <text x=\"18.75\" y=\"71.54\" text-anchor=\"end\" dy=\"0.35em\" id=\"fig-dfc43a730cdf40b7b9f453f347ddd4be-element-323\" visibility=\"hidden\" gadfly:scale=\"10.0\">-0.8</text>\n",
       "    <text x=\"18.75\" y=\"67.96\" text-anchor=\"end\" dy=\"0.35em\" id=\"fig-dfc43a730cdf40b7b9f453f347ddd4be-element-324\" visibility=\"hidden\" gadfly:scale=\"10.0\">-0.7</text>\n",
       "    <text x=\"18.75\" y=\"64.37\" text-anchor=\"end\" dy=\"0.35em\" id=\"fig-dfc43a730cdf40b7b9f453f347ddd4be-element-325\" visibility=\"hidden\" gadfly:scale=\"10.0\">-0.6</text>\n",
       "    <text x=\"18.75\" y=\"60.79\" text-anchor=\"end\" dy=\"0.35em\" id=\"fig-dfc43a730cdf40b7b9f453f347ddd4be-element-326\" visibility=\"hidden\" gadfly:scale=\"10.0\">-0.5</text>\n",
       "    <text x=\"18.75\" y=\"57.2\" text-anchor=\"end\" dy=\"0.35em\" id=\"fig-dfc43a730cdf40b7b9f453f347ddd4be-element-327\" visibility=\"hidden\" gadfly:scale=\"10.0\">-0.4</text>\n",
       "    <text x=\"18.75\" y=\"53.61\" text-anchor=\"end\" dy=\"0.35em\" id=\"fig-dfc43a730cdf40b7b9f453f347ddd4be-element-328\" visibility=\"hidden\" gadfly:scale=\"10.0\">-0.3</text>\n",
       "    <text x=\"18.75\" y=\"50.03\" text-anchor=\"end\" dy=\"0.35em\" id=\"fig-dfc43a730cdf40b7b9f453f347ddd4be-element-329\" visibility=\"hidden\" gadfly:scale=\"10.0\">-0.2</text>\n",
       "    <text x=\"18.75\" y=\"46.44\" text-anchor=\"end\" dy=\"0.35em\" id=\"fig-dfc43a730cdf40b7b9f453f347ddd4be-element-330\" visibility=\"hidden\" gadfly:scale=\"10.0\">-0.1</text>\n",
       "    <text x=\"18.75\" y=\"42.86\" text-anchor=\"end\" dy=\"0.35em\" id=\"fig-dfc43a730cdf40b7b9f453f347ddd4be-element-331\" visibility=\"hidden\" gadfly:scale=\"10.0\">0.0</text>\n",
       "    <text x=\"18.75\" y=\"39.27\" text-anchor=\"end\" dy=\"0.35em\" id=\"fig-dfc43a730cdf40b7b9f453f347ddd4be-element-332\" visibility=\"hidden\" gadfly:scale=\"10.0\">0.1</text>\n",
       "    <text x=\"18.75\" y=\"35.69\" text-anchor=\"end\" dy=\"0.35em\" id=\"fig-dfc43a730cdf40b7b9f453f347ddd4be-element-333\" visibility=\"hidden\" gadfly:scale=\"10.0\">0.2</text>\n",
       "    <text x=\"18.75\" y=\"32.1\" text-anchor=\"end\" dy=\"0.35em\" id=\"fig-dfc43a730cdf40b7b9f453f347ddd4be-element-334\" visibility=\"hidden\" gadfly:scale=\"10.0\">0.3</text>\n",
       "    <text x=\"18.75\" y=\"28.51\" text-anchor=\"end\" dy=\"0.35em\" id=\"fig-dfc43a730cdf40b7b9f453f347ddd4be-element-335\" visibility=\"hidden\" gadfly:scale=\"10.0\">0.4</text>\n",
       "    <text x=\"18.75\" y=\"24.93\" text-anchor=\"end\" dy=\"0.35em\" id=\"fig-dfc43a730cdf40b7b9f453f347ddd4be-element-336\" visibility=\"hidden\" gadfly:scale=\"10.0\">0.5</text>\n",
       "    <text x=\"18.75\" y=\"21.34\" text-anchor=\"end\" dy=\"0.35em\" id=\"fig-dfc43a730cdf40b7b9f453f347ddd4be-element-337\" visibility=\"hidden\" gadfly:scale=\"10.0\">0.6</text>\n",
       "    <text x=\"18.75\" y=\"17.76\" text-anchor=\"end\" dy=\"0.35em\" id=\"fig-dfc43a730cdf40b7b9f453f347ddd4be-element-338\" visibility=\"hidden\" gadfly:scale=\"10.0\">0.7</text>\n",
       "    <text x=\"18.75\" y=\"14.17\" text-anchor=\"end\" dy=\"0.35em\" id=\"fig-dfc43a730cdf40b7b9f453f347ddd4be-element-339\" visibility=\"hidden\" gadfly:scale=\"10.0\">0.8</text>\n",
       "    <text x=\"18.75\" y=\"10.59\" text-anchor=\"end\" dy=\"0.35em\" id=\"fig-dfc43a730cdf40b7b9f453f347ddd4be-element-340\" visibility=\"hidden\" gadfly:scale=\"10.0\">0.9</text>\n",
       "    <text x=\"18.75\" y=\"7\" text-anchor=\"end\" dy=\"0.35em\" id=\"fig-dfc43a730cdf40b7b9f453f347ddd4be-element-341\" visibility=\"hidden\" gadfly:scale=\"10.0\">1.0</text>\n",
       "    <text x=\"18.75\" y=\"3.41\" text-anchor=\"end\" dy=\"0.35em\" id=\"fig-dfc43a730cdf40b7b9f453f347ddd4be-element-342\" visibility=\"hidden\" gadfly:scale=\"10.0\">1.1</text>\n",
       "    <text x=\"18.75\" y=\"-0.17\" text-anchor=\"end\" dy=\"0.35em\" id=\"fig-dfc43a730cdf40b7b9f453f347ddd4be-element-343\" visibility=\"hidden\" gadfly:scale=\"10.0\">1.2</text>\n",
       "    <text x=\"18.75\" y=\"-3.76\" text-anchor=\"end\" dy=\"0.35em\" id=\"fig-dfc43a730cdf40b7b9f453f347ddd4be-element-344\" visibility=\"hidden\" gadfly:scale=\"10.0\">1.3</text>\n",
       "    <text x=\"18.75\" y=\"-7.34\" text-anchor=\"end\" dy=\"0.35em\" id=\"fig-dfc43a730cdf40b7b9f453f347ddd4be-element-345\" visibility=\"hidden\" gadfly:scale=\"10.0\">1.4</text>\n",
       "    <text x=\"18.75\" y=\"-10.93\" text-anchor=\"end\" dy=\"0.35em\" id=\"fig-dfc43a730cdf40b7b9f453f347ddd4be-element-346\" visibility=\"hidden\" gadfly:scale=\"10.0\">1.5</text>\n",
       "    <text x=\"18.75\" y=\"-14.51\" text-anchor=\"end\" dy=\"0.35em\" id=\"fig-dfc43a730cdf40b7b9f453f347ddd4be-element-347\" visibility=\"hidden\" gadfly:scale=\"10.0\">1.6</text>\n",
       "    <text x=\"18.75\" y=\"-18.1\" text-anchor=\"end\" dy=\"0.35em\" id=\"fig-dfc43a730cdf40b7b9f453f347ddd4be-element-348\" visibility=\"hidden\" gadfly:scale=\"10.0\">1.7</text>\n",
       "    <text x=\"18.75\" y=\"-21.69\" text-anchor=\"end\" dy=\"0.35em\" id=\"fig-dfc43a730cdf40b7b9f453f347ddd4be-element-349\" visibility=\"hidden\" gadfly:scale=\"10.0\">1.8</text>\n",
       "    <text x=\"18.75\" y=\"-25.27\" text-anchor=\"end\" dy=\"0.35em\" id=\"fig-dfc43a730cdf40b7b9f453f347ddd4be-element-350\" visibility=\"hidden\" gadfly:scale=\"10.0\">1.9</text>\n",
       "    <text x=\"18.75\" y=\"-28.86\" text-anchor=\"end\" dy=\"0.35em\" id=\"fig-dfc43a730cdf40b7b9f453f347ddd4be-element-351\" visibility=\"hidden\" gadfly:scale=\"10.0\">2.0</text>\n",
       "    <text x=\"18.75\" y=\"-32.44\" text-anchor=\"end\" dy=\"0.35em\" id=\"fig-dfc43a730cdf40b7b9f453f347ddd4be-element-352\" visibility=\"hidden\" gadfly:scale=\"10.0\">2.1</text>\n",
       "    <text x=\"18.75\" y=\"-36.03\" text-anchor=\"end\" dy=\"0.35em\" id=\"fig-dfc43a730cdf40b7b9f453f347ddd4be-element-353\" visibility=\"hidden\" gadfly:scale=\"10.0\">2.2</text>\n",
       "    <text x=\"18.75\" y=\"-39.61\" text-anchor=\"end\" dy=\"0.35em\" id=\"fig-dfc43a730cdf40b7b9f453f347ddd4be-element-354\" visibility=\"hidden\" gadfly:scale=\"10.0\">2.3</text>\n",
       "    <text x=\"18.75\" y=\"-43.2\" text-anchor=\"end\" dy=\"0.35em\" id=\"fig-dfc43a730cdf40b7b9f453f347ddd4be-element-355\" visibility=\"hidden\" gadfly:scale=\"10.0\">2.4</text>\n",
       "    <text x=\"18.75\" y=\"-46.79\" text-anchor=\"end\" dy=\"0.35em\" id=\"fig-dfc43a730cdf40b7b9f453f347ddd4be-element-356\" visibility=\"hidden\" gadfly:scale=\"10.0\">2.5</text>\n",
       "    <text x=\"18.75\" y=\"-50.37\" text-anchor=\"end\" dy=\"0.35em\" id=\"fig-dfc43a730cdf40b7b9f453f347ddd4be-element-357\" visibility=\"hidden\" gadfly:scale=\"10.0\">2.6</text>\n",
       "    <text x=\"18.75\" y=\"-53.96\" text-anchor=\"end\" dy=\"0.35em\" id=\"fig-dfc43a730cdf40b7b9f453f347ddd4be-element-358\" visibility=\"hidden\" gadfly:scale=\"10.0\">2.7</text>\n",
       "    <text x=\"18.75\" y=\"-57.54\" text-anchor=\"end\" dy=\"0.35em\" id=\"fig-dfc43a730cdf40b7b9f453f347ddd4be-element-359\" visibility=\"hidden\" gadfly:scale=\"10.0\">2.8</text>\n",
       "    <text x=\"18.75\" y=\"-61.13\" text-anchor=\"end\" dy=\"0.35em\" id=\"fig-dfc43a730cdf40b7b9f453f347ddd4be-element-360\" visibility=\"hidden\" gadfly:scale=\"10.0\">2.9</text>\n",
       "    <text x=\"18.75\" y=\"-64.71\" text-anchor=\"end\" dy=\"0.35em\" id=\"fig-dfc43a730cdf40b7b9f453f347ddd4be-element-361\" visibility=\"hidden\" gadfly:scale=\"10.0\">3.0</text>\n",
       "    <text x=\"18.75\" y=\"186.29\" text-anchor=\"end\" dy=\"0.35em\" id=\"fig-dfc43a730cdf40b7b9f453f347ddd4be-element-362\" visibility=\"hidden\" gadfly:scale=\"0.5\">-4</text>\n",
       "    <text x=\"18.75\" y=\"114.57\" text-anchor=\"end\" dy=\"0.35em\" id=\"fig-dfc43a730cdf40b7b9f453f347ddd4be-element-363\" visibility=\"hidden\" gadfly:scale=\"0.5\">-2</text>\n",
       "    <text x=\"18.75\" y=\"42.86\" text-anchor=\"end\" dy=\"0.35em\" id=\"fig-dfc43a730cdf40b7b9f453f347ddd4be-element-364\" visibility=\"hidden\" gadfly:scale=\"0.5\">0</text>\n",
       "    <text x=\"18.75\" y=\"-28.86\" text-anchor=\"end\" dy=\"0.35em\" id=\"fig-dfc43a730cdf40b7b9f453f347ddd4be-element-365\" visibility=\"hidden\" gadfly:scale=\"0.5\">2</text>\n",
       "    <text x=\"18.75\" y=\"-100.57\" text-anchor=\"end\" dy=\"0.35em\" id=\"fig-dfc43a730cdf40b7b9f453f347ddd4be-element-366\" visibility=\"hidden\" gadfly:scale=\"0.5\">4</text>\n",
       "    <text x=\"18.75\" y=\"150.43\" text-anchor=\"end\" dy=\"0.35em\" id=\"fig-dfc43a730cdf40b7b9f453f347ddd4be-element-367\" visibility=\"hidden\" gadfly:scale=\"5.0\">-3.0</text>\n",
       "    <text x=\"18.75\" y=\"143.26\" text-anchor=\"end\" dy=\"0.35em\" id=\"fig-dfc43a730cdf40b7b9f453f347ddd4be-element-368\" visibility=\"hidden\" gadfly:scale=\"5.0\">-2.8</text>\n",
       "    <text x=\"18.75\" y=\"136.09\" text-anchor=\"end\" dy=\"0.35em\" id=\"fig-dfc43a730cdf40b7b9f453f347ddd4be-element-369\" visibility=\"hidden\" gadfly:scale=\"5.0\">-2.6</text>\n",
       "    <text x=\"18.75\" y=\"128.92\" text-anchor=\"end\" dy=\"0.35em\" id=\"fig-dfc43a730cdf40b7b9f453f347ddd4be-element-370\" visibility=\"hidden\" gadfly:scale=\"5.0\">-2.4</text>\n",
       "    <text x=\"18.75\" y=\"121.74\" text-anchor=\"end\" dy=\"0.35em\" id=\"fig-dfc43a730cdf40b7b9f453f347ddd4be-element-371\" visibility=\"hidden\" gadfly:scale=\"5.0\">-2.2</text>\n",
       "    <text x=\"18.75\" y=\"114.57\" text-anchor=\"end\" dy=\"0.35em\" id=\"fig-dfc43a730cdf40b7b9f453f347ddd4be-element-372\" visibility=\"hidden\" gadfly:scale=\"5.0\">-2.0</text>\n",
       "    <text x=\"18.75\" y=\"107.4\" text-anchor=\"end\" dy=\"0.35em\" id=\"fig-dfc43a730cdf40b7b9f453f347ddd4be-element-373\" visibility=\"hidden\" gadfly:scale=\"5.0\">-1.8</text>\n",
       "    <text x=\"18.75\" y=\"100.23\" text-anchor=\"end\" dy=\"0.35em\" id=\"fig-dfc43a730cdf40b7b9f453f347ddd4be-element-374\" visibility=\"hidden\" gadfly:scale=\"5.0\">-1.6</text>\n",
       "    <text x=\"18.75\" y=\"93.06\" text-anchor=\"end\" dy=\"0.35em\" id=\"fig-dfc43a730cdf40b7b9f453f347ddd4be-element-375\" visibility=\"hidden\" gadfly:scale=\"5.0\">-1.4</text>\n",
       "    <text x=\"18.75\" y=\"85.89\" text-anchor=\"end\" dy=\"0.35em\" id=\"fig-dfc43a730cdf40b7b9f453f347ddd4be-element-376\" visibility=\"hidden\" gadfly:scale=\"5.0\">-1.2</text>\n",
       "    <text x=\"18.75\" y=\"78.71\" text-anchor=\"end\" dy=\"0.35em\" id=\"fig-dfc43a730cdf40b7b9f453f347ddd4be-element-377\" visibility=\"hidden\" gadfly:scale=\"5.0\">-1.0</text>\n",
       "    <text x=\"18.75\" y=\"71.54\" text-anchor=\"end\" dy=\"0.35em\" id=\"fig-dfc43a730cdf40b7b9f453f347ddd4be-element-378\" visibility=\"hidden\" gadfly:scale=\"5.0\">-0.8</text>\n",
       "    <text x=\"18.75\" y=\"64.37\" text-anchor=\"end\" dy=\"0.35em\" id=\"fig-dfc43a730cdf40b7b9f453f347ddd4be-element-379\" visibility=\"hidden\" gadfly:scale=\"5.0\">-0.6</text>\n",
       "    <text x=\"18.75\" y=\"57.2\" text-anchor=\"end\" dy=\"0.35em\" id=\"fig-dfc43a730cdf40b7b9f453f347ddd4be-element-380\" visibility=\"hidden\" gadfly:scale=\"5.0\">-0.4</text>\n",
       "    <text x=\"18.75\" y=\"50.03\" text-anchor=\"end\" dy=\"0.35em\" id=\"fig-dfc43a730cdf40b7b9f453f347ddd4be-element-381\" visibility=\"hidden\" gadfly:scale=\"5.0\">-0.2</text>\n",
       "    <text x=\"18.75\" y=\"42.86\" text-anchor=\"end\" dy=\"0.35em\" id=\"fig-dfc43a730cdf40b7b9f453f347ddd4be-element-382\" visibility=\"hidden\" gadfly:scale=\"5.0\">0.0</text>\n",
       "    <text x=\"18.75\" y=\"35.69\" text-anchor=\"end\" dy=\"0.35em\" id=\"fig-dfc43a730cdf40b7b9f453f347ddd4be-element-383\" visibility=\"hidden\" gadfly:scale=\"5.0\">0.2</text>\n",
       "    <text x=\"18.75\" y=\"28.51\" text-anchor=\"end\" dy=\"0.35em\" id=\"fig-dfc43a730cdf40b7b9f453f347ddd4be-element-384\" visibility=\"hidden\" gadfly:scale=\"5.0\">0.4</text>\n",
       "    <text x=\"18.75\" y=\"21.34\" text-anchor=\"end\" dy=\"0.35em\" id=\"fig-dfc43a730cdf40b7b9f453f347ddd4be-element-385\" visibility=\"hidden\" gadfly:scale=\"5.0\">0.6</text>\n",
       "    <text x=\"18.75\" y=\"14.17\" text-anchor=\"end\" dy=\"0.35em\" id=\"fig-dfc43a730cdf40b7b9f453f347ddd4be-element-386\" visibility=\"hidden\" gadfly:scale=\"5.0\">0.8</text>\n",
       "    <text x=\"18.75\" y=\"7\" text-anchor=\"end\" dy=\"0.35em\" id=\"fig-dfc43a730cdf40b7b9f453f347ddd4be-element-387\" visibility=\"hidden\" gadfly:scale=\"5.0\">1.0</text>\n",
       "    <text x=\"18.75\" y=\"-0.17\" text-anchor=\"end\" dy=\"0.35em\" id=\"fig-dfc43a730cdf40b7b9f453f347ddd4be-element-388\" visibility=\"hidden\" gadfly:scale=\"5.0\">1.2</text>\n",
       "    <text x=\"18.75\" y=\"-7.34\" text-anchor=\"end\" dy=\"0.35em\" id=\"fig-dfc43a730cdf40b7b9f453f347ddd4be-element-389\" visibility=\"hidden\" gadfly:scale=\"5.0\">1.4</text>\n",
       "    <text x=\"18.75\" y=\"-14.51\" text-anchor=\"end\" dy=\"0.35em\" id=\"fig-dfc43a730cdf40b7b9f453f347ddd4be-element-390\" visibility=\"hidden\" gadfly:scale=\"5.0\">1.6</text>\n",
       "    <text x=\"18.75\" y=\"-21.69\" text-anchor=\"end\" dy=\"0.35em\" id=\"fig-dfc43a730cdf40b7b9f453f347ddd4be-element-391\" visibility=\"hidden\" gadfly:scale=\"5.0\">1.8</text>\n",
       "    <text x=\"18.75\" y=\"-28.86\" text-anchor=\"end\" dy=\"0.35em\" id=\"fig-dfc43a730cdf40b7b9f453f347ddd4be-element-392\" visibility=\"hidden\" gadfly:scale=\"5.0\">2.0</text>\n",
       "    <text x=\"18.75\" y=\"-36.03\" text-anchor=\"end\" dy=\"0.35em\" id=\"fig-dfc43a730cdf40b7b9f453f347ddd4be-element-393\" visibility=\"hidden\" gadfly:scale=\"5.0\">2.2</text>\n",
       "    <text x=\"18.75\" y=\"-43.2\" text-anchor=\"end\" dy=\"0.35em\" id=\"fig-dfc43a730cdf40b7b9f453f347ddd4be-element-394\" visibility=\"hidden\" gadfly:scale=\"5.0\">2.4</text>\n",
       "    <text x=\"18.75\" y=\"-50.37\" text-anchor=\"end\" dy=\"0.35em\" id=\"fig-dfc43a730cdf40b7b9f453f347ddd4be-element-395\" visibility=\"hidden\" gadfly:scale=\"5.0\">2.6</text>\n",
       "    <text x=\"18.75\" y=\"-57.54\" text-anchor=\"end\" dy=\"0.35em\" id=\"fig-dfc43a730cdf40b7b9f453f347ddd4be-element-396\" visibility=\"hidden\" gadfly:scale=\"5.0\">2.8</text>\n",
       "    <text x=\"18.75\" y=\"-64.71\" text-anchor=\"end\" dy=\"0.35em\" id=\"fig-dfc43a730cdf40b7b9f453f347ddd4be-element-397\" visibility=\"hidden\" gadfly:scale=\"5.0\">3.0</text>\n",
       "  </g>\n",
       "  <g font-size=\"3.88\" font-family=\"'PT Sans','Helvetica Neue','Helvetica',sans-serif\" fill=\"#564A55\" stroke=\"#000000\" stroke-opacity=\"0.000\" id=\"fig-dfc43a730cdf40b7b9f453f347ddd4be-element-398\">\n",
       "    <text x=\"8.81\" y=\"40.86\" text-anchor=\"middle\" dy=\"0.35em\" transform=\"rotate(-90, 8.81, 42.86)\" id=\"fig-dfc43a730cdf40b7b9f453f347ddd4be-element-399\">f(x)</text>\n",
       "  </g>\n",
       "</g>\n",
       "<defs>\n",
       "<clipPath id=\"fig-dfc43a730cdf40b7b9f453f347ddd4be-element-14\">\n",
       "  <path d=\"M19.75,5 L 127.58 5 127.58 80.72 19.75 80.72\" />\n",
       "</clipPath\n",
       "></defs>\n",
       "<script> <![CDATA[\n",
       "(function(N){var k=/[\\.\\/]/,L=/\\s*,\\s*/,C=function(a,d){return a-d},a,v,y={n:{}},M=function(){for(var a=0,d=this.length;a<d;a++)if(\"undefined\"!=typeof this[a])return this[a]},A=function(){for(var a=this.length;--a;)if(\"undefined\"!=typeof this[a])return this[a]},w=function(k,d){k=String(k);var f=v,n=Array.prototype.slice.call(arguments,2),u=w.listeners(k),p=0,b,q=[],e={},l=[],r=a;l.firstDefined=M;l.lastDefined=A;a=k;for(var s=v=0,x=u.length;s<x;s++)\"zIndex\"in u[s]&&(q.push(u[s].zIndex),0>u[s].zIndex&&\n",
       "(e[u[s].zIndex]=u[s]));for(q.sort(C);0>q[p];)if(b=e[q[p++] ],l.push(b.apply(d,n)),v)return v=f,l;for(s=0;s<x;s++)if(b=u[s],\"zIndex\"in b)if(b.zIndex==q[p]){l.push(b.apply(d,n));if(v)break;do if(p++,(b=e[q[p] ])&&l.push(b.apply(d,n)),v)break;while(b)}else e[b.zIndex]=b;else if(l.push(b.apply(d,n)),v)break;v=f;a=r;return l};w._events=y;w.listeners=function(a){a=a.split(k);var d=y,f,n,u,p,b,q,e,l=[d],r=[];u=0;for(p=a.length;u<p;u++){e=[];b=0;for(q=l.length;b<q;b++)for(d=l[b].n,f=[d[a[u] ],d[\"*\"] ],n=2;n--;)if(d=\n",
       "f[n])e.push(d),r=r.concat(d.f||[]);l=e}return r};w.on=function(a,d){a=String(a);if(\"function\"!=typeof d)return function(){};for(var f=a.split(L),n=0,u=f.length;n<u;n++)(function(a){a=a.split(k);for(var b=y,f,e=0,l=a.length;e<l;e++)b=b.n,b=b.hasOwnProperty(a[e])&&b[a[e] ]||(b[a[e] ]={n:{}});b.f=b.f||[];e=0;for(l=b.f.length;e<l;e++)if(b.f[e]==d){f=!0;break}!f&&b.f.push(d)})(f[n]);return function(a){+a==+a&&(d.zIndex=+a)}};w.f=function(a){var d=[].slice.call(arguments,1);return function(){w.apply(null,\n",
       "[a,null].concat(d).concat([].slice.call(arguments,0)))}};w.stop=function(){v=1};w.nt=function(k){return k?(new RegExp(\"(?:\\\\.|\\\\/|^)\"+k+\"(?:\\\\.|\\\\/|$)\")).test(a):a};w.nts=function(){return a.split(k)};w.off=w.unbind=function(a,d){if(a){var f=a.split(L);if(1<f.length)for(var n=0,u=f.length;n<u;n++)w.off(f[n],d);else{for(var f=a.split(k),p,b,q,e,l=[y],n=0,u=f.length;n<u;n++)for(e=0;e<l.length;e+=q.length-2){q=[e,1];p=l[e].n;if(\"*\"!=f[n])p[f[n] ]&&q.push(p[f[n] ]);else for(b in p)p.hasOwnProperty(b)&&\n",
       "q.push(p[b]);l.splice.apply(l,q)}n=0;for(u=l.length;n<u;n++)for(p=l[n];p.n;){if(d){if(p.f){e=0;for(f=p.f.length;e<f;e++)if(p.f[e]==d){p.f.splice(e,1);break}!p.f.length&&delete p.f}for(b in p.n)if(p.n.hasOwnProperty(b)&&p.n[b].f){q=p.n[b].f;e=0;for(f=q.length;e<f;e++)if(q[e]==d){q.splice(e,1);break}!q.length&&delete p.n[b].f}}else for(b in delete p.f,p.n)p.n.hasOwnProperty(b)&&p.n[b].f&&delete p.n[b].f;p=p.n}}}else w._events=y={n:{}}};w.once=function(a,d){var f=function(){w.unbind(a,f);return d.apply(this,\n",
       "arguments)};return w.on(a,f)};w.version=\"0.4.2\";w.toString=function(){return\"You are running Eve 0.4.2\"};\"undefined\"!=typeof module&&module.exports?module.exports=w:\"function\"===typeof define&&define.amd?define(\"eve\",[],function(){return w}):N.eve=w})(this);\n",
       "(function(N,k){\"function\"===typeof define&&define.amd?define(\"Snap.svg\",[\"eve\"],function(L){return k(N,L)}):k(N,N.eve)})(this,function(N,k){var L=function(a){var k={},y=N.requestAnimationFrame||N.webkitRequestAnimationFrame||N.mozRequestAnimationFrame||N.oRequestAnimationFrame||N.msRequestAnimationFrame||function(a){setTimeout(a,16)},M=Array.isArray||function(a){return a instanceof Array||\"[object Array]\"==Object.prototype.toString.call(a)},A=0,w=\"M\"+(+new Date).toString(36),z=function(a){if(null==\n",
       "a)return this.s;var b=this.s-a;this.b+=this.dur*b;this.B+=this.dur*b;this.s=a},d=function(a){if(null==a)return this.spd;this.spd=a},f=function(a){if(null==a)return this.dur;this.s=this.s*a/this.dur;this.dur=a},n=function(){delete k[this.id];this.update();a(\"mina.stop.\"+this.id,this)},u=function(){this.pdif||(delete k[this.id],this.update(),this.pdif=this.get()-this.b)},p=function(){this.pdif&&(this.b=this.get()-this.pdif,delete this.pdif,k[this.id]=this)},b=function(){var a;if(M(this.start)){a=[];\n",
       "for(var b=0,e=this.start.length;b<e;b++)a[b]=+this.start[b]+(this.end[b]-this.start[b])*this.easing(this.s)}else a=+this.start+(this.end-this.start)*this.easing(this.s);this.set(a)},q=function(){var l=0,b;for(b in k)if(k.hasOwnProperty(b)){var e=k[b],f=e.get();l++;e.s=(f-e.b)/(e.dur/e.spd);1<=e.s&&(delete k[b],e.s=1,l--,function(b){setTimeout(function(){a(\"mina.finish.\"+b.id,b)})}(e));e.update()}l&&y(q)},e=function(a,r,s,x,G,h,J){a={id:w+(A++).toString(36),start:a,end:r,b:s,s:0,dur:x-s,spd:1,get:G,\n",
       "set:h,easing:J||e.linear,status:z,speed:d,duration:f,stop:n,pause:u,resume:p,update:b};k[a.id]=a;r=0;for(var K in k)if(k.hasOwnProperty(K)&&(r++,2==r))break;1==r&&y(q);return a};e.time=Date.now||function(){return+new Date};e.getById=function(a){return k[a]||null};e.linear=function(a){return a};e.easeout=function(a){return Math.pow(a,1.7)};e.easein=function(a){return Math.pow(a,0.48)};e.easeinout=function(a){if(1==a)return 1;if(0==a)return 0;var b=0.48-a/1.04,e=Math.sqrt(0.1734+b*b);a=e-b;a=Math.pow(Math.abs(a),\n",
       "1/3)*(0>a?-1:1);b=-e-b;b=Math.pow(Math.abs(b),1/3)*(0>b?-1:1);a=a+b+0.5;return 3*(1-a)*a*a+a*a*a};e.backin=function(a){return 1==a?1:a*a*(2.70158*a-1.70158)};e.backout=function(a){if(0==a)return 0;a-=1;return a*a*(2.70158*a+1.70158)+1};e.elastic=function(a){return a==!!a?a:Math.pow(2,-10*a)*Math.sin(2*(a-0.075)*Math.PI/0.3)+1};e.bounce=function(a){a<1/2.75?a*=7.5625*a:a<2/2.75?(a-=1.5/2.75,a=7.5625*a*a+0.75):a<2.5/2.75?(a-=2.25/2.75,a=7.5625*a*a+0.9375):(a-=2.625/2.75,a=7.5625*a*a+0.984375);return a};\n",
       "return N.mina=e}(\"undefined\"==typeof k?function(){}:k),C=function(){function a(c,t){if(c){if(c.tagName)return x(c);if(y(c,\"array\")&&a.set)return a.set.apply(a,c);if(c instanceof e)return c;if(null==t)return c=G.doc.querySelector(c),x(c)}return new s(null==c?\"100%\":c,null==t?\"100%\":t)}function v(c,a){if(a){\"#text\"==c&&(c=G.doc.createTextNode(a.text||\"\"));\"string\"==typeof c&&(c=v(c));if(\"string\"==typeof a)return\"xlink:\"==a.substring(0,6)?c.getAttributeNS(m,a.substring(6)):\"xml:\"==a.substring(0,4)?c.getAttributeNS(la,\n",
       "a.substring(4)):c.getAttribute(a);for(var da in a)if(a[h](da)){var b=J(a[da]);b?\"xlink:\"==da.substring(0,6)?c.setAttributeNS(m,da.substring(6),b):\"xml:\"==da.substring(0,4)?c.setAttributeNS(la,da.substring(4),b):c.setAttribute(da,b):c.removeAttribute(da)}}else c=G.doc.createElementNS(la,c);return c}function y(c,a){a=J.prototype.toLowerCase.call(a);return\"finite\"==a?isFinite(c):\"array\"==a&&(c instanceof Array||Array.isArray&&Array.isArray(c))?!0:\"null\"==a&&null===c||a==typeof c&&null!==c||\"object\"==\n",
       "a&&c===Object(c)||$.call(c).slice(8,-1).toLowerCase()==a}function M(c){if(\"function\"==typeof c||Object(c)!==c)return c;var a=new c.constructor,b;for(b in c)c[h](b)&&(a[b]=M(c[b]));return a}function A(c,a,b){function m(){var e=Array.prototype.slice.call(arguments,0),f=e.join(\"\\u2400\"),d=m.cache=m.cache||{},l=m.count=m.count||[];if(d[h](f)){a:for(var e=l,l=f,B=0,H=e.length;B<H;B++)if(e[B]===l){e.push(e.splice(B,1)[0]);break a}return b?b(d[f]):d[f]}1E3<=l.length&&delete d[l.shift()];l.push(f);d[f]=c.apply(a,\n",
       "e);return b?b(d[f]):d[f]}return m}function w(c,a,b,m,e,f){return null==e?(c-=b,a-=m,c||a?(180*I.atan2(-a,-c)/C+540)%360:0):w(c,a,e,f)-w(b,m,e,f)}function z(c){return c%360*C/180}function d(c){var a=[];c=c.replace(/(?:^|\\s)(\\w+)\\(([^)]+)\\)/g,function(c,b,m){m=m.split(/\\s*,\\s*|\\s+/);\"rotate\"==b&&1==m.length&&m.push(0,0);\"scale\"==b&&(2<m.length?m=m.slice(0,2):2==m.length&&m.push(0,0),1==m.length&&m.push(m[0],0,0));\"skewX\"==b?a.push([\"m\",1,0,I.tan(z(m[0])),1,0,0]):\"skewY\"==b?a.push([\"m\",1,I.tan(z(m[0])),\n",
       "0,1,0,0]):a.push([b.charAt(0)].concat(m));return c});return a}function f(c,t){var b=O(c),m=new a.Matrix;if(b)for(var e=0,f=b.length;e<f;e++){var h=b[e],d=h.length,B=J(h[0]).toLowerCase(),H=h[0]!=B,l=H?m.invert():0,E;\"t\"==B&&2==d?m.translate(h[1],0):\"t\"==B&&3==d?H?(d=l.x(0,0),B=l.y(0,0),H=l.x(h[1],h[2]),l=l.y(h[1],h[2]),m.translate(H-d,l-B)):m.translate(h[1],h[2]):\"r\"==B?2==d?(E=E||t,m.rotate(h[1],E.x+E.width/2,E.y+E.height/2)):4==d&&(H?(H=l.x(h[2],h[3]),l=l.y(h[2],h[3]),m.rotate(h[1],H,l)):m.rotate(h[1],\n",
       "h[2],h[3])):\"s\"==B?2==d||3==d?(E=E||t,m.scale(h[1],h[d-1],E.x+E.width/2,E.y+E.height/2)):4==d?H?(H=l.x(h[2],h[3]),l=l.y(h[2],h[3]),m.scale(h[1],h[1],H,l)):m.scale(h[1],h[1],h[2],h[3]):5==d&&(H?(H=l.x(h[3],h[4]),l=l.y(h[3],h[4]),m.scale(h[1],h[2],H,l)):m.scale(h[1],h[2],h[3],h[4])):\"m\"==B&&7==d&&m.add(h[1],h[2],h[3],h[4],h[5],h[6])}return m}function n(c,t){if(null==t){var m=!0;t=\"linearGradient\"==c.type||\"radialGradient\"==c.type?c.node.getAttribute(\"gradientTransform\"):\"pattern\"==c.type?c.node.getAttribute(\"patternTransform\"):\n",
       "c.node.getAttribute(\"transform\");if(!t)return new a.Matrix;t=d(t)}else t=a._.rgTransform.test(t)?J(t).replace(/\\.{3}|\\u2026/g,c._.transform||aa):d(t),y(t,\"array\")&&(t=a.path?a.path.toString.call(t):J(t)),c._.transform=t;var b=f(t,c.getBBox(1));if(m)return b;c.matrix=b}function u(c){c=c.node.ownerSVGElement&&x(c.node.ownerSVGElement)||c.node.parentNode&&x(c.node.parentNode)||a.select(\"svg\")||a(0,0);var t=c.select(\"defs\"),t=null==t?!1:t.node;t||(t=r(\"defs\",c.node).node);return t}function p(c){return c.node.ownerSVGElement&&\n",
       "x(c.node.ownerSVGElement)||a.select(\"svg\")}function b(c,a,m){function b(c){if(null==c)return aa;if(c==+c)return c;v(B,{width:c});try{return B.getBBox().width}catch(a){return 0}}function h(c){if(null==c)return aa;if(c==+c)return c;v(B,{height:c});try{return B.getBBox().height}catch(a){return 0}}function e(b,B){null==a?d[b]=B(c.attr(b)||0):b==a&&(d=B(null==m?c.attr(b)||0:m))}var f=p(c).node,d={},B=f.querySelector(\".svg---mgr\");B||(B=v(\"rect\"),v(B,{x:-9E9,y:-9E9,width:10,height:10,\"class\":\"svg---mgr\",\n",
       "fill:\"none\"}),f.appendChild(B));switch(c.type){case \"rect\":e(\"rx\",b),e(\"ry\",h);case \"image\":e(\"width\",b),e(\"height\",h);case \"text\":e(\"x\",b);e(\"y\",h);break;case \"circle\":e(\"cx\",b);e(\"cy\",h);e(\"r\",b);break;case \"ellipse\":e(\"cx\",b);e(\"cy\",h);e(\"rx\",b);e(\"ry\",h);break;case \"line\":e(\"x1\",b);e(\"x2\",b);e(\"y1\",h);e(\"y2\",h);break;case \"marker\":e(\"refX\",b);e(\"markerWidth\",b);e(\"refY\",h);e(\"markerHeight\",h);break;case \"radialGradient\":e(\"fx\",b);e(\"fy\",h);break;case \"tspan\":e(\"dx\",b);e(\"dy\",h);break;default:e(a,\n",
       "b)}f.removeChild(B);return d}function q(c){y(c,\"array\")||(c=Array.prototype.slice.call(arguments,0));for(var a=0,b=0,m=this.node;this[a];)delete this[a++];for(a=0;a<c.length;a++)\"set\"==c[a].type?c[a].forEach(function(c){m.appendChild(c.node)}):m.appendChild(c[a].node);for(var h=m.childNodes,a=0;a<h.length;a++)this[b++]=x(h[a]);return this}function e(c){if(c.snap in E)return E[c.snap];var a=this.id=V(),b;try{b=c.ownerSVGElement}catch(m){}this.node=c;b&&(this.paper=new s(b));this.type=c.tagName;this.anims=\n",
       "{};this._={transform:[]};c.snap=a;E[a]=this;\"g\"==this.type&&(this.add=q);if(this.type in{g:1,mask:1,pattern:1})for(var e in s.prototype)s.prototype[h](e)&&(this[e]=s.prototype[e])}function l(c){this.node=c}function r(c,a){var b=v(c);a.appendChild(b);return x(b)}function s(c,a){var b,m,f,d=s.prototype;if(c&&\"svg\"==c.tagName){if(c.snap in E)return E[c.snap];var l=c.ownerDocument;b=new e(c);m=c.getElementsByTagName(\"desc\")[0];f=c.getElementsByTagName(\"defs\")[0];m||(m=v(\"desc\"),m.appendChild(l.createTextNode(\"Created with Snap\")),\n",
       "b.node.appendChild(m));f||(f=v(\"defs\"),b.node.appendChild(f));b.defs=f;for(var ca in d)d[h](ca)&&(b[ca]=d[ca]);b.paper=b.root=b}else b=r(\"svg\",G.doc.body),v(b.node,{height:a,version:1.1,width:c,xmlns:la});return b}function x(c){return!c||c instanceof e||c instanceof l?c:c.tagName&&\"svg\"==c.tagName.toLowerCase()?new s(c):c.tagName&&\"object\"==c.tagName.toLowerCase()&&\"image/svg+xml\"==c.type?new s(c.contentDocument.getElementsByTagName(\"svg\")[0]):new e(c)}a.version=\"0.3.0\";a.toString=function(){return\"Snap v\"+\n",
       "this.version};a._={};var G={win:N,doc:N.document};a._.glob=G;var h=\"hasOwnProperty\",J=String,K=parseFloat,U=parseInt,I=Math,P=I.max,Q=I.min,Y=I.abs,C=I.PI,aa=\"\",$=Object.prototype.toString,F=/^\\s*((#[a-f\\d]{6})|(#[a-f\\d]{3})|rgba?\\(\\s*([\\d\\.]+%?\\s*,\\s*[\\d\\.]+%?\\s*,\\s*[\\d\\.]+%?(?:\\s*,\\s*[\\d\\.]+%?)?)\\s*\\)|hsba?\\(\\s*([\\d\\.]+(?:deg|\\xb0|%)?\\s*,\\s*[\\d\\.]+%?\\s*,\\s*[\\d\\.]+(?:%?\\s*,\\s*[\\d\\.]+)?%?)\\s*\\)|hsla?\\(\\s*([\\d\\.]+(?:deg|\\xb0|%)?\\s*,\\s*[\\d\\.]+%?\\s*,\\s*[\\d\\.]+(?:%?\\s*,\\s*[\\d\\.]+)?%?)\\s*\\))\\s*$/i;a._.separator=\n",
       "RegExp(\"[,\\t\\n\\x0B\\f\\r \\u00a0\\u1680\\u180e\\u2000\\u2001\\u2002\\u2003\\u2004\\u2005\\u2006\\u2007\\u2008\\u2009\\u200a\\u202f\\u205f\\u3000\\u2028\\u2029]+\");var S=RegExp(\"[\\t\\n\\x0B\\f\\r \\u00a0\\u1680\\u180e\\u2000\\u2001\\u2002\\u2003\\u2004\\u2005\\u2006\\u2007\\u2008\\u2009\\u200a\\u202f\\u205f\\u3000\\u2028\\u2029]*,[\\t\\n\\x0B\\f\\r \\u00a0\\u1680\\u180e\\u2000\\u2001\\u2002\\u2003\\u2004\\u2005\\u2006\\u2007\\u2008\\u2009\\u200a\\u202f\\u205f\\u3000\\u2028\\u2029]*\"),X={hs:1,rg:1},W=RegExp(\"([a-z])[\\t\\n\\x0B\\f\\r \\u00a0\\u1680\\u180e\\u2000\\u2001\\u2002\\u2003\\u2004\\u2005\\u2006\\u2007\\u2008\\u2009\\u200a\\u202f\\u205f\\u3000\\u2028\\u2029,]*((-?\\\\d*\\\\.?\\\\d*(?:e[\\\\-+]?\\\\d+)?[\\t\\n\\x0B\\f\\r \\u00a0\\u1680\\u180e\\u2000\\u2001\\u2002\\u2003\\u2004\\u2005\\u2006\\u2007\\u2008\\u2009\\u200a\\u202f\\u205f\\u3000\\u2028\\u2029]*,?[\\t\\n\\x0B\\f\\r \\u00a0\\u1680\\u180e\\u2000\\u2001\\u2002\\u2003\\u2004\\u2005\\u2006\\u2007\\u2008\\u2009\\u200a\\u202f\\u205f\\u3000\\u2028\\u2029]*)+)\",\n",
       "\"ig\"),ma=RegExp(\"([rstm])[\\t\\n\\x0B\\f\\r \\u00a0\\u1680\\u180e\\u2000\\u2001\\u2002\\u2003\\u2004\\u2005\\u2006\\u2007\\u2008\\u2009\\u200a\\u202f\\u205f\\u3000\\u2028\\u2029,]*((-?\\\\d*\\\\.?\\\\d*(?:e[\\\\-+]?\\\\d+)?[\\t\\n\\x0B\\f\\r \\u00a0\\u1680\\u180e\\u2000\\u2001\\u2002\\u2003\\u2004\\u2005\\u2006\\u2007\\u2008\\u2009\\u200a\\u202f\\u205f\\u3000\\u2028\\u2029]*,?[\\t\\n\\x0B\\f\\r \\u00a0\\u1680\\u180e\\u2000\\u2001\\u2002\\u2003\\u2004\\u2005\\u2006\\u2007\\u2008\\u2009\\u200a\\u202f\\u205f\\u3000\\u2028\\u2029]*)+)\",\"ig\"),Z=RegExp(\"(-?\\\\d*\\\\.?\\\\d*(?:e[\\\\-+]?\\\\d+)?)[\\t\\n\\x0B\\f\\r \\u00a0\\u1680\\u180e\\u2000\\u2001\\u2002\\u2003\\u2004\\u2005\\u2006\\u2007\\u2008\\u2009\\u200a\\u202f\\u205f\\u3000\\u2028\\u2029]*,?[\\t\\n\\x0B\\f\\r \\u00a0\\u1680\\u180e\\u2000\\u2001\\u2002\\u2003\\u2004\\u2005\\u2006\\u2007\\u2008\\u2009\\u200a\\u202f\\u205f\\u3000\\u2028\\u2029]*\",\n",
       "\"ig\"),na=0,ba=\"S\"+(+new Date).toString(36),V=function(){return ba+(na++).toString(36)},m=\"http://www.w3.org/1999/xlink\",la=\"http://www.w3.org/2000/svg\",E={},ca=a.url=function(c){return\"url('#\"+c+\"')\"};a._.$=v;a._.id=V;a.format=function(){var c=/\\{([^\\}]+)\\}/g,a=/(?:(?:^|\\.)(.+?)(?=\\[|\\.|$|\\()|\\[('|\")(.+?)\\2\\])(\\(\\))?/g,b=function(c,b,m){var h=m;b.replace(a,function(c,a,b,m,t){a=a||m;h&&(a in h&&(h=h[a]),\"function\"==typeof h&&t&&(h=h()))});return h=(null==h||h==m?c:h)+\"\"};return function(a,m){return J(a).replace(c,\n",
       "function(c,a){return b(c,a,m)})}}();a._.clone=M;a._.cacher=A;a.rad=z;a.deg=function(c){return 180*c/C%360};a.angle=w;a.is=y;a.snapTo=function(c,a,b){b=y(b,\"finite\")?b:10;if(y(c,\"array\"))for(var m=c.length;m--;){if(Y(c[m]-a)<=b)return c[m]}else{c=+c;m=a%c;if(m<b)return a-m;if(m>c-b)return a-m+c}return a};a.getRGB=A(function(c){if(!c||(c=J(c)).indexOf(\"-\")+1)return{r:-1,g:-1,b:-1,hex:\"none\",error:1,toString:ka};if(\"none\"==c)return{r:-1,g:-1,b:-1,hex:\"none\",toString:ka};!X[h](c.toLowerCase().substring(0,\n",
       "2))&&\"#\"!=c.charAt()&&(c=T(c));if(!c)return{r:-1,g:-1,b:-1,hex:\"none\",error:1,toString:ka};var b,m,e,f,d;if(c=c.match(F)){c[2]&&(e=U(c[2].substring(5),16),m=U(c[2].substring(3,5),16),b=U(c[2].substring(1,3),16));c[3]&&(e=U((d=c[3].charAt(3))+d,16),m=U((d=c[3].charAt(2))+d,16),b=U((d=c[3].charAt(1))+d,16));c[4]&&(d=c[4].split(S),b=K(d[0]),\"%\"==d[0].slice(-1)&&(b*=2.55),m=K(d[1]),\"%\"==d[1].slice(-1)&&(m*=2.55),e=K(d[2]),\"%\"==d[2].slice(-1)&&(e*=2.55),\"rgba\"==c[1].toLowerCase().slice(0,4)&&(f=K(d[3])),\n",
       "d[3]&&\"%\"==d[3].slice(-1)&&(f/=100));if(c[5])return d=c[5].split(S),b=K(d[0]),\"%\"==d[0].slice(-1)&&(b/=100),m=K(d[1]),\"%\"==d[1].slice(-1)&&(m/=100),e=K(d[2]),\"%\"==d[2].slice(-1)&&(e/=100),\"deg\"!=d[0].slice(-3)&&\"\\u00b0\"!=d[0].slice(-1)||(b/=360),\"hsba\"==c[1].toLowerCase().slice(0,4)&&(f=K(d[3])),d[3]&&\"%\"==d[3].slice(-1)&&(f/=100),a.hsb2rgb(b,m,e,f);if(c[6])return d=c[6].split(S),b=K(d[0]),\"%\"==d[0].slice(-1)&&(b/=100),m=K(d[1]),\"%\"==d[1].slice(-1)&&(m/=100),e=K(d[2]),\"%\"==d[2].slice(-1)&&(e/=100),\n",
       "\"deg\"!=d[0].slice(-3)&&\"\\u00b0\"!=d[0].slice(-1)||(b/=360),\"hsla\"==c[1].toLowerCase().slice(0,4)&&(f=K(d[3])),d[3]&&\"%\"==d[3].slice(-1)&&(f/=100),a.hsl2rgb(b,m,e,f);b=Q(I.round(b),255);m=Q(I.round(m),255);e=Q(I.round(e),255);f=Q(P(f,0),1);c={r:b,g:m,b:e,toString:ka};c.hex=\"#\"+(16777216|e|m<<8|b<<16).toString(16).slice(1);c.opacity=y(f,\"finite\")?f:1;return c}return{r:-1,g:-1,b:-1,hex:\"none\",error:1,toString:ka}},a);a.hsb=A(function(c,b,m){return a.hsb2rgb(c,b,m).hex});a.hsl=A(function(c,b,m){return a.hsl2rgb(c,\n",
       "b,m).hex});a.rgb=A(function(c,a,b,m){if(y(m,\"finite\")){var e=I.round;return\"rgba(\"+[e(c),e(a),e(b),+m.toFixed(2)]+\")\"}return\"#\"+(16777216|b|a<<8|c<<16).toString(16).slice(1)});var T=function(c){var a=G.doc.getElementsByTagName(\"head\")[0]||G.doc.getElementsByTagName(\"svg\")[0];T=A(function(c){if(\"red\"==c.toLowerCase())return\"rgb(255, 0, 0)\";a.style.color=\"rgb(255, 0, 0)\";a.style.color=c;c=G.doc.defaultView.getComputedStyle(a,aa).getPropertyValue(\"color\");return\"rgb(255, 0, 0)\"==c?null:c});return T(c)},\n",
       "qa=function(){return\"hsb(\"+[this.h,this.s,this.b]+\")\"},ra=function(){return\"hsl(\"+[this.h,this.s,this.l]+\")\"},ka=function(){return 1==this.opacity||null==this.opacity?this.hex:\"rgba(\"+[this.r,this.g,this.b,this.opacity]+\")\"},D=function(c,b,m){null==b&&y(c,\"object\")&&\"r\"in c&&\"g\"in c&&\"b\"in c&&(m=c.b,b=c.g,c=c.r);null==b&&y(c,string)&&(m=a.getRGB(c),c=m.r,b=m.g,m=m.b);if(1<c||1<b||1<m)c/=255,b/=255,m/=255;return[c,b,m]},oa=function(c,b,m,e){c=I.round(255*c);b=I.round(255*b);m=I.round(255*m);c={r:c,\n",
       "g:b,b:m,opacity:y(e,\"finite\")?e:1,hex:a.rgb(c,b,m),toString:ka};y(e,\"finite\")&&(c.opacity=e);return c};a.color=function(c){var b;y(c,\"object\")&&\"h\"in c&&\"s\"in c&&\"b\"in c?(b=a.hsb2rgb(c),c.r=b.r,c.g=b.g,c.b=b.b,c.opacity=1,c.hex=b.hex):y(c,\"object\")&&\"h\"in c&&\"s\"in c&&\"l\"in c?(b=a.hsl2rgb(c),c.r=b.r,c.g=b.g,c.b=b.b,c.opacity=1,c.hex=b.hex):(y(c,\"string\")&&(c=a.getRGB(c)),y(c,\"object\")&&\"r\"in c&&\"g\"in c&&\"b\"in c&&!(\"error\"in c)?(b=a.rgb2hsl(c),c.h=b.h,c.s=b.s,c.l=b.l,b=a.rgb2hsb(c),c.v=b.b):(c={hex:\"none\"},\n",
       "c.r=c.g=c.b=c.h=c.s=c.v=c.l=-1,c.error=1));c.toString=ka;return c};a.hsb2rgb=function(c,a,b,m){y(c,\"object\")&&\"h\"in c&&\"s\"in c&&\"b\"in c&&(b=c.b,a=c.s,c=c.h,m=c.o);var e,h,d;c=360*c%360/60;d=b*a;a=d*(1-Y(c%2-1));b=e=h=b-d;c=~~c;b+=[d,a,0,0,a,d][c];e+=[a,d,d,a,0,0][c];h+=[0,0,a,d,d,a][c];return oa(b,e,h,m)};a.hsl2rgb=function(c,a,b,m){y(c,\"object\")&&\"h\"in c&&\"s\"in c&&\"l\"in c&&(b=c.l,a=c.s,c=c.h);if(1<c||1<a||1<b)c/=360,a/=100,b/=100;var e,h,d;c=360*c%360/60;d=2*a*(0.5>b?b:1-b);a=d*(1-Y(c%2-1));b=e=\n",
       "h=b-d/2;c=~~c;b+=[d,a,0,0,a,d][c];e+=[a,d,d,a,0,0][c];h+=[0,0,a,d,d,a][c];return oa(b,e,h,m)};a.rgb2hsb=function(c,a,b){b=D(c,a,b);c=b[0];a=b[1];b=b[2];var m,e;m=P(c,a,b);e=m-Q(c,a,b);c=((0==e?0:m==c?(a-b)/e:m==a?(b-c)/e+2:(c-a)/e+4)+360)%6*60/360;return{h:c,s:0==e?0:e/m,b:m,toString:qa}};a.rgb2hsl=function(c,a,b){b=D(c,a,b);c=b[0];a=b[1];b=b[2];var m,e,h;m=P(c,a,b);e=Q(c,a,b);h=m-e;c=((0==h?0:m==c?(a-b)/h:m==a?(b-c)/h+2:(c-a)/h+4)+360)%6*60/360;m=(m+e)/2;return{h:c,s:0==h?0:0.5>m?h/(2*m):h/(2-2*\n",
       "m),l:m,toString:ra}};a.parsePathString=function(c){if(!c)return null;var b=a.path(c);if(b.arr)return a.path.clone(b.arr);var m={a:7,c:6,o:2,h:1,l:2,m:2,r:4,q:4,s:4,t:2,v:1,u:3,z:0},e=[];y(c,\"array\")&&y(c[0],\"array\")&&(e=a.path.clone(c));e.length||J(c).replace(W,function(c,a,b){var h=[];c=a.toLowerCase();b.replace(Z,function(c,a){a&&h.push(+a)});\"m\"==c&&2<h.length&&(e.push([a].concat(h.splice(0,2))),c=\"l\",a=\"m\"==a?\"l\":\"L\");\"o\"==c&&1==h.length&&e.push([a,h[0] ]);if(\"r\"==c)e.push([a].concat(h));else for(;h.length>=\n",
       "m[c]&&(e.push([a].concat(h.splice(0,m[c]))),m[c]););});e.toString=a.path.toString;b.arr=a.path.clone(e);return e};var O=a.parseTransformString=function(c){if(!c)return null;var b=[];y(c,\"array\")&&y(c[0],\"array\")&&(b=a.path.clone(c));b.length||J(c).replace(ma,function(c,a,m){var e=[];a.toLowerCase();m.replace(Z,function(c,a){a&&e.push(+a)});b.push([a].concat(e))});b.toString=a.path.toString;return b};a._.svgTransform2string=d;a._.rgTransform=RegExp(\"^[a-z][\\t\\n\\x0B\\f\\r \\u00a0\\u1680\\u180e\\u2000\\u2001\\u2002\\u2003\\u2004\\u2005\\u2006\\u2007\\u2008\\u2009\\u200a\\u202f\\u205f\\u3000\\u2028\\u2029]*-?\\\\.?\\\\d\",\n",
       "\"i\");a._.transform2matrix=f;a._unit2px=b;a._.getSomeDefs=u;a._.getSomeSVG=p;a.select=function(c){return x(G.doc.querySelector(c))};a.selectAll=function(c){c=G.doc.querySelectorAll(c);for(var b=(a.set||Array)(),m=0;m<c.length;m++)b.push(x(c[m]));return b};setInterval(function(){for(var c in E)if(E[h](c)){var a=E[c],b=a.node;(\"svg\"!=a.type&&!b.ownerSVGElement||\"svg\"==a.type&&(!b.parentNode||\"ownerSVGElement\"in b.parentNode&&!b.ownerSVGElement))&&delete E[c]}},1E4);(function(c){function m(c){function a(c,\n",
       "b){var m=v(c.node,b);(m=(m=m&&m.match(d))&&m[2])&&\"#\"==m.charAt()&&(m=m.substring(1))&&(f[m]=(f[m]||[]).concat(function(a){var m={};m[b]=ca(a);v(c.node,m)}))}function b(c){var a=v(c.node,\"xlink:href\");a&&\"#\"==a.charAt()&&(a=a.substring(1))&&(f[a]=(f[a]||[]).concat(function(a){c.attr(\"xlink:href\",\"#\"+a)}))}var e=c.selectAll(\"*\"),h,d=/^\\s*url\\((\"|'|)(.*)\\1\\)\\s*$/;c=[];for(var f={},l=0,E=e.length;l<E;l++){h=e[l];a(h,\"fill\");a(h,\"stroke\");a(h,\"filter\");a(h,\"mask\");a(h,\"clip-path\");b(h);var t=v(h.node,\n",
       "\"id\");t&&(v(h.node,{id:h.id}),c.push({old:t,id:h.id}))}l=0;for(E=c.length;l<E;l++)if(e=f[c[l].old])for(h=0,t=e.length;h<t;h++)e[h](c[l].id)}function e(c,a,b){return function(m){m=m.slice(c,a);1==m.length&&(m=m[0]);return b?b(m):m}}function d(c){return function(){var a=c?\"<\"+this.type:\"\",b=this.node.attributes,m=this.node.childNodes;if(c)for(var e=0,h=b.length;e<h;e++)a+=\" \"+b[e].name+'=\"'+b[e].value.replace(/\"/g,'\\\\\"')+'\"';if(m.length){c&&(a+=\">\");e=0;for(h=m.length;e<h;e++)3==m[e].nodeType?a+=m[e].nodeValue:\n",
       "1==m[e].nodeType&&(a+=x(m[e]).toString());c&&(a+=\"</\"+this.type+\">\")}else c&&(a+=\"/>\");return a}}c.attr=function(c,a){if(!c)return this;if(y(c,\"string\"))if(1<arguments.length){var b={};b[c]=a;c=b}else return k(\"snap.util.getattr.\"+c,this).firstDefined();for(var m in c)c[h](m)&&k(\"snap.util.attr.\"+m,this,c[m]);return this};c.getBBox=function(c){if(!a.Matrix||!a.path)return this.node.getBBox();var b=this,m=new a.Matrix;if(b.removed)return a._.box();for(;\"use\"==b.type;)if(c||(m=m.add(b.transform().localMatrix.translate(b.attr(\"x\")||\n",
       "0,b.attr(\"y\")||0))),b.original)b=b.original;else var e=b.attr(\"xlink:href\"),b=b.original=b.node.ownerDocument.getElementById(e.substring(e.indexOf(\"#\")+1));var e=b._,h=a.path.get[b.type]||a.path.get.deflt;try{if(c)return e.bboxwt=h?a.path.getBBox(b.realPath=h(b)):a._.box(b.node.getBBox()),a._.box(e.bboxwt);b.realPath=h(b);b.matrix=b.transform().localMatrix;e.bbox=a.path.getBBox(a.path.map(b.realPath,m.add(b.matrix)));return a._.box(e.bbox)}catch(d){return a._.box()}};var f=function(){return this.string};\n",
       "c.transform=function(c){var b=this._;if(null==c){var m=this;c=new a.Matrix(this.node.getCTM());for(var e=n(this),h=[e],d=new a.Matrix,l=e.toTransformString(),b=J(e)==J(this.matrix)?J(b.transform):l;\"svg\"!=m.type&&(m=m.parent());)h.push(n(m));for(m=h.length;m--;)d.add(h[m]);return{string:b,globalMatrix:c,totalMatrix:d,localMatrix:e,diffMatrix:c.clone().add(e.invert()),global:c.toTransformString(),total:d.toTransformString(),local:l,toString:f}}c instanceof a.Matrix?this.matrix=c:n(this,c);this.node&&\n",
       "(\"linearGradient\"==this.type||\"radialGradient\"==this.type?v(this.node,{gradientTransform:this.matrix}):\"pattern\"==this.type?v(this.node,{patternTransform:this.matrix}):v(this.node,{transform:this.matrix}));return this};c.parent=function(){return x(this.node.parentNode)};c.append=c.add=function(c){if(c){if(\"set\"==c.type){var a=this;c.forEach(function(c){a.add(c)});return this}c=x(c);this.node.appendChild(c.node);c.paper=this.paper}return this};c.appendTo=function(c){c&&(c=x(c),c.append(this));return this};\n",
       "c.prepend=function(c){if(c){if(\"set\"==c.type){var a=this,b;c.forEach(function(c){b?b.after(c):a.prepend(c);b=c});return this}c=x(c);var m=c.parent();this.node.insertBefore(c.node,this.node.firstChild);this.add&&this.add();c.paper=this.paper;this.parent()&&this.parent().add();m&&m.add()}return this};c.prependTo=function(c){c=x(c);c.prepend(this);return this};c.before=function(c){if(\"set\"==c.type){var a=this;c.forEach(function(c){var b=c.parent();a.node.parentNode.insertBefore(c.node,a.node);b&&b.add()});\n",
       "this.parent().add();return this}c=x(c);var b=c.parent();this.node.parentNode.insertBefore(c.node,this.node);this.parent()&&this.parent().add();b&&b.add();c.paper=this.paper;return this};c.after=function(c){c=x(c);var a=c.parent();this.node.nextSibling?this.node.parentNode.insertBefore(c.node,this.node.nextSibling):this.node.parentNode.appendChild(c.node);this.parent()&&this.parent().add();a&&a.add();c.paper=this.paper;return this};c.insertBefore=function(c){c=x(c);var a=this.parent();c.node.parentNode.insertBefore(this.node,\n",
       "c.node);this.paper=c.paper;a&&a.add();c.parent()&&c.parent().add();return this};c.insertAfter=function(c){c=x(c);var a=this.parent();c.node.parentNode.insertBefore(this.node,c.node.nextSibling);this.paper=c.paper;a&&a.add();c.parent()&&c.parent().add();return this};c.remove=function(){var c=this.parent();this.node.parentNode&&this.node.parentNode.removeChild(this.node);delete this.paper;this.removed=!0;c&&c.add();return this};c.select=function(c){return x(this.node.querySelector(c))};c.selectAll=\n",
       "function(c){c=this.node.querySelectorAll(c);for(var b=(a.set||Array)(),m=0;m<c.length;m++)b.push(x(c[m]));return b};c.asPX=function(c,a){null==a&&(a=this.attr(c));return+b(this,c,a)};c.use=function(){var c,a=this.node.id;a||(a=this.id,v(this.node,{id:a}));c=\"linearGradient\"==this.type||\"radialGradient\"==this.type||\"pattern\"==this.type?r(this.type,this.node.parentNode):r(\"use\",this.node.parentNode);v(c.node,{\"xlink:href\":\"#\"+a});c.original=this;return c};var l=/\\S+/g;c.addClass=function(c){var a=(c||\n",
       "\"\").match(l)||[];c=this.node;var b=c.className.baseVal,m=b.match(l)||[],e,h,d;if(a.length){for(e=0;d=a[e++];)h=m.indexOf(d),~h||m.push(d);a=m.join(\" \");b!=a&&(c.className.baseVal=a)}return this};c.removeClass=function(c){var a=(c||\"\").match(l)||[];c=this.node;var b=c.className.baseVal,m=b.match(l)||[],e,h;if(m.length){for(e=0;h=a[e++];)h=m.indexOf(h),~h&&m.splice(h,1);a=m.join(\" \");b!=a&&(c.className.baseVal=a)}return this};c.hasClass=function(c){return!!~(this.node.className.baseVal.match(l)||[]).indexOf(c)};\n",
       "c.toggleClass=function(c,a){if(null!=a)return a?this.addClass(c):this.removeClass(c);var b=(c||\"\").match(l)||[],m=this.node,e=m.className.baseVal,h=e.match(l)||[],d,f,E;for(d=0;E=b[d++];)f=h.indexOf(E),~f?h.splice(f,1):h.push(E);b=h.join(\" \");e!=b&&(m.className.baseVal=b);return this};c.clone=function(){var c=x(this.node.cloneNode(!0));v(c.node,\"id\")&&v(c.node,{id:c.id});m(c);c.insertAfter(this);return c};c.toDefs=function(){u(this).appendChild(this.node);return this};c.pattern=c.toPattern=function(c,\n",
       "a,b,m){var e=r(\"pattern\",u(this));null==c&&(c=this.getBBox());y(c,\"object\")&&\"x\"in c&&(a=c.y,b=c.width,m=c.height,c=c.x);v(e.node,{x:c,y:a,width:b,height:m,patternUnits:\"userSpaceOnUse\",id:e.id,viewBox:[c,a,b,m].join(\" \")});e.node.appendChild(this.node);return e};c.marker=function(c,a,b,m,e,h){var d=r(\"marker\",u(this));null==c&&(c=this.getBBox());y(c,\"object\")&&\"x\"in c&&(a=c.y,b=c.width,m=c.height,e=c.refX||c.cx,h=c.refY||c.cy,c=c.x);v(d.node,{viewBox:[c,a,b,m].join(\" \"),markerWidth:b,markerHeight:m,\n",
       "orient:\"auto\",refX:e||0,refY:h||0,id:d.id});d.node.appendChild(this.node);return d};var E=function(c,a,b,m){\"function\"!=typeof b||b.length||(m=b,b=L.linear);this.attr=c;this.dur=a;b&&(this.easing=b);m&&(this.callback=m)};a._.Animation=E;a.animation=function(c,a,b,m){return new E(c,a,b,m)};c.inAnim=function(){var c=[],a;for(a in this.anims)this.anims[h](a)&&function(a){c.push({anim:new E(a._attrs,a.dur,a.easing,a._callback),mina:a,curStatus:a.status(),status:function(c){return a.status(c)},stop:function(){a.stop()}})}(this.anims[a]);\n",
       "return c};a.animate=function(c,a,b,m,e,h){\"function\"!=typeof e||e.length||(h=e,e=L.linear);var d=L.time();c=L(c,a,d,d+m,L.time,b,e);h&&k.once(\"mina.finish.\"+c.id,h);return c};c.stop=function(){for(var c=this.inAnim(),a=0,b=c.length;a<b;a++)c[a].stop();return this};c.animate=function(c,a,b,m){\"function\"!=typeof b||b.length||(m=b,b=L.linear);c instanceof E&&(m=c.callback,b=c.easing,a=b.dur,c=c.attr);var d=[],f=[],l={},t,ca,n,T=this,q;for(q in c)if(c[h](q)){T.equal?(n=T.equal(q,J(c[q])),t=n.from,ca=\n",
       "n.to,n=n.f):(t=+T.attr(q),ca=+c[q]);var la=y(t,\"array\")?t.length:1;l[q]=e(d.length,d.length+la,n);d=d.concat(t);f=f.concat(ca)}t=L.time();var p=L(d,f,t,t+a,L.time,function(c){var a={},b;for(b in l)l[h](b)&&(a[b]=l[b](c));T.attr(a)},b);T.anims[p.id]=p;p._attrs=c;p._callback=m;k(\"snap.animcreated.\"+T.id,p);k.once(\"mina.finish.\"+p.id,function(){delete T.anims[p.id];m&&m.call(T)});k.once(\"mina.stop.\"+p.id,function(){delete T.anims[p.id]});return T};var T={};c.data=function(c,b){var m=T[this.id]=T[this.id]||\n",
       "{};if(0==arguments.length)return k(\"snap.data.get.\"+this.id,this,m,null),m;if(1==arguments.length){if(a.is(c,\"object\")){for(var e in c)c[h](e)&&this.data(e,c[e]);return this}k(\"snap.data.get.\"+this.id,this,m[c],c);return m[c]}m[c]=b;k(\"snap.data.set.\"+this.id,this,b,c);return this};c.removeData=function(c){null==c?T[this.id]={}:T[this.id]&&delete T[this.id][c];return this};c.outerSVG=c.toString=d(1);c.innerSVG=d()})(e.prototype);a.parse=function(c){var a=G.doc.createDocumentFragment(),b=!0,m=G.doc.createElement(\"div\");\n",
       "c=J(c);c.match(/^\\s*<\\s*svg(?:\\s|>)/)||(c=\"<svg>\"+c+\"</svg>\",b=!1);m.innerHTML=c;if(c=m.getElementsByTagName(\"svg\")[0])if(b)a=c;else for(;c.firstChild;)a.appendChild(c.firstChild);m.innerHTML=aa;return new l(a)};l.prototype.select=e.prototype.select;l.prototype.selectAll=e.prototype.selectAll;a.fragment=function(){for(var c=Array.prototype.slice.call(arguments,0),b=G.doc.createDocumentFragment(),m=0,e=c.length;m<e;m++){var h=c[m];h.node&&h.node.nodeType&&b.appendChild(h.node);h.nodeType&&b.appendChild(h);\n",
       "\"string\"==typeof h&&b.appendChild(a.parse(h).node)}return new l(b)};a._.make=r;a._.wrap=x;s.prototype.el=function(c,a){var b=r(c,this.node);a&&b.attr(a);return b};k.on(\"snap.util.getattr\",function(){var c=k.nt(),c=c.substring(c.lastIndexOf(\".\")+1),a=c.replace(/[A-Z]/g,function(c){return\"-\"+c.toLowerCase()});return pa[h](a)?this.node.ownerDocument.defaultView.getComputedStyle(this.node,null).getPropertyValue(a):v(this.node,c)});var pa={\"alignment-baseline\":0,\"baseline-shift\":0,clip:0,\"clip-path\":0,\n",
       "\"clip-rule\":0,color:0,\"color-interpolation\":0,\"color-interpolation-filters\":0,\"color-profile\":0,\"color-rendering\":0,cursor:0,direction:0,display:0,\"dominant-baseline\":0,\"enable-background\":0,fill:0,\"fill-opacity\":0,\"fill-rule\":0,filter:0,\"flood-color\":0,\"flood-opacity\":0,font:0,\"font-family\":0,\"font-size\":0,\"font-size-adjust\":0,\"font-stretch\":0,\"font-style\":0,\"font-variant\":0,\"font-weight\":0,\"glyph-orientation-horizontal\":0,\"glyph-orientation-vertical\":0,\"image-rendering\":0,kerning:0,\"letter-spacing\":0,\n",
       "\"lighting-color\":0,marker:0,\"marker-end\":0,\"marker-mid\":0,\"marker-start\":0,mask:0,opacity:0,overflow:0,\"pointer-events\":0,\"shape-rendering\":0,\"stop-color\":0,\"stop-opacity\":0,stroke:0,\"stroke-dasharray\":0,\"stroke-dashoffset\":0,\"stroke-linecap\":0,\"stroke-linejoin\":0,\"stroke-miterlimit\":0,\"stroke-opacity\":0,\"stroke-width\":0,\"text-anchor\":0,\"text-decoration\":0,\"text-rendering\":0,\"unicode-bidi\":0,visibility:0,\"word-spacing\":0,\"writing-mode\":0};k.on(\"snap.util.attr\",function(c){var a=k.nt(),b={},a=a.substring(a.lastIndexOf(\".\")+\n",
       "1);b[a]=c;var m=a.replace(/-(\\w)/gi,function(c,a){return a.toUpperCase()}),a=a.replace(/[A-Z]/g,function(c){return\"-\"+c.toLowerCase()});pa[h](a)?this.node.style[m]=null==c?aa:c:v(this.node,b)});a.ajax=function(c,a,b,m){var e=new XMLHttpRequest,h=V();if(e){if(y(a,\"function\"))m=b,b=a,a=null;else if(y(a,\"object\")){var d=[],f;for(f in a)a.hasOwnProperty(f)&&d.push(encodeURIComponent(f)+\"=\"+encodeURIComponent(a[f]));a=d.join(\"&\")}e.open(a?\"POST\":\"GET\",c,!0);a&&(e.setRequestHeader(\"X-Requested-With\",\"XMLHttpRequest\"),\n",
       "e.setRequestHeader(\"Content-type\",\"application/x-www-form-urlencoded\"));b&&(k.once(\"snap.ajax.\"+h+\".0\",b),k.once(\"snap.ajax.\"+h+\".200\",b),k.once(\"snap.ajax.\"+h+\".304\",b));e.onreadystatechange=function(){4==e.readyState&&k(\"snap.ajax.\"+h+\".\"+e.status,m,e)};if(4==e.readyState)return e;e.send(a);return e}};a.load=function(c,b,m){a.ajax(c,function(c){c=a.parse(c.responseText);m?b.call(m,c):b(c)})};a.getElementByPoint=function(c,a){var b,m,e=G.doc.elementFromPoint(c,a);if(G.win.opera&&\"svg\"==e.tagName){b=\n",
       "e;m=b.getBoundingClientRect();b=b.ownerDocument;var h=b.body,d=b.documentElement;b=m.top+(g.win.pageYOffset||d.scrollTop||h.scrollTop)-(d.clientTop||h.clientTop||0);m=m.left+(g.win.pageXOffset||d.scrollLeft||h.scrollLeft)-(d.clientLeft||h.clientLeft||0);h=e.createSVGRect();h.x=c-m;h.y=a-b;h.width=h.height=1;b=e.getIntersectionList(h,null);b.length&&(e=b[b.length-1])}return e?x(e):null};a.plugin=function(c){c(a,e,s,G,l)};return G.win.Snap=a}();C.plugin(function(a,k,y,M,A){function w(a,d,f,b,q,e){null==\n",
       "d&&\"[object SVGMatrix]\"==z.call(a)?(this.a=a.a,this.b=a.b,this.c=a.c,this.d=a.d,this.e=a.e,this.f=a.f):null!=a?(this.a=+a,this.b=+d,this.c=+f,this.d=+b,this.e=+q,this.f=+e):(this.a=1,this.c=this.b=0,this.d=1,this.f=this.e=0)}var z=Object.prototype.toString,d=String,f=Math;(function(n){function k(a){return a[0]*a[0]+a[1]*a[1]}function p(a){var d=f.sqrt(k(a));a[0]&&(a[0]/=d);a[1]&&(a[1]/=d)}n.add=function(a,d,e,f,n,p){var k=[[],[],[] ],u=[[this.a,this.c,this.e],[this.b,this.d,this.f],[0,0,1] ];d=[[a,\n",
       "e,n],[d,f,p],[0,0,1] ];a&&a instanceof w&&(d=[[a.a,a.c,a.e],[a.b,a.d,a.f],[0,0,1] ]);for(a=0;3>a;a++)for(e=0;3>e;e++){for(f=n=0;3>f;f++)n+=u[a][f]*d[f][e];k[a][e]=n}this.a=k[0][0];this.b=k[1][0];this.c=k[0][1];this.d=k[1][1];this.e=k[0][2];this.f=k[1][2];return this};n.invert=function(){var a=this.a*this.d-this.b*this.c;return new w(this.d/a,-this.b/a,-this.c/a,this.a/a,(this.c*this.f-this.d*this.e)/a,(this.b*this.e-this.a*this.f)/a)};n.clone=function(){return new w(this.a,this.b,this.c,this.d,this.e,\n",
       "this.f)};n.translate=function(a,d){return this.add(1,0,0,1,a,d)};n.scale=function(a,d,e,f){null==d&&(d=a);(e||f)&&this.add(1,0,0,1,e,f);this.add(a,0,0,d,0,0);(e||f)&&this.add(1,0,0,1,-e,-f);return this};n.rotate=function(b,d,e){b=a.rad(b);d=d||0;e=e||0;var l=+f.cos(b).toFixed(9);b=+f.sin(b).toFixed(9);this.add(l,b,-b,l,d,e);return this.add(1,0,0,1,-d,-e)};n.x=function(a,d){return a*this.a+d*this.c+this.e};n.y=function(a,d){return a*this.b+d*this.d+this.f};n.get=function(a){return+this[d.fromCharCode(97+\n",
       "a)].toFixed(4)};n.toString=function(){return\"matrix(\"+[this.get(0),this.get(1),this.get(2),this.get(3),this.get(4),this.get(5)].join()+\")\"};n.offset=function(){return[this.e.toFixed(4),this.f.toFixed(4)]};n.determinant=function(){return this.a*this.d-this.b*this.c};n.split=function(){var b={};b.dx=this.e;b.dy=this.f;var d=[[this.a,this.c],[this.b,this.d] ];b.scalex=f.sqrt(k(d[0]));p(d[0]);b.shear=d[0][0]*d[1][0]+d[0][1]*d[1][1];d[1]=[d[1][0]-d[0][0]*b.shear,d[1][1]-d[0][1]*b.shear];b.scaley=f.sqrt(k(d[1]));\n",
       "p(d[1]);b.shear/=b.scaley;0>this.determinant()&&(b.scalex=-b.scalex);var e=-d[0][1],d=d[1][1];0>d?(b.rotate=a.deg(f.acos(d)),0>e&&(b.rotate=360-b.rotate)):b.rotate=a.deg(f.asin(e));b.isSimple=!+b.shear.toFixed(9)&&(b.scalex.toFixed(9)==b.scaley.toFixed(9)||!b.rotate);b.isSuperSimple=!+b.shear.toFixed(9)&&b.scalex.toFixed(9)==b.scaley.toFixed(9)&&!b.rotate;b.noRotation=!+b.shear.toFixed(9)&&!b.rotate;return b};n.toTransformString=function(a){a=a||this.split();if(+a.shear.toFixed(9))return\"m\"+[this.get(0),\n",
       "this.get(1),this.get(2),this.get(3),this.get(4),this.get(5)];a.scalex=+a.scalex.toFixed(4);a.scaley=+a.scaley.toFixed(4);a.rotate=+a.rotate.toFixed(4);return(a.dx||a.dy?\"t\"+[+a.dx.toFixed(4),+a.dy.toFixed(4)]:\"\")+(1!=a.scalex||1!=a.scaley?\"s\"+[a.scalex,a.scaley,0,0]:\"\")+(a.rotate?\"r\"+[+a.rotate.toFixed(4),0,0]:\"\")}})(w.prototype);a.Matrix=w;a.matrix=function(a,d,f,b,k,e){return new w(a,d,f,b,k,e)}});C.plugin(function(a,v,y,M,A){function w(h){return function(d){k.stop();d instanceof A&&1==d.node.childNodes.length&&\n",
       "(\"radialGradient\"==d.node.firstChild.tagName||\"linearGradient\"==d.node.firstChild.tagName||\"pattern\"==d.node.firstChild.tagName)&&(d=d.node.firstChild,b(this).appendChild(d),d=u(d));if(d instanceof v)if(\"radialGradient\"==d.type||\"linearGradient\"==d.type||\"pattern\"==d.type){d.node.id||e(d.node,{id:d.id});var f=l(d.node.id)}else f=d.attr(h);else f=a.color(d),f.error?(f=a(b(this).ownerSVGElement).gradient(d))?(f.node.id||e(f.node,{id:f.id}),f=l(f.node.id)):f=d:f=r(f);d={};d[h]=f;e(this.node,d);this.node.style[h]=\n",
       "x}}function z(a){k.stop();a==+a&&(a+=\"px\");this.node.style.fontSize=a}function d(a){var b=[];a=a.childNodes;for(var e=0,f=a.length;e<f;e++){var l=a[e];3==l.nodeType&&b.push(l.nodeValue);\"tspan\"==l.tagName&&(1==l.childNodes.length&&3==l.firstChild.nodeType?b.push(l.firstChild.nodeValue):b.push(d(l)))}return b}function f(){k.stop();return this.node.style.fontSize}var n=a._.make,u=a._.wrap,p=a.is,b=a._.getSomeDefs,q=/^url\\(#?([^)]+)\\)$/,e=a._.$,l=a.url,r=String,s=a._.separator,x=\"\";k.on(\"snap.util.attr.mask\",\n",
       "function(a){if(a instanceof v||a instanceof A){k.stop();a instanceof A&&1==a.node.childNodes.length&&(a=a.node.firstChild,b(this).appendChild(a),a=u(a));if(\"mask\"==a.type)var d=a;else d=n(\"mask\",b(this)),d.node.appendChild(a.node);!d.node.id&&e(d.node,{id:d.id});e(this.node,{mask:l(d.id)})}});(function(a){k.on(\"snap.util.attr.clip\",a);k.on(\"snap.util.attr.clip-path\",a);k.on(\"snap.util.attr.clipPath\",a)})(function(a){if(a instanceof v||a instanceof A){k.stop();if(\"clipPath\"==a.type)var d=a;else d=\n",
       "n(\"clipPath\",b(this)),d.node.appendChild(a.node),!d.node.id&&e(d.node,{id:d.id});e(this.node,{\"clip-path\":l(d.id)})}});k.on(\"snap.util.attr.fill\",w(\"fill\"));k.on(\"snap.util.attr.stroke\",w(\"stroke\"));var G=/^([lr])(?:\\(([^)]*)\\))?(.*)$/i;k.on(\"snap.util.grad.parse\",function(a){a=r(a);var b=a.match(G);if(!b)return null;a=b[1];var e=b[2],b=b[3],e=e.split(/\\s*,\\s*/).map(function(a){return+a==a?+a:a});1==e.length&&0==e[0]&&(e=[]);b=b.split(\"-\");b=b.map(function(a){a=a.split(\":\");var b={color:a[0]};a[1]&&\n",
       "(b.offset=parseFloat(a[1]));return b});return{type:a,params:e,stops:b}});k.on(\"snap.util.attr.d\",function(b){k.stop();p(b,\"array\")&&p(b[0],\"array\")&&(b=a.path.toString.call(b));b=r(b);b.match(/[ruo]/i)&&(b=a.path.toAbsolute(b));e(this.node,{d:b})})(-1);k.on(\"snap.util.attr.#text\",function(a){k.stop();a=r(a);for(a=M.doc.createTextNode(a);this.node.firstChild;)this.node.removeChild(this.node.firstChild);this.node.appendChild(a)})(-1);k.on(\"snap.util.attr.path\",function(a){k.stop();this.attr({d:a})})(-1);\n",
       "k.on(\"snap.util.attr.class\",function(a){k.stop();this.node.className.baseVal=a})(-1);k.on(\"snap.util.attr.viewBox\",function(a){a=p(a,\"object\")&&\"x\"in a?[a.x,a.y,a.width,a.height].join(\" \"):p(a,\"array\")?a.join(\" \"):a;e(this.node,{viewBox:a});k.stop()})(-1);k.on(\"snap.util.attr.transform\",function(a){this.transform(a);k.stop()})(-1);k.on(\"snap.util.attr.r\",function(a){\"rect\"==this.type&&(k.stop(),e(this.node,{rx:a,ry:a}))})(-1);k.on(\"snap.util.attr.textpath\",function(a){k.stop();if(\"text\"==this.type){var d,\n",
       "f;if(!a&&this.textPath){for(a=this.textPath;a.node.firstChild;)this.node.appendChild(a.node.firstChild);a.remove();delete this.textPath}else if(p(a,\"string\")?(d=b(this),a=u(d.parentNode).path(a),d.appendChild(a.node),d=a.id,a.attr({id:d})):(a=u(a),a instanceof v&&(d=a.attr(\"id\"),d||(d=a.id,a.attr({id:d})))),d)if(a=this.textPath,f=this.node,a)a.attr({\"xlink:href\":\"#\"+d});else{for(a=e(\"textPath\",{\"xlink:href\":\"#\"+d});f.firstChild;)a.appendChild(f.firstChild);f.appendChild(a);this.textPath=u(a)}}})(-1);\n",
       "k.on(\"snap.util.attr.text\",function(a){if(\"text\"==this.type){for(var b=this.node,d=function(a){var b=e(\"tspan\");if(p(a,\"array\"))for(var f=0;f<a.length;f++)b.appendChild(d(a[f]));else b.appendChild(M.doc.createTextNode(a));b.normalize&&b.normalize();return b};b.firstChild;)b.removeChild(b.firstChild);for(a=d(a);a.firstChild;)b.appendChild(a.firstChild)}k.stop()})(-1);k.on(\"snap.util.attr.fontSize\",z)(-1);k.on(\"snap.util.attr.font-size\",z)(-1);k.on(\"snap.util.getattr.transform\",function(){k.stop();\n",
       "return this.transform()})(-1);k.on(\"snap.util.getattr.textpath\",function(){k.stop();return this.textPath})(-1);(function(){function b(d){return function(){k.stop();var b=M.doc.defaultView.getComputedStyle(this.node,null).getPropertyValue(\"marker-\"+d);return\"none\"==b?b:a(M.doc.getElementById(b.match(q)[1]))}}function d(a){return function(b){k.stop();var d=\"marker\"+a.charAt(0).toUpperCase()+a.substring(1);if(\"\"==b||!b)this.node.style[d]=\"none\";else if(\"marker\"==b.type){var f=b.node.id;f||e(b.node,{id:b.id});\n",
       "this.node.style[d]=l(f)}}}k.on(\"snap.util.getattr.marker-end\",b(\"end\"))(-1);k.on(\"snap.util.getattr.markerEnd\",b(\"end\"))(-1);k.on(\"snap.util.getattr.marker-start\",b(\"start\"))(-1);k.on(\"snap.util.getattr.markerStart\",b(\"start\"))(-1);k.on(\"snap.util.getattr.marker-mid\",b(\"mid\"))(-1);k.on(\"snap.util.getattr.markerMid\",b(\"mid\"))(-1);k.on(\"snap.util.attr.marker-end\",d(\"end\"))(-1);k.on(\"snap.util.attr.markerEnd\",d(\"end\"))(-1);k.on(\"snap.util.attr.marker-start\",d(\"start\"))(-1);k.on(\"snap.util.attr.markerStart\",\n",
       "d(\"start\"))(-1);k.on(\"snap.util.attr.marker-mid\",d(\"mid\"))(-1);k.on(\"snap.util.attr.markerMid\",d(\"mid\"))(-1)})();k.on(\"snap.util.getattr.r\",function(){if(\"rect\"==this.type&&e(this.node,\"rx\")==e(this.node,\"ry\"))return k.stop(),e(this.node,\"rx\")})(-1);k.on(\"snap.util.getattr.text\",function(){if(\"text\"==this.type||\"tspan\"==this.type){k.stop();var a=d(this.node);return 1==a.length?a[0]:a}})(-1);k.on(\"snap.util.getattr.#text\",function(){return this.node.textContent})(-1);k.on(\"snap.util.getattr.viewBox\",\n",
       "function(){k.stop();var b=e(this.node,\"viewBox\");if(b)return b=b.split(s),a._.box(+b[0],+b[1],+b[2],+b[3])})(-1);k.on(\"snap.util.getattr.points\",function(){var a=e(this.node,\"points\");k.stop();if(a)return a.split(s)})(-1);k.on(\"snap.util.getattr.path\",function(){var a=e(this.node,\"d\");k.stop();return a})(-1);k.on(\"snap.util.getattr.class\",function(){return this.node.className.baseVal})(-1);k.on(\"snap.util.getattr.fontSize\",f)(-1);k.on(\"snap.util.getattr.font-size\",f)(-1)});C.plugin(function(a,v,y,\n",
       "M,A){function w(a){return a}function z(a){return function(b){return+b.toFixed(3)+a}}var d={\"+\":function(a,b){return a+b},\"-\":function(a,b){return a-b},\"/\":function(a,b){return a/b},\"*\":function(a,b){return a*b}},f=String,n=/[a-z]+$/i,u=/^\\s*([+\\-\\/*])\\s*=\\s*([\\d.eE+\\-]+)\\s*([^\\d\\s]+)?\\s*$/;k.on(\"snap.util.attr\",function(a){if(a=f(a).match(u)){var b=k.nt(),b=b.substring(b.lastIndexOf(\".\")+1),q=this.attr(b),e={};k.stop();var l=a[3]||\"\",r=q.match(n),s=d[a[1] ];r&&r==l?a=s(parseFloat(q),+a[2]):(q=this.asPX(b),\n",
       "a=s(this.asPX(b),this.asPX(b,a[2]+l)));isNaN(q)||isNaN(a)||(e[b]=a,this.attr(e))}})(-10);k.on(\"snap.util.equal\",function(a,b){var q=f(this.attr(a)||\"\"),e=f(b).match(u);if(e){k.stop();var l=e[3]||\"\",r=q.match(n),s=d[e[1] ];if(r&&r==l)return{from:parseFloat(q),to:s(parseFloat(q),+e[2]),f:z(r)};q=this.asPX(a);return{from:q,to:s(q,this.asPX(a,e[2]+l)),f:w}}})(-10)});C.plugin(function(a,v,y,M,A){var w=y.prototype,z=a.is;w.rect=function(a,d,k,p,b,q){var e;null==q&&(q=b);z(a,\"object\")&&\"[object Object]\"==\n",
       "a?e=a:null!=a&&(e={x:a,y:d,width:k,height:p},null!=b&&(e.rx=b,e.ry=q));return this.el(\"rect\",e)};w.circle=function(a,d,k){var p;z(a,\"object\")&&\"[object Object]\"==a?p=a:null!=a&&(p={cx:a,cy:d,r:k});return this.el(\"circle\",p)};var d=function(){function a(){this.parentNode.removeChild(this)}return function(d,k){var p=M.doc.createElement(\"img\"),b=M.doc.body;p.style.cssText=\"position:absolute;left:-9999em;top:-9999em\";p.onload=function(){k.call(p);p.onload=p.onerror=null;b.removeChild(p)};p.onerror=a;\n",
       "b.appendChild(p);p.src=d}}();w.image=function(f,n,k,p,b){var q=this.el(\"image\");if(z(f,\"object\")&&\"src\"in f)q.attr(f);else if(null!=f){var e={\"xlink:href\":f,preserveAspectRatio:\"none\"};null!=n&&null!=k&&(e.x=n,e.y=k);null!=p&&null!=b?(e.width=p,e.height=b):d(f,function(){a._.$(q.node,{width:this.offsetWidth,height:this.offsetHeight})});a._.$(q.node,e)}return q};w.ellipse=function(a,d,k,p){var b;z(a,\"object\")&&\"[object Object]\"==a?b=a:null!=a&&(b={cx:a,cy:d,rx:k,ry:p});return this.el(\"ellipse\",b)};\n",
       "w.path=function(a){var d;z(a,\"object\")&&!z(a,\"array\")?d=a:a&&(d={d:a});return this.el(\"path\",d)};w.group=w.g=function(a){var d=this.el(\"g\");1==arguments.length&&a&&!a.type?d.attr(a):arguments.length&&d.add(Array.prototype.slice.call(arguments,0));return d};w.svg=function(a,d,k,p,b,q,e,l){var r={};z(a,\"object\")&&null==d?r=a:(null!=a&&(r.x=a),null!=d&&(r.y=d),null!=k&&(r.width=k),null!=p&&(r.height=p),null!=b&&null!=q&&null!=e&&null!=l&&(r.viewBox=[b,q,e,l]));return this.el(\"svg\",r)};w.mask=function(a){var d=\n",
       "this.el(\"mask\");1==arguments.length&&a&&!a.type?d.attr(a):arguments.length&&d.add(Array.prototype.slice.call(arguments,0));return d};w.ptrn=function(a,d,k,p,b,q,e,l){if(z(a,\"object\"))var r=a;else arguments.length?(r={},null!=a&&(r.x=a),null!=d&&(r.y=d),null!=k&&(r.width=k),null!=p&&(r.height=p),null!=b&&null!=q&&null!=e&&null!=l&&(r.viewBox=[b,q,e,l])):r={patternUnits:\"userSpaceOnUse\"};return this.el(\"pattern\",r)};w.use=function(a){return null!=a?(make(\"use\",this.node),a instanceof v&&(a.attr(\"id\")||\n",
       "a.attr({id:ID()}),a=a.attr(\"id\")),this.el(\"use\",{\"xlink:href\":a})):v.prototype.use.call(this)};w.text=function(a,d,k){var p={};z(a,\"object\")?p=a:null!=a&&(p={x:a,y:d,text:k||\"\"});return this.el(\"text\",p)};w.line=function(a,d,k,p){var b={};z(a,\"object\")?b=a:null!=a&&(b={x1:a,x2:k,y1:d,y2:p});return this.el(\"line\",b)};w.polyline=function(a){1<arguments.length&&(a=Array.prototype.slice.call(arguments,0));var d={};z(a,\"object\")&&!z(a,\"array\")?d=a:null!=a&&(d={points:a});return this.el(\"polyline\",d)};\n",
       "w.polygon=function(a){1<arguments.length&&(a=Array.prototype.slice.call(arguments,0));var d={};z(a,\"object\")&&!z(a,\"array\")?d=a:null!=a&&(d={points:a});return this.el(\"polygon\",d)};(function(){function d(){return this.selectAll(\"stop\")}function n(b,d){var f=e(\"stop\"),k={offset:+d+\"%\"};b=a.color(b);k[\"stop-color\"]=b.hex;1>b.opacity&&(k[\"stop-opacity\"]=b.opacity);e(f,k);this.node.appendChild(f);return this}function u(){if(\"linearGradient\"==this.type){var b=e(this.node,\"x1\")||0,d=e(this.node,\"x2\")||\n",
       "1,f=e(this.node,\"y1\")||0,k=e(this.node,\"y2\")||0;return a._.box(b,f,math.abs(d-b),math.abs(k-f))}b=this.node.r||0;return a._.box((this.node.cx||0.5)-b,(this.node.cy||0.5)-b,2*b,2*b)}function p(a,d){function f(a,b){for(var d=(b-u)/(a-w),e=w;e<a;e++)h[e].offset=+(+u+d*(e-w)).toFixed(2);w=a;u=b}var n=k(\"snap.util.grad.parse\",null,d).firstDefined(),p;if(!n)return null;n.params.unshift(a);p=\"l\"==n.type.toLowerCase()?b.apply(0,n.params):q.apply(0,n.params);n.type!=n.type.toLowerCase()&&e(p.node,{gradientUnits:\"userSpaceOnUse\"});\n",
       "var h=n.stops,n=h.length,u=0,w=0;n--;for(var v=0;v<n;v++)\"offset\"in h[v]&&f(v,h[v].offset);h[n].offset=h[n].offset||100;f(n,h[n].offset);for(v=0;v<=n;v++){var y=h[v];p.addStop(y.color,y.offset)}return p}function b(b,k,p,q,w){b=a._.make(\"linearGradient\",b);b.stops=d;b.addStop=n;b.getBBox=u;null!=k&&e(b.node,{x1:k,y1:p,x2:q,y2:w});return b}function q(b,k,p,q,w,h){b=a._.make(\"radialGradient\",b);b.stops=d;b.addStop=n;b.getBBox=u;null!=k&&e(b.node,{cx:k,cy:p,r:q});null!=w&&null!=h&&e(b.node,{fx:w,fy:h});\n",
       "return b}var e=a._.$;w.gradient=function(a){return p(this.defs,a)};w.gradientLinear=function(a,d,e,f){return b(this.defs,a,d,e,f)};w.gradientRadial=function(a,b,d,e,f){return q(this.defs,a,b,d,e,f)};w.toString=function(){var b=this.node.ownerDocument,d=b.createDocumentFragment(),b=b.createElement(\"div\"),e=this.node.cloneNode(!0);d.appendChild(b);b.appendChild(e);a._.$(e,{xmlns:\"http://www.w3.org/2000/svg\"});b=b.innerHTML;d.removeChild(d.firstChild);return b};w.clear=function(){for(var a=this.node.firstChild,\n",
       "b;a;)b=a.nextSibling,\"defs\"!=a.tagName?a.parentNode.removeChild(a):w.clear.call({node:a}),a=b}})()});C.plugin(function(a,k,y,M){function A(a){var b=A.ps=A.ps||{};b[a]?b[a].sleep=100:b[a]={sleep:100};setTimeout(function(){for(var d in b)b[L](d)&&d!=a&&(b[d].sleep--,!b[d].sleep&&delete b[d])});return b[a]}function w(a,b,d,e){null==a&&(a=b=d=e=0);null==b&&(b=a.y,d=a.width,e=a.height,a=a.x);return{x:a,y:b,width:d,w:d,height:e,h:e,x2:a+d,y2:b+e,cx:a+d/2,cy:b+e/2,r1:F.min(d,e)/2,r2:F.max(d,e)/2,r0:F.sqrt(d*\n",
       "d+e*e)/2,path:s(a,b,d,e),vb:[a,b,d,e].join(\" \")}}function z(){return this.join(\",\").replace(N,\"$1\")}function d(a){a=C(a);a.toString=z;return a}function f(a,b,d,h,f,k,l,n,p){if(null==p)return e(a,b,d,h,f,k,l,n);if(0>p||e(a,b,d,h,f,k,l,n)<p)p=void 0;else{var q=0.5,O=1-q,s;for(s=e(a,b,d,h,f,k,l,n,O);0.01<Z(s-p);)q/=2,O+=(s<p?1:-1)*q,s=e(a,b,d,h,f,k,l,n,O);p=O}return u(a,b,d,h,f,k,l,n,p)}function n(b,d){function e(a){return+(+a).toFixed(3)}return a._.cacher(function(a,h,l){a instanceof k&&(a=a.attr(\"d\"));\n",
       "a=I(a);for(var n,p,D,q,O=\"\",s={},c=0,t=0,r=a.length;t<r;t++){D=a[t];if(\"M\"==D[0])n=+D[1],p=+D[2];else{q=f(n,p,D[1],D[2],D[3],D[4],D[5],D[6]);if(c+q>h){if(d&&!s.start){n=f(n,p,D[1],D[2],D[3],D[4],D[5],D[6],h-c);O+=[\"C\"+e(n.start.x),e(n.start.y),e(n.m.x),e(n.m.y),e(n.x),e(n.y)];if(l)return O;s.start=O;O=[\"M\"+e(n.x),e(n.y)+\"C\"+e(n.n.x),e(n.n.y),e(n.end.x),e(n.end.y),e(D[5]),e(D[6])].join();c+=q;n=+D[5];p=+D[6];continue}if(!b&&!d)return n=f(n,p,D[1],D[2],D[3],D[4],D[5],D[6],h-c)}c+=q;n=+D[5];p=+D[6]}O+=\n",
       "D.shift()+D}s.end=O;return n=b?c:d?s:u(n,p,D[0],D[1],D[2],D[3],D[4],D[5],1)},null,a._.clone)}function u(a,b,d,e,h,f,k,l,n){var p=1-n,q=ma(p,3),s=ma(p,2),c=n*n,t=c*n,r=q*a+3*s*n*d+3*p*n*n*h+t*k,q=q*b+3*s*n*e+3*p*n*n*f+t*l,s=a+2*n*(d-a)+c*(h-2*d+a),t=b+2*n*(e-b)+c*(f-2*e+b),x=d+2*n*(h-d)+c*(k-2*h+d),c=e+2*n*(f-e)+c*(l-2*f+e);a=p*a+n*d;b=p*b+n*e;h=p*h+n*k;f=p*f+n*l;l=90-180*F.atan2(s-x,t-c)/S;return{x:r,y:q,m:{x:s,y:t},n:{x:x,y:c},start:{x:a,y:b},end:{x:h,y:f},alpha:l}}function p(b,d,e,h,f,n,k,l){a.is(b,\n",
       "\"array\")||(b=[b,d,e,h,f,n,k,l]);b=U.apply(null,b);return w(b.min.x,b.min.y,b.max.x-b.min.x,b.max.y-b.min.y)}function b(a,b,d){return b>=a.x&&b<=a.x+a.width&&d>=a.y&&d<=a.y+a.height}function q(a,d){a=w(a);d=w(d);return b(d,a.x,a.y)||b(d,a.x2,a.y)||b(d,a.x,a.y2)||b(d,a.x2,a.y2)||b(a,d.x,d.y)||b(a,d.x2,d.y)||b(a,d.x,d.y2)||b(a,d.x2,d.y2)||(a.x<d.x2&&a.x>d.x||d.x<a.x2&&d.x>a.x)&&(a.y<d.y2&&a.y>d.y||d.y<a.y2&&d.y>a.y)}function e(a,b,d,e,h,f,n,k,l){null==l&&(l=1);l=(1<l?1:0>l?0:l)/2;for(var p=[-0.1252,\n",
       "0.1252,-0.3678,0.3678,-0.5873,0.5873,-0.7699,0.7699,-0.9041,0.9041,-0.9816,0.9816],q=[0.2491,0.2491,0.2335,0.2335,0.2032,0.2032,0.1601,0.1601,0.1069,0.1069,0.0472,0.0472],s=0,c=0;12>c;c++)var t=l*p[c]+l,r=t*(t*(-3*a+9*d-9*h+3*n)+6*a-12*d+6*h)-3*a+3*d,t=t*(t*(-3*b+9*e-9*f+3*k)+6*b-12*e+6*f)-3*b+3*e,s=s+q[c]*F.sqrt(r*r+t*t);return l*s}function l(a,b,d){a=I(a);b=I(b);for(var h,f,l,n,k,s,r,O,x,c,t=d?0:[],w=0,v=a.length;w<v;w++)if(x=a[w],\"M\"==x[0])h=k=x[1],f=s=x[2];else{\"C\"==x[0]?(x=[h,f].concat(x.slice(1)),\n",
       "h=x[6],f=x[7]):(x=[h,f,h,f,k,s,k,s],h=k,f=s);for(var G=0,y=b.length;G<y;G++)if(c=b[G],\"M\"==c[0])l=r=c[1],n=O=c[2];else{\"C\"==c[0]?(c=[l,n].concat(c.slice(1)),l=c[6],n=c[7]):(c=[l,n,l,n,r,O,r,O],l=r,n=O);var z;var K=x,B=c;z=d;var H=p(K),J=p(B);if(q(H,J)){for(var H=e.apply(0,K),J=e.apply(0,B),H=~~(H/8),J=~~(J/8),U=[],A=[],F={},M=z?0:[],P=0;P<H+1;P++){var C=u.apply(0,K.concat(P/H));U.push({x:C.x,y:C.y,t:P/H})}for(P=0;P<J+1;P++)C=u.apply(0,B.concat(P/J)),A.push({x:C.x,y:C.y,t:P/J});for(P=0;P<H;P++)for(K=\n",
       "0;K<J;K++){var Q=U[P],L=U[P+1],B=A[K],C=A[K+1],N=0.001>Z(L.x-Q.x)?\"y\":\"x\",S=0.001>Z(C.x-B.x)?\"y\":\"x\",R;R=Q.x;var Y=Q.y,V=L.x,ea=L.y,fa=B.x,ga=B.y,ha=C.x,ia=C.y;if(W(R,V)<X(fa,ha)||X(R,V)>W(fa,ha)||W(Y,ea)<X(ga,ia)||X(Y,ea)>W(ga,ia))R=void 0;else{var $=(R*ea-Y*V)*(fa-ha)-(R-V)*(fa*ia-ga*ha),aa=(R*ea-Y*V)*(ga-ia)-(Y-ea)*(fa*ia-ga*ha),ja=(R-V)*(ga-ia)-(Y-ea)*(fa-ha);if(ja){var $=$/ja,aa=aa/ja,ja=+$.toFixed(2),ba=+aa.toFixed(2);R=ja<+X(R,V).toFixed(2)||ja>+W(R,V).toFixed(2)||ja<+X(fa,ha).toFixed(2)||\n",
       "ja>+W(fa,ha).toFixed(2)||ba<+X(Y,ea).toFixed(2)||ba>+W(Y,ea).toFixed(2)||ba<+X(ga,ia).toFixed(2)||ba>+W(ga,ia).toFixed(2)?void 0:{x:$,y:aa}}else R=void 0}R&&F[R.x.toFixed(4)]!=R.y.toFixed(4)&&(F[R.x.toFixed(4)]=R.y.toFixed(4),Q=Q.t+Z((R[N]-Q[N])/(L[N]-Q[N]))*(L.t-Q.t),B=B.t+Z((R[S]-B[S])/(C[S]-B[S]))*(C.t-B.t),0<=Q&&1>=Q&&0<=B&&1>=B&&(z?M++:M.push({x:R.x,y:R.y,t1:Q,t2:B})))}z=M}else z=z?0:[];if(d)t+=z;else{H=0;for(J=z.length;H<J;H++)z[H].segment1=w,z[H].segment2=G,z[H].bez1=x,z[H].bez2=c;t=t.concat(z)}}}return t}\n",
       "function r(a){var b=A(a);if(b.bbox)return C(b.bbox);if(!a)return w();a=I(a);for(var d=0,e=0,h=[],f=[],l,n=0,k=a.length;n<k;n++)l=a[n],\"M\"==l[0]?(d=l[1],e=l[2],h.push(d),f.push(e)):(d=U(d,e,l[1],l[2],l[3],l[4],l[5],l[6]),h=h.concat(d.min.x,d.max.x),f=f.concat(d.min.y,d.max.y),d=l[5],e=l[6]);a=X.apply(0,h);l=X.apply(0,f);h=W.apply(0,h);f=W.apply(0,f);f=w(a,l,h-a,f-l);b.bbox=C(f);return f}function s(a,b,d,e,h){if(h)return[[\"M\",+a+ +h,b],[\"l\",d-2*h,0],[\"a\",h,h,0,0,1,h,h],[\"l\",0,e-2*h],[\"a\",h,h,0,0,1,\n",
       "-h,h],[\"l\",2*h-d,0],[\"a\",h,h,0,0,1,-h,-h],[\"l\",0,2*h-e],[\"a\",h,h,0,0,1,h,-h],[\"z\"] ];a=[[\"M\",a,b],[\"l\",d,0],[\"l\",0,e],[\"l\",-d,0],[\"z\"] ];a.toString=z;return a}function x(a,b,d,e,h){null==h&&null==e&&(e=d);a=+a;b=+b;d=+d;e=+e;if(null!=h){var f=Math.PI/180,l=a+d*Math.cos(-e*f);a+=d*Math.cos(-h*f);var n=b+d*Math.sin(-e*f);b+=d*Math.sin(-h*f);d=[[\"M\",l,n],[\"A\",d,d,0,+(180<h-e),0,a,b] ]}else d=[[\"M\",a,b],[\"m\",0,-e],[\"a\",d,e,0,1,1,0,2*e],[\"a\",d,e,0,1,1,0,-2*e],[\"z\"] ];d.toString=z;return d}function G(b){var e=\n",
       "A(b);if(e.abs)return d(e.abs);Q(b,\"array\")&&Q(b&&b[0],\"array\")||(b=a.parsePathString(b));if(!b||!b.length)return[[\"M\",0,0] ];var h=[],f=0,l=0,n=0,k=0,p=0;\"M\"==b[0][0]&&(f=+b[0][1],l=+b[0][2],n=f,k=l,p++,h[0]=[\"M\",f,l]);for(var q=3==b.length&&\"M\"==b[0][0]&&\"R\"==b[1][0].toUpperCase()&&\"Z\"==b[2][0].toUpperCase(),s,r,w=p,c=b.length;w<c;w++){h.push(s=[]);r=b[w];p=r[0];if(p!=p.toUpperCase())switch(s[0]=p.toUpperCase(),s[0]){case \"A\":s[1]=r[1];s[2]=r[2];s[3]=r[3];s[4]=r[4];s[5]=r[5];s[6]=+r[6]+f;s[7]=+r[7]+\n",
       "l;break;case \"V\":s[1]=+r[1]+l;break;case \"H\":s[1]=+r[1]+f;break;case \"R\":for(var t=[f,l].concat(r.slice(1)),u=2,v=t.length;u<v;u++)t[u]=+t[u]+f,t[++u]=+t[u]+l;h.pop();h=h.concat(P(t,q));break;case \"O\":h.pop();t=x(f,l,r[1],r[2]);t.push(t[0]);h=h.concat(t);break;case \"U\":h.pop();h=h.concat(x(f,l,r[1],r[2],r[3]));s=[\"U\"].concat(h[h.length-1].slice(-2));break;case \"M\":n=+r[1]+f,k=+r[2]+l;default:for(u=1,v=r.length;u<v;u++)s[u]=+r[u]+(u%2?f:l)}else if(\"R\"==p)t=[f,l].concat(r.slice(1)),h.pop(),h=h.concat(P(t,\n",
       "q)),s=[\"R\"].concat(r.slice(-2));else if(\"O\"==p)h.pop(),t=x(f,l,r[1],r[2]),t.push(t[0]),h=h.concat(t);else if(\"U\"==p)h.pop(),h=h.concat(x(f,l,r[1],r[2],r[3])),s=[\"U\"].concat(h[h.length-1].slice(-2));else for(t=0,u=r.length;t<u;t++)s[t]=r[t];p=p.toUpperCase();if(\"O\"!=p)switch(s[0]){case \"Z\":f=+n;l=+k;break;case \"H\":f=s[1];break;case \"V\":l=s[1];break;case \"M\":n=s[s.length-2],k=s[s.length-1];default:f=s[s.length-2],l=s[s.length-1]}}h.toString=z;e.abs=d(h);return h}function h(a,b,d,e){return[a,b,d,e,d,\n",
       "e]}function J(a,b,d,e,h,f){var l=1/3,n=2/3;return[l*a+n*d,l*b+n*e,l*h+n*d,l*f+n*e,h,f]}function K(b,d,e,h,f,l,n,k,p,s){var r=120*S/180,q=S/180*(+f||0),c=[],t,x=a._.cacher(function(a,b,c){var d=a*F.cos(c)-b*F.sin(c);a=a*F.sin(c)+b*F.cos(c);return{x:d,y:a}});if(s)v=s[0],t=s[1],l=s[2],u=s[3];else{t=x(b,d,-q);b=t.x;d=t.y;t=x(k,p,-q);k=t.x;p=t.y;F.cos(S/180*f);F.sin(S/180*f);t=(b-k)/2;v=(d-p)/2;u=t*t/(e*e)+v*v/(h*h);1<u&&(u=F.sqrt(u),e*=u,h*=u);var u=e*e,w=h*h,u=(l==n?-1:1)*F.sqrt(Z((u*w-u*v*v-w*t*t)/\n",
       "(u*v*v+w*t*t)));l=u*e*v/h+(b+k)/2;var u=u*-h*t/e+(d+p)/2,v=F.asin(((d-u)/h).toFixed(9));t=F.asin(((p-u)/h).toFixed(9));v=b<l?S-v:v;t=k<l?S-t:t;0>v&&(v=2*S+v);0>t&&(t=2*S+t);n&&v>t&&(v-=2*S);!n&&t>v&&(t-=2*S)}if(Z(t-v)>r){var c=t,w=k,G=p;t=v+r*(n&&t>v?1:-1);k=l+e*F.cos(t);p=u+h*F.sin(t);c=K(k,p,e,h,f,0,n,w,G,[t,c,l,u])}l=t-v;f=F.cos(v);r=F.sin(v);n=F.cos(t);t=F.sin(t);l=F.tan(l/4);e=4/3*e*l;l*=4/3*h;h=[b,d];b=[b+e*r,d-l*f];d=[k+e*t,p-l*n];k=[k,p];b[0]=2*h[0]-b[0];b[1]=2*h[1]-b[1];if(s)return[b,d,k].concat(c);\n",
       "c=[b,d,k].concat(c).join().split(\",\");s=[];k=0;for(p=c.length;k<p;k++)s[k]=k%2?x(c[k-1],c[k],q).y:x(c[k],c[k+1],q).x;return s}function U(a,b,d,e,h,f,l,k){for(var n=[],p=[[],[] ],s,r,c,t,q=0;2>q;++q)0==q?(r=6*a-12*d+6*h,s=-3*a+9*d-9*h+3*l,c=3*d-3*a):(r=6*b-12*e+6*f,s=-3*b+9*e-9*f+3*k,c=3*e-3*b),1E-12>Z(s)?1E-12>Z(r)||(s=-c/r,0<s&&1>s&&n.push(s)):(t=r*r-4*c*s,c=F.sqrt(t),0>t||(t=(-r+c)/(2*s),0<t&&1>t&&n.push(t),s=(-r-c)/(2*s),0<s&&1>s&&n.push(s)));for(r=q=n.length;q--;)s=n[q],c=1-s,p[0][q]=c*c*c*a+3*\n",
       "c*c*s*d+3*c*s*s*h+s*s*s*l,p[1][q]=c*c*c*b+3*c*c*s*e+3*c*s*s*f+s*s*s*k;p[0][r]=a;p[1][r]=b;p[0][r+1]=l;p[1][r+1]=k;p[0].length=p[1].length=r+2;return{min:{x:X.apply(0,p[0]),y:X.apply(0,p[1])},max:{x:W.apply(0,p[0]),y:W.apply(0,p[1])}}}function I(a,b){var e=!b&&A(a);if(!b&&e.curve)return d(e.curve);var f=G(a),l=b&&G(b),n={x:0,y:0,bx:0,by:0,X:0,Y:0,qx:null,qy:null},k={x:0,y:0,bx:0,by:0,X:0,Y:0,qx:null,qy:null},p=function(a,b,c){if(!a)return[\"C\",b.x,b.y,b.x,b.y,b.x,b.y];a[0]in{T:1,Q:1}||(b.qx=b.qy=null);\n",
       "switch(a[0]){case \"M\":b.X=a[1];b.Y=a[2];break;case \"A\":a=[\"C\"].concat(K.apply(0,[b.x,b.y].concat(a.slice(1))));break;case \"S\":\"C\"==c||\"S\"==c?(c=2*b.x-b.bx,b=2*b.y-b.by):(c=b.x,b=b.y);a=[\"C\",c,b].concat(a.slice(1));break;case \"T\":\"Q\"==c||\"T\"==c?(b.qx=2*b.x-b.qx,b.qy=2*b.y-b.qy):(b.qx=b.x,b.qy=b.y);a=[\"C\"].concat(J(b.x,b.y,b.qx,b.qy,a[1],a[2]));break;case \"Q\":b.qx=a[1];b.qy=a[2];a=[\"C\"].concat(J(b.x,b.y,a[1],a[2],a[3],a[4]));break;case \"L\":a=[\"C\"].concat(h(b.x,b.y,a[1],a[2]));break;case \"H\":a=[\"C\"].concat(h(b.x,\n",
       "b.y,a[1],b.y));break;case \"V\":a=[\"C\"].concat(h(b.x,b.y,b.x,a[1]));break;case \"Z\":a=[\"C\"].concat(h(b.x,b.y,b.X,b.Y))}return a},s=function(a,b){if(7<a[b].length){a[b].shift();for(var c=a[b];c.length;)q[b]=\"A\",l&&(u[b]=\"A\"),a.splice(b++,0,[\"C\"].concat(c.splice(0,6)));a.splice(b,1);v=W(f.length,l&&l.length||0)}},r=function(a,b,c,d,e){a&&b&&\"M\"==a[e][0]&&\"M\"!=b[e][0]&&(b.splice(e,0,[\"M\",d.x,d.y]),c.bx=0,c.by=0,c.x=a[e][1],c.y=a[e][2],v=W(f.length,l&&l.length||0))},q=[],u=[],c=\"\",t=\"\",x=0,v=W(f.length,\n",
       "l&&l.length||0);for(;x<v;x++){f[x]&&(c=f[x][0]);\"C\"!=c&&(q[x]=c,x&&(t=q[x-1]));f[x]=p(f[x],n,t);\"A\"!=q[x]&&\"C\"==c&&(q[x]=\"C\");s(f,x);l&&(l[x]&&(c=l[x][0]),\"C\"!=c&&(u[x]=c,x&&(t=u[x-1])),l[x]=p(l[x],k,t),\"A\"!=u[x]&&\"C\"==c&&(u[x]=\"C\"),s(l,x));r(f,l,n,k,x);r(l,f,k,n,x);var w=f[x],z=l&&l[x],y=w.length,U=l&&z.length;n.x=w[y-2];n.y=w[y-1];n.bx=$(w[y-4])||n.x;n.by=$(w[y-3])||n.y;k.bx=l&&($(z[U-4])||k.x);k.by=l&&($(z[U-3])||k.y);k.x=l&&z[U-2];k.y=l&&z[U-1]}l||(e.curve=d(f));return l?[f,l]:f}function P(a,\n",
       "b){for(var d=[],e=0,h=a.length;h-2*!b>e;e+=2){var f=[{x:+a[e-2],y:+a[e-1]},{x:+a[e],y:+a[e+1]},{x:+a[e+2],y:+a[e+3]},{x:+a[e+4],y:+a[e+5]}];b?e?h-4==e?f[3]={x:+a[0],y:+a[1]}:h-2==e&&(f[2]={x:+a[0],y:+a[1]},f[3]={x:+a[2],y:+a[3]}):f[0]={x:+a[h-2],y:+a[h-1]}:h-4==e?f[3]=f[2]:e||(f[0]={x:+a[e],y:+a[e+1]});d.push([\"C\",(-f[0].x+6*f[1].x+f[2].x)/6,(-f[0].y+6*f[1].y+f[2].y)/6,(f[1].x+6*f[2].x-f[3].x)/6,(f[1].y+6*f[2].y-f[3].y)/6,f[2].x,f[2].y])}return d}y=k.prototype;var Q=a.is,C=a._.clone,L=\"hasOwnProperty\",\n",
       "N=/,?([a-z]),?/gi,$=parseFloat,F=Math,S=F.PI,X=F.min,W=F.max,ma=F.pow,Z=F.abs;M=n(1);var na=n(),ba=n(0,1),V=a._unit2px;a.path=A;a.path.getTotalLength=M;a.path.getPointAtLength=na;a.path.getSubpath=function(a,b,d){if(1E-6>this.getTotalLength(a)-d)return ba(a,b).end;a=ba(a,d,1);return b?ba(a,b).end:a};y.getTotalLength=function(){if(this.node.getTotalLength)return this.node.getTotalLength()};y.getPointAtLength=function(a){return na(this.attr(\"d\"),a)};y.getSubpath=function(b,d){return a.path.getSubpath(this.attr(\"d\"),\n",
       "b,d)};a._.box=w;a.path.findDotsAtSegment=u;a.path.bezierBBox=p;a.path.isPointInsideBBox=b;a.path.isBBoxIntersect=q;a.path.intersection=function(a,b){return l(a,b)};a.path.intersectionNumber=function(a,b){return l(a,b,1)};a.path.isPointInside=function(a,d,e){var h=r(a);return b(h,d,e)&&1==l(a,[[\"M\",d,e],[\"H\",h.x2+10] ],1)%2};a.path.getBBox=r;a.path.get={path:function(a){return a.attr(\"path\")},circle:function(a){a=V(a);return x(a.cx,a.cy,a.r)},ellipse:function(a){a=V(a);return x(a.cx||0,a.cy||0,a.rx,\n",
       "a.ry)},rect:function(a){a=V(a);return s(a.x||0,a.y||0,a.width,a.height,a.rx,a.ry)},image:function(a){a=V(a);return s(a.x||0,a.y||0,a.width,a.height)},line:function(a){return\"M\"+[a.attr(\"x1\")||0,a.attr(\"y1\")||0,a.attr(\"x2\"),a.attr(\"y2\")]},polyline:function(a){return\"M\"+a.attr(\"points\")},polygon:function(a){return\"M\"+a.attr(\"points\")+\"z\"},deflt:function(a){a=a.node.getBBox();return s(a.x,a.y,a.width,a.height)}};a.path.toRelative=function(b){var e=A(b),h=String.prototype.toLowerCase;if(e.rel)return d(e.rel);\n",
       "a.is(b,\"array\")&&a.is(b&&b[0],\"array\")||(b=a.parsePathString(b));var f=[],l=0,n=0,k=0,p=0,s=0;\"M\"==b[0][0]&&(l=b[0][1],n=b[0][2],k=l,p=n,s++,f.push([\"M\",l,n]));for(var r=b.length;s<r;s++){var q=f[s]=[],x=b[s];if(x[0]!=h.call(x[0]))switch(q[0]=h.call(x[0]),q[0]){case \"a\":q[1]=x[1];q[2]=x[2];q[3]=x[3];q[4]=x[4];q[5]=x[5];q[6]=+(x[6]-l).toFixed(3);q[7]=+(x[7]-n).toFixed(3);break;case \"v\":q[1]=+(x[1]-n).toFixed(3);break;case \"m\":k=x[1],p=x[2];default:for(var c=1,t=x.length;c<t;c++)q[c]=+(x[c]-(c%2?l:\n",
       "n)).toFixed(3)}else for(f[s]=[],\"m\"==x[0]&&(k=x[1]+l,p=x[2]+n),q=0,c=x.length;q<c;q++)f[s][q]=x[q];x=f[s].length;switch(f[s][0]){case \"z\":l=k;n=p;break;case \"h\":l+=+f[s][x-1];break;case \"v\":n+=+f[s][x-1];break;default:l+=+f[s][x-2],n+=+f[s][x-1]}}f.toString=z;e.rel=d(f);return f};a.path.toAbsolute=G;a.path.toCubic=I;a.path.map=function(a,b){if(!b)return a;var d,e,h,f,l,n,k;a=I(a);h=0;for(l=a.length;h<l;h++)for(k=a[h],f=1,n=k.length;f<n;f+=2)d=b.x(k[f],k[f+1]),e=b.y(k[f],k[f+1]),k[f]=d,k[f+1]=e;return a};\n",
       "a.path.toString=z;a.path.clone=d});C.plugin(function(a,v,y,C){var A=Math.max,w=Math.min,z=function(a){this.items=[];this.bindings={};this.length=0;this.type=\"set\";if(a)for(var f=0,n=a.length;f<n;f++)a[f]&&(this[this.items.length]=this.items[this.items.length]=a[f],this.length++)};v=z.prototype;v.push=function(){for(var a,f,n=0,k=arguments.length;n<k;n++)if(a=arguments[n])f=this.items.length,this[f]=this.items[f]=a,this.length++;return this};v.pop=function(){this.length&&delete this[this.length--];\n",
       "return this.items.pop()};v.forEach=function(a,f){for(var n=0,k=this.items.length;n<k&&!1!==a.call(f,this.items[n],n);n++);return this};v.animate=function(d,f,n,u){\"function\"!=typeof n||n.length||(u=n,n=L.linear);d instanceof a._.Animation&&(u=d.callback,n=d.easing,f=n.dur,d=d.attr);var p=arguments;if(a.is(d,\"array\")&&a.is(p[p.length-1],\"array\"))var b=!0;var q,e=function(){q?this.b=q:q=this.b},l=0,r=u&&function(){l++==this.length&&u.call(this)};return this.forEach(function(a,l){k.once(\"snap.animcreated.\"+\n",
       "a.id,e);b?p[l]&&a.animate.apply(a,p[l]):a.animate(d,f,n,r)})};v.remove=function(){for(;this.length;)this.pop().remove();return this};v.bind=function(a,f,k){var u={};if(\"function\"==typeof f)this.bindings[a]=f;else{var p=k||a;this.bindings[a]=function(a){u[p]=a;f.attr(u)}}return this};v.attr=function(a){var f={},k;for(k in a)if(this.bindings[k])this.bindings[k](a[k]);else f[k]=a[k];a=0;for(k=this.items.length;a<k;a++)this.items[a].attr(f);return this};v.clear=function(){for(;this.length;)this.pop()};\n",
       "v.splice=function(a,f,k){a=0>a?A(this.length+a,0):a;f=A(0,w(this.length-a,f));var u=[],p=[],b=[],q;for(q=2;q<arguments.length;q++)b.push(arguments[q]);for(q=0;q<f;q++)p.push(this[a+q]);for(;q<this.length-a;q++)u.push(this[a+q]);var e=b.length;for(q=0;q<e+u.length;q++)this.items[a+q]=this[a+q]=q<e?b[q]:u[q-e];for(q=this.items.length=this.length-=f-e;this[q];)delete this[q++];return new z(p)};v.exclude=function(a){for(var f=0,k=this.length;f<k;f++)if(this[f]==a)return this.splice(f,1),!0;return!1};\n",
       "v.insertAfter=function(a){for(var f=this.items.length;f--;)this.items[f].insertAfter(a);return this};v.getBBox=function(){for(var a=[],f=[],k=[],u=[],p=this.items.length;p--;)if(!this.items[p].removed){var b=this.items[p].getBBox();a.push(b.x);f.push(b.y);k.push(b.x+b.width);u.push(b.y+b.height)}a=w.apply(0,a);f=w.apply(0,f);k=A.apply(0,k);u=A.apply(0,u);return{x:a,y:f,x2:k,y2:u,width:k-a,height:u-f,cx:a+(k-a)/2,cy:f+(u-f)/2}};v.clone=function(a){a=new z;for(var f=0,k=this.items.length;f<k;f++)a.push(this.items[f].clone());\n",
       "return a};v.toString=function(){return\"Snap\\u2018s set\"};v.type=\"set\";a.set=function(){var a=new z;arguments.length&&a.push.apply(a,Array.prototype.slice.call(arguments,0));return a}});C.plugin(function(a,v,y,C){function A(a){var b=a[0];switch(b.toLowerCase()){case \"t\":return[b,0,0];case \"m\":return[b,1,0,0,1,0,0];case \"r\":return 4==a.length?[b,0,a[2],a[3] ]:[b,0];case \"s\":return 5==a.length?[b,1,1,a[3],a[4] ]:3==a.length?[b,1,1]:[b,1]}}function w(b,d,f){d=q(d).replace(/\\.{3}|\\u2026/g,b);b=a.parseTransformString(b)||\n",
       "[];d=a.parseTransformString(d)||[];for(var k=Math.max(b.length,d.length),p=[],v=[],h=0,w,z,y,I;h<k;h++){y=b[h]||A(d[h]);I=d[h]||A(y);if(y[0]!=I[0]||\"r\"==y[0].toLowerCase()&&(y[2]!=I[2]||y[3]!=I[3])||\"s\"==y[0].toLowerCase()&&(y[3]!=I[3]||y[4]!=I[4])){b=a._.transform2matrix(b,f());d=a._.transform2matrix(d,f());p=[[\"m\",b.a,b.b,b.c,b.d,b.e,b.f] ];v=[[\"m\",d.a,d.b,d.c,d.d,d.e,d.f] ];break}p[h]=[];v[h]=[];w=0;for(z=Math.max(y.length,I.length);w<z;w++)w in y&&(p[h][w]=y[w]),w in I&&(v[h][w]=I[w])}return{from:u(p),\n",
       "to:u(v),f:n(p)}}function z(a){return a}function d(a){return function(b){return+b.toFixed(3)+a}}function f(b){return a.rgb(b[0],b[1],b[2])}function n(a){var b=0,d,f,k,n,h,p,q=[];d=0;for(f=a.length;d<f;d++){h=\"[\";p=['\"'+a[d][0]+'\"'];k=1;for(n=a[d].length;k<n;k++)p[k]=\"val[\"+b++ +\"]\";h+=p+\"]\";q[d]=h}return Function(\"val\",\"return Snap.path.toString.call([\"+q+\"])\")}function u(a){for(var b=[],d=0,f=a.length;d<f;d++)for(var k=1,n=a[d].length;k<n;k++)b.push(a[d][k]);return b}var p={},b=/[a-z]+$/i,q=String;\n",
       "p.stroke=p.fill=\"colour\";v.prototype.equal=function(a,b){return k(\"snap.util.equal\",this,a,b).firstDefined()};k.on(\"snap.util.equal\",function(e,k){var r,s;r=q(this.attr(e)||\"\");var x=this;if(r==+r&&k==+k)return{from:+r,to:+k,f:z};if(\"colour\"==p[e])return r=a.color(r),s=a.color(k),{from:[r.r,r.g,r.b,r.opacity],to:[s.r,s.g,s.b,s.opacity],f:f};if(\"transform\"==e||\"gradientTransform\"==e||\"patternTransform\"==e)return k instanceof a.Matrix&&(k=k.toTransformString()),a._.rgTransform.test(k)||(k=a._.svgTransform2string(k)),\n",
       "w(r,k,function(){return x.getBBox(1)});if(\"d\"==e||\"path\"==e)return r=a.path.toCubic(r,k),{from:u(r[0]),to:u(r[1]),f:n(r[0])};if(\"points\"==e)return r=q(r).split(a._.separator),s=q(k).split(a._.separator),{from:r,to:s,f:function(a){return a}};aUnit=r.match(b);s=q(k).match(b);return aUnit&&aUnit==s?{from:parseFloat(r),to:parseFloat(k),f:d(aUnit)}:{from:this.asPX(e),to:this.asPX(e,k),f:z}})});C.plugin(function(a,v,y,C){var A=v.prototype,w=\"createTouch\"in C.doc;v=\"click dblclick mousedown mousemove mouseout mouseover mouseup touchstart touchmove touchend touchcancel\".split(\" \");\n",
       "var z={mousedown:\"touchstart\",mousemove:\"touchmove\",mouseup:\"touchend\"},d=function(a,b){var d=\"y\"==a?\"scrollTop\":\"scrollLeft\",e=b&&b.node?b.node.ownerDocument:C.doc;return e[d in e.documentElement?\"documentElement\":\"body\"][d]},f=function(){this.returnValue=!1},n=function(){return this.originalEvent.preventDefault()},u=function(){this.cancelBubble=!0},p=function(){return this.originalEvent.stopPropagation()},b=function(){if(C.doc.addEventListener)return function(a,b,e,f){var k=w&&z[b]?z[b]:b,l=function(k){var l=\n",
       "d(\"y\",f),q=d(\"x\",f);if(w&&z.hasOwnProperty(b))for(var r=0,u=k.targetTouches&&k.targetTouches.length;r<u;r++)if(k.targetTouches[r].target==a||a.contains(k.targetTouches[r].target)){u=k;k=k.targetTouches[r];k.originalEvent=u;k.preventDefault=n;k.stopPropagation=p;break}return e.call(f,k,k.clientX+q,k.clientY+l)};b!==k&&a.addEventListener(b,l,!1);a.addEventListener(k,l,!1);return function(){b!==k&&a.removeEventListener(b,l,!1);a.removeEventListener(k,l,!1);return!0}};if(C.doc.attachEvent)return function(a,\n",
       "b,e,h){var k=function(a){a=a||h.node.ownerDocument.window.event;var b=d(\"y\",h),k=d(\"x\",h),k=a.clientX+k,b=a.clientY+b;a.preventDefault=a.preventDefault||f;a.stopPropagation=a.stopPropagation||u;return e.call(h,a,k,b)};a.attachEvent(\"on\"+b,k);return function(){a.detachEvent(\"on\"+b,k);return!0}}}(),q=[],e=function(a){for(var b=a.clientX,e=a.clientY,f=d(\"y\"),l=d(\"x\"),n,p=q.length;p--;){n=q[p];if(w)for(var r=a.touches&&a.touches.length,u;r--;){if(u=a.touches[r],u.identifier==n.el._drag.id||n.el.node.contains(u.target)){b=\n",
       "u.clientX;e=u.clientY;(a.originalEvent?a.originalEvent:a).preventDefault();break}}else a.preventDefault();b+=l;e+=f;k(\"snap.drag.move.\"+n.el.id,n.move_scope||n.el,b-n.el._drag.x,e-n.el._drag.y,b,e,a)}},l=function(b){a.unmousemove(e).unmouseup(l);for(var d=q.length,f;d--;)f=q[d],f.el._drag={},k(\"snap.drag.end.\"+f.el.id,f.end_scope||f.start_scope||f.move_scope||f.el,b);q=[]};for(y=v.length;y--;)(function(d){a[d]=A[d]=function(e,f){a.is(e,\"function\")&&(this.events=this.events||[],this.events.push({name:d,\n",
       "f:e,unbind:b(this.node||document,d,e,f||this)}));return this};a[\"un\"+d]=A[\"un\"+d]=function(a){for(var b=this.events||[],e=b.length;e--;)if(b[e].name==d&&(b[e].f==a||!a)){b[e].unbind();b.splice(e,1);!b.length&&delete this.events;break}return this}})(v[y]);A.hover=function(a,b,d,e){return this.mouseover(a,d).mouseout(b,e||d)};A.unhover=function(a,b){return this.unmouseover(a).unmouseout(b)};var r=[];A.drag=function(b,d,f,h,n,p){function u(r,v,w){(r.originalEvent||r).preventDefault();this._drag.x=v;\n",
       "this._drag.y=w;this._drag.id=r.identifier;!q.length&&a.mousemove(e).mouseup(l);q.push({el:this,move_scope:h,start_scope:n,end_scope:p});d&&k.on(\"snap.drag.start.\"+this.id,d);b&&k.on(\"snap.drag.move.\"+this.id,b);f&&k.on(\"snap.drag.end.\"+this.id,f);k(\"snap.drag.start.\"+this.id,n||h||this,v,w,r)}if(!arguments.length){var v;return this.drag(function(a,b){this.attr({transform:v+(v?\"T\":\"t\")+[a,b]})},function(){v=this.transform().local})}this._drag={};r.push({el:this,start:u});this.mousedown(u);return this};\n",
       "A.undrag=function(){for(var b=r.length;b--;)r[b].el==this&&(this.unmousedown(r[b].start),r.splice(b,1),k.unbind(\"snap.drag.*.\"+this.id));!r.length&&a.unmousemove(e).unmouseup(l);return this}});C.plugin(function(a,v,y,C){y=y.prototype;var A=/^\\s*url\\((.+)\\)/,w=String,z=a._.$;a.filter={};y.filter=function(d){var f=this;\"svg\"!=f.type&&(f=f.paper);d=a.parse(w(d));var k=a._.id(),u=z(\"filter\");z(u,{id:k,filterUnits:\"userSpaceOnUse\"});u.appendChild(d.node);f.defs.appendChild(u);return new v(u)};k.on(\"snap.util.getattr.filter\",\n",
       "function(){k.stop();var d=z(this.node,\"filter\");if(d)return(d=w(d).match(A))&&a.select(d[1])});k.on(\"snap.util.attr.filter\",function(d){if(d instanceof v&&\"filter\"==d.type){k.stop();var f=d.node.id;f||(z(d.node,{id:d.id}),f=d.id);z(this.node,{filter:a.url(f)})}d&&\"none\"!=d||(k.stop(),this.node.removeAttribute(\"filter\"))});a.filter.blur=function(d,f){null==d&&(d=2);return a.format('<feGaussianBlur stdDeviation=\"{def}\"/>',{def:null==f?d:[d,f]})};a.filter.blur.toString=function(){return this()};a.filter.shadow=\n",
       "function(d,f,k,u,p){\"string\"==typeof k&&(p=u=k,k=4);\"string\"!=typeof u&&(p=u,u=\"#000\");null==k&&(k=4);null==p&&(p=1);null==d&&(d=0,f=2);null==f&&(f=d);u=a.color(u||\"#000\");return a.format('<feGaussianBlur in=\"SourceAlpha\" stdDeviation=\"{blur}\"/><feOffset dx=\"{dx}\" dy=\"{dy}\" result=\"offsetblur\"/><feFlood flood-color=\"{color}\"/><feComposite in2=\"offsetblur\" operator=\"in\"/><feComponentTransfer><feFuncA type=\"linear\" slope=\"{opacity}\"/></feComponentTransfer><feMerge><feMergeNode/><feMergeNode in=\"SourceGraphic\"/></feMerge>',\n",
       "{color:u,dx:d,dy:f,blur:k,opacity:p})};a.filter.shadow.toString=function(){return this()};a.filter.grayscale=function(d){null==d&&(d=1);return a.format('<feColorMatrix type=\"matrix\" values=\"{a} {b} {c} 0 0 {d} {e} {f} 0 0 {g} {b} {h} 0 0 0 0 0 1 0\"/>',{a:0.2126+0.7874*(1-d),b:0.7152-0.7152*(1-d),c:0.0722-0.0722*(1-d),d:0.2126-0.2126*(1-d),e:0.7152+0.2848*(1-d),f:0.0722-0.0722*(1-d),g:0.2126-0.2126*(1-d),h:0.0722+0.9278*(1-d)})};a.filter.grayscale.toString=function(){return this()};a.filter.sepia=\n",
       "function(d){null==d&&(d=1);return a.format('<feColorMatrix type=\"matrix\" values=\"{a} {b} {c} 0 0 {d} {e} {f} 0 0 {g} {h} {i} 0 0 0 0 0 1 0\"/>',{a:0.393+0.607*(1-d),b:0.769-0.769*(1-d),c:0.189-0.189*(1-d),d:0.349-0.349*(1-d),e:0.686+0.314*(1-d),f:0.168-0.168*(1-d),g:0.272-0.272*(1-d),h:0.534-0.534*(1-d),i:0.131+0.869*(1-d)})};a.filter.sepia.toString=function(){return this()};a.filter.saturate=function(d){null==d&&(d=1);return a.format('<feColorMatrix type=\"saturate\" values=\"{amount}\"/>',{amount:1-\n",
       "d})};a.filter.saturate.toString=function(){return this()};a.filter.hueRotate=function(d){return a.format('<feColorMatrix type=\"hueRotate\" values=\"{angle}\"/>',{angle:d||0})};a.filter.hueRotate.toString=function(){return this()};a.filter.invert=function(d){null==d&&(d=1);return a.format('<feComponentTransfer><feFuncR type=\"table\" tableValues=\"{amount} {amount2}\"/><feFuncG type=\"table\" tableValues=\"{amount} {amount2}\"/><feFuncB type=\"table\" tableValues=\"{amount} {amount2}\"/></feComponentTransfer>',{amount:d,\n",
       "amount2:1-d})};a.filter.invert.toString=function(){return this()};a.filter.brightness=function(d){null==d&&(d=1);return a.format('<feComponentTransfer><feFuncR type=\"linear\" slope=\"{amount}\"/><feFuncG type=\"linear\" slope=\"{amount}\"/><feFuncB type=\"linear\" slope=\"{amount}\"/></feComponentTransfer>',{amount:d})};a.filter.brightness.toString=function(){return this()};a.filter.contrast=function(d){null==d&&(d=1);return a.format('<feComponentTransfer><feFuncR type=\"linear\" slope=\"{amount}\" intercept=\"{amount2}\"/><feFuncG type=\"linear\" slope=\"{amount}\" intercept=\"{amount2}\"/><feFuncB type=\"linear\" slope=\"{amount}\" intercept=\"{amount2}\"/></feComponentTransfer>',\n",
       "{amount:d,amount2:0.5-d/2})};a.filter.contrast.toString=function(){return this()}});return C});\n",
       "\n",
       "]]> </script>\n",
       "<script> <![CDATA[\n",
       "\n",
       "(function (glob, factory) {\n",
       "    // AMD support\n",
       "    if (typeof define === \"function\" && define.amd) {\n",
       "        // Define as an anonymous module\n",
       "        define(\"Gadfly\", [\"Snap.svg\"], function (Snap) {\n",
       "            return factory(Snap);\n",
       "        });\n",
       "    } else {\n",
       "        // Browser globals (glob is window)\n",
       "        // Snap adds itself to window\n",
       "        glob.Gadfly = factory(glob.Snap);\n",
       "    }\n",
       "}(this, function (Snap) {\n",
       "\n",
       "var Gadfly = {};\n",
       "\n",
       "// Get an x/y coordinate value in pixels\n",
       "var xPX = function(fig, x) {\n",
       "    var client_box = fig.node.getBoundingClientRect();\n",
       "    return x * fig.node.viewBox.baseVal.width / client_box.width;\n",
       "};\n",
       "\n",
       "var yPX = function(fig, y) {\n",
       "    var client_box = fig.node.getBoundingClientRect();\n",
       "    return y * fig.node.viewBox.baseVal.height / client_box.height;\n",
       "};\n",
       "\n",
       "\n",
       "Snap.plugin(function (Snap, Element, Paper, global) {\n",
       "    // Traverse upwards from a snap element to find and return the first\n",
       "    // note with the \"plotroot\" class.\n",
       "    Element.prototype.plotroot = function () {\n",
       "        var element = this;\n",
       "        while (!element.hasClass(\"plotroot\") && element.parent() != null) {\n",
       "            element = element.parent();\n",
       "        }\n",
       "        return element;\n",
       "    };\n",
       "\n",
       "    Element.prototype.svgroot = function () {\n",
       "        var element = this;\n",
       "        while (element.node.nodeName != \"svg\" && element.parent() != null) {\n",
       "            element = element.parent();\n",
       "        }\n",
       "        return element;\n",
       "    };\n",
       "\n",
       "    Element.prototype.plotbounds = function () {\n",
       "        var root = this.plotroot()\n",
       "        var bbox = root.select(\".guide.background\").node.getBBox();\n",
       "        return {\n",
       "            x0: bbox.x,\n",
       "            x1: bbox.x + bbox.width,\n",
       "            y0: bbox.y,\n",
       "            y1: bbox.y + bbox.height\n",
       "        };\n",
       "    };\n",
       "\n",
       "    Element.prototype.plotcenter = function () {\n",
       "        var root = this.plotroot()\n",
       "        var bbox = root.select(\".guide.background\").node.getBBox();\n",
       "        return {\n",
       "            x: bbox.x + bbox.width / 2,\n",
       "            y: bbox.y + bbox.height / 2\n",
       "        };\n",
       "    };\n",
       "\n",
       "    // Emulate IE style mouseenter/mouseleave events, since Microsoft always\n",
       "    // does everything right.\n",
       "    // See: http://www.dynamic-tools.net/toolbox/isMouseLeaveOrEnter/\n",
       "    var events = [\"mouseenter\", \"mouseleave\"];\n",
       "\n",
       "    for (i in events) {\n",
       "        (function (event_name) {\n",
       "            var event_name = events[i];\n",
       "            Element.prototype[event_name] = function (fn, scope) {\n",
       "                if (Snap.is(fn, \"function\")) {\n",
       "                    var fn2 = function (event) {\n",
       "                        if (event.type != \"mouseover\" && event.type != \"mouseout\") {\n",
       "                            return;\n",
       "                        }\n",
       "\n",
       "                        var reltg = event.relatedTarget ? event.relatedTarget :\n",
       "                            event.type == \"mouseout\" ? event.toElement : event.fromElement;\n",
       "                        while (reltg && reltg != this.node) reltg = reltg.parentNode;\n",
       "\n",
       "                        if (reltg != this.node) {\n",
       "                            return fn.apply(this, event);\n",
       "                        }\n",
       "                    };\n",
       "\n",
       "                    if (event_name == \"mouseenter\") {\n",
       "                        this.mouseover(fn2, scope);\n",
       "                    } else {\n",
       "                        this.mouseout(fn2, scope);\n",
       "                    }\n",
       "                }\n",
       "                return this;\n",
       "            };\n",
       "        })(events[i]);\n",
       "    }\n",
       "\n",
       "\n",
       "    Element.prototype.mousewheel = function (fn, scope) {\n",
       "        if (Snap.is(fn, \"function\")) {\n",
       "            var el = this;\n",
       "            var fn2 = function (event) {\n",
       "                fn.apply(el, [event]);\n",
       "            };\n",
       "        }\n",
       "\n",
       "        this.node.addEventListener(\n",
       "            /Firefox/i.test(navigator.userAgent) ? \"DOMMouseScroll\" : \"mousewheel\",\n",
       "            fn2);\n",
       "\n",
       "        return this;\n",
       "    };\n",
       "\n",
       "\n",
       "    // Snap's attr function can be too slow for things like panning/zooming.\n",
       "    // This is a function to directly update element attributes without going\n",
       "    // through eve.\n",
       "    Element.prototype.attribute = function(key, val) {\n",
       "        if (val === undefined) {\n",
       "            return this.node.getAttribute(key, val);\n",
       "        } else {\n",
       "            return this.node.setAttribute(key, val);\n",
       "        }\n",
       "    };\n",
       "});\n",
       "\n",
       "\n",
       "// When the plot is moused over, emphasize the grid lines.\n",
       "Gadfly.plot_mouseover = function(event) {\n",
       "    var root = this.plotroot();\n",
       "    init_pan_zoom(root);\n",
       "\n",
       "    var xgridlines = root.select(\".xgridlines\"),\n",
       "        ygridlines = root.select(\".ygridlines\");\n",
       "\n",
       "    xgridlines.data(\"unfocused_strokedash\",\n",
       "                    xgridlines.attr(\"stroke-dasharray\").replace(/px/g, \"mm\"))\n",
       "    ygridlines.data(\"unfocused_strokedash\",\n",
       "                    ygridlines.attr(\"stroke-dasharray\").replace(/px/g, \"mm\"))\n",
       "\n",
       "    // emphasize grid lines\n",
       "    var destcolor = root.data(\"focused_xgrid_color\");\n",
       "    xgridlines.attr(\"stroke-dasharray\", \"none\")\n",
       "              .selectAll(\"path\")\n",
       "              .animate({stroke: destcolor}, 250);\n",
       "\n",
       "    destcolor = root.data(\"focused_ygrid_color\");\n",
       "    ygridlines.attr(\"stroke-dasharray\", \"none\")\n",
       "              .selectAll(\"path\")\n",
       "              .animate({stroke: destcolor}, 250);\n",
       "\n",
       "    // reveal zoom slider\n",
       "    root.select(\".zoomslider\")\n",
       "        .animate({opacity: 1.0}, 250);\n",
       "};\n",
       "\n",
       "\n",
       "// Unemphasize grid lines on mouse out.\n",
       "Gadfly.plot_mouseout = function(event) {\n",
       "    var root = this.plotroot();\n",
       "    var xgridlines = root.select(\".xgridlines\"),\n",
       "        ygridlines = root.select(\".ygridlines\");\n",
       "\n",
       "    var destcolor = root.data(\"unfocused_xgrid_color\");\n",
       "\n",
       "    xgridlines.attr(\"stroke-dasharray\", xgridlines.data(\"unfocused_strokedash\"))\n",
       "              .selectAll(\"path\")\n",
       "              .animate({stroke: destcolor}, 250);\n",
       "\n",
       "    destcolor = root.data(\"unfocused_ygrid_color\");\n",
       "    ygridlines.attr(\"stroke-dasharray\", ygridlines.data(\"unfocused_strokedash\"))\n",
       "              .selectAll(\"path\")\n",
       "              .animate({stroke: destcolor}, 250);\n",
       "\n",
       "    // hide zoom slider\n",
       "    root.select(\".zoomslider\")\n",
       "        .animate({opacity: 0.0}, 250);\n",
       "};\n",
       "\n",
       "\n",
       "var set_geometry_transform = function(root, tx, ty, scale) {\n",
       "    var xscalable = root.hasClass(\"xscalable\"),\n",
       "        yscalable = root.hasClass(\"yscalable\");\n",
       "\n",
       "    var old_scale = root.data(\"scale\");\n",
       "\n",
       "    var xscale = xscalable ? scale : 1.0,\n",
       "        yscale = yscalable ? scale : 1.0;\n",
       "\n",
       "    tx = xscalable ? tx : 0.0;\n",
       "    ty = yscalable ? ty : 0.0;\n",
       "\n",
       "    var t = new Snap.Matrix().translate(tx, ty).scale(xscale, yscale);\n",
       "\n",
       "    root.selectAll(\".geometry, image\")\n",
       "        .forEach(function (element, i) {\n",
       "            element.transform(t);\n",
       "        });\n",
       "\n",
       "    bounds = root.plotbounds();\n",
       "\n",
       "    if (yscalable) {\n",
       "        var xfixed_t = new Snap.Matrix().translate(0, ty).scale(1.0, yscale);\n",
       "        root.selectAll(\".xfixed\")\n",
       "            .forEach(function (element, i) {\n",
       "                element.transform(xfixed_t);\n",
       "            });\n",
       "\n",
       "        root.select(\".ylabels\")\n",
       "            .transform(xfixed_t)\n",
       "            .selectAll(\"text\")\n",
       "            .forEach(function (element, i) {\n",
       "                if (element.attribute(\"gadfly:inscale\") == \"true\") {\n",
       "                    var cx = element.asPX(\"x\"),\n",
       "                        cy = element.asPX(\"y\");\n",
       "                    var st = element.data(\"static_transform\");\n",
       "                    unscale_t = new Snap.Matrix();\n",
       "                    unscale_t.scale(1, 1/scale, cx, cy).add(st);\n",
       "                    element.transform(unscale_t);\n",
       "\n",
       "                    var y = cy * scale + ty;\n",
       "                    element.attr(\"visibility\",\n",
       "                        bounds.y0 <= y && y <= bounds.y1 ? \"visible\" : \"hidden\");\n",
       "                }\n",
       "            });\n",
       "    }\n",
       "\n",
       "    if (xscalable) {\n",
       "        var yfixed_t = new Snap.Matrix().translate(tx, 0).scale(xscale, 1.0);\n",
       "        var xtrans = new Snap.Matrix().translate(tx, 0);\n",
       "        root.selectAll(\".yfixed\")\n",
       "            .forEach(function (element, i) {\n",
       "                element.transform(yfixed_t);\n",
       "            });\n",
       "\n",
       "        root.select(\".xlabels\")\n",
       "            .transform(yfixed_t)\n",
       "            .selectAll(\"text\")\n",
       "            .forEach(function (element, i) {\n",
       "                if (element.attribute(\"gadfly:inscale\") == \"true\") {\n",
       "                    var cx = element.asPX(\"x\"),\n",
       "                        cy = element.asPX(\"y\");\n",
       "                    var st = element.data(\"static_transform\");\n",
       "                    unscale_t = new Snap.Matrix();\n",
       "                    unscale_t.scale(1/scale, 1, cx, cy).add(st);\n",
       "\n",
       "                    element.transform(unscale_t);\n",
       "\n",
       "                    var x = cx * scale + tx;\n",
       "                    element.attr(\"visibility\",\n",
       "                        bounds.x0 <= x && x <= bounds.x1 ? \"visible\" : \"hidden\");\n",
       "                    }\n",
       "            });\n",
       "    }\n",
       "\n",
       "    // we must unscale anything that is scale invariance: widths, raiduses, etc.\n",
       "    var size_attribs = [\"font-size\"];\n",
       "    var unscaled_selection = \".geometry, .geometry *\";\n",
       "    if (xscalable) {\n",
       "        size_attribs.push(\"rx\");\n",
       "        unscaled_selection += \", .xgridlines\";\n",
       "    }\n",
       "    if (yscalable) {\n",
       "        size_attribs.push(\"ry\");\n",
       "        unscaled_selection += \", .ygridlines\";\n",
       "    }\n",
       "\n",
       "    root.selectAll(unscaled_selection)\n",
       "        .forEach(function (element, i) {\n",
       "            // circle need special help\n",
       "            if (element.node.nodeName == \"circle\") {\n",
       "                var cx = element.attribute(\"cx\"),\n",
       "                    cy = element.attribute(\"cy\");\n",
       "                unscale_t = new Snap.Matrix().scale(1/xscale, 1/yscale,\n",
       "                                                        cx, cy);\n",
       "                element.transform(unscale_t);\n",
       "                return;\n",
       "            }\n",
       "\n",
       "            for (i in size_attribs) {\n",
       "                var key = size_attribs[i];\n",
       "                var val = parseFloat(element.attribute(key));\n",
       "                if (val !== undefined && val != 0 && !isNaN(val)) {\n",
       "                    element.attribute(key, val * old_scale / scale);\n",
       "                }\n",
       "            }\n",
       "        });\n",
       "};\n",
       "\n",
       "\n",
       "// Find the most appropriate tick scale and update label visibility.\n",
       "var update_tickscale = function(root, scale, axis) {\n",
       "    if (!root.hasClass(axis + \"scalable\")) return;\n",
       "\n",
       "    var tickscales = root.data(axis + \"tickscales\");\n",
       "    var best_tickscale = 1.0;\n",
       "    var best_tickscale_dist = Infinity;\n",
       "    for (tickscale in tickscales) {\n",
       "        var dist = Math.abs(Math.log(tickscale) - Math.log(scale));\n",
       "        if (dist < best_tickscale_dist) {\n",
       "            best_tickscale_dist = dist;\n",
       "            best_tickscale = tickscale;\n",
       "        }\n",
       "    }\n",
       "\n",
       "    if (best_tickscale != root.data(axis + \"tickscale\")) {\n",
       "        root.data(axis + \"tickscale\", best_tickscale);\n",
       "        var mark_inscale_gridlines = function (element, i) {\n",
       "            var inscale = element.attr(\"gadfly:scale\") == best_tickscale;\n",
       "            element.attribute(\"gadfly:inscale\", inscale);\n",
       "            element.attr(\"visibility\", inscale ? \"visible\" : \"hidden\");\n",
       "        };\n",
       "\n",
       "        var mark_inscale_labels = function (element, i) {\n",
       "            var inscale = element.attr(\"gadfly:scale\") == best_tickscale;\n",
       "            element.attribute(\"gadfly:inscale\", inscale);\n",
       "            element.attr(\"visibility\", inscale ? \"visible\" : \"hidden\");\n",
       "        };\n",
       "\n",
       "        root.select(\".\" + axis + \"gridlines\").selectAll(\"path\").forEach(mark_inscale_gridlines);\n",
       "        root.select(\".\" + axis + \"labels\").selectAll(\"text\").forEach(mark_inscale_labels);\n",
       "    }\n",
       "};\n",
       "\n",
       "\n",
       "var set_plot_pan_zoom = function(root, tx, ty, scale) {\n",
       "    var old_scale = root.data(\"scale\");\n",
       "    var bounds = root.plotbounds();\n",
       "\n",
       "    var width = bounds.x1 - bounds.x0,\n",
       "        height = bounds.y1 - bounds.y0;\n",
       "\n",
       "    // compute the viewport derived from tx, ty, and scale\n",
       "    var x_min = -width * scale - (scale * width - width),\n",
       "        x_max = width * scale,\n",
       "        y_min = -height * scale - (scale * height - height),\n",
       "        y_max = height * scale;\n",
       "\n",
       "    var x0 = bounds.x0 - scale * bounds.x0,\n",
       "        y0 = bounds.y0 - scale * bounds.y0;\n",
       "\n",
       "    var tx = Math.max(Math.min(tx - x0, x_max), x_min),\n",
       "        ty = Math.max(Math.min(ty - y0, y_max), y_min);\n",
       "\n",
       "    tx += x0;\n",
       "    ty += y0;\n",
       "\n",
       "    // when the scale change, we may need to alter which set of\n",
       "    // ticks is being displayed\n",
       "    if (scale != old_scale) {\n",
       "        update_tickscale(root, scale, \"x\");\n",
       "        update_tickscale(root, scale, \"y\");\n",
       "    }\n",
       "\n",
       "    set_geometry_transform(root, tx, ty, scale);\n",
       "\n",
       "    root.data(\"scale\", scale);\n",
       "    root.data(\"tx\", tx);\n",
       "    root.data(\"ty\", ty);\n",
       "};\n",
       "\n",
       "\n",
       "var scale_centered_translation = function(root, scale) {\n",
       "    var bounds = root.plotbounds();\n",
       "\n",
       "    var width = bounds.x1 - bounds.x0,\n",
       "        height = bounds.y1 - bounds.y0;\n",
       "\n",
       "    var tx0 = root.data(\"tx\"),\n",
       "        ty0 = root.data(\"ty\");\n",
       "\n",
       "    var scale0 = root.data(\"scale\");\n",
       "\n",
       "    // how off from center the current view is\n",
       "    var xoff = tx0 - (bounds.x0 * (1 - scale0) + (width * (1 - scale0)) / 2),\n",
       "        yoff = ty0 - (bounds.y0 * (1 - scale0) + (height * (1 - scale0)) / 2);\n",
       "\n",
       "    // rescale offsets\n",
       "    xoff = xoff * scale / scale0;\n",
       "    yoff = yoff * scale / scale0;\n",
       "\n",
       "    // adjust for the panel position being scaled\n",
       "    var x_edge_adjust = bounds.x0 * (1 - scale),\n",
       "        y_edge_adjust = bounds.y0 * (1 - scale);\n",
       "\n",
       "    return {\n",
       "        x: xoff + x_edge_adjust + (width - width * scale) / 2,\n",
       "        y: yoff + y_edge_adjust + (height - height * scale) / 2\n",
       "    };\n",
       "};\n",
       "\n",
       "\n",
       "// Initialize data for panning zooming if it isn't already.\n",
       "var init_pan_zoom = function(root) {\n",
       "    if (root.data(\"zoompan-ready\")) {\n",
       "        return;\n",
       "    }\n",
       "\n",
       "    // The non-scaling-stroke trick. Rather than try to correct for the\n",
       "    // stroke-width when zooming, we force it to a fixed value.\n",
       "    var px_per_mm = root.node.getCTM().a;\n",
       "\n",
       "    // Drag events report deltas in pixels, which we'd like to convert to\n",
       "    // millimeters.\n",
       "    root.data(\"px_per_mm\", px_per_mm);\n",
       "\n",
       "    root.selectAll(\"path\")\n",
       "        .forEach(function (element, i) {\n",
       "        sw = element.asPX(\"stroke-width\") * px_per_mm;\n",
       "        if (sw > 0) {\n",
       "            element.attribute(\"stroke-width\", sw);\n",
       "            element.attribute(\"vector-effect\", \"non-scaling-stroke\");\n",
       "        }\n",
       "    });\n",
       "\n",
       "    // Store ticks labels original tranformation\n",
       "    root.selectAll(\".xlabels > text, .ylabels > text\")\n",
       "        .forEach(function (element, i) {\n",
       "            var lm = element.transform().localMatrix;\n",
       "            element.data(\"static_transform\",\n",
       "                new Snap.Matrix(lm.a, lm.b, lm.c, lm.d, lm.e, lm.f));\n",
       "        });\n",
       "\n",
       "    var xgridlines = root.select(\".xgridlines\");\n",
       "    var ygridlines = root.select(\".ygridlines\");\n",
       "    var xlabels = root.select(\".xlabels\");\n",
       "    var ylabels = root.select(\".ylabels\");\n",
       "\n",
       "    if (root.data(\"tx\") === undefined) root.data(\"tx\", 0);\n",
       "    if (root.data(\"ty\") === undefined) root.data(\"ty\", 0);\n",
       "    if (root.data(\"scale\") === undefined) root.data(\"scale\", 1.0);\n",
       "    if (root.data(\"xtickscales\") === undefined) {\n",
       "\n",
       "        // index all the tick scales that are listed\n",
       "        var xtickscales = {};\n",
       "        var ytickscales = {};\n",
       "        var add_x_tick_scales = function (element, i) {\n",
       "            xtickscales[element.attribute(\"gadfly:scale\")] = true;\n",
       "        };\n",
       "        var add_y_tick_scales = function (element, i) {\n",
       "            ytickscales[element.attribute(\"gadfly:scale\")] = true;\n",
       "        };\n",
       "\n",
       "        if (xgridlines) xgridlines.selectAll(\"path\").forEach(add_x_tick_scales);\n",
       "        if (ygridlines) ygridlines.selectAll(\"path\").forEach(add_y_tick_scales);\n",
       "        if (xlabels) xlabels.selectAll(\"text\").forEach(add_x_tick_scales);\n",
       "        if (ylabels) ylabels.selectAll(\"text\").forEach(add_y_tick_scales);\n",
       "\n",
       "        root.data(\"xtickscales\", xtickscales);\n",
       "        root.data(\"ytickscales\", ytickscales);\n",
       "        root.data(\"xtickscale\", 1.0);\n",
       "    }\n",
       "\n",
       "    var min_scale = 1.0, max_scale = 1.0;\n",
       "    for (scale in xtickscales) {\n",
       "        min_scale = Math.min(min_scale, scale);\n",
       "        max_scale = Math.max(max_scale, scale);\n",
       "    }\n",
       "    for (scale in ytickscales) {\n",
       "        min_scale = Math.min(min_scale, scale);\n",
       "        max_scale = Math.max(max_scale, scale);\n",
       "    }\n",
       "    root.data(\"min_scale\", min_scale);\n",
       "    root.data(\"max_scale\", max_scale);\n",
       "\n",
       "    // store the original positions of labels\n",
       "    if (xlabels) {\n",
       "        xlabels.selectAll(\"text\")\n",
       "               .forEach(function (element, i) {\n",
       "                   element.data(\"x\", element.asPX(\"x\"));\n",
       "               });\n",
       "    }\n",
       "\n",
       "    if (ylabels) {\n",
       "        ylabels.selectAll(\"text\")\n",
       "               .forEach(function (element, i) {\n",
       "                   element.data(\"y\", element.asPX(\"y\"));\n",
       "               });\n",
       "    }\n",
       "\n",
       "    // mark grid lines and ticks as in or out of scale.\n",
       "    var mark_inscale = function (element, i) {\n",
       "        element.attribute(\"gadfly:inscale\", element.attribute(\"gadfly:scale\") == 1.0);\n",
       "    };\n",
       "\n",
       "    if (xgridlines) xgridlines.selectAll(\"path\").forEach(mark_inscale);\n",
       "    if (ygridlines) ygridlines.selectAll(\"path\").forEach(mark_inscale);\n",
       "    if (xlabels) xlabels.selectAll(\"text\").forEach(mark_inscale);\n",
       "    if (ylabels) ylabels.selectAll(\"text\").forEach(mark_inscale);\n",
       "\n",
       "    // figure out the upper ond lower bounds on panning using the maximum\n",
       "    // and minum grid lines\n",
       "    var bounds = root.plotbounds();\n",
       "    var pan_bounds = {\n",
       "        x0: 0.0,\n",
       "        y0: 0.0,\n",
       "        x1: 0.0,\n",
       "        y1: 0.0\n",
       "    };\n",
       "\n",
       "    if (xgridlines) {\n",
       "        xgridlines\n",
       "            .selectAll(\"path\")\n",
       "            .forEach(function (element, i) {\n",
       "                if (element.attribute(\"gadfly:inscale\") == \"true\") {\n",
       "                    var bbox = element.node.getBBox();\n",
       "                    if (bounds.x1 - bbox.x < pan_bounds.x0) {\n",
       "                        pan_bounds.x0 = bounds.x1 - bbox.x;\n",
       "                    }\n",
       "                    if (bounds.x0 - bbox.x > pan_bounds.x1) {\n",
       "                        pan_bounds.x1 = bounds.x0 - bbox.x;\n",
       "                    }\n",
       "                    element.attr(\"visibility\", \"visible\");\n",
       "                }\n",
       "            });\n",
       "    }\n",
       "\n",
       "    if (ygridlines) {\n",
       "        ygridlines\n",
       "            .selectAll(\"path\")\n",
       "            .forEach(function (element, i) {\n",
       "                if (element.attribute(\"gadfly:inscale\") == \"true\") {\n",
       "                    var bbox = element.node.getBBox();\n",
       "                    if (bounds.y1 - bbox.y < pan_bounds.y0) {\n",
       "                        pan_bounds.y0 = bounds.y1 - bbox.y;\n",
       "                    }\n",
       "                    if (bounds.y0 - bbox.y > pan_bounds.y1) {\n",
       "                        pan_bounds.y1 = bounds.y0 - bbox.y;\n",
       "                    }\n",
       "                    element.attr(\"visibility\", \"visible\");\n",
       "                }\n",
       "            });\n",
       "    }\n",
       "\n",
       "    // nudge these values a little\n",
       "    pan_bounds.x0 -= 5;\n",
       "    pan_bounds.x1 += 5;\n",
       "    pan_bounds.y0 -= 5;\n",
       "    pan_bounds.y1 += 5;\n",
       "    root.data(\"pan_bounds\", pan_bounds);\n",
       "\n",
       "    root.data(\"zoompan-ready\", true)\n",
       "};\n",
       "\n",
       "\n",
       "// Panning\n",
       "Gadfly.guide_background_drag_onmove = function(dx, dy, x, y, event) {\n",
       "    var root = this.plotroot();\n",
       "    var px_per_mm = root.data(\"px_per_mm\");\n",
       "    dx /= px_per_mm;\n",
       "    dy /= px_per_mm;\n",
       "\n",
       "    var tx0 = root.data(\"tx\"),\n",
       "        ty0 = root.data(\"ty\");\n",
       "\n",
       "    var dx0 = root.data(\"dx\"),\n",
       "        dy0 = root.data(\"dy\");\n",
       "\n",
       "    root.data(\"dx\", dx);\n",
       "    root.data(\"dy\", dy);\n",
       "\n",
       "    dx = dx - dx0;\n",
       "    dy = dy - dy0;\n",
       "\n",
       "    var tx = tx0 + dx,\n",
       "        ty = ty0 + dy;\n",
       "\n",
       "    set_plot_pan_zoom(root, tx, ty, root.data(\"scale\"));\n",
       "};\n",
       "\n",
       "\n",
       "Gadfly.guide_background_drag_onstart = function(x, y, event) {\n",
       "    var root = this.plotroot();\n",
       "    root.data(\"dx\", 0);\n",
       "    root.data(\"dy\", 0);\n",
       "    init_pan_zoom(root);\n",
       "};\n",
       "\n",
       "\n",
       "Gadfly.guide_background_drag_onend = function(event) {\n",
       "    var root = this.plotroot();\n",
       "};\n",
       "\n",
       "\n",
       "Gadfly.guide_background_scroll = function(event) {\n",
       "    if (event.shiftKey) {\n",
       "        var root = this.plotroot();\n",
       "        init_pan_zoom(root);\n",
       "        var new_scale = root.data(\"scale\") * Math.pow(2, 0.002 * event.wheelDelta);\n",
       "        new_scale = Math.max(\n",
       "            root.data(\"min_scale\"),\n",
       "            Math.min(root.data(\"max_scale\"), new_scale))\n",
       "        update_plot_scale(root, new_scale);\n",
       "        event.stopPropagation();\n",
       "    }\n",
       "};\n",
       "\n",
       "\n",
       "Gadfly.zoomslider_button_mouseover = function(event) {\n",
       "    this.select(\".button_logo\")\n",
       "         .animate({fill: this.data(\"mouseover_color\")}, 100);\n",
       "};\n",
       "\n",
       "\n",
       "Gadfly.zoomslider_button_mouseout = function(event) {\n",
       "     this.select(\".button_logo\")\n",
       "         .animate({fill: this.data(\"mouseout_color\")}, 100);\n",
       "};\n",
       "\n",
       "\n",
       "Gadfly.zoomslider_zoomout_click = function(event) {\n",
       "    var root = this.plotroot();\n",
       "    init_pan_zoom(root);\n",
       "    var min_scale = root.data(\"min_scale\"),\n",
       "        scale = root.data(\"scale\");\n",
       "    Snap.animate(\n",
       "        scale,\n",
       "        Math.max(min_scale, scale / 1.5),\n",
       "        function (new_scale) {\n",
       "            update_plot_scale(root, new_scale);\n",
       "        },\n",
       "        200);\n",
       "};\n",
       "\n",
       "\n",
       "Gadfly.zoomslider_zoomin_click = function(event) {\n",
       "    var root = this.plotroot();\n",
       "    init_pan_zoom(root);\n",
       "    var max_scale = root.data(\"max_scale\"),\n",
       "        scale = root.data(\"scale\");\n",
       "\n",
       "    Snap.animate(\n",
       "        scale,\n",
       "        Math.min(max_scale, scale * 1.5),\n",
       "        function (new_scale) {\n",
       "            update_plot_scale(root, new_scale);\n",
       "        },\n",
       "        200);\n",
       "};\n",
       "\n",
       "\n",
       "Gadfly.zoomslider_track_click = function(event) {\n",
       "    // TODO\n",
       "};\n",
       "\n",
       "\n",
       "Gadfly.zoomslider_thumb_mousedown = function(event) {\n",
       "    this.animate({fill: this.data(\"mouseover_color\")}, 100);\n",
       "};\n",
       "\n",
       "\n",
       "Gadfly.zoomslider_thumb_mouseup = function(event) {\n",
       "    this.animate({fill: this.data(\"mouseout_color\")}, 100);\n",
       "};\n",
       "\n",
       "\n",
       "// compute the position in [0, 1] of the zoom slider thumb from the current scale\n",
       "var slider_position_from_scale = function(scale, min_scale, max_scale) {\n",
       "    if (scale >= 1.0) {\n",
       "        return 0.5 + 0.5 * (Math.log(scale) / Math.log(max_scale));\n",
       "    }\n",
       "    else {\n",
       "        return 0.5 * (Math.log(scale) - Math.log(min_scale)) / (0 - Math.log(min_scale));\n",
       "    }\n",
       "}\n",
       "\n",
       "\n",
       "var update_plot_scale = function(root, new_scale) {\n",
       "    var trans = scale_centered_translation(root, new_scale);\n",
       "    set_plot_pan_zoom(root, trans.x, trans.y, new_scale);\n",
       "\n",
       "    root.selectAll(\".zoomslider_thumb\")\n",
       "        .forEach(function (element, i) {\n",
       "            var min_pos = element.data(\"min_pos\"),\n",
       "                max_pos = element.data(\"max_pos\"),\n",
       "                min_scale = root.data(\"min_scale\"),\n",
       "                max_scale = root.data(\"max_scale\");\n",
       "            var xmid = (min_pos + max_pos) / 2;\n",
       "            var xpos = slider_position_from_scale(new_scale, min_scale, max_scale);\n",
       "            element.transform(new Snap.Matrix().translate(\n",
       "                Math.max(min_pos, Math.min(\n",
       "                         max_pos, min_pos + (max_pos - min_pos) * xpos)) - xmid, 0));\n",
       "    });\n",
       "};\n",
       "\n",
       "\n",
       "Gadfly.zoomslider_thumb_dragmove = function(dx, dy, x, y) {\n",
       "    var root = this.plotroot();\n",
       "    var min_pos = this.data(\"min_pos\"),\n",
       "        max_pos = this.data(\"max_pos\"),\n",
       "        min_scale = root.data(\"min_scale\"),\n",
       "        max_scale = root.data(\"max_scale\"),\n",
       "        old_scale = root.data(\"old_scale\");\n",
       "\n",
       "    var px_per_mm = root.data(\"px_per_mm\");\n",
       "    dx /= px_per_mm;\n",
       "    dy /= px_per_mm;\n",
       "\n",
       "    var xmid = (min_pos + max_pos) / 2;\n",
       "    var xpos = slider_position_from_scale(old_scale, min_scale, max_scale) +\n",
       "                   dx / (max_pos - min_pos);\n",
       "\n",
       "    // compute the new scale\n",
       "    var new_scale;\n",
       "    if (xpos >= 0.5) {\n",
       "        new_scale = Math.exp(2.0 * (xpos - 0.5) * Math.log(max_scale));\n",
       "    }\n",
       "    else {\n",
       "        new_scale = Math.exp(2.0 * xpos * (0 - Math.log(min_scale)) +\n",
       "                        Math.log(min_scale));\n",
       "    }\n",
       "    new_scale = Math.min(max_scale, Math.max(min_scale, new_scale));\n",
       "\n",
       "    update_plot_scale(root, new_scale);\n",
       "};\n",
       "\n",
       "\n",
       "Gadfly.zoomslider_thumb_dragstart = function(event) {\n",
       "    var root = this.plotroot();\n",
       "    init_pan_zoom(root);\n",
       "\n",
       "    // keep track of what the scale was when we started dragging\n",
       "    root.data(\"old_scale\", root.data(\"scale\"));\n",
       "};\n",
       "\n",
       "\n",
       "Gadfly.zoomslider_thumb_dragend = function(event) {\n",
       "};\n",
       "\n",
       "\n",
       "var toggle_color_class = function(root, color_class, ison) {\n",
       "    var guides = root.selectAll(\".guide.\" + color_class + \",.guide .\" + color_class);\n",
       "    var geoms = root.selectAll(\".geometry.\" + color_class + \",.geometry .\" + color_class);\n",
       "    if (ison) {\n",
       "        guides.animate({opacity: 0.5}, 250);\n",
       "        geoms.animate({opacity: 0.0}, 250);\n",
       "    } else {\n",
       "        guides.animate({opacity: 1.0}, 250);\n",
       "        geoms.animate({opacity: 1.0}, 250);\n",
       "    }\n",
       "};\n",
       "\n",
       "\n",
       "Gadfly.colorkey_swatch_click = function(event) {\n",
       "    var root = this.plotroot();\n",
       "    var color_class = this.data(\"color_class\");\n",
       "\n",
       "    if (event.shiftKey) {\n",
       "        root.selectAll(\".colorkey text\")\n",
       "            .forEach(function (element) {\n",
       "                var other_color_class = element.data(\"color_class\");\n",
       "                if (other_color_class != color_class) {\n",
       "                    toggle_color_class(root, other_color_class,\n",
       "                                       element.attr(\"opacity\") == 1.0);\n",
       "                }\n",
       "            });\n",
       "    } else {\n",
       "        toggle_color_class(root, color_class, this.attr(\"opacity\") == 1.0);\n",
       "    }\n",
       "};\n",
       "\n",
       "\n",
       "return Gadfly;\n",
       "\n",
       "}));\n",
       "\n",
       "\n",
       "//@ sourceURL=gadfly.js\n",
       "\n",
       "(function (glob, factory) {\n",
       "    // AMD support\n",
       "      if (typeof require === \"function\" && typeof define === \"function\" && define.amd) {\n",
       "        require([\"Snap.svg\", \"Gadfly\"], function (Snap, Gadfly) {\n",
       "            factory(Snap, Gadfly);\n",
       "        });\n",
       "      } else {\n",
       "          factory(glob.Snap, glob.Gadfly);\n",
       "      }\n",
       "})(window, function (Snap, Gadfly) {\n",
       "    var fig = Snap(\"#fig-dfc43a730cdf40b7b9f453f347ddd4be\");\n",
       "fig.select(\"#fig-dfc43a730cdf40b7b9f453f347ddd4be-element-4\")\n",
       "   .drag(function() {}, function() {}, function() {});\n",
       "fig.select(\"#fig-dfc43a730cdf40b7b9f453f347ddd4be-element-6\")\n",
       "   .data(\"color_class\", \"color_f1\")\n",
       ".click(Gadfly.colorkey_swatch_click)\n",
       ";\n",
       "fig.select(\"#fig-dfc43a730cdf40b7b9f453f347ddd4be-element-7\")\n",
       "   .data(\"color_class\", \"color_f2\")\n",
       ".click(Gadfly.colorkey_swatch_click)\n",
       ";\n",
       "fig.select(\"#fig-dfc43a730cdf40b7b9f453f347ddd4be-element-9\")\n",
       "   .data(\"color_class\", \"color_f1\")\n",
       ".click(Gadfly.colorkey_swatch_click)\n",
       ";\n",
       "fig.select(\"#fig-dfc43a730cdf40b7b9f453f347ddd4be-element-10\")\n",
       "   .data(\"color_class\", \"color_f2\")\n",
       ".click(Gadfly.colorkey_swatch_click)\n",
       ";\n",
       "fig.select(\"#fig-dfc43a730cdf40b7b9f453f347ddd4be-element-13\")\n",
       "   .mouseenter(Gadfly.plot_mouseover)\n",
       ".mouseleave(Gadfly.plot_mouseout)\n",
       ".mousewheel(Gadfly.guide_background_scroll)\n",
       ".drag(Gadfly.guide_background_drag_onmove,\n",
       "      Gadfly.guide_background_drag_onstart,\n",
       "      Gadfly.guide_background_drag_onend)\n",
       ";\n",
       "fig.select(\"#fig-dfc43a730cdf40b7b9f453f347ddd4be-element-17\")\n",
       "   .plotroot().data(\"unfocused_ygrid_color\", \"#D0D0E0\")\n",
       ";\n",
       "fig.select(\"#fig-dfc43a730cdf40b7b9f453f347ddd4be-element-17\")\n",
       "   .plotroot().data(\"focused_ygrid_color\", \"#A0A0A0\")\n",
       ";\n",
       "fig.select(\"#fig-dfc43a730cdf40b7b9f453f347ddd4be-element-130\")\n",
       "   .plotroot().data(\"unfocused_xgrid_color\", \"#D0D0E0\")\n",
       ";\n",
       "fig.select(\"#fig-dfc43a730cdf40b7b9f453f347ddd4be-element-130\")\n",
       "   .plotroot().data(\"focused_xgrid_color\", \"#A0A0A0\")\n",
       ";\n",
       "fig.select(\"#fig-dfc43a730cdf40b7b9f453f347ddd4be-element-273\")\n",
       "   .data(\"mouseover_color\", \"#cd5c5c\")\n",
       ";\n",
       "fig.select(\"#fig-dfc43a730cdf40b7b9f453f347ddd4be-element-273\")\n",
       "   .data(\"mouseout_color\", \"#6a6a6a\")\n",
       ";\n",
       "fig.select(\"#fig-dfc43a730cdf40b7b9f453f347ddd4be-element-273\")\n",
       "   .click(Gadfly.zoomslider_zoomin_click)\n",
       ".mouseenter(Gadfly.zoomslider_button_mouseover)\n",
       ".mouseleave(Gadfly.zoomslider_button_mouseout)\n",
       ";\n",
       "fig.select(\"#fig-dfc43a730cdf40b7b9f453f347ddd4be-element-277\")\n",
       "   .data(\"max_pos\", 111.58)\n",
       ";\n",
       "fig.select(\"#fig-dfc43a730cdf40b7b9f453f347ddd4be-element-277\")\n",
       "   .data(\"min_pos\", 94.58)\n",
       ";\n",
       "fig.select(\"#fig-dfc43a730cdf40b7b9f453f347ddd4be-element-277\")\n",
       "   .click(Gadfly.zoomslider_track_click);\n",
       "fig.select(\"#fig-dfc43a730cdf40b7b9f453f347ddd4be-element-279\")\n",
       "   .data(\"max_pos\", 111.58)\n",
       ";\n",
       "fig.select(\"#fig-dfc43a730cdf40b7b9f453f347ddd4be-element-279\")\n",
       "   .data(\"min_pos\", 94.58)\n",
       ";\n",
       "fig.select(\"#fig-dfc43a730cdf40b7b9f453f347ddd4be-element-279\")\n",
       "   .data(\"mouseover_color\", \"#cd5c5c\")\n",
       ";\n",
       "fig.select(\"#fig-dfc43a730cdf40b7b9f453f347ddd4be-element-279\")\n",
       "   .data(\"mouseout_color\", \"#6a6a6a\")\n",
       ";\n",
       "fig.select(\"#fig-dfc43a730cdf40b7b9f453f347ddd4be-element-279\")\n",
       "   .drag(Gadfly.zoomslider_thumb_dragmove,\n",
       "     Gadfly.zoomslider_thumb_dragstart,\n",
       "     Gadfly.zoomslider_thumb_dragend)\n",
       ".mousedown(Gadfly.zoomslider_thumb_mousedown)\n",
       ".mouseup(Gadfly.zoomslider_thumb_mouseup)\n",
       ";\n",
       "fig.select(\"#fig-dfc43a730cdf40b7b9f453f347ddd4be-element-281\")\n",
       "   .data(\"mouseover_color\", \"#cd5c5c\")\n",
       ";\n",
       "fig.select(\"#fig-dfc43a730cdf40b7b9f453f347ddd4be-element-281\")\n",
       "   .data(\"mouseout_color\", \"#6a6a6a\")\n",
       ";\n",
       "fig.select(\"#fig-dfc43a730cdf40b7b9f453f347ddd4be-element-281\")\n",
       "   .click(Gadfly.zoomslider_zoomout_click)\n",
       ".mouseenter(Gadfly.zoomslider_button_mouseover)\n",
       ".mouseleave(Gadfly.zoomslider_button_mouseout)\n",
       ";\n",
       "    });\n",
       "]]> </script>\n",
       "</svg>\n"
      ],
      "text/plain": [
       "Plot(...)"
      ]
     },
     "execution_count": 87,
     "metadata": {},
     "output_type": "execute_result"
    }
   ],
   "source": [
    "using Gadfly\n",
    "\n",
    "# The plot function below is in Gadfly. \n",
    "# Add the Gadfly library with Pkg.add(\"Gadfly\") \n",
    "# at the julia> prompt or from IJulia.\n",
    "\n",
    "plot([sin, cos], 0, 25)"
   ]
  },
  {
   "cell_type": "markdown",
   "metadata": {},
   "source": [
    "###Symbolic Data"
   ]
  },
  {
   "cell_type": "markdown",
   "metadata": {
    "collapsed": true
   },
   "source": [
    "`:` plays the role of the quotation marks in English. \n",
    "\n",
    "It enables us to capture the idea in the distinction between \"Say 'your name'.\" and \"Say your name.\" \n",
    "\n",
    "With a quotation function we can manipulate objects symbolically by reference to their names."
   ]
  },
  {
   "cell_type": "code",
   "execution_count": 88,
   "metadata": {
    "collapsed": false
   },
   "outputs": [
    {
     "data": {
      "text/plain": [
       "\"Isaac\""
      ]
     },
     "execution_count": 88,
     "metadata": {},
     "output_type": "execute_result"
    }
   ],
   "source": [
    "yourname = \"Isaac\""
   ]
  },
  {
   "cell_type": "code",
   "execution_count": 89,
   "metadata": {
    "collapsed": false
   },
   "outputs": [
    {
     "data": {
      "text/plain": [
       "\"Isaac\""
      ]
     },
     "execution_count": 89,
     "metadata": {},
     "output_type": "execute_result"
    }
   ],
   "source": [
    "yourname"
   ]
  },
  {
   "cell_type": "code",
   "execution_count": 90,
   "metadata": {
    "collapsed": false
   },
   "outputs": [
    {
     "data": {
      "text/plain": [
       ":yourname"
      ]
     },
     "execution_count": 90,
     "metadata": {},
     "output_type": "execute_result"
    }
   ],
   "source": [
    ":yourname"
   ]
  },
  {
   "cell_type": "code",
   "execution_count": 91,
   "metadata": {
    "collapsed": false
   },
   "outputs": [
    {
     "data": {
      "text/plain": [
       "Symbol"
      ]
     },
     "execution_count": 91,
     "metadata": {},
     "output_type": "execute_result"
    }
   ],
   "source": [
    "typeof(:yourname)"
   ]
  },
  {
   "cell_type": "code",
   "execution_count": 92,
   "metadata": {
    "collapsed": false
   },
   "outputs": [
    {
     "data": {
      "text/plain": [
       "ASCIIString (constructor with 2 methods)"
      ]
     },
     "execution_count": 92,
     "metadata": {},
     "output_type": "execute_result"
    }
   ],
   "source": [
    "typeof(yourname)"
   ]
  },
  {
   "cell_type": "markdown",
   "metadata": {},
   "source": [
    "The function `symbol()` also references a name symbolically:"
   ]
  },
  {
   "cell_type": "code",
   "execution_count": 93,
   "metadata": {
    "collapsed": false
   },
   "outputs": [
    {
     "data": {
      "text/plain": [
       "\"Isaiah\""
      ]
     },
     "execution_count": 93,
     "metadata": {},
     "output_type": "execute_result"
    }
   ],
   "source": [
    "anothername = \"Isaiah\""
   ]
  },
  {
   "cell_type": "code",
   "execution_count": 94,
   "metadata": {
    "collapsed": false
   },
   "outputs": [
    {
     "data": {
      "text/plain": [
       ":Isaiah"
      ]
     },
     "execution_count": 94,
     "metadata": {},
     "output_type": "execute_result"
    }
   ],
   "source": [
    "symbol(anothername)"
   ]
  },
  {
   "cell_type": "markdown",
   "metadata": {},
   "source": [
    "We can use quotation to objectivy expressions, that is to pass around expressions rather than to evaluate them."
   ]
  },
  {
   "cell_type": "code",
   "execution_count": 95,
   "metadata": {
    "collapsed": false
   },
   "outputs": [
    {
     "data": {
      "text/plain": [
       ":((G * Me) / r^2)"
      ]
     },
     "execution_count": 95,
     "metadata": {},
     "output_type": "execute_result"
    }
   ],
   "source": [
    "g = :(G*Me/r^2)"
   ]
  },
  {
   "cell_type": "code",
   "execution_count": 96,
   "metadata": {
    "collapsed": false
   },
   "outputs": [
    {
     "data": {
      "text/plain": [
       "Expr"
      ]
     },
     "execution_count": 96,
     "metadata": {},
     "output_type": "execute_result"
    }
   ],
   "source": [
    "typeof(g)"
   ]
  },
  {
   "cell_type": "code",
   "execution_count": 97,
   "metadata": {
    "collapsed": false
   },
   "outputs": [
    {
     "data": {
      "text/plain": [
       "5.972e24"
      ]
     },
     "execution_count": 97,
     "metadata": {},
     "output_type": "execute_result"
    }
   ],
   "source": [
    "Me = 5.972e24"
   ]
  },
  {
   "cell_type": "code",
   "execution_count": 98,
   "metadata": {
    "collapsed": false
   },
   "outputs": [
    {
     "data": {
      "text/plain": [
       "6371000"
      ]
     },
     "execution_count": 98,
     "metadata": {},
     "output_type": "execute_result"
    }
   ],
   "source": [
    "r = 6371000"
   ]
  },
  {
   "cell_type": "code",
   "execution_count": 99,
   "metadata": {
    "collapsed": false
   },
   "outputs": [
    {
     "data": {
      "text/plain": [
       "6.673e-11"
      ]
     },
     "execution_count": 99,
     "metadata": {},
     "output_type": "execute_result"
    }
   ],
   "source": [
    "G = 6.673e-11"
   ]
  },
  {
   "cell_type": "code",
   "execution_count": 100,
   "metadata": {
    "collapsed": false
   },
   "outputs": [
    {
     "data": {
      "text/plain": [
       ":((G * Me) / r^2)"
      ]
     },
     "execution_count": 100,
     "metadata": {},
     "output_type": "execute_result"
    }
   ],
   "source": [
    "g"
   ]
  },
  {
   "cell_type": "code",
   "execution_count": 101,
   "metadata": {
    "collapsed": false
   },
   "outputs": [
    {
     "data": {
      "text/plain": [
       "9.818060721453536"
      ]
     },
     "execution_count": 101,
     "metadata": {},
     "output_type": "execute_result"
    }
   ],
   "source": [
    "eval(g)"
   ]
  },
  {
   "cell_type": "markdown",
   "metadata": {},
   "source": [
    "**`memq`** takes a symbol and a list (array) and returns false if the symbol is not in the list--or the sublist beginning with the symbol. "
   ]
  },
  {
   "cell_type": "code",
   "execution_count": 102,
   "metadata": {
    "collapsed": false
   },
   "outputs": [
    {
     "data": {
      "text/plain": [
       "true"
      ]
     },
     "execution_count": 102,
     "metadata": {},
     "output_type": "execute_result"
    }
   ],
   "source": [
    ":a == :a"
   ]
  },
  {
   "cell_type": "code",
   "execution_count": 103,
   "metadata": {
    "collapsed": false
   },
   "outputs": [
    {
     "data": {
      "text/plain": [
       "false"
      ]
     },
     "execution_count": 103,
     "metadata": {},
     "output_type": "execute_result"
    }
   ],
   "source": [
    ":a == :e"
   ]
  },
  {
   "cell_type": "code",
   "execution_count": 104,
   "metadata": {
    "collapsed": false
   },
   "outputs": [
    {
     "data": {
      "text/plain": [
       "memq (generic function with 1 method)"
      ]
     },
     "execution_count": 104,
     "metadata": {},
     "output_type": "execute_result"
    }
   ],
   "source": [
    "function memq(s, lst) # s a symbol, list a list\n",
    "    if isempty(lst)\n",
    "        false\n",
    "        elseif s == lst[1]\n",
    "        lst\n",
    "    else\n",
    "        memq(s, lst[2:end])\n",
    "    end\n",
    "end"
   ]
  },
  {
   "cell_type": "code",
   "execution_count": 105,
   "metadata": {
    "collapsed": false
   },
   "outputs": [
    {
     "data": {
      "text/plain": [
       "7-element Array{Any,1}:\n",
       " 1  \n",
       " 2  \n",
       " 3  \n",
       "  :a\n",
       " 4  \n",
       " 5  \n",
       " 6  "
      ]
     },
     "execution_count": 105,
     "metadata": {},
     "output_type": "execute_result"
    }
   ],
   "source": [
    "test = [1, 2, 3, :a, 4, 5, 6]"
   ]
  },
  {
   "cell_type": "code",
   "execution_count": 106,
   "metadata": {
    "collapsed": false
   },
   "outputs": [
    {
     "data": {
      "text/plain": [
       "4-element Array{Any,1}:\n",
       "  :a\n",
       " 4  \n",
       " 5  \n",
       " 6  "
      ]
     },
     "execution_count": 106,
     "metadata": {},
     "output_type": "execute_result"
    }
   ],
   "source": [
    "memq(:a, test)"
   ]
  },
  {
   "cell_type": "code",
   "execution_count": 107,
   "metadata": {
    "collapsed": false
   },
   "outputs": [
    {
     "data": {
      "text/plain": [
       ":samuel"
      ]
     },
     "execution_count": 107,
     "metadata": {},
     "output_type": "execute_result"
    }
   ],
   "source": [
    "s = :samuel"
   ]
  },
  {
   "cell_type": "code",
   "execution_count": 108,
   "metadata": {
    "collapsed": false
   },
   "outputs": [
    {
     "data": {
      "text/plain": [
       "Symbol"
      ]
     },
     "execution_count": 108,
     "metadata": {},
     "output_type": "execute_result"
    }
   ],
   "source": [
    "typeof(s)"
   ]
  },
  {
   "cell_type": "markdown",
   "metadata": {},
   "source": [
    "The function `isvariable` returns `true` if its argument is a variable, that is here a `Symbol` type."
   ]
  },
  {
   "cell_type": "code",
   "execution_count": 109,
   "metadata": {
    "collapsed": false
   },
   "outputs": [
    {
     "data": {
      "text/plain": [
       "isvariable (generic function with 1 method)"
      ]
     },
     "execution_count": 109,
     "metadata": {},
     "output_type": "execute_result"
    }
   ],
   "source": [
    "function isvariable(x)\n",
    "    typeof(x) == Symbol\n",
    "end"
   ]
  },
  {
   "cell_type": "code",
   "execution_count": 110,
   "metadata": {
    "collapsed": false
   },
   "outputs": [
    {
     "data": {
      "text/plain": [
       "true"
      ]
     },
     "execution_count": 110,
     "metadata": {},
     "output_type": "execute_result"
    }
   ],
   "source": [
    "isvariable(s)"
   ]
  },
  {
   "cell_type": "code",
   "execution_count": 111,
   "metadata": {
    "collapsed": false
   },
   "outputs": [
    {
     "data": {
      "text/plain": [
       "false"
      ]
     },
     "execution_count": 111,
     "metadata": {},
     "output_type": "execute_result"
    }
   ],
   "source": [
    "isvariable(Me)"
   ]
  },
  {
   "cell_type": "markdown",
   "metadata": {},
   "source": [
    "The function `samevariable` returns true if its 2 arguments are variables and equal to each other."
   ]
  },
  {
   "cell_type": "code",
   "execution_count": 112,
   "metadata": {
    "collapsed": false
   },
   "outputs": [
    {
     "data": {
      "text/plain": [
       "samevariable (generic function with 1 method)"
      ]
     },
     "execution_count": 112,
     "metadata": {},
     "output_type": "execute_result"
    }
   ],
   "source": [
    "function samevariable(v1, v2)\n",
    "    isvariable(v1) &&\n",
    "    isvariable(v2) &&\n",
    "    v1 == v2\n",
    "end"
   ]
  },
  {
   "cell_type": "code",
   "execution_count": 113,
   "metadata": {
    "collapsed": false
   },
   "outputs": [
    {
     "data": {
      "text/plain": [
       ":samuel"
      ]
     },
     "execution_count": 113,
     "metadata": {},
     "output_type": "execute_result"
    }
   ],
   "source": [
    "t = :samuel"
   ]
  },
  {
   "cell_type": "code",
   "execution_count": 114,
   "metadata": {
    "collapsed": false
   },
   "outputs": [
    {
     "data": {
      "text/plain": [
       "true"
      ]
     },
     "execution_count": 114,
     "metadata": {},
     "output_type": "execute_result"
    }
   ],
   "source": [
    "samevariable(s, t)"
   ]
  }
 ],
 "metadata": {
  "kernelspec": {
   "display_name": "Julia 0.3.6",
   "language": "julia",
   "name": "julia 0.3"
  },
  "language_info": {
   "name": "julia",
   "version": "0.3.6"
  }
 },
 "nbformat": 4,
 "nbformat_minor": 0
}
