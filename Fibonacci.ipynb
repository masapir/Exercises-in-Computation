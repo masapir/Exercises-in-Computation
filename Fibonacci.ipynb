{
 "cells": [
  {
   "cell_type": "markdown",
   "metadata": {},
   "source": [
    "###Fibonacci###\n",
    "\n",
    "4 June 2015\n",
    "\n",
    "We can use the idea of the exponentiation property\n",
    "\n",
    ">b<sup>n</sup> = (b<sup>n/2</sup>)<sup>2</sup>\n",
    "\n",
    "to write a faster Fibonacci procedure.\n",
    "\n",
    "To do this we must find a way to express the Fibonacci transformation as a process of exponentiation.\n",
    "\n",
    "We want to re-write the Fibonacci transformation in terms of a second transformation that has the same effect as applying the first transformation twice.\n",
    "\n",
    "Let the Fibonacci transformation be T:\n",
    "\n",
    ">a &longleftarrow; a + b\n",
    "\n",
    ">b &longleftarrow; a\n",
    "\n",
    "T(1, 0)<sup>n</sup> yields Fib(n+1) and Fib(n).\n",
    "\n",
    "That is--T applied n times yields Fib(n).\n",
    "\n",
    "The key idea is to consider the transformation T<sub>pq</sub>:\n",
    "\n",
    ">a &longleftarrow; bq + aq + ap\n",
    "\n",
    ">b &longleftarrow; bp + aq\n",
    "\n",
    "T is a special case of T<sub>pq</sub> with\n",
    "\n",
    ">p = 0 and q = 1.\n",
    "\n",
    "Apply T<sub>pq</sub> twice.\n",
    "\n",
    "First:\n",
    "\n",
    ">bq + aq + ap\n",
    "\n",
    ">pb + aq\n",
    "\n",
    "Then:\n",
    "\n",
    ">(pb + aq)q + (bq + aq + ap)q + (bq + aq + ap)p\n",
    "\n",
    ">(pb + aq)p + (bq + aq + ap)q\n",
    "\n",
    "We want to find expressions for p' and q' so that a transformation T<sub>p'q'</sub> is equivalent to T<sup>2</sup>.\n",
    "\n",
    "Rewrite the above result, isolating into factors of a and b the terms with pa dn q:\n",
    "\n",
    ">a(2q^2 + 2pq + p^2) + b(2pq + q^2)\n",
    "\n",
    ">a(2qp + q^2) + b(p^2 + q^2)\n",
    "\n",
    "Let\n",
    "\n",
    ">p' = p^2 + q^2\n",
    "\n",
    ">q' = q^2 + 2qp\n",
    "\n",
    "We can rewrite the result of T<sup>2</sup>:\n",
    "\n",
    ">a(q' + p') + bq'\n",
    "\n",
    ">aq' + bp'\n",
    "\n",
    "This is T' s.t. T<sup>2</sup> = T'.\n",
    "\n",
    "Recall that for the special case of p = 0 and q = 1\n",
    "\n",
    ">T<sup>n</sup> &longrightarrow; Fib(n+1) and Fib(n).\n",
    "\n",
    "By substitution we find in this case\n",
    "\n",
    ">p' = 1 and q' = 1\n",
    "\n",
    "T' is \n",
    "\n",
    ">a &longleftarrow; 2a + b\n",
    "\n",
    ">b &longleftarrow; a + b\n",
    "\n",
    "T' = T<sup>2</sup>\n",
    "\n",
    "Now we can write a faster Fibonacci procedure.\n",
    "\n",
    "For n even, T<sup>n</sup> = (T<sup>2</sup>)<sup>n/2</sup> and we have T<sup>2</sup> = T'"
   ]
  },
  {
   "cell_type": "code",
   "execution_count": 1,
   "metadata": {
    "collapsed": false
   },
   "outputs": [
    {
     "data": {
      "text/plain": [
       "fibf (generic function with 1 method)"
      ]
     },
     "execution_count": 1,
     "metadata": {},
     "output_type": "execute_result"
    }
   ],
   "source": [
    "function fibf(n)\n",
    "    function run(a, b, p, q, count)\n",
    "        if count == 0\n",
    "            b\n",
    "        elseif count%2 == 0\n",
    "            run(a, b, p*p+q*q, q*q+2*p*q, count/2) # using p' and q'\n",
    "        else\n",
    "            run(b*q+a*q+a*p, b*q+a*q, p, q, count-1)\n",
    "        end\n",
    "    end\n",
    "    run(1, 0, 0, 1, n)\n",
    "end"
   ]
  },
  {
   "cell_type": "code",
   "execution_count": 2,
   "metadata": {
    "collapsed": false
   },
   "outputs": [
    {
     "data": {
      "text/plain": [
       "2"
      ]
     },
     "execution_count": 2,
     "metadata": {},
     "output_type": "execute_result"
    }
   ],
   "source": [
    "fibf(3)"
   ]
  },
  {
   "cell_type": "code",
   "execution_count": 3,
   "metadata": {
    "collapsed": false
   },
   "outputs": [
    {
     "data": {
      "text/plain": [
       "63"
      ]
     },
     "execution_count": 3,
     "metadata": {},
     "output_type": "execute_result"
    }
   ],
   "source": [
    "fibf(10)"
   ]
  },
  {
   "cell_type": "code",
   "execution_count": 4,
   "metadata": {
    "collapsed": false
   },
   "outputs": [
    {
     "data": {
      "text/plain": [
       "7896"
      ]
     },
     "execution_count": 4,
     "metadata": {},
     "output_type": "execute_result"
    }
   ],
   "source": [
    "fibf(20)"
   ]
  },
  {
   "cell_type": "code",
   "execution_count": 5,
   "metadata": {
    "collapsed": false
   },
   "outputs": [
    {
     "data": {
      "text/plain": [
       "1078791"
      ]
     },
     "execution_count": 5,
     "metadata": {},
     "output_type": "execute_result"
    }
   ],
   "source": [
    "fibf(30)"
   ]
  },
  {
   "cell_type": "code",
   "execution_count": 6,
   "metadata": {
    "collapsed": false
   },
   "outputs": [
    {
     "data": {
      "text/plain": [
       "119806995"
      ]
     },
     "execution_count": 6,
     "metadata": {},
     "output_type": "execute_result"
    }
   ],
   "source": [
    "fibf(40)"
   ]
  }
 ],
 "metadata": {
  "kernelspec": {
   "display_name": "Julia 0.3.9",
   "language": "julia",
   "name": "julia-0.3"
  },
  "language_info": {
   "name": "julia",
   "version": "0.3.9"
  }
 },
 "nbformat": 4,
 "nbformat_minor": 0
}
