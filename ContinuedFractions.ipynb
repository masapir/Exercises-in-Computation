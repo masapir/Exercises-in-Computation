{
 "cells": [
  {
   "cell_type": "markdown",
   "metadata": {},
   "source": [
    "####Continued Fractions####\n",
    "\n",
    "14 June 2015\n",
    "\n",
    "The procedure below takes three arguments, n, d, and k and returns the continued fraction up to k terms.\n",
    "\n",
    "n and d are procedures of one argument; they return the value of the numerator index and the denominator index for a specific continued fraction (set it out)."
   ]
  },
  {
   "cell_type": "code",
   "execution_count": 2,
   "metadata": {
    "collapsed": false
   },
   "outputs": [
    {
     "data": {
      "text/plain": [
       "continuedfraction (generic function with 1 method)"
      ]
     },
     "execution_count": 2,
     "metadata": {},
     "output_type": "execute_result"
    }
   ],
   "source": [
    "function continuedfraction(n, d, k)\n",
    "    function run(n, d, index, k)\n",
    "        if index == k\n",
    "            n(k)/d(k)\n",
    "        else\n",
    "            n(index)/(d(index)+run(n, d, index+1, k))\n",
    "        end\n",
    "    end\n",
    "    run(n, d, 1, k)\n",
    "end"
   ]
  },
  {
   "cell_type": "markdown",
   "metadata": {},
   "source": [
    "NB: this procedure used the helper function `run` to track an additional variable, `index`. `index` tracks the current term-level starting from 1 and going to k."
   ]
  },
  {
   "cell_type": "markdown",
   "metadata": {},
   "source": [
    "Approximate 1/Φ (1/Golden Ratio):"
   ]
  },
  {
   "cell_type": "code",
   "execution_count": 3,
   "metadata": {
    "collapsed": false
   },
   "outputs": [
    {
     "data": {
      "text/plain": [
       "0.6180339887498948"
      ]
     },
     "execution_count": 3,
     "metadata": {},
     "output_type": "execute_result"
    }
   ],
   "source": [
    "continuedfraction(x -> 1, x -> 1, 1000)"
   ]
  },
  {
   "cell_type": "markdown",
   "metadata": {},
   "source": [
    "It is a good approximation."
   ]
  },
  {
   "cell_type": "markdown",
   "metadata": {},
   "source": [
    "Here is an iterative process for continued fraction:"
   ]
  },
  {
   "cell_type": "code",
   "execution_count": 4,
   "metadata": {
    "collapsed": false
   },
   "outputs": [
    {
     "data": {
      "text/plain": [
       "continuedfractioni (generic function with 1 method)"
      ]
     },
     "execution_count": 4,
     "metadata": {},
     "output_type": "execute_result"
    }
   ],
   "source": [
    "function continuedfractioni(n, d, k)\n",
    "    function run(n, d, k, fraction)\n",
    "        if k == 1\n",
    "            fraction\n",
    "        else\n",
    "            run(n, d, k-1, n(k-1)/(d(k-1)+fraction))\n",
    "        end\n",
    "    end\n",
    "    run(n, d, k, n(k)/d(k))\n",
    "end"
   ]
  },
  {
   "cell_type": "code",
   "execution_count": 5,
   "metadata": {
    "collapsed": false
   },
   "outputs": [
    {
     "data": {
      "text/plain": [
       "0.6180339887498948"
      ]
     },
     "execution_count": 5,
     "metadata": {},
     "output_type": "execute_result"
    }
   ],
   "source": [
    "continuedfractioni(x -> 1, x -> 1, 1000)"
   ]
  }
 ],
 "metadata": {
  "kernelspec": {
   "display_name": "Julia 0.3.9",
   "language": "julia",
   "name": "julia-0.3"
  },
  "language_info": {
   "name": "julia",
   "version": "0.3.9"
  }
 },
 "nbformat": 4,
 "nbformat_minor": 0
}
