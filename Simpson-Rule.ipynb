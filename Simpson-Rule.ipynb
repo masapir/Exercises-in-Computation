{
 "cells": [
  {
   "cell_type": "markdown",
   "metadata": {},
   "source": [
    "####Simpson's Rule####\n",
    "\n",
    "5 June 2015\n",
    "\n",
    "Simpson's rule to approximate calculating the integral of f over an interval [a, b]:\n",
    "\n",
    ">&int;f = h/3 &times; [y<sub>0</sub> + 4y<sub>1</sub> + 2y<sub>2</sub> + 4y<sub>3</sub> + 2y<sub>4</sub> + 4y<sub>5</sub> + . . . + y<sub>n</sub>]\n",
    "\n",
    "with n even and h = (b-a)/n\n",
    "\n",
    ">y<sub>k</sub> = f(a+kh)\n",
    "\n",
    "The value of summation terms is:\n",
    "\n",
    ">f(a) or f(b) (the end points)\n",
    "\n",
    ">4y<sub>k</sub> (k odd)\n",
    "\n",
    ">2y<sub>k</sub> (k even)\n",
    "\n",
    "The term procedure for sum is conditioned on the parity of k.\n",
    "\n",
    "From f(a+kh) = f(x), we have a+kh = x\n",
    "\n",
    "So k = (x-a)/h, that is:\n",
    "\n",
    ">k = (x-a)n / (b-a)"
   ]
  },
  {
   "cell_type": "code",
   "execution_count": 1,
   "metadata": {
    "collapsed": false
   },
   "outputs": [
    {
     "data": {
      "text/plain": [
       "simpson (generic function with 1 method)"
      ]
     },
     "execution_count": 1,
     "metadata": {},
     "output_type": "execute_result"
    }
   ],
   "source": [
    "# first a general sum function, term and next are functions\n",
    "# to compute terms and the next term given a term respectively\n",
    "# a and b are the ends of the interval over which sum \n",
    "# accumulates the sum\n",
    "\n",
    "function Sum(term, a, next, b) \n",
    "    if a > b\n",
    "        0\n",
    "    else\n",
    "        term(a) + Sum(term, next(a), next, b)\n",
    "    end\n",
    "end\n",
    "\n",
    "function simpson(f, a, b, n)    # n must be even; integrating over [a,b]\n",
    "    sNext(x) = x + (b - a)/n   # to get next x value, add increment\n",
    "    function sTerm(x)          # function to return the term for the sum\n",
    "        if x==a  # if x is an end point, term is f(x)\n",
    "            f(x)\n",
    "        elseif x==b\n",
    "            f(x)\n",
    "        elseif (n*(x - a)/(b - a))%2 != 0    # if k is odd\n",
    "            4*f(x)                               # term is 4f(x)\n",
    "        else\n",
    "            2*f(x)                          # otherwise term is 2f(x)\n",
    "        end\n",
    "    end\n",
    "    ((b - a)/(3*n))*Sum(sTerm, a, sNext, b)\n",
    "end      "
   ]
  },
  {
   "cell_type": "code",
   "execution_count": 2,
   "metadata": {
    "collapsed": false
   },
   "outputs": [
    {
     "data": {
      "text/plain": [
       "cube (generic function with 1 method)"
      ]
     },
     "execution_count": 2,
     "metadata": {},
     "output_type": "execute_result"
    }
   ],
   "source": [
    "function cube(x)\n",
    "    x*x*x\n",
    "end"
   ]
  },
  {
   "cell_type": "code",
   "execution_count": 3,
   "metadata": {
    "collapsed": false
   },
   "outputs": [
    {
     "data": {
      "text/plain": [
       "0.3266621333333338"
      ]
     },
     "execution_count": 3,
     "metadata": {},
     "output_type": "execute_result"
    }
   ],
   "source": [
    "simpson(cube, 0, 1, 100)"
   ]
  },
  {
   "cell_type": "code",
   "execution_count": 4,
   "metadata": {
    "collapsed": false
   },
   "outputs": [
    {
     "data": {
      "text/plain": [
       "85.35034450345647"
      ]
     },
     "execution_count": 4,
     "metadata": {},
     "output_type": "execute_result"
    }
   ],
   "source": [
    "simpson(cube, 0, 4, 10000)"
   ]
  }
 ],
 "metadata": {
  "kernelspec": {
   "display_name": "Julia 0.3.9",
   "language": "julia",
   "name": "julia-0.3"
  },
  "language_info": {
   "name": "julia",
   "version": "0.3.9"
  }
 },
 "nbformat": 4,
 "nbformat_minor": 0
}
