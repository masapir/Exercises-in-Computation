{
 "cells": [
  {
   "cell_type": "markdown",
   "metadata": {},
   "source": [
    "###Golden Ratio###\n",
    "\n",
    "13 June 2015\n",
    "\n",
    "####Fixed Points of Functions####\n",
    "\n",
    "A fixed point of f(x) is a point t s.t. \n",
    "\n",
    ">f(t) = t\n",
    "\n",
    "For example 1 and 0 are fixed points of f(x) = x<sup>2</sup>."
   ]
  },
  {
   "cell_type": "code",
   "execution_count": 1,
   "metadata": {
    "collapsed": false
   },
   "outputs": [
    {
     "data": {
      "text/plain": [
       "fixedpoint (generic function with 1 method)"
      ]
     },
     "execution_count": 1,
     "metadata": {},
     "output_type": "execute_result"
    }
   ],
   "source": [
    "function fixedpoint(f, firstguess)\n",
    "    function iscloseenough(y1, y2)\n",
    "        abs(y2-y1) < 0.0001\n",
    "    end\n",
    "    function run(guess)\n",
    "        let nextguess = f(guess)\n",
    "            if iscloseenough(guess, nextguess)\n",
    "                nextguess\n",
    "            else\n",
    "                run(nextguess)\n",
    "            end\n",
    "        end\n",
    "    end\n",
    "    run(firstguess)\n",
    "end     "
   ]
  },
  {
   "cell_type": "markdown",
   "metadata": {},
   "source": [
    "For &radic;x: \n",
    "\n",
    ">y<sup>2</sup> = x\n",
    "\n",
    ">y = x/y\n",
    "\n",
    "y, the square root of x, is the fixed point of the function f(y) = x/y.\n",
    "\n",
    "But to prevent f(y) from oscillating between two values on each side of the fixed point (try it) we damp the next guess in the iterative process:"
   ]
  },
  {
   "cell_type": "code",
   "execution_count": 2,
   "metadata": {
    "collapsed": false
   },
   "outputs": [
    {
     "data": {
      "text/plain": [
       "fpsquareroot (generic function with 1 method)"
      ]
     },
     "execution_count": 2,
     "metadata": {},
     "output_type": "execute_result"
    }
   ],
   "source": [
    "function fpsquareroot(x)\n",
    "    function average(a, b)\n",
    "        (a+b)/2\n",
    "    end\n",
    "    fixedpoint(y -> average(x/y, y), 1.0)\n",
    "end"
   ]
  },
  {
   "cell_type": "code",
   "execution_count": 3,
   "metadata": {
    "collapsed": false
   },
   "outputs": [
    {
     "data": {
      "text/plain": [
       "12.0"
      ]
     },
     "execution_count": 3,
     "metadata": {},
     "output_type": "execute_result"
    }
   ],
   "source": [
    "fpsquareroot(144)"
   ]
  },
  {
   "cell_type": "code",
   "execution_count": 4,
   "metadata": {
    "collapsed": false
   },
   "outputs": [
    {
     "data": {
      "text/plain": [
       "48.507731342539614"
      ]
     },
     "execution_count": 4,
     "metadata": {},
     "output_type": "execute_result"
    }
   ],
   "source": [
    "fpsquareroot(2353)"
   ]
  },
  {
   "cell_type": "markdown",
   "metadata": {
    "collapsed": true
   },
   "source": [
    "###Golden ratio as a fixed point###\n",
    "\n",
    ">Φ = (1 + &radic;5)/2 &approx; 1.618\n",
    "\n",
    ">x<sup>2</sup> = x+1\n",
    "\n",
    "Divide both sides by x:\n",
    "\n",
    ">x = 1 + 1/x\n",
    "\n",
    "So if you consider the function f(x) = 1 + 1/x, the fixed point of f is\n",
    "\n",
    "> x = 1 + 1/x\n",
    "\n",
    "This is also the solution to x<sup>2</sup> = x+1, i.e., x is the golden ratio."
   ]
  },
  {
   "cell_type": "code",
   "execution_count": 5,
   "metadata": {
    "collapsed": false
   },
   "outputs": [
    {
     "data": {
      "text/plain": [
       "golden (generic function with 1 method)"
      ]
     },
     "execution_count": 5,
     "metadata": {},
     "output_type": "execute_result"
    }
   ],
   "source": [
    "function golden()\n",
    "    fixedpoint(x -> 1 + 1/x, 1)\n",
    "end"
   ]
  },
  {
   "cell_type": "code",
   "execution_count": 6,
   "metadata": {
    "collapsed": false
   },
   "outputs": [
    {
     "data": {
      "text/plain": [
       "1.6180555555555556"
      ]
     },
     "execution_count": 6,
     "metadata": {},
     "output_type": "execute_result"
    }
   ],
   "source": [
    "golden()"
   ]
  },
  {
   "cell_type": "markdown",
   "metadata": {},
   "source": [
    "More generally you can transform an equation into the form x = f(x). In this form, the fixed point of f(x) solves the original equation. You might be able to compute the fixed point of f(x).\n",
    "\n",
    "Graphically this algebraic manipulation corresponds to reformulating the equation to isolate the identity function. In this we can determine whether the first equation is equivalent to an equation relating the identity function to another function."
   ]
  }
 ],
 "metadata": {
  "kernelspec": {
   "display_name": "Julia 0.3.9",
   "language": "julia",
   "name": "julia-0.3"
  },
  "language_info": {
   "name": "julia",
   "version": "0.3.9"
  }
 },
 "nbformat": 4,
 "nbformat_minor": 0
}
