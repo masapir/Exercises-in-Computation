{
 "cells": [
  {
   "cell_type": "markdown",
   "metadata": {},
   "source": [
    "###Nth Roots###\n",
    "\n",
    "24 June 2015\n",
    "\n",
    "We saw in a prior notebook that attempting to compute square roots by finding a fixed point of \n",
    "\n",
    ">y &longrightarrow; x/y\n",
    "\n",
    "does not converge on a solution but that the problematic oscillation can be avoided using average damping on guesses.\n",
    "\n",
    "The same method works to find cube roots as fixed points of the average damped function\n",
    "\n",
    ">y &longrightarrow; x/y<sup>2</sup>.\n",
    "\n",
    "Unfortunately the process does not work for 4th roots. A single damping is not enough to make a fixed point search converge for \n",
    "\n",
    ">y &longrightarrow; x/y<sup>3</sup>.\n",
    "\n",
    "Experiment to determine how many average damps are required to compute the n<sup>th</sup> roots using `fixedpoint`, `averagedamp`."
   ]
  },
  {
   "cell_type": "code",
   "execution_count": 6,
   "metadata": {
    "collapsed": false
   },
   "outputs": [
    {
     "data": {
      "text/plain": [
       "averagedamp (generic function with 2 methods)"
      ]
     },
     "execution_count": 6,
     "metadata": {},
     "output_type": "execute_result"
    }
   ],
   "source": [
    "function average(a, b)\n",
    "    (a+b)/2\n",
    "end\n",
    "\n",
    "tolerance = 0.0001\n",
    "\n",
    "function fixedpoint(f, firstguess)\n",
    "    function iscloseenough(y1, y2)\n",
    "        abs(y2-y1) < 0.0001\n",
    "    end\n",
    "    function run(guess)\n",
    "        let nextguess = f(guess)\n",
    "            if iscloseenough(guess, nextguess)\n",
    "                nextguess\n",
    "            else\n",
    "                run(nextguess)\n",
    "            end\n",
    "        end\n",
    "    end\n",
    "    run(firstguess)\n",
    "end     \n",
    "\n",
    "function averagedamp(f, x)\n",
    "    average(x, f(x))\n",
    "end    "
   ]
  },
  {
   "cell_type": "markdown",
   "metadata": {},
   "source": [
    "From experiment, the number of average damps for an n<sup>th</sup> root is\n",
    "\n",
    ">floor(log(n)/log(2))."
   ]
  },
  {
   "cell_type": "code",
   "execution_count": 7,
   "metadata": {
    "collapsed": false
   },
   "outputs": [
    {
     "data": {
      "text/plain": [
       "eighthroot (generic function with 1 method)"
      ]
     },
     "execution_count": 7,
     "metadata": {},
     "output_type": "execute_result"
    }
   ],
   "source": [
    "function eighthroot(x)\n",
    "    fixedpoint(averagedamp(averagedamp(averagedamp(y -> x/(y^7)))), 1)\n",
    "end"
   ]
  },
  {
   "cell_type": "code",
   "execution_count": 8,
   "metadata": {
    "collapsed": false
   },
   "outputs": [
    {
     "data": {
      "text/plain": [
       "4.0000000000787885"
      ]
     },
     "execution_count": 8,
     "metadata": {},
     "output_type": "execute_result"
    }
   ],
   "source": [
    "eighthroot(65536)"
   ]
  }
 ],
 "metadata": {
  "kernelspec": {
   "display_name": "Julia 0.3.9",
   "language": "julia",
   "name": "julia-0.3"
  },
  "language_info": {
   "name": "julia",
   "version": "0.3.9"
  }
 },
 "nbformat": 4,
 "nbformat_minor": 0
}
