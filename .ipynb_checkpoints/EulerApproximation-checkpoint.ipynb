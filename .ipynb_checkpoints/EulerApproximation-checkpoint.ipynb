{
 "cells": [
  {
   "cell_type": "markdown",
   "metadata": {},
   "source": [
    "####Euler Approximation####\n",
    "\n",
    "14 June 2015\n",
    "\n",
    "Euler's continued fraction expansion for e-2:\n",
    "\n",
    ">N(i) = 1 for all i\n",
    "\n",
    ">D(i) = 1, 2, 1, 1, 4, 1, 1, 6, 1, 1, 8 ...\n",
    "\n",
    "We will use `continuedfraction` from a prior notebook discussion."
   ]
  },
  {
   "cell_type": "code",
   "execution_count": 1,
   "metadata": {
    "collapsed": false
   },
   "outputs": [
    {
     "data": {
      "text/plain": [
       "continuedfraction (generic function with 1 method)"
      ]
     },
     "execution_count": 1,
     "metadata": {},
     "output_type": "execute_result"
    }
   ],
   "source": [
    "function continuedfraction(n, d, k)\n",
    "    function run(n, d, index, k)\n",
    "        if index == k\n",
    "            n(k)/d(k)\n",
    "        else\n",
    "            n(index)/(d(index)+run(n, d, index+1, k))\n",
    "        end\n",
    "    end\n",
    "    run(n, d, 1, k)\n",
    "end"
   ]
  },
  {
   "cell_type": "markdown",
   "metadata": {},
   "source": [
    "e-2 &approx; `continuedfraction(eulern, eulerd, k)` where k is the depth we go to in the fraction."
   ]
  },
  {
   "cell_type": "code",
   "execution_count": 2,
   "metadata": {
    "collapsed": false
   },
   "outputs": [
    {
     "data": {
      "text/plain": [
       "approxeuler (generic function with 1 method)"
      ]
     },
     "execution_count": 2,
     "metadata": {},
     "output_type": "execute_result"
    }
   ],
   "source": [
    "function approxeuler(k)\n",
    "    function eulern(i)\n",
    "        i\n",
    "    end\n",
    "    function eulerd(i)\n",
    "        if i == 1\n",
    "            1\n",
    "            elseif i == 2\n",
    "            2\n",
    "            elseif i%3 == 0\n",
    "            1\n",
    "            elseif i%3 == 1\n",
    "            1\n",
    "            elseif i%3 == 2\n",
    "            2*(floor(i/3)+1)\n",
    "        end\n",
    "    end\n",
    "    2+continuedfraction(eulern, eulerd, k)\n",
    "end"
   ]
  },
  {
   "cell_type": "code",
   "execution_count": 3,
   "metadata": {
    "collapsed": false
   },
   "outputs": [
    {
     "data": {
      "text/plain": [
       "2.598171741866604"
      ]
     },
     "execution_count": 3,
     "metadata": {},
     "output_type": "execute_result"
    }
   ],
   "source": [
    "approxeuler(10000)"
   ]
  },
  {
   "cell_type": "markdown",
   "metadata": {},
   "source": [
    "Not a very good approximation. e &approx; 2.7183.\n",
    "\n",
    "To review."
   ]
  }
 ],
 "metadata": {
  "kernelspec": {
   "display_name": "Julia 0.3.9",
   "language": "julia",
   "name": "julia-0.3"
  },
  "language_info": {
   "name": "julia",
   "version": "0.3.9"
  }
 },
 "nbformat": 4,
 "nbformat_minor": 0
}
