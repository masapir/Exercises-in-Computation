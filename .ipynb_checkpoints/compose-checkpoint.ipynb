{
 "cells": [
  {
   "cell_type": "markdown",
   "metadata": {},
   "source": [
    "####Compose####\n",
    "\n",
    "19 June 2015\n",
    "\n",
    "f and g, 2 functions\n",
    "\n",
    ">f &cir; g = f(g(x))"
   ]
  },
  {
   "cell_type": "code",
   "execution_count": 1,
   "metadata": {
    "collapsed": false
   },
   "outputs": [
    {
     "data": {
      "text/plain": [
       "compose (generic function with 1 method)"
      ]
     },
     "execution_count": 1,
     "metadata": {},
     "output_type": "execute_result"
    }
   ],
   "source": [
    "function compose(f, g)\n",
    "    x -> f(g(x))\n",
    "end"
   ]
  },
  {
   "cell_type": "code",
   "execution_count": 2,
   "metadata": {
    "collapsed": false
   },
   "outputs": [
    {
     "data": {
      "text/plain": [
       "inc (generic function with 1 method)"
      ]
     },
     "execution_count": 2,
     "metadata": {},
     "output_type": "execute_result"
    }
   ],
   "source": [
    "function square(x)\n",
    "    x*x\n",
    "end\n",
    "\n",
    "function inc(i)\n",
    "    i+1\n",
    "end"
   ]
  },
  {
   "cell_type": "code",
   "execution_count": 3,
   "metadata": {
    "collapsed": false
   },
   "outputs": [
    {
     "data": {
      "text/plain": [
       "36"
      ]
     },
     "execution_count": 3,
     "metadata": {},
     "output_type": "execute_result"
    }
   ],
   "source": [
    "h = compose(square, inc)\n",
    "\n",
    "h(5)"
   ]
  },
  {
   "cell_type": "markdown",
   "metadata": {},
   "source": [
    "If f is a numerical function and n is a positive integer, then we can form the n<sup>th</sup> repeated application of f, which is defined to be the function whose value is f(f(...(f(x))...)).\n",
    "\n",
    "For example\n",
    "\n",
    ">f: x &longrightarrow; x+1\n",
    "\n",
    "then the n<sup>th</sup> repeated application of f is\n",
    "\n",
    ">g: x &longrightarrow; x+n.\n",
    "\n",
    "If f is the operation of squaring a number then the n<sup>th</sup> repeated application of f is\n",
    "\n",
    ">h: x &longrightarrow; x<sup>2<sup>n</sup></sup>\n",
    "\n",
    "Write a procedure that takes as inputs a procedure computing f and a positive number, n, and that returns a procedure computing the n<sup>th</sup> repeated application of f.\n",
    "\n",
    "Your procedure should be able to be used as follows:\n",
    "\n",
    "repeated(square, 2)(5) yields 625"
   ]
  },
  {
   "cell_type": "code",
   "execution_count": 5,
   "metadata": {
    "collapsed": false
   },
   "outputs": [
    {
     "data": {
      "text/plain": [
       "repeated (generic function with 1 method)"
      ]
     },
     "execution_count": 5,
     "metadata": {},
     "output_type": "execute_result"
    }
   ],
   "source": [
    "function repeated(f, n)\n",
    "    if n==1\n",
    "        f\n",
    "    else\n",
    "        repeated(compose(f, f), (n-1))\n",
    "    end\n",
    "end"
   ]
  },
  {
   "cell_type": "code",
   "execution_count": 6,
   "metadata": {
    "collapsed": false
   },
   "outputs": [
    {
     "data": {
      "text/plain": [
       "625"
      ]
     },
     "execution_count": 6,
     "metadata": {},
     "output_type": "execute_result"
    }
   ],
   "source": [
    "repeated(square, 2)(5)"
   ]
  }
 ],
 "metadata": {
  "kernelspec": {
   "display_name": "Julia 0.3.9",
   "language": "julia",
   "name": "julia-0.3"
  },
  "language_info": {
   "name": "julia",
   "version": "0.3.9"
  }
 },
 "nbformat": 4,
 "nbformat_minor": 0
}
