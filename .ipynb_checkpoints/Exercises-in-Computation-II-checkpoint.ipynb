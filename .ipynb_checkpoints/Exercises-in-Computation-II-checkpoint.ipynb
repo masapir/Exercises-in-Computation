{
 "cells": [
  {
   "cell_type": "markdown",
   "metadata": {},
   "source": [
    "##Exercises In Computation"
   ]
  },
  {
   "cell_type": "markdown",
   "metadata": {},
   "source": [
    "###Discussion Notes 2: Objects of Computation"
   ]
  },
  {
   "cell_type": "markdown",
   "metadata": {},
   "source": [
    "####26 May 2015"
   ]
  },
  {
   "cell_type": "markdown",
   "metadata": {},
   "source": [
    "In our first notebook discussion (dated 25 May 2015) we looked at different types of mathematical computations as a way to explore how to write computations in Julia and the basic programming resources in Julia. We saw that even with only a few syntactic forms (Julia offers many more than we used), you can do a lot of interesting computations. \n",
    "\n",
    "The first key idea that we developed was to write functions that can take functions themselves as arguments and also return functions as values. This lets us work directly with the abstract ideas underlying concrete computations. Sometimes this capability provides us with useful flexibility in adapting computations or insight into the computation itself.\n",
    "\n",
    "The second key idea was to structure computations in terms of their component concepts or steps. This approach to writing computations helps us to understand the computation better and also it helps others understand what the code does. Generally code is easier to read when its structure reflects clearly the concepts and actions that the computation works through. It is probably also easier to modify code that clearly features the conceptual steps of the computational process.\n",
    "\n",
    "In the discussion notes here our attention turns from the structure of computation processes to the structure of the objects of computations. In our prior notes we worked with numbers and mostly integers at that. It is however often useful to build more involved structures and we will consider how to do this now.\n",
    "\n",
    "There are two key operations that a language must have to be able to build up and use structured objects or data for computation:\n",
    "\n",
    "1. A *constructor* that can bind objects together\n",
    "2. *Selectors* that can pick out the parts of a structure built up by a constructor"
   ]
  },
  {
   "cell_type": "markdown",
   "metadata": {
    "collapsed": true
   },
   "source": [
    "###Constructing Objects For Computation"
   ]
  },
  {
   "cell_type": "markdown",
   "metadata": {},
   "source": [
    "Construct objects using `type` . . . `end`.\n",
    "\n",
    "The `type` command binds data that you want to specify and you can further specify data type. \n",
    "\n",
    "For example, here we create an object called `Orc` characterized by `height`, `weight`, and `weapon`."
   ]
  },
  {
   "cell_type": "code",
   "execution_count": 2,
   "metadata": {
    "collapsed": false
   },
   "outputs": [],
   "source": [
    "type Orc\n",
    "    height::Float64\n",
    "    weight::Float64\n",
    "    weapon::String\n",
    "end"
   ]
  },
  {
   "cell_type": "code",
   "execution_count": 3,
   "metadata": {
    "collapsed": false
   },
   "outputs": [
    {
     "data": {
      "text/plain": [
       "Orc(7.2,482.0,\"halbard\")"
      ]
     },
     "execution_count": 3,
     "metadata": {},
     "output_type": "execute_result"
    }
   ],
   "source": [
    "Asog = Orc(7.2, 482.0, \"halbard\")"
   ]
  },
  {
   "cell_type": "markdown",
   "metadata": {},
   "source": [
    "When a type (e.g., `Orc`) is applied like a function, it is called a *constructor*. Here we constructed an `Orc` named `Asog` with the specified values for the `Orc type` fields `height`, `weight`, and `weapon`."
   ]
  },
  {
   "cell_type": "markdown",
   "metadata": {},
   "source": [
    "###Selecting Parts Of Objects"
   ]
  },
  {
   "cell_type": "code",
   "execution_count": 4,
   "metadata": {
    "collapsed": false
   },
   "outputs": [
    {
     "data": {
      "text/plain": [
       "7.2"
      ]
     },
     "execution_count": 4,
     "metadata": {},
     "output_type": "execute_result"
    }
   ],
   "source": [
    "Asog.height"
   ]
  },
  {
   "cell_type": "code",
   "execution_count": 5,
   "metadata": {
    "collapsed": false
   },
   "outputs": [
    {
     "data": {
      "text/plain": [
       "482.0"
      ]
     },
     "execution_count": 5,
     "metadata": {},
     "output_type": "execute_result"
    }
   ],
   "source": [
    "Asog.weight"
   ]
  },
  {
   "cell_type": "code",
   "execution_count": 6,
   "metadata": {
    "collapsed": false
   },
   "outputs": [
    {
     "data": {
      "text/plain": [
       "\"halbard\""
      ]
     },
     "execution_count": 6,
     "metadata": {},
     "output_type": "execute_result"
    }
   ],
   "source": [
    "Asog.weapon"
   ]
  },
  {
   "cell_type": "markdown",
   "metadata": {},
   "source": [
    "###Constructing Composite Data Structures"
   ]
  },
  {
   "cell_type": "markdown",
   "metadata": {},
   "source": [
    "####Example: Rational Numbers"
   ]
  },
  {
   "cell_type": "markdown",
   "metadata": {},
   "source": [
    "Julia actually has its own built-in type for rational numbers and we will look at that in a bit. But to illustrate making a composite data type we will write code a rational number system.\n",
    "\n",
    "This will use GCD."
   ]
  },
  {
   "cell_type": "markdown",
   "metadata": {},
   "source": [
    "Recall Euclid's method to compute the GCD using the fact that\n",
    "\n",
    ">GCD(a, b) = GCD(b, r)\n",
    "\n",
    ">where r = a%b"
   ]
  },
  {
   "cell_type": "code",
   "execution_count": 7,
   "metadata": {
    "collapsed": false
   },
   "outputs": [
    {
     "data": {
      "text/plain": [
       "EuclidGCD (generic function with 1 method)"
      ]
     },
     "execution_count": 7,
     "metadata": {},
     "output_type": "execute_result"
    }
   ],
   "source": [
    "function EuclidGCD(a, b)\n",
    "    if b == 0\n",
    "        a\n",
    "        else EuclidGCD(b, a%b)\n",
    "    end\n",
    "end"
   ]
  },
  {
   "cell_type": "code",
   "execution_count": 8,
   "metadata": {
    "collapsed": false
   },
   "outputs": [
    {
     "data": {
      "text/plain": [
       "36"
      ]
     },
     "execution_count": 8,
     "metadata": {},
     "output_type": "execute_result"
    }
   ],
   "source": [
    "EuclidGCD(144, 36)"
   ]
  },
  {
   "cell_type": "code",
   "execution_count": 9,
   "metadata": {
    "collapsed": false
   },
   "outputs": [
    {
     "data": {
      "text/plain": [
       "2"
      ]
     },
     "execution_count": 9,
     "metadata": {},
     "output_type": "execute_result"
    }
   ],
   "source": [
    "EuclidGCD(52, 18)"
   ]
  },
  {
   "cell_type": "markdown",
   "metadata": {},
   "source": [
    "The `type` syntax lets you create an object and identify data fields for that object. "
   ]
  },
  {
   "cell_type": "code",
   "execution_count": 10,
   "metadata": {
    "collapsed": false
   },
   "outputs": [],
   "source": [
    "type rat\n",
    "    num::Int64\n",
    "    den::Int64\n",
    "end"
   ]
  },
  {
   "cell_type": "markdown",
   "metadata": {},
   "source": [
    "Now we have a type called `rat` with two data fields, `num` and `den` both of which must have type `Int64`."
   ]
  },
  {
   "cell_type": "code",
   "execution_count": 11,
   "metadata": {
    "collapsed": false
   },
   "outputs": [
    {
     "data": {
      "text/plain": [
       "rat(23,54)"
      ]
     },
     "execution_count": 11,
     "metadata": {},
     "output_type": "execute_result"
    }
   ],
   "source": [
    "rat(23, 54)"
   ]
  },
  {
   "cell_type": "markdown",
   "metadata": {},
   "source": [
    "####Constructors\n",
    "\n",
    "There are different ways to identify a constructor for `rat`. The `rat` type itself could be viewed as a constructor. We could also write a function `Makerat` that takes 2 integers and returns their `rat`. Further we can simplify the rational number by factoring out the greated common divisor of the numerator and the denominator."
   ]
  },
  {
   "cell_type": "code",
   "execution_count": 12,
   "metadata": {
    "collapsed": false
   },
   "outputs": [
    {
     "data": {
      "text/plain": [
       "Makerat (generic function with 1 method)"
      ]
     },
     "execution_count": 12,
     "metadata": {},
     "output_type": "execute_result"
    }
   ],
   "source": [
    "function Makerat(n, d) # a constructor for the rat type given a numerator and a denom\n",
    "    if n == 0 && d == 0\n",
    "        error(\"invalid rational: 0//0\")\n",
    "    else\n",
    "        g = gcd(n, d)\n",
    "        num = div (n, g)\n",
    "        den = div(d, g)\n",
    "        rat(num, den)\n",
    "    end\n",
    "end"
   ]
  },
  {
   "cell_type": "code",
   "execution_count": 13,
   "metadata": {
    "collapsed": false
   },
   "outputs": [
    {
     "data": {
      "text/plain": [
       "rat(5,3)"
      ]
     },
     "execution_count": 13,
     "metadata": {},
     "output_type": "execute_result"
    }
   ],
   "source": [
    "r = Makerat(25, 15)"
   ]
  },
  {
   "cell_type": "markdown",
   "metadata": {},
   "source": [
    "####Selectors\n",
    "\n",
    "The selectors are simple: just a `.fieldname` appended to the name of the object. For example, for our `rat` r, `r.num` gives the numerator and `r.den` gives the denominator."
   ]
  },
  {
   "cell_type": "code",
   "execution_count": 14,
   "metadata": {
    "collapsed": false
   },
   "outputs": [
    {
     "data": {
      "text/plain": [
       "5"
      ]
     },
     "execution_count": 14,
     "metadata": {},
     "output_type": "execute_result"
    }
   ],
   "source": [
    "r.num"
   ]
  },
  {
   "cell_type": "code",
   "execution_count": 15,
   "metadata": {
    "collapsed": false
   },
   "outputs": [
    {
     "data": {
      "text/plain": [
       "3"
      ]
     },
     "execution_count": 15,
     "metadata": {},
     "output_type": "execute_result"
    }
   ],
   "source": [
    "r.den"
   ]
  },
  {
   "cell_type": "markdown",
   "metadata": {},
   "source": [
    "So now we have a way to build rationals, or other composite types, and also to retrieve the parts of these composites. This is what we need to build layers of abstraction and to go back and forth between those layers."
   ]
  },
  {
   "cell_type": "markdown",
   "metadata": {
    "collapsed": true
   },
   "source": [
    "Here is a function to print our new `rat` type numbers:"
   ]
  },
  {
   "cell_type": "code",
   "execution_count": 18,
   "metadata": {
    "collapsed": false
   },
   "outputs": [
    {
     "data": {
      "text/plain": [
       "printrat (generic function with 1 method)"
      ]
     },
     "execution_count": 18,
     "metadata": {},
     "output_type": "execute_result"
    }
   ],
   "source": [
    "function printrat(r)\n",
    "    println(string(r.num), \"//\", string(r.den))\n",
    "end"
   ]
  },
  {
   "cell_type": "code",
   "execution_count": 19,
   "metadata": {
    "collapsed": false
   },
   "outputs": [
    {
     "name": "stdout",
     "output_type": "stream",
     "text": [
      "5//3\n"
     ]
    }
   ],
   "source": [
    "printrat(r)"
   ]
  },
  {
   "cell_type": "markdown",
   "metadata": {},
   "source": [
    "NB: The `string()` function converts its argument to the `string` type."
   ]
  },
  {
   "cell_type": "code",
   "execution_count": null,
   "metadata": {
    "collapsed": true
   },
   "outputs": [],
   "source": []
  }
 ],
 "metadata": {
  "kernelspec": {
   "display_name": "Julia 0.3.6",
   "language": "julia",
   "name": "julia 0.3"
  },
  "language_info": {
   "name": "julia",
   "version": "0.3.6"
  }
 },
 "nbformat": 4,
 "nbformat_minor": 0
}
