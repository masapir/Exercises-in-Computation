{
 "cells": [
  {
   "cell_type": "markdown",
   "metadata": {},
   "source": [
    "####Lambert's Continuous Fraction To Approximate tan(x)####\n",
    "\n",
    "14 June 2015\n",
    "\n",
    ">tan(x) = x/(1 - (x<sup>2</sup>/(3 - (x<sup>2</sup>/(5 - ...\n",
    "\n",
    "We will use `continuedfraction` discussed previously."
   ]
  },
  {
   "cell_type": "code",
   "execution_count": 1,
   "metadata": {
    "collapsed": false
   },
   "outputs": [
    {
     "data": {
      "text/plain": [
       "continuedfraction (generic function with 1 method)"
      ]
     },
     "execution_count": 1,
     "metadata": {},
     "output_type": "execute_result"
    }
   ],
   "source": [
    "function continuedfraction(n, d, k)\n",
    "    function run(n, d, index, k)\n",
    "        if index == k\n",
    "            n(k)/d(k)\n",
    "        else\n",
    "            n(index)/(d(index)+run(n, d, index+1, k))\n",
    "        end\n",
    "    end\n",
    "    run(n, d, 1, k)\n",
    "end"
   ]
  },
  {
   "cell_type": "code",
   "execution_count": 2,
   "metadata": {
    "collapsed": false
   },
   "outputs": [
    {
     "data": {
      "text/plain": [
       "lamberttan (generic function with 1 method)"
      ]
     },
     "execution_count": 2,
     "metadata": {},
     "output_type": "execute_result"
    }
   ],
   "source": [
    "function lamberttan(x, k)\n",
    "    function n(i)\n",
    "        if i == 1\n",
    "            x\n",
    "        else\n",
    "            -x*x\n",
    "        end\n",
    "    end\n",
    "    function d(i)\n",
    "        if i == 1\n",
    "            1\n",
    "        else\n",
    "            2*i - 1\n",
    "        end\n",
    "    end\n",
    "    continuedfraction(n, d, k)\n",
    "end"
   ]
  },
  {
   "cell_type": "code",
   "execution_count": 3,
   "metadata": {
    "collapsed": false
   },
   "outputs": [
    {
     "data": {
      "text/plain": [
       "1.0"
      ]
     },
     "execution_count": 3,
     "metadata": {},
     "output_type": "execute_result"
    }
   ],
   "source": [
    "lamberttan(2*asin(1)/4, 10)"
   ]
  }
 ],
 "metadata": {
  "kernelspec": {
   "display_name": "Julia 0.3.9",
   "language": "julia",
   "name": "julia-0.3"
  },
  "language_info": {
   "name": "julia",
   "version": "0.3.9"
  }
 },
 "nbformat": 4,
 "nbformat_minor": 0
}
