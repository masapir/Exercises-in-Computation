{
 "cells": [
  {
   "cell_type": "markdown",
   "metadata": {},
   "source": [
    "###Exercise: Approximating π Probabilistically\n",
    "\n",
    "1 June 2015\n",
    "\n",
    "The probability that 2 integers, chosen randomly, have no common factors is\n",
    "\n",
    "> 6/π<sup>2</sup>\n",
    "\n",
    "Run many trials choosing two integers at random and then track how many have no common factors.\n",
    "\n",
    "Integers a and b have no common factors if `GCD(a, b)` = 1\n",
    "\n",
    "> (number of experiments w no common factors) / (number of experiments) = 6/π<sup>2</sup>\n",
    "\n",
    "The function `montecarlo` runs an experiment for a number of trials and returns the fraction of trials with outcome `true`."
   ]
  },
  {
   "cell_type": "code",
   "execution_count": 1,
   "metadata": {
    "collapsed": false
   },
   "outputs": [
    {
     "data": {
      "text/plain": [
       "montecarlo (generic function with 1 method)"
      ]
     },
     "execution_count": 1,
     "metadata": {},
     "output_type": "execute_result"
    }
   ],
   "source": [
    "function montecarlo(trials, experiment)\n",
    "    function run(trialsremaining, trialstrue)\n",
    "        if trialsremaining == 0\n",
    "            trialstrue/trials\n",
    "            elseif apply(experiment) # see note below\n",
    "                run(trialsremaining-1, trialstrue+1)\n",
    "        else\n",
    "                run(trialsremaining-1, trialstrue)\n",
    "        end\n",
    "    end\n",
    "    run(trials, 0)\n",
    "end"
   ]
  },
  {
   "cell_type": "code",
   "execution_count": 2,
   "metadata": {
    "collapsed": false
   },
   "outputs": [
    {
     "data": {
      "text/plain": [
       "39355532530987272079283"
      ]
     },
     "execution_count": 2,
     "metadata": {},
     "output_type": "execute_result"
    }
   ],
   "source": [
    "rand(1:99999999999999999999999)"
   ]
  },
  {
   "cell_type": "code",
   "execution_count": 3,
   "metadata": {
    "collapsed": false
   },
   "outputs": [
    {
     "data": {
      "text/plain": [
       "cesaro (generic function with 1 method)"
      ]
     },
     "execution_count": 3,
     "metadata": {},
     "output_type": "execute_result"
    }
   ],
   "source": [
    "function cesaro()\n",
    "    gcd(rand(1:99999999999999999999999), rand(1:99999999999999999999999)) == 1\n",
    "end"
   ]
  },
  {
   "cell_type": "code",
   "execution_count": 4,
   "metadata": {
    "collapsed": false
   },
   "outputs": [
    {
     "data": {
      "text/plain": [
       "piestimator (generic function with 1 method)"
      ]
     },
     "execution_count": 4,
     "metadata": {},
     "output_type": "execute_result"
    }
   ],
   "source": [
    "function piestimator(trials)\n",
    "    return sqrt(6/montecarlo(trials, cesaro))\n",
    "end"
   ]
  },
  {
   "cell_type": "code",
   "execution_count": 5,
   "metadata": {
    "collapsed": false
   },
   "outputs": [
    {
     "data": {
      "text/plain": [
       "2.9277002188455996"
      ]
     },
     "execution_count": 5,
     "metadata": {},
     "output_type": "execute_result"
    }
   ],
   "source": [
    "piestimator(10)"
   ]
  },
  {
   "cell_type": "code",
   "execution_count": 6,
   "metadata": {
    "collapsed": false
   },
   "outputs": [
    {
     "data": {
      "text/plain": [
       "2.9925280083228984"
      ]
     },
     "execution_count": 6,
     "metadata": {},
     "output_type": "execute_result"
    }
   ],
   "source": [
    "piestimator(100)"
   ]
  },
  {
   "cell_type": "code",
   "execution_count": 7,
   "metadata": {
    "collapsed": false
   },
   "outputs": [
    {
     "data": {
      "text/plain": [
       "3.175536744149779"
      ]
     },
     "execution_count": 7,
     "metadata": {},
     "output_type": "execute_result"
    }
   ],
   "source": [
    "piestimator(1000)"
   ]
  },
  {
   "cell_type": "code",
   "execution_count": 8,
   "metadata": {
    "collapsed": false
   },
   "outputs": [
    {
     "data": {
      "text/plain": [
       "3.153617105063735"
      ]
     },
     "execution_count": 8,
     "metadata": {},
     "output_type": "execute_result"
    }
   ],
   "source": [
    "piestimator(10000)"
   ]
  },
  {
   "cell_type": "markdown",
   "metadata": {
    "collapsed": true
   },
   "source": [
    "**Note on `apply(experiment)`**\n",
    "\n",
    "If instead of `apply(experiment)` we write simply `experiment` and we call `cesaro()` in the function `piestimator`, then the experiment is not re-run anew for each new trial. In the latter case, Julia executes the function only one time! Consider this more carefully."
   ]
  }
 ],
 "metadata": {
  "kernelspec": {
   "display_name": "Julia 0.3.9",
   "language": "julia",
   "name": "julia-0.3"
  },
  "language_info": {
   "name": "julia",
   "version": "0.3.9"
  }
 },
 "nbformat": 4,
 "nbformat_minor": 0
}
